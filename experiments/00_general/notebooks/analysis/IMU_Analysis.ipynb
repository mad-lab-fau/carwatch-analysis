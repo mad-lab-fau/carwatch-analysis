{
 "cells": [
  {
   "cell_type": "markdown",
   "metadata": {
    "tags": []
   },
   "source": [
    "# IMU Data Analysis"
   ]
  },
  {
   "cell_type": "code",
   "execution_count": null,
   "metadata": {},
   "outputs": [],
   "source": [
    "from pathlib import Path\n",
    "import json\n",
    "\n",
    "import pandas as pd\n",
    "import numpy as np\n",
    "import pingouin as pg\n",
    "\n",
    "import biopsykit as bp\n",
    "from biopsykit.io import load_long_format_csv\n",
    "from biopsykit.stats import StatsPipeline\n",
    "from biopsykit.utils.dataframe_handling import multi_xs\n",
    "\n",
    "from fau_colors import cmaps\n",
    "\n",
    "import matplotlib.pyplot as plt\n",
    "import seaborn as sns\n",
    "\n",
    "from carwatch_analysis.utils import describe_groups_df\n",
    "from carwatch_analysis.data_cleaning.imu import clean_statistical_outlier\n",
    "from carwatch_analysis.stats import create_unique_night_id, stats_pipeline_imu_features\n",
    "from carwatch_analysis.plotting import boxplot_imu_features\n",
    "\n",
    "%matplotlib widget\n",
    "%load_ext autoreload\n",
    "%autoreload 2"
   ]
  },
  {
   "cell_type": "code",
   "execution_count": null,
   "metadata": {},
   "outputs": [],
   "source": [
    "plt.close(\"all\")\n",
    "\n",
    "palette = sns.color_palette(cmaps.faculties)\n",
    "\n",
    "theme_kwargs = {\"context\": \"talk\", \"style\": \"ticks\", \"palette\": palette}\n",
    "theme_kwargs_scale = {\"context\": \"talk\", \"style\": \"ticks\", \"palette\": palette, \"font_scale\": 1.25}\n",
    "\n",
    "tight_layout_params_boxplot = dict(rect=(0, 0, 0.85, 1.0), pad=0.2)\n",
    "\n",
    "sns.set_theme(**theme_kwargs)\n",
    "\n",
    "plt.rcParams[\"figure.figsize\"] = (10, 5)\n",
    "plt.rcParams[\"pdf.fonttype\"] = 42\n",
    "plt.rcParams[\"mathtext.default\"] = \"regular\"\n",
    "\n",
    "export = True\n",
    "\n",
    "pg.options[\"round\"] = 4\n",
    "\n",
    "palette"
   ]
  },
  {
   "cell_type": "code",
   "execution_count": null,
   "metadata": {},
   "outputs": [],
   "source": [
    "base_path = Path(\"../..\")\n",
    "export_path = base_path.joinpath(\"exports\")\n",
    "result_path = base_path.joinpath(\"results\")\n",
    "plot_path = result_path.joinpath(\"plots\")\n",
    "stats_path = result_path.joinpath(\"statistics\")\n",
    "\n",
    "bp.utils.file_handling.mkdirs([result_path, plot_path, stats_path])"
   ]
  },
  {
   "cell_type": "markdown",
   "metadata": {},
   "source": [
    "## Import"
   ]
  },
  {
   "cell_type": "code",
   "execution_count": null,
   "metadata": {},
   "outputs": [],
   "source": [
    "imu_data = load_long_format_csv(export_path.joinpath(\"imu_static_moment_features_cleaned.csv\"))\n",
    "imu_data.head()"
   ]
  },
  {
   "cell_type": "code",
   "execution_count": null,
   "metadata": {},
   "outputs": [],
   "source": [
    "imu_data.index.get_level_values(\"imu_feature\").unique()"
   ]
  },
  {
   "cell_type": "markdown",
   "metadata": {},
   "source": [
    "## Data Selection"
   ]
  },
  {
   "cell_type": "code",
   "execution_count": null,
   "metadata": {},
   "outputs": [],
   "source": [
    "selected_features = [\"sm_max_position\", \"sm_max_60\", \"sm_number_60\", \"sm_mean_60\", \"sm_std_60\"]\n",
    "\n",
    "imu_features = imu_data.xs((\"selfreport\", \"last_30min\"), level=(\"wakeup_type\", \"time_span\"))\n",
    "imu_features = multi_xs(imu_features, feature_cols, level=\"imu_feature\")\n",
    "\n",
    "imu_features.head()"
   ]
  },
  {
   "cell_type": "markdown",
   "metadata": {
    "tags": []
   },
   "source": [
    "## Data Cleaning"
   ]
  },
  {
   "cell_type": "code",
   "execution_count": null,
   "metadata": {},
   "outputs": [],
   "source": [
    "print(f\"Number of Nights before cleaning: {imu_features.unstack(['imu_feature']).shape[0]}\")"
   ]
  },
  {
   "cell_type": "markdown",
   "metadata": {},
   "source": [
    "### Remove Statistical Outlier ($> 3 \\sigma$)"
   ]
  },
  {
   "cell_type": "markdown",
   "metadata": {},
   "source": [
    "Remove nights where features differ more than 3 standard deviations from the mean"
   ]
  },
  {
   "cell_type": "code",
   "execution_count": null,
   "metadata": {},
   "outputs": [],
   "source": [
    "imu_features = clean_statistical_outlier(imu_features)\n",
    "imu_features.head()"
   ]
  },
  {
   "cell_type": "markdown",
   "metadata": {},
   "source": [
    "## Plots and Statistics"
   ]
  },
  {
   "cell_type": "markdown",
   "metadata": {},
   "source": [
    "### Condition"
   ]
  },
  {
   "cell_type": "markdown",
   "metadata": {},
   "source": [
    "#### Class Distribution"
   ]
  },
  {
   "cell_type": "code",
   "execution_count": null,
   "metadata": {},
   "outputs": [],
   "source": [
    "describe_groups_df(imu_features, \"condition\")"
   ]
  },
  {
   "cell_type": "markdown",
   "metadata": {},
   "source": [
    "#### Statistics"
   ]
  },
  {
   "cell_type": "code",
   "execution_count": null,
   "metadata": {},
   "outputs": [],
   "source": [
    "variable = \"condition\"\n",
    "\n",
    "pipeline = stats_pipeline_imu_features(imu_features, variable)\n",
    "\n",
    "pipeline.export_statistics(stats_path.joinpath(f\"stats_imu_features_{variable}.xlsx\"))\n",
    "pipeline.display_results(prep=True, sig_only={\"test\": False, \"posthoc\": True})"
   ]
  },
  {
   "cell_type": "markdown",
   "metadata": {},
   "source": [
    "#### Plots"
   ]
  },
  {
   "cell_type": "code",
   "execution_count": null,
   "metadata": {},
   "outputs": [],
   "source": [
    "boxplot_imu_features(imu_features, \"condition\", \"sm_std_60\", pipeline)"
   ]
  },
  {
   "cell_type": "code",
   "execution_count": null,
   "metadata": {},
   "outputs": [],
   "source": [
    "boxplot_imu_features(imu_features, \"condition\", \"sm_mean_60\", pipeline)"
   ]
  },
  {
   "cell_type": "markdown",
   "metadata": {},
   "source": [
    "### Pairplots"
   ]
  },
  {
   "cell_type": "code",
   "execution_count": null,
   "metadata": {},
   "outputs": [],
   "source": [
    "df_pairplot = imu_features[\"data\"].unstack(\"imu_feature\").reset_index(level=\"condition\")\n",
    "\n",
    "g = sns.pairplot(data=df_pairplot, hue=\"condition\", corner=True)\n",
    "g = g.map_lower(sns.kdeplot, levels=3, color=\".2\", alpha=0.5)"
   ]
  },
  {
   "cell_type": "code",
   "execution_count": null,
   "metadata": {},
   "outputs": [],
   "source": []
  }
 ],
 "metadata": {
  "kernelspec": {
   "display_name": "carwatch-analysis",
   "language": "python",
   "name": "carwatch-analysis"
  },
  "language_info": {
   "codemirror_mode": {
    "name": "ipython",
    "version": 3
   },
   "file_extension": ".py",
   "mimetype": "text/x-python",
   "name": "python",
   "nbconvert_exporter": "python",
   "pygments_lexer": "ipython3",
   "version": "3.8.3"
  }
 },
 "nbformat": 4,
 "nbformat_minor": 4
}
