{
 "cells": [
  {
   "cell_type": "markdown",
   "metadata": {},
   "source": [
    "# Saliva Data Analysis"
   ]
  },
  {
   "cell_type": "code",
   "execution_count": null,
   "metadata": {},
   "outputs": [],
   "source": [
    "from pathlib import Path\n",
    "import json\n",
    "\n",
    "import pandas as pd\n",
    "import numpy as np\n",
    "import pingouin as pg\n",
    "\n",
    "import biopsykit as bp\n",
    "from biopsykit.stats import StatsPipeline\n",
    "from biopsykit.io import load_long_format_csv\n",
    "\n",
    "from fau_colors import cmaps\n",
    "\n",
    "import matplotlib.pyplot as plt\n",
    "import seaborn as sns\n",
    "\n",
    "from carwatch_analysis.utils import describe_groups_df\n",
    "from carwatch_analysis.stats import create_unique_night_id, stats_pipeline_saliva_samples, stats_pipeline_saliva_features\n",
    "from carwatch_analysis.plotting import boxplot_saliva_features\n",
    "\n",
    "%matplotlib widget\n",
    "%load_ext autoreload\n",
    "%autoreload 2"
   ]
  },
  {
   "cell_type": "code",
   "execution_count": null,
   "metadata": {},
   "outputs": [],
   "source": [
    "plt.close(\"all\")\n",
    "\n",
    "palette = sns.color_palette(cmaps.faculties)\n",
    "\n",
    "theme_kwargs = {\n",
    "    \"context\": \"talk\",\n",
    "    \"style\": \"ticks\",\n",
    "    \"palette\": palette\n",
    "}\n",
    "theme_kwargs_scale = {\n",
    "    \"context\": \"talk\",\n",
    "    \"style\": \"ticks\",\n",
    "    \"palette\": palette,\n",
    "    \"font_scale\": 1.25\n",
    "}\n",
    "\n",
    "tight_layout_params_boxplot = dict(rect=(0, 0, 0.85, 1.0), pad=0.2)\n",
    "\n",
    "sns.set_theme(**theme_kwargs)\n",
    "\n",
    "plt.rcParams[\"figure.figsize\"] = (10,5)\n",
    "plt.rcParams[\"pdf.fonttype\"] = 42\n",
    "plt.rcParams[\"mathtext.default\"] = \"regular\"\n",
    "\n",
    "export = True\n",
    "\n",
    "pg.options[\"round\"] = 4\n",
    "\n",
    "palette"
   ]
  },
  {
   "cell_type": "code",
   "execution_count": null,
   "metadata": {},
   "outputs": [],
   "source": [
    "base_path = Path(\"../..\")\n",
    "export_path = base_path.joinpath(\"exports\")\n",
    "result_path = base_path.joinpath(\"results\")\n",
    "plot_path = result_path.joinpath(\"plots\")\n",
    "stats_path = result_path.joinpath(\"statistics\")\n",
    "\n",
    "bp.utils.file_handling.mkdirs([result_path, plot_path, stats_path])"
   ]
  },
  {
   "cell_type": "markdown",
   "metadata": {},
   "source": [
    "## Import"
   ]
  },
  {
   "cell_type": "markdown",
   "metadata": {},
   "source": [
    "### Cortisol Samples"
   ]
  },
  {
   "cell_type": "code",
   "execution_count": null,
   "metadata": {},
   "outputs": [],
   "source": [
    "cort_samples = load_long_format_csv(export_path.joinpath(\"cortisol_samples_cleaned.csv\")).reset_index(\"cortisol\")\n",
    "cort_samples = create_unique_night_id(cort_samples)\n",
    "\n",
    "cort_samples.head()"
   ]
  },
  {
   "cell_type": "markdown",
   "metadata": {},
   "source": [
    "### Cortsol Features"
   ]
  },
  {
   "cell_type": "code",
   "execution_count": null,
   "metadata": {},
   "outputs": [],
   "source": [
    "cort_features = load_long_format_csv(export_path.joinpath(\"cortisol_features_cleaned.csv\"))\n",
    "cort_features = create_unique_night_id(cort_features)\n",
    "\n",
    "cort_features.head()"
   ]
  },
  {
   "cell_type": "code",
   "execution_count": null,
   "metadata": {},
   "outputs": [],
   "source": [
    "car = bp.protocols.CAR()\n",
    "car.add_saliva_data(cort_samples, saliva_type=\"cortisol\", sample_times=[0, 15, 30, 45, 60])"
   ]
  },
  {
   "cell_type": "markdown",
   "metadata": {},
   "source": [
    "## General Config"
   ]
  },
  {
   "cell_type": "code",
   "execution_count": null,
   "metadata": {},
   "outputs": [],
   "source": [
    "condition_order = [\"Spontaneous\", \"Known Alarm\", \"Unknown Alarm\"]"
   ]
  },
  {
   "cell_type": "markdown",
   "metadata": {},
   "source": [
    "## Plots and Statistics"
   ]
  },
  {
   "cell_type": "markdown",
   "metadata": {},
   "source": [
    "### Weekend vs. Weekday"
   ]
  },
  {
   "cell_type": "markdown",
   "metadata": {},
   "source": [
    "#### Class Distribution"
   ]
  },
  {
   "cell_type": "code",
   "execution_count": null,
   "metadata": {},
   "outputs": [],
   "source": [
    "describe_groups_df(cort_samples, \"weekend\")"
   ]
  },
  {
   "cell_type": "code",
   "execution_count": null,
   "metadata": {},
   "outputs": [],
   "source": [
    "df_stacked = bp.utils.dataframe_handling.stack_groups_percent(\n",
    "    cort_samples, \n",
    "    hue=\"condition\", \n",
    "    stacked=\"weekend\", \n",
    "    order=condition_order\n",
    ")\n",
    "\n",
    "display(df_stacked.T)"
   ]
  },
  {
   "cell_type": "code",
   "execution_count": null,
   "metadata": {},
   "outputs": [],
   "source": [
    "fig, ax = plt.subplots()\n",
    "bp.plotting.stacked_barchart(data=df_stacked, order=condition_order, ylabel=\"Recorded Nights [%]\", ax=ax)\n",
    "fig.tight_layout()\n",
    "\n",
    "if export:\n",
    "    fig.savefig(plot_path.joinpath(\"img_barchart_weekdays.pdf\"), transparent=True)"
   ]
  },
  {
   "cell_type": "markdown",
   "metadata": {},
   "source": [
    "#### Raw Cortisol"
   ]
  },
  {
   "cell_type": "markdown",
   "metadata": {},
   "source": [
    "##### Statistics"
   ]
  },
  {
   "cell_type": "code",
   "execution_count": null,
   "metadata": {},
   "outputs": [],
   "source": [
    "variable = \"weekend\"\n",
    "\n",
    "pipeline = stats_pipeline_saliva_samples(cort_samples, variable=variable)\n",
    "pipeline.export_statistics(stats_path.joinpath(f\"stats_cortisol_raw_{variable}.xlsx\"))\n",
    "pipeline.display_results(posthoc=False)"
   ]
  },
  {
   "cell_type": "markdown",
   "metadata": {},
   "source": [
    "##### Plots"
   ]
  },
  {
   "cell_type": "code",
   "execution_count": null,
   "metadata": {},
   "outputs": [],
   "source": [
    "hue = \"weekend\"\n",
    "\n",
    "fig, ax = plt.subplots()\n",
    "\n",
    "car.car_saliva_plot(\"cortisol\", hue=hue, ax=ax)\n",
    "\n",
    "if export:\n",
    "    fig.savefig(plot_path.joinpath(f\"img_car_{hue}.pdf\"), transparent=True)"
   ]
  },
  {
   "cell_type": "markdown",
   "metadata": {},
   "source": [
    "#### Features"
   ]
  },
  {
   "cell_type": "markdown",
   "metadata": {},
   "source": [
    "##### Statistics"
   ]
  },
  {
   "cell_type": "code",
   "execution_count": null,
   "metadata": {},
   "outputs": [],
   "source": [
    "variable = \"weekend\"\n",
    "\n",
    "pipeline = stats_pipeline_saliva_features(cort_features, variable=variable)\n",
    "pipeline.export_statistics(stats_path.joinpath(f\"stats_cortisol_features_{variable}.xlsx\"))\n",
    "pipeline.display_results(posthoc=True)"
   ]
  },
  {
   "cell_type": "markdown",
   "metadata": {},
   "source": [
    "##### Plots"
   ]
  },
  {
   "cell_type": "code",
   "execution_count": null,
   "metadata": {},
   "outputs": [],
   "source": [
    "boxplot_saliva_features(cort_features, \"weekend\", pipeline, export, plot_path)"
   ]
  },
  {
   "cell_type": "markdown",
   "metadata": {},
   "source": [
    "### Chronotype"
   ]
  },
  {
   "cell_type": "markdown",
   "metadata": {},
   "source": [
    "#### Class Distribution"
   ]
  },
  {
   "cell_type": "code",
   "execution_count": null,
   "metadata": {},
   "outputs": [],
   "source": [
    "describe_groups_df(cort_samples, \"chronotype\")"
   ]
  },
  {
   "cell_type": "markdown",
   "metadata": {},
   "source": [
    "#### Raw Cortisol"
   ]
  },
  {
   "cell_type": "markdown",
   "metadata": {},
   "source": [
    "##### Statistics"
   ]
  },
  {
   "cell_type": "code",
   "execution_count": null,
   "metadata": {},
   "outputs": [],
   "source": [
    "variable = \"chronotype\"\n",
    "\n",
    "pipeline = stats_pipeline_saliva_samples(cort_samples, variable=variable)\n",
    "pipeline.export_statistics(stats_path.joinpath(f\"stats_cortisol_raw_{variable}.xlsx\"))\n",
    "pipeline.display_results(posthoc=False)"
   ]
  },
  {
   "cell_type": "markdown",
   "metadata": {},
   "source": [
    "##### Plots"
   ]
  },
  {
   "cell_type": "code",
   "execution_count": null,
   "metadata": {},
   "outputs": [],
   "source": [
    "hue = \"chronotype\"\n",
    "hue_order = [\"Morning\", \"Intermediate\", \"Evening\"]\n",
    "\n",
    "fig, ax = plt.subplots()\n",
    "\n",
    "car.car_saliva_plot(\"cortisol\", hue=hue, hue_order=hue_order, ax=ax)\n",
    "\n",
    "fig.tight_layout()\n",
    "if export:\n",
    "    fig.savefig(plot_path.joinpath(f\"img_car_{hue}.pdf\"), transparent=True)"
   ]
  },
  {
   "cell_type": "markdown",
   "metadata": {},
   "source": [
    "#### Features"
   ]
  },
  {
   "cell_type": "markdown",
   "metadata": {},
   "source": [
    "##### Statistics"
   ]
  },
  {
   "cell_type": "code",
   "execution_count": null,
   "metadata": {},
   "outputs": [],
   "source": [
    "variable = \"chronotype\"\n",
    "\n",
    "pipeline = stats_pipeline_saliva_features(cort_features, variable=variable, equal_var=True)\n",
    "pipeline.export_statistics(stats_path.joinpath(f\"stats_cortisol_features_{variable}.xlsx\"))\n",
    "pipeline.display_results(posthoc=False)"
   ]
  },
  {
   "cell_type": "markdown",
   "metadata": {},
   "source": [
    "##### Plots"
   ]
  },
  {
   "cell_type": "code",
   "execution_count": null,
   "metadata": {},
   "outputs": [],
   "source": [
    "boxplot_saliva_features(cort_features, \"chronotype\", pipeline, export, plot_path)"
   ]
  },
  {
   "cell_type": "markdown",
   "metadata": {},
   "source": [
    "### MEQ"
   ]
  },
  {
   "cell_type": "markdown",
   "metadata": {},
   "source": [
    "#### Linear Regression"
   ]
  },
  {
   "cell_type": "code",
   "execution_count": null,
   "metadata": {},
   "outputs": [],
   "source": [
    "reg_results = cort_features.reset_index().groupby([\"saliva_feature\", \"condition\"]).apply(\n",
    "    lambda df: pg.linear_regression(df[\"MEQ\"], df[\"cortisol\"], remove_na=True)\n",
    ")\n",
    "reg_results = reg_results.droplevel(-1).set_index(\"names\", append=True)\n",
    "reg_results = reg_results.drop(\"Intercept\", level=\"names\").droplevel(-1)\n",
    "reg_results"
   ]
  },
  {
   "cell_type": "markdown",
   "metadata": {},
   "source": [
    "#### Plots"
   ]
  },
  {
   "cell_type": "code",
   "execution_count": null,
   "metadata": {},
   "outputs": [],
   "source": [
    "data_regplot = cort_features.xs(\"auc_i\", level=\"saliva_feature\")\n",
    "\n",
    "fig, ax = plt.subplots()\n",
    "data_regplot.groupby(\"condition\").apply(\n",
    "    lambda df: sns.regplot(data=df.reset_index(), x=\"MEQ\", y=\"cortisol\", ax=ax, label=df.name)\n",
    ")\n",
    "ax.legend(loc=\"upper right\", fontsize=\"smaller\")\n",
    "fig.tight_layout()"
   ]
  },
  {
   "cell_type": "markdown",
   "metadata": {},
   "source": [
    "### Within Ideal Bedtime"
   ]
  },
  {
   "cell_type": "markdown",
   "metadata": {},
   "source": [
    "#### Class Distribution"
   ]
  },
  {
   "cell_type": "code",
   "execution_count": null,
   "metadata": {},
   "outputs": [],
   "source": [
    "describe_groups_df(cort_samples, \"within_ideal_bed_time\")"
   ]
  },
  {
   "cell_type": "markdown",
   "metadata": {},
   "source": [
    "#### Raw Cortisol"
   ]
  },
  {
   "cell_type": "markdown",
   "metadata": {},
   "source": [
    "##### Statistics"
   ]
  },
  {
   "cell_type": "code",
   "execution_count": null,
   "metadata": {},
   "outputs": [],
   "source": [
    "variable = \"within_ideal_bed_time\"\n",
    "\n",
    "pipeline = stats_pipeline_saliva_samples(cort_samples, variable=variable)\n",
    "pipeline.export_statistics(stats_path.joinpath(f\"stats_cortisol_raw_{variable}.xlsx\"))\n",
    "pipeline.display_results(posthoc=False)"
   ]
  },
  {
   "cell_type": "markdown",
   "metadata": {},
   "source": [
    "##### Plots"
   ]
  },
  {
   "cell_type": "code",
   "execution_count": null,
   "metadata": {},
   "outputs": [],
   "source": [
    "hue = \"within_ideal_bed_time\"\n",
    "hue_order = [True, False]\n",
    "\n",
    "fig, ax = plt.subplots()\n",
    "\n",
    "car.car_saliva_plot(\"cortisol\", hue=hue, hue_order=hue_order, ax=ax)\n",
    "\n",
    "fig.tight_layout()\n",
    "if export:\n",
    "    fig.savefig(plot_path.joinpath(f\"img_car_{hue}.pdf\"), transparent=True)"
   ]
  },
  {
   "cell_type": "markdown",
   "metadata": {},
   "source": [
    "#### Features"
   ]
  },
  {
   "cell_type": "markdown",
   "metadata": {},
   "source": [
    "##### Statistics"
   ]
  },
  {
   "cell_type": "code",
   "execution_count": null,
   "metadata": {},
   "outputs": [],
   "source": [
    "variable = \"within_ideal_bed_time\"\n",
    "\n",
    "pipeline = stats_pipeline_saliva_features(cort_features, variable=variable)\n",
    "pipeline.export_statistics(stats_path.joinpath(f\"stats_cortisol_features_{variable}.xlsx\"))\n",
    "pipeline.display_results(posthoc=True)"
   ]
  },
  {
   "cell_type": "markdown",
   "metadata": {},
   "source": [
    "##### Plots"
   ]
  },
  {
   "cell_type": "code",
   "execution_count": null,
   "metadata": {},
   "outputs": [],
   "source": [
    "boxplot_saliva_features(cort_features, \"within_ideal_bed_time\", pipeline, export, plot_path)"
   ]
  },
  {
   "cell_type": "markdown",
   "metadata": {},
   "source": [
    "### Wakeup Source"
   ]
  },
  {
   "cell_type": "markdown",
   "metadata": {},
   "source": [
    "#### Raw Cortisol"
   ]
  },
  {
   "cell_type": "markdown",
   "metadata": {},
   "source": [
    "##### Statistics"
   ]
  },
  {
   "cell_type": "code",
   "execution_count": null,
   "metadata": {},
   "outputs": [],
   "source": [
    "variable = \"wakeup_source\"\n",
    "\n",
    "pipeline = stats_pipeline_saliva_samples(cort_samples, variable=variable)\n",
    "pipeline.export_statistics(stats_path.joinpath(f\"stats_cortisol_raw_{variable}.xlsx\"))\n",
    "pipeline.display_results(posthoc=False)"
   ]
  },
  {
   "cell_type": "markdown",
   "metadata": {},
   "source": [
    "##### Plots"
   ]
  },
  {
   "cell_type": "code",
   "execution_count": null,
   "metadata": {},
   "outputs": [],
   "source": [
    "hue = \"wakeup_source\"\n",
    "hue_order = [\"Spontaneous\", \"Alarm\", \"Not Specified\"]\n",
    "\n",
    "fig, ax = plt.subplots()\n",
    "\n",
    "car.car_saliva_plot(\"cortisol\", hue=hue, hue_order=hue_order, ax=ax)\n",
    "\n",
    "fig.tight_layout()\n",
    "if export:\n",
    "    fig.savefig(plot_path.joinpath(f\"img_car_{hue}.pdf\"), transparent=True)"
   ]
  },
  {
   "cell_type": "markdown",
   "metadata": {},
   "source": [
    "#### Features"
   ]
  },
  {
   "cell_type": "markdown",
   "metadata": {},
   "source": [
    "##### Statistics"
   ]
  },
  {
   "cell_type": "code",
   "execution_count": null,
   "metadata": {},
   "outputs": [],
   "source": [
    "variable = \"wakeup_source\"\n",
    "\n",
    "pipeline = stats_pipeline_saliva_features(cort_features, variable=variable)\n",
    "pipeline.export_statistics(stats_path.joinpath(f\"stats_cortisol_features_{variable}.xlsx\"))\n",
    "pipeline.display_results(posthoc=False)"
   ]
  },
  {
   "cell_type": "markdown",
   "metadata": {},
   "source": [
    "##### Plots"
   ]
  },
  {
   "cell_type": "code",
   "execution_count": null,
   "metadata": {},
   "outputs": [],
   "source": [
    "boxplot_saliva_features(cort_features, \"wakeup_source\", pipeline, export, plot_path)"
   ]
  },
  {
   "cell_type": "markdown",
   "metadata": {},
   "source": [
    "### Condition"
   ]
  },
  {
   "cell_type": "markdown",
   "metadata": {},
   "source": [
    "#### Class Distribution"
   ]
  },
  {
   "cell_type": "code",
   "execution_count": null,
   "metadata": {},
   "outputs": [],
   "source": [
    "describe_groups_df(cort_samples, \"condition\")"
   ]
  },
  {
   "cell_type": "markdown",
   "metadata": {},
   "source": [
    "#### Raw Cortisol"
   ]
  },
  {
   "cell_type": "markdown",
   "metadata": {},
   "source": [
    "##### Statistics"
   ]
  },
  {
   "cell_type": "code",
   "execution_count": null,
   "metadata": {},
   "outputs": [],
   "source": [
    "variable = \"condition\"\n",
    "\n",
    "pipeline = stats_pipeline_saliva_samples(cort_samples, variable=variable)\n",
    "pipeline.export_statistics(stats_path.joinpath(f\"stats_cortisol_raw_{variable}.xlsx\"))\n",
    "pipeline.display_results(posthoc=False)"
   ]
  },
  {
   "cell_type": "markdown",
   "metadata": {},
   "source": [
    "##### Plots"
   ]
  },
  {
   "cell_type": "code",
   "execution_count": null,
   "metadata": {},
   "outputs": [],
   "source": [
    "hue = \"condition\"\n",
    "hue_order = [\"Spontaneous\", \"Known Alarm\", \"Unknown Alarm\"]\n",
    "\n",
    "fig, ax = plt.subplots()\n",
    "\n",
    "car.car_saliva_plot(\"cortisol\", hue=hue, hue_order=hue_order, ax=ax)\n",
    "\n",
    "fig.tight_layout()\n",
    "if export:\n",
    "    fig.savefig(plot_path.joinpath(f\"img_car_{hue}.pdf\"), transparent=True)"
   ]
  },
  {
   "cell_type": "markdown",
   "metadata": {},
   "source": [
    "#### Features"
   ]
  },
  {
   "cell_type": "markdown",
   "metadata": {},
   "source": [
    "##### Statistics"
   ]
  },
  {
   "cell_type": "code",
   "execution_count": null,
   "metadata": {},
   "outputs": [],
   "source": [
    "variable = \"condition\"\n",
    "\n",
    "pipeline = stats_pipeline_saliva_features(cort_features, variable=variable)\n",
    "pipeline.export_statistics(stats_path.joinpath(f\"stats_cortisol_features_{variable}.xlsx\"))\n",
    "pipeline.display_results(posthoc=False)"
   ]
  },
  {
   "cell_type": "markdown",
   "metadata": {},
   "source": [
    "##### Plots"
   ]
  },
  {
   "cell_type": "code",
   "execution_count": null,
   "metadata": {},
   "outputs": [],
   "source": [
    "boxplot_saliva_features(cort_features, \"condition\", pipeline, export, plot_path)"
   ]
  },
  {
   "cell_type": "markdown",
   "metadata": {},
   "source": [
    "### Pairplots"
   ]
  },
  {
   "cell_type": "code",
   "execution_count": null,
   "metadata": {},
   "outputs": [],
   "source": [
    "g = sns.pairplot(data=np.log(cort_samples[\"cortisol\"].unstack(\"sample\")).reset_index(\"condition\"), hue=\"condition\", corner=True)\n",
    "g = g.map_lower(sns.kdeplot, levels=3, color=\".2\", alpha=0.5)"
   ]
  },
  {
   "cell_type": "code",
   "execution_count": null,
   "metadata": {},
   "outputs": [],
   "source": [
    "g = sns.pairplot(data=cort_features[\"cortisol\"].unstack(\"saliva_feature\").reset_index(\"condition\"), hue=\"condition\", corner=True)\n",
    "#g = g.map_lower(sns.kdeplot, levels=3, color=\".2\", alpha=0.5)"
   ]
  },
  {
   "cell_type": "code",
   "execution_count": null,
   "metadata": {},
   "outputs": [],
   "source": []
  }
 ],
 "metadata": {
  "kernelspec": {
   "display_name": "carwatch-analysis",
   "language": "python",
   "name": "carwatch-analysis"
  },
  "language_info": {
   "codemirror_mode": {
    "name": "ipython",
    "version": 3
   },
   "file_extension": ".py",
   "mimetype": "text/x-python",
   "name": "python",
   "nbconvert_exporter": "python",
   "pygments_lexer": "ipython3",
   "version": "3.8.3"
  }
 },
 "nbformat": 4,
 "nbformat_minor": 4
}
