{
 "cells": [
  {
   "cell_type": "markdown",
   "metadata": {},
   "source": [
    "# IMU Feature Extraction Pipeline"
   ]
  },
  {
   "cell_type": "markdown",
   "metadata": {},
   "source": [
    "## Setup"
   ]
  },
  {
   "cell_type": "code",
   "execution_count": null,
   "metadata": {},
   "outputs": [],
   "source": [
    "from pathlib import Path\n",
    "import json\n",
    "import re\n",
    "\n",
    "import pandas as pd\n",
    "import numpy as np\n",
    "import pingouin as pg\n",
    "\n",
    "import biopsykit as bp\n",
    "from biopsykit.utils.time import timedelta_to_time\n",
    "from biopsykit.signals.imu.feature_extraction.static_moments import compute_features\n",
    "\n",
    "from fau_colors import cmaps\n",
    "\n",
    "import matplotlib.pyplot as plt\n",
    "import seaborn as sns\n",
    "\n",
    "from joblib import Parallel\n",
    "from tqdm.notebook import tqdm\n",
    "\n",
    "from carwatch_analysis.datasets import CarWatchDatasetRaw\n",
    "from carwatch_analysis.data_processing.imu import process_night\n",
    "from carwatch_analysis.exceptions import (\n",
    "    ImuDataNotFoundException,\n",
    "    NoSuitableImuDataFoundException,\n",
    "    DateNotAvailableException,\n",
    ")\n",
    "\n",
    "%matplotlib widget\n",
    "%load_ext autoreload\n",
    "%autoreload 2"
   ]
  },
  {
   "cell_type": "code",
   "execution_count": null,
   "metadata": {},
   "outputs": [],
   "source": [
    "plt.close(\"all\")\n",
    "\n",
    "palette = sns.color_palette(cmaps.faculties)\n",
    "sns.set_theme(context=\"notebook\", style=\"ticks\", palette=palette)\n",
    "\n",
    "plt.rcParams[\"figure.figsize\"] = (8, 4)\n",
    "plt.rcParams[\"pdf.fonttype\"] = 42\n",
    "plt.rcParams[\"mathtext.default\"] = \"regular\"\n",
    "\n",
    "pg.options[\"round\"] = 4\n",
    "\n",
    "palette"
   ]
  },
  {
   "cell_type": "markdown",
   "metadata": {},
   "source": [
    "## Setup Paths"
   ]
  },
  {
   "cell_type": "code",
   "execution_count": null,
   "metadata": {},
   "outputs": [],
   "source": [
    "deploy_type = \"local\""
   ]
  },
  {
   "cell_type": "code",
   "execution_count": null,
   "metadata": {},
   "outputs": [],
   "source": [
    "# build path to data folder\n",
    "config_dict = json.load(Path(\"../../../config.json\").open(encoding=\"utf-8\"))\n",
    "base_path = Path(\"..\").joinpath(config_dict[deploy_type][\"base_path\"])\n",
    "\n",
    "base_path"
   ]
  },
  {
   "cell_type": "code",
   "execution_count": null,
   "metadata": {},
   "outputs": [],
   "source": [
    "dataset = CarWatchDatasetRaw(base_path)\n",
    "dataset"
   ]
  },
  {
   "cell_type": "markdown",
   "metadata": {},
   "source": [
    "## IMU Data Processing"
   ]
  },
  {
   "cell_type": "markdown",
   "metadata": {},
   "source": [
    "### Processing parameters"
   ]
  },
  {
   "cell_type": "code",
   "execution_count": null,
   "metadata": {},
   "outputs": [],
   "source": [
    "compute_imu_endpoints = True\n",
    "compute_sm_features = False\n",
    "\n",
    "thres = 100\n",
    "window_sec = 5\n",
    "overlap_percent = 0.9\n",
    "\n",
    "epoch_length = 30"
   ]
  },
  {
   "cell_type": "code",
   "execution_count": null,
   "metadata": {
    "tags": []
   },
   "outputs": [],
   "source": [
    "for subset in tqdm(dataset.groupby([\"subject\", \"night\"])):\n",
    "    if not subset.subject_folder_path.exists():\n",
    "        continue\n",
    "    export_path = subset.subject_folder_path.joinpath(\"processed\")\n",
    "    export_path.mkdir(exist_ok=True)\n",
    "    subject_id = subset.index[\"subject\"][0]\n",
    "    night_id = subset.index[\"night\"][0]\n",
    "\n",
    "    feature_file = export_path.joinpath(f\"imu_static_moment_features_{subject_id}_{night_id}.csv\")\n",
    "    endpoint_file = export_path.joinpath(f\"sleep_endpoints_{subject_id}_{night_id}.csv\")\n",
    "\n",
    "    endpoints_imu, sm_features = process_night(\n",
    "        subset,\n",
    "        compute_imu_endpoints=compute_imu_endpoints,\n",
    "        compute_sm_features=compute_sm_features,\n",
    "        thres=thres,\n",
    "        window_sec=window_sec,\n",
    "        overlap_percent=overlap_percent,\n",
    "        epoch_length=epoch_length,\n",
    "        compare_endpoints=True,\n",
    "        export_path=export_path,\n",
    "    )\n",
    "\n",
    "    if endpoints_imu is not None:\n",
    "        endpoints_imu.to_csv(endpoint_file)\n",
    "    if sm_features is not None:\n",
    "        sm_features.to_csv(feature_file)"
   ]
  },
  {
   "cell_type": "code",
   "execution_count": null,
   "metadata": {},
   "outputs": [],
   "source": []
  }
 ],
 "metadata": {
  "kernelspec": {
   "display_name": "carwatch-analysis",
   "language": "python",
   "name": "carwatch-analysis"
  },
  "language_info": {
   "codemirror_mode": {
    "name": "ipython",
    "version": 3
   },
   "file_extension": ".py",
   "mimetype": "text/x-python",
   "name": "python",
   "nbconvert_exporter": "python",
   "pygments_lexer": "ipython3",
   "version": "3.8.3"
  }
 },
 "nbformat": 4,
 "nbformat_minor": 4
}
