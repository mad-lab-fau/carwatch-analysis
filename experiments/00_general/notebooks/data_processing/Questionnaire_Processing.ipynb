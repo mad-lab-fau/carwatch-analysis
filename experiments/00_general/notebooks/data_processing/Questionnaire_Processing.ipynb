{
 "cells": [
  {
   "cell_type": "markdown",
   "metadata": {},
   "source": [
    "# CARWatch – Questionnaire Data Cleaning and Processing"
   ]
  },
  {
   "cell_type": "markdown",
   "metadata": {},
   "source": [
    "This Notebook processes questionnaire data and extracts relevant columns. The informaton used from the questionnaire data are:\n",
    "* Chronotype: assessed by *Morningness-Eveningness Questionnaire (MEQ)*\n",
    "* Sleep Information: Self-reported Bed Time, Sleep Onset, Wake Onset"
   ]
  },
  {
   "cell_type": "markdown",
   "metadata": {},
   "source": [
    "As Questionnaire for Chronotype Assessment we use the Morningness Eveningness Questionnaire (MEQ) from Horne and Östberg (1976).\n",
    "\n",
    "```\n",
    "Horne, J. A., & Östberg, O. (1976). A self-assessment questionnaire to determine morningness-eveningness in human circadian rhythms. International journal of chronobiology.\n",
    "```"
   ]
  },
  {
   "cell_type": "code",
   "execution_count": null,
   "metadata": {},
   "outputs": [],
   "source": [
    "from pathlib import Path\n",
    "import json\n",
    "\n",
    "import pandas as pd\n",
    "import numpy as np\n",
    "import pingouin as pg\n",
    "\n",
    "import biopsykit as bp\n",
    "from biopsykit.questionnaires import pss\n",
    "from biopsykit.questionnaires.utils import invert, find_cols, wide_to_long, convert_scale\n",
    "from biopsykit.utils.dataframe_handling import int_from_str_idx, camel_to_snake\n",
    "\n",
    "from fau_colors import cmaps\n",
    "\n",
    "import matplotlib.pyplot as plt\n",
    "import seaborn as sns\n",
    "\n",
    "from carwatch_analysis.datasets import CarWatchDatasetRaw\n",
    "\n",
    "%matplotlib widget\n",
    "%load_ext autoreload\n",
    "%autoreload 2"
   ]
  },
  {
   "cell_type": "code",
   "execution_count": null,
   "metadata": {},
   "outputs": [],
   "source": [
    "plt.close(\"all\")\n",
    "\n",
    "palette = sns.color_palette(cmaps.faculties)\n",
    "sns.set_theme(context=\"notebook\", style=\"ticks\", palette=palette)\n",
    "\n",
    "plt.rcParams[\"figure.figsize\"] = (8, 4)\n",
    "plt.rcParams[\"pdf.fonttype\"] = 42\n",
    "plt.rcParams[\"mathtext.default\"] = \"regular\"\n",
    "\n",
    "pg.options[\"round\"] = 4\n",
    "\n",
    "palette"
   ]
  },
  {
   "cell_type": "markdown",
   "metadata": {},
   "source": [
    "## Load Questionnaire Data"
   ]
  },
  {
   "cell_type": "code",
   "execution_count": null,
   "metadata": {},
   "outputs": [],
   "source": [
    "deploy_type = \"local\""
   ]
  },
  {
   "cell_type": "code",
   "execution_count": null,
   "metadata": {},
   "outputs": [],
   "source": [
    "# build path to data folder\n",
    "config_dict = json.load(Path(\"../../../config.json\").open(encoding=\"utf-8\"))\n",
    "base_path = Path(\"..\").joinpath(config_dict[deploy_type][\"base_path\"])\n",
    "base_path"
   ]
  },
  {
   "cell_type": "code",
   "execution_count": null,
   "metadata": {},
   "outputs": [],
   "source": [
    "export_path = base_path.joinpath(\"questionnaire/processed\")\n",
    "bp.utils.file_handling.mkdirs(export_path)"
   ]
  },
  {
   "cell_type": "code",
   "execution_count": null,
   "metadata": {},
   "outputs": [],
   "source": [
    "dataset = CarWatchDatasetRaw(base_path)"
   ]
  },
  {
   "cell_type": "code",
   "execution_count": null,
   "metadata": {},
   "outputs": [],
   "source": [
    "quest_data = dataset.questionnaire\n",
    "quest_data"
   ]
  },
  {
   "cell_type": "markdown",
   "metadata": {},
   "source": [
    "## Condition"
   ]
  },
  {
   "cell_type": "code",
   "execution_count": null,
   "metadata": {},
   "outputs": [],
   "source": [
    "cond_data = bp.questionnaires.utils.wide_to_long(quest_data.filter(like=\"condition\"), quest_name=\"condition\", levels=\"night\")\n",
    "cond_data = bp.utils.dataframe_handling.int_from_str_idx(cond_data, idx_levels=\"night\", regex=\"N(\\d)\", func = lambda x: x-1)\n",
    "cond_data = cond_data.reset_index().set_index([\"subject\", \"night\", \"condition\"])\n",
    "\n",
    "cond_data = bp.utils.dataframe_handling.apply_codebook(cond_data, dataset.codebook)\n",
    "cond_data.head()"
   ]
  },
  {
   "cell_type": "markdown",
   "metadata": {},
   "source": [
    "## Chronotype"
   ]
  },
  {
   "cell_type": "markdown",
   "metadata": {},
   "source": [
    "### Convert MEQ Questionnaire Items Into Right Format"
   ]
  },
  {
   "cell_type": "code",
   "execution_count": null,
   "metadata": {},
   "outputs": [],
   "source": [
    "df_meq = find_cols(quest_data, starts_with=\"MEQ\", ends_with=\"[0-9]\")[0]\n",
    "\n",
    "# Recode MEQ01\n",
    "df_meq.loc[:, \"MEQ_01\"].replace({1: 1, 2: 1, 3: 2, 4: 3, 5: 3, 6: 4, 7: 4, 8: 5}, inplace=True)\n",
    "# Recode MEQ02\n",
    "df_meq.loc[:, \"MEQ_02\"].replace({1: 1, 2: 1, 3: 2, 4: 3, 5: 3, 6: 4, 7: 4, 8: 5}, inplace=True)\n",
    "# Recode MEQ10\n",
    "df_meq.loc[:, \"MEQ_10\"].replace({1: 1, 2: 1, 3: 2, 4: 3, 5: 3, 6: 4, 7: 4, 8: 5}, inplace=True)\n",
    "\n",
    "# Invert columns that were in inverted order in questionnaire (to comply with biopsykit implementation)\n",
    "invert_cols = [\"MEQ_03\", \"MEQ_08\", \"MEQ_09\", \"MEQ_19\"]\n",
    "invert(df_meq.loc[:, invert_cols], score_range=[1, 4], inplace=True)\n",
    "\n",
    "# Invert columns that were in inverted order in questionnaire (to comply with biopsykit implementation)\n",
    "invert_cols = [\"MEQ_17\", \"MEQ_18\"]\n",
    "invert(df_meq.loc[:, invert_cols], score_range=[1, 5], inplace=True)\n",
    "\n",
    "meq = bp.questionnaires.meq(df_meq)"
   ]
  },
  {
   "cell_type": "markdown",
   "metadata": {},
   "source": [
    "### Compute MEQ and Classify Chronotypes"
   ]
  },
  {
   "cell_type": "markdown",
   "metadata": {},
   "source": [
    "From the MEQ score Chronotypes can be classified in two different ways:\n",
    "* Fine Classification (5 levels, column `Chronotype_Fine`):\n",
    "    - 0: definite evening type (MEQ score 14-30)\n",
    "    - 1: moderate evening type (MEQ score 31-41)\n",
    "    - 2: intermediate type (MEQ score 42-58)\n",
    "    - 3: moderate morning type (MEQ score 59-69)\n",
    "    - 4: definite morning type (MEQ score 70-86)\n",
    "* Coarse Classification (3 levels, column `Chronotype_Coarse`):\n",
    "    - 0: evening type (MEQ score 14-41)\n",
    "    - 1: intermediate type (MEQ score 42-58)\n",
    "    - 2: morning type (MEQ score 59-86)"
   ]
  },
  {
   "cell_type": "code",
   "execution_count": null,
   "metadata": {},
   "outputs": [],
   "source": [
    "meq.head()"
   ]
  },
  {
   "cell_type": "markdown",
   "metadata": {},
   "source": [
    "### Further Information"
   ]
  },
  {
   "cell_type": "markdown",
   "metadata": {},
   "source": [
    "#### MEQ Histogram"
   ]
  },
  {
   "cell_type": "code",
   "execution_count": null,
   "metadata": {},
   "outputs": [],
   "source": [
    "fig, ax = plt.subplots()\n",
    "meq[\"MEQ\"].plot(kind=\"hist\", ax=ax)\n",
    "ax.axvline(41, color=\"grey\", ls=\"--\")\n",
    "ax.axvline(58, color=\"grey\", ls=\"--\")\n",
    "ax.set_xlabel(\"MEQ Score\")\n",
    "ax.set_ylabel(\"Count\")\n",
    "fig.tight_layout()"
   ]
  },
  {
   "cell_type": "markdown",
   "metadata": {},
   "source": [
    "#### Chronotype Prevalence"
   ]
  },
  {
   "cell_type": "code",
   "execution_count": null,
   "metadata": {},
   "outputs": [],
   "source": [
    "pd.DataFrame(meq[\"Chronotype_Coarse\"].value_counts())"
   ]
  },
  {
   "cell_type": "code",
   "execution_count": null,
   "metadata": {},
   "outputs": [],
   "source": [
    "meq.describe().T"
   ]
  },
  {
   "cell_type": "markdown",
   "metadata": {},
   "source": [
    "## Sleep Information"
   ]
  },
  {
   "cell_type": "markdown",
   "metadata": {},
   "source": [
    "### Ideal Bedtime Ranges"
   ]
  },
  {
   "cell_type": "code",
   "execution_count": null,
   "metadata": {},
   "outputs": [],
   "source": [
    "bedtime_ranges = {\n",
    "    1: [\"01:45:00\", \"03:00:00\"], \n",
    "    2: [\"00:30:00\", \"01:45:00\"], \n",
    "    3: [\"22:15:00\", \"00:30:00\"], \n",
    "    4: [\"21:00:00\", \"22:15:00\"], \n",
    "    5: [\"20:00:00\", \"21:00:00\"]\n",
    "}\n",
    "\n",
    "bedtime_ranges = pd.DataFrame(bedtime_ranges, index=[\"start\", \"end\"]).T\n",
    "bedtime = pd.DataFrame({\n",
    "    \"ideal_bed_{}\".format(key): df_meq[\"MEQ_02\"].replace(bedtime_ranges[key])\n",
    "    for key in [\"start\", \"end\"]\n",
    "})"
   ]
  },
  {
   "cell_type": "markdown",
   "metadata": {},
   "source": [
    "### Self-Report Sleep Data"
   ]
  },
  {
   "cell_type": "code",
   "execution_count": null,
   "metadata": {},
   "outputs": [],
   "source": [
    "sleep_cols = [\"bed\", \"sleepOnset\", \"wakeOnset\", \"getup\"]\n",
    "times_selfreport = quest_data.filter(regex=f\"({'|'.join(sleep_cols)})Selfreport_*\")\n",
    "times_selfreport.head()"
   ]
  },
  {
   "cell_type": "markdown",
   "metadata": {},
   "source": [
    "## Restructure Questionnaire Data for Export"
   ]
  },
  {
   "cell_type": "code",
   "execution_count": null,
   "metadata": {},
   "outputs": [],
   "source": [
    "# drop all unnecessary columns:\n",
    "## bedtimes are exported separately\n",
    "quest_copy = quest_data.drop(columns=times_selfreport.columns)\n",
    "## cortisol values are exported separately\n",
    "quest_copy = quest_copy.drop(columns=quest_copy.filter(like=\"cort\").columns)\n",
    "## not needed anymore (sleep endpoints are computed new)\n",
    "quest_copy = quest_copy.drop(columns=quest_copy.filter(regex=\"(sleepOnset|wakeOnset)Sensor_*\").columns)\n",
    "## condition is extracted separately\n",
    "quest_copy = quest_copy.drop(columns=quest_copy.filter(like=\"condition\").columns)\n",
    "## Night 3 is not needed\n",
    "quest_copy = quest_copy.drop(columns=quest_copy.filter(like=\"N3\").columns)\n",
    "## MEQ is exported separately\n",
    "quest_copy = quest_copy.drop(columns=quest_copy.filter(like=\"MEQ\").columns)\n",
    "\n",
    "## manual weekend and chronotype labels not needed\n",
    "quest_copy = quest_copy.drop(columns=[\"chronotypeManual\", \"hasWeekend\"])\n",
    "\n",
    "## extract PSS data and convert to long-format\n",
    "pss_columns = wide_to_long(quest_copy, \"PSS\", levels=[\"night\"])\n",
    "## drop PSS columns from dataframe\n",
    "quest_copy = quest_copy.drop(columns=quest_copy.filter(like=\"PSS\"))\n",
    "## PSS-L (Labor) is inconsistent => drop\n",
    "pss_columns = pss_columns.drop(\"L\", level=\"night\")\n",
    "\n",
    "## compute PSS scores\n",
    "pss_data = convert_scale(pss_columns, -1)\n",
    "pss_data = pss(pss_data)\n",
    "\n",
    "\n",
    "nightly_data = quest_copy.filter(regex=\"\\w+_N\\d\")\n",
    "quest_copy = quest_copy.drop(columns=nightly_data.columns)\n",
    "\n",
    "nightly_data = pd.wide_to_long(\n",
    "    nightly_data.reset_index(), \n",
    "    stubnames=[\"wakeupSource\", \"SubjectiveSleepQuality\"], \n",
    "    i=\"subject\", \n",
    "    j=\"night\", \n",
    "    sep=\"_\", \n",
    "    suffix=\"N\\w\"\n",
    ")\n",
    "\n",
    "quest_copy = quest_copy.join(pss_data).join(nightly_data)\n",
    "\n",
    "# extract night-id from index and let it start from 0\n",
    "quest_copy = int_from_str_idx(quest_copy, \"night\", regex=\"N(\\d)\", func=lambda x: x-1)\n",
    "\n",
    "quest_copy = quest_copy.join(dataset.condition_map)\n",
    "quest_copy = quest_copy.set_index(\"condition\", append=True)\n",
    "quest_copy.head()"
   ]
  },
  {
   "cell_type": "markdown",
   "metadata": {},
   "source": [
    "## Export"
   ]
  },
  {
   "cell_type": "markdown",
   "metadata": {},
   "source": [
    "### Merge Data and Convert to Long-Format"
   ]
  },
  {
   "cell_type": "code",
   "execution_count": null,
   "metadata": {},
   "outputs": [],
   "source": [
    "quest_sleep = pd.concat([bedtime, meq, times_selfreport], axis=1)\n",
    "quest_sleep = pd.wide_to_long(\n",
    "    df=quest_sleep.reset_index(), \n",
    "    stubnames=[\"{}Selfreport\".format(s) for s in sleep_cols], \n",
    "    i=\"subject\", \n",
    "    j=\"night\", \n",
    "    sep=\"_\", \n",
    "    suffix=\"\\w+\"\n",
    ").sort_index()\n",
    "quest_sleep = int_from_str_idx(quest_sleep, \"night\", \"N(\\w)\", lambda x: x-1)\n",
    "quest_sleep.head()"
   ]
  },
  {
   "cell_type": "markdown",
   "metadata": {},
   "source": [
    "### Rename columns for consisting naming"
   ]
  },
  {
   "cell_type": "code",
   "execution_count": null,
   "metadata": {},
   "outputs": [],
   "source": [
    "quest_sleep = quest_sleep.rename(\n",
    "    columns={s: camel_to_snake(s) for s in [f\"{col}Selfreport\" for col in sleep_cols]}\n",
    ")\n",
    "quest_sleep = quest_sleep.rename(\n",
    "    columns={s: s.lower() for s in [\"Chronotype_Coarse\", \"Chronotype_Fine\"]}\n",
    ")\n",
    "quest_sleep.head()"
   ]
  },
  {
   "cell_type": "code",
   "execution_count": null,
   "metadata": {},
   "outputs": [],
   "source": [
    "quest_copy = quest_copy.rename(\n",
    "    columns={col: camel_to_snake(col) for col in quest_copy.columns if \"PSS\" not in col}\n",
    ")\n",
    "quest_copy.head()"
   ]
  },
  {
   "cell_type": "code",
   "execution_count": null,
   "metadata": {},
   "outputs": [],
   "source": [
    "quest_copy.to_csv(export_path.joinpath(\"questionnaire_data.csv\"))"
   ]
  },
  {
   "cell_type": "code",
   "execution_count": null,
   "metadata": {},
   "outputs": [],
   "source": [
    "quest_sleep.to_csv(export_path.joinpath(\"chronotype_bedtimes.csv\"))"
   ]
  },
  {
   "cell_type": "code",
   "execution_count": null,
   "metadata": {},
   "outputs": [],
   "source": [
    "cond_data.to_csv(export_path.joinpath(\"condition_map.csv\"))"
   ]
  },
  {
   "cell_type": "code",
   "execution_count": null,
   "metadata": {},
   "outputs": [],
   "source": []
  }
 ],
 "metadata": {
  "kernelspec": {
   "display_name": "carwatch-analysis",
   "language": "python",
   "name": "carwatch-analysis"
  },
  "language_info": {
   "codemirror_mode": {
    "name": "ipython",
    "version": 3
   },
   "file_extension": ".py",
   "mimetype": "text/x-python",
   "name": "python",
   "nbconvert_exporter": "python",
   "pygments_lexer": "ipython3",
   "version": "3.8.3"
  }
 },
 "nbformat": 4,
 "nbformat_minor": 4
}
