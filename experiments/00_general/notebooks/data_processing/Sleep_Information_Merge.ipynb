{
 "cells": [
  {
   "cell_type": "markdown",
   "metadata": {},
   "source": [
    "# Sleep Information Merge"
   ]
  },
  {
   "cell_type": "markdown",
   "metadata": {},
   "source": [
    "This Notebook merges sleep information from questionnaires and from IMU data."
   ]
  },
  {
   "cell_type": "code",
   "execution_count": null,
   "metadata": {},
   "outputs": [],
   "source": [
    "import json\n",
    "from pathlib import Path\n",
    "\n",
    "import pandas as pd\n",
    "import numpy as np\n",
    "\n",
    "import biopsykit as bp\n",
    "from biopsykit.utils.dataframe_handling import replace_missing_data\n",
    "from biopsykit.utils.time import get_time_from_date\n",
    "\n",
    "import pingouin as pg\n",
    "\n",
    "from tqdm.auto import tqdm\n",
    "from fau_colors import cmaps\n",
    "\n",
    "import matplotlib.pyplot as plt\n",
    "import seaborn as sns\n",
    "\n",
    "from carwatch_analysis.datasets import CarWatchDatasetRaw\n",
    "from carwatch_analysis.exceptions import ImuDataNotFoundException\n",
    "\n",
    "%matplotlib widget\n",
    "%load_ext autoreload\n",
    "%autoreload 2"
   ]
  },
  {
   "cell_type": "code",
   "execution_count": null,
   "metadata": {},
   "outputs": [],
   "source": [
    "plt.close(\"all\")\n",
    "\n",
    "palette = sns.color_palette(cmaps.faculties)\n",
    "sns.set_theme(context=\"notebook\", style=\"ticks\", palette=palette)\n",
    "\n",
    "plt.rcParams[\"figure.figsize\"] = (8, 4)\n",
    "plt.rcParams[\"pdf.fonttype\"] = 42\n",
    "plt.rcParams[\"mathtext.default\"] = \"regular\"\n",
    "\n",
    "pg.options[\"round\"] = 4\n",
    "\n",
    "palette"
   ]
  },
  {
   "cell_type": "markdown",
   "metadata": {},
   "source": [
    "## Setup Paths"
   ]
  },
  {
   "cell_type": "code",
   "execution_count": null,
   "metadata": {},
   "outputs": [],
   "source": [
    "deploy_type = \"local\""
   ]
  },
  {
   "cell_type": "code",
   "execution_count": null,
   "metadata": {},
   "outputs": [],
   "source": [
    "# build path to data folder\n",
    "config_dict = json.load(Path(\"../../../config.json\").open(encoding=\"utf-8\"))\n",
    "base_path = Path(\"..\").joinpath(config_dict[deploy_type][\"base_path\"])\n",
    "base_path"
   ]
  },
  {
   "cell_type": "code",
   "execution_count": null,
   "metadata": {},
   "outputs": [],
   "source": [
    "dataset = CarWatchDatasetRaw(base_path)\n",
    "dataset"
   ]
  },
  {
   "cell_type": "markdown",
   "metadata": {},
   "source": [
    "## Load Data"
   ]
  },
  {
   "cell_type": "markdown",
   "metadata": {},
   "source": [
    "### Self-report Information\n",
    "* Sleep and wake onsets from self-reports\n",
    "* Chronotype and ideal bed interval based on the chronotype"
   ]
  },
  {
   "cell_type": "code",
   "execution_count": null,
   "metadata": {},
   "outputs": [],
   "source": [
    "bedtime_selfreport = dataset.chronotype_bedtime\n",
    "bedtime_selfreport= bedtime_selfreport.join(dataset.condition_map).set_index(\"condition\", append=True)\n",
    "bedtime_selfreport.head()"
   ]
  },
  {
   "cell_type": "markdown",
   "metadata": {},
   "source": [
    "### IMU-based Information\n",
    "* Sleep and wake onsets from IMU data\n",
    "* Further sleep endpoints"
   ]
  },
  {
   "cell_type": "code",
   "execution_count": null,
   "metadata": {},
   "outputs": [],
   "source": [
    "dict_endpoints = {}\n",
    "for subset in tqdm(dataset.groupby([\"subject\", \"night\"])):\n",
    "    subject_id = subset.index[\"subject\"][0]\n",
    "    night = subset.index[\"night\"][0]\n",
    "    try:\n",
    "        dict_endpoints[(subject_id, night)] = subset.imu_sleep_endpoints\n",
    "    except ImuDataNotFoundException:\n",
    "        pass"
   ]
  },
  {
   "cell_type": "code",
   "execution_count": null,
   "metadata": {},
   "outputs": [],
   "source": [
    "bedtime_imu = pd.concat(dict_endpoints, names=[\"subject\", \"night\"]).reset_index(\"date\")\n",
    "bedtime_imu.head()"
   ]
  },
  {
   "cell_type": "markdown",
   "metadata": {},
   "source": [
    "### Concat Self-Report and IMU Data"
   ]
  },
  {
   "cell_type": "code",
   "execution_count": null,
   "metadata": {},
   "outputs": [],
   "source": [
    "data = bedtime_selfreport.join(bedtime_imu)\n",
    "data = data.assign(**{\"bed\": data[\"bed_interval_start\"]})\n",
    "\n",
    "data.head()"
   ]
  },
  {
   "cell_type": "markdown",
   "metadata": {},
   "source": [
    "### Convert datetime information from `datetime.datetime` into `datetime.time`"
   ]
  },
  {
   "cell_type": "code",
   "execution_count": null,
   "metadata": {},
   "outputs": [],
   "source": [
    "data.columns"
   ]
  },
  {
   "cell_type": "code",
   "execution_count": null,
   "metadata": {},
   "outputs": [],
   "source": [
    "for column in [\"sleep_onset\", \"bed\", \"wake_onset\"]:\n",
    "    data = data.assign(**{f\"{column}_time\": get_time_from_date(data[column], is_utc=True, tz_convert=True)})\n",
    "\n",
    "for column in [\"sleep_onset_selfreport\", \"wake_onset_selfreport\", \"bed_selfreport\", \"ideal_bed_start\", \"ideal_bed_end\"]:\n",
    "    data = data.assign(**{f\"{column}_time\": get_time_from_date(data[column])})"
   ]
  },
  {
   "cell_type": "code",
   "execution_count": null,
   "metadata": {},
   "outputs": [],
   "source": [
    "data[[\"sleep_onset_time\", \"sleep_onset_selfreport_time\"]].head()"
   ]
  },
  {
   "cell_type": "code",
   "execution_count": null,
   "metadata": {},
   "outputs": [],
   "source": [
    "data[[\"wake_onset_time\", \"wake_onset_selfreport_time\"]].head()"
   ]
  },
  {
   "cell_type": "markdown",
   "metadata": {},
   "source": [
    "### Replace missing time information with self-report"
   ]
  },
  {
   "cell_type": "code",
   "execution_count": null,
   "metadata": {},
   "outputs": [],
   "source": [
    "data = replace_missing_data(data, \"sleep_onset_time\", \"sleep_onset_selfreport_time\", dropna=False)\n",
    "# wake onset is inverted (use self-report normally and fill with sensor data where self-report is missing) because wake onset was not computed reliably\n",
    "data = replace_missing_data(data, \"wake_onset_selfreport_time\", \"wake_onset_time\", dropna=False)\n",
    "data[\"wake_onset_time\"] = data[\"wake_onset_selfreport_time\"]\n",
    "data = replace_missing_data(data, \"bed_time\", \"bed_selfreport_time\", dropna=False)"
   ]
  },
  {
   "cell_type": "markdown",
   "metadata": {},
   "source": [
    "### Compute whether participants went to bed within their ideal bed time"
   ]
  },
  {
   "cell_type": "code",
   "execution_count": null,
   "metadata": {},
   "outputs": [],
   "source": [
    "for column in [\"ideal_bed_start_time\", \"ideal_bed_end_time\", \"bed_time\"]:\n",
    "    after_midnight_mask = (data[column] < pd.Timedelta(\"18:00:00\"))\n",
    "    # add 1 day to all times after midnight (i.e., before 6pm)\n",
    "    data = data.assign(**{f\"{column}\": data[column].where(~after_midnight_mask, data[column] + pd.Timedelta(\"1d\"))})"
   ]
  },
  {
   "cell_type": "code",
   "execution_count": null,
   "metadata": {},
   "outputs": [],
   "source": [
    "ideal_bedtime = (data[\"bed_time\"] >= data[\"ideal_bed_start_time\"]) & (data[\"bed_time\"] <= data[\"ideal_bed_end_time\"])\n",
    "data[\"within_ideal_bed_time\"] = ideal_bedtime.astype(int)\n",
    "data[\"within_ideal_bed_time\"].value_counts()"
   ]
  },
  {
   "cell_type": "code",
   "execution_count": null,
   "metadata": {},
   "outputs": [],
   "source": [
    "data.head()"
   ]
  },
  {
   "cell_type": "code",
   "execution_count": null,
   "metadata": {},
   "outputs": [],
   "source": [
    "data.columns"
   ]
  },
  {
   "cell_type": "code",
   "execution_count": null,
   "metadata": {},
   "outputs": [],
   "source": [
    "data = data.drop(columns=[\n",
    "    \"ideal_bed_end\", \"ideal_bed_start\", \"bed_interval_start\", \"bed_interval_end\",\n",
    "    \"number_wake_bouts\", \"sleep_bouts\", \"wake_bouts\", \"bed\", \"sleep_onset\", \"wake_onset\", \n",
    "    \"sleep_onset_selfreport\", \"sleep_onset_selfreport_time\", \"wake_onset_selfreport\", \"wake_onset_selfreport_time\",\n",
    "    \"bed_selfreport\", \"bed_selfreport_time\", \"ideal_bed_start_time\", \"ideal_bed_end_time\"\n",
    "], errors=\"ignore\")"
   ]
  },
  {
   "cell_type": "code",
   "execution_count": null,
   "metadata": {},
   "outputs": [],
   "source": [
    "data"
   ]
  },
  {
   "cell_type": "markdown",
   "metadata": {},
   "source": [
    "## Export"
   ]
  },
  {
   "cell_type": "code",
   "execution_count": null,
   "metadata": {},
   "outputs": [],
   "source": [
    "export_path = base_path.joinpath(\"questionnaire/processed\")\n",
    "\n",
    "data.to_csv(export_path.joinpath(\"sleep_information_merged.csv\"))"
   ]
  },
  {
   "cell_type": "code",
   "execution_count": null,
   "metadata": {},
   "outputs": [],
   "source": []
  }
 ],
 "metadata": {
  "kernelspec": {
   "display_name": "carwatch-analysis",
   "language": "python",
   "name": "carwatch-analysis"
  },
  "language_info": {
   "codemirror_mode": {
    "name": "ipython",
    "version": 3
   },
   "file_extension": ".py",
   "mimetype": "text/x-python",
   "name": "python",
   "nbconvert_exporter": "python",
   "pygments_lexer": "ipython3",
   "version": "3.8.3"
  }
 },
 "nbformat": 4,
 "nbformat_minor": 4
}
