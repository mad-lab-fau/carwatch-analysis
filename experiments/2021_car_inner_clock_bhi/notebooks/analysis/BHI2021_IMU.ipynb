{
 "cells": [
  {
   "cell_type": "markdown",
   "metadata": {},
   "source": [
    "# IMU Analysis – BHI 2021"
   ]
  },
  {
   "cell_type": "markdown",
   "metadata": {},
   "source": [
    "IMU Data Analysis for the Paper \"Assessing the Influence of the Inner Clock on the Cortisol Awakening Response and Pre-Awakening Movement\" (BHI 2021)"
   ]
  },
  {
   "cell_type": "markdown",
   "metadata": {
    "tags": []
   },
   "source": [
    "## Setup"
   ]
  },
  {
   "cell_type": "code",
   "execution_count": null,
   "metadata": {},
   "outputs": [],
   "source": [
    "import json\n",
    "from pathlib import Path\n",
    "\n",
    "import pandas as pd\n",
    "import numpy as np\n",
    "import pingouin as pg\n",
    "\n",
    "import matplotlib.pyplot as plt\n",
    "import seaborn as sns\n",
    "\n",
    "from fau_colors.v2019 import cmaps\n",
    "\n",
    "import biopsykit as bp\n",
    "from biopsykit.io import load_long_format_csv\n",
    "from biopsykit.utils.dataframe_handling import multi_xs\n",
    "from biopsykit.stats import StatsPipeline\n",
    "\n",
    "from carwatch_analysis.utils import describe_groups_df\n",
    "from carwatch_analysis.plotting import boxplot_imu_features\n",
    "from carwatch_analysis.stats import create_unique_night_id, stats_pipeline_imu_features\n",
    "\n",
    "\n",
    "%matplotlib widget\n",
    "%load_ext autoreload\n",
    "%autoreload 2"
   ]
  },
  {
   "cell_type": "code",
   "execution_count": null,
   "metadata": {},
   "outputs": [],
   "source": [
    "pg.options[\"round\"] = 3\n",
    "\n",
    "palette = cmaps.faculties\n",
    "\n",
    "theme_kwargs = {\"context\": \"talk\", \"style\": \"ticks\", \"palette\": palette}\n",
    "theme_kwargs_scale = {\"context\": \"talk\", \"style\": \"ticks\", \"palette\": palette, \"font_scale\": 1.25}\n",
    "\n",
    "sns.set_theme(**theme_kwargs)\n",
    "\n",
    "plt.rcParams[\"figure.figsize\"] = (10, 5)\n",
    "plt.rcParams[\"mathtext.default\"] = \"regular\"\n",
    "plt.rcParams[\"pdf.fonttype\"] = 42\n",
    "plt.close(\"all\")\n",
    "\n",
    "pad = 0.2\n",
    "\n",
    "export = True\n",
    "palette"
   ]
  },
  {
   "cell_type": "code",
   "execution_count": null,
   "metadata": {},
   "outputs": [],
   "source": [
    "base_path = Path(\"../..\")\n",
    "export_path = base_path.joinpath(\"exports\")\n",
    "result_path = base_path.joinpath(\"results\")\n",
    "plot_path = result_path.joinpath(\"plots\")\n",
    "stats_path = result_path.joinpath(\"statistics\")\n",
    "\n",
    "paper_path = Path(json.load(Path(\"../paper_path.json\").open(encoding=\"utf-8\"))[\"paper_path\"])\n",
    "paper_img_path = paper_path.joinpath(\"img\")\n",
    "\n",
    "bp.utils.file_handling.mkdirs([result_path, plot_path, stats_path, paper_img_path])"
   ]
  },
  {
   "cell_type": "markdown",
   "metadata": {},
   "source": [
    "## Data Import"
   ]
  },
  {
   "cell_type": "markdown",
   "metadata": {},
   "source": [
    "### IMU Data"
   ]
  },
  {
   "cell_type": "code",
   "execution_count": null,
   "metadata": {},
   "outputs": [],
   "source": [
    "imu_all = load_long_format_csv(export_path.joinpath(\"imu_features_complete.csv\"))"
   ]
  },
  {
   "cell_type": "markdown",
   "metadata": {},
   "source": [
    "#### Feature Selection"
   ]
  },
  {
   "cell_type": "code",
   "execution_count": null,
   "metadata": {},
   "outputs": [],
   "source": [
    "imu_all.index.get_level_values(\"imu_feature\").unique()"
   ]
  },
  {
   "cell_type": "code",
   "execution_count": null,
   "metadata": {},
   "outputs": [],
   "source": [
    "imu_data = imu_all.xs((\"imu\", \"last_30min\"), level=[\"wakeup_type\", \"time_span\"])\n",
    "filter_cols = [\"max_position\", \"max_60\", \"number_60\", \"mean_60\", \"std_60\"]\n",
    "\n",
    "list_dfs = []\n",
    "imu_data = imu_data.unstack(\"imu_feature\")\n",
    "for col in filter_cols:\n",
    "    list_dfs.append(imu_data.filter(like=col))\n",
    "imu_data = pd.concat(list_dfs, axis=1).stack()\n",
    "imu_data"
   ]
  },
  {
   "cell_type": "markdown",
   "metadata": {},
   "source": [
    "#### Outlier Removal"
   ]
  },
  {
   "cell_type": "code",
   "execution_count": null,
   "metadata": {},
   "outputs": [],
   "source": [
    "outlier_mask = imu_data.groupby(\"imu_feature\").apply(lambda df: ((df - df.mean()) / df.std()).abs() > 3)[\"data\"]\n",
    "\n",
    "print(\"Number of nights before outlier removal: {}\".format(len(imu_data.unstack(\"imu_feature\"))))\n",
    "\n",
    "imu_data = imu_data.loc[~outlier_mask]\n",
    "imu_data = imu_data.unstack(\"imu_feature\").dropna().stack()\n",
    "\n",
    "print(\"Number of nights after outlier removal: {}\".format(len(imu_data.unstack())))"
   ]
  },
  {
   "cell_type": "code",
   "execution_count": null,
   "metadata": {},
   "outputs": [],
   "source": [
    "max_pos = imu_data.filter(like=\"sm_max_position\", axis=0)\n",
    "\n",
    "imu_data_plot = imu_data.copy()\n",
    "imu_data_plot.loc[max_pos.index] = max_pos.transform(lambda df: -(1 - df) * 30)\n",
    "\n",
    "imu_data_plot"
   ]
  },
  {
   "cell_type": "markdown",
   "metadata": {},
   "source": [
    "## Plots and Statistics"
   ]
  },
  {
   "cell_type": "code",
   "execution_count": null,
   "metadata": {},
   "outputs": [],
   "source": [
    "condition_order = [\"Spontaneous\", \"Known Alarm\", \"Unknown Alarm\"]"
   ]
  },
  {
   "cell_type": "markdown",
   "metadata": {},
   "source": [
    "### Class Distribution"
   ]
  },
  {
   "cell_type": "code",
   "execution_count": null,
   "metadata": {},
   "outputs": [],
   "source": [
    "describe_groups_df(imu_data_plot, \"condition\", order=condition_order)"
   ]
  },
  {
   "cell_type": "markdown",
   "metadata": {},
   "source": [
    "### IMU Data"
   ]
  },
  {
   "cell_type": "markdown",
   "metadata": {},
   "source": [
    "#### Statistics"
   ]
  },
  {
   "cell_type": "code",
   "execution_count": null,
   "metadata": {},
   "outputs": [],
   "source": [
    "variable = \"condition\"\n",
    "\n",
    "pipeline = stats_pipeline_imu_features(imu_data_plot, variable=variable)\n",
    "pipeline.display_results(posthoc=True, sig_only=\"posthoc\")\n",
    "if export:\n",
    "    pipeline.export_statistics(stats_path.joinpath(f\"stats_imu_features_{variable}.xlsx\"))"
   ]
  },
  {
   "cell_type": "markdown",
   "metadata": {},
   "source": [
    "#### Plots"
   ]
  },
  {
   "cell_type": "code",
   "execution_count": null,
   "metadata": {},
   "outputs": [],
   "source": [
    "hue = \"condition\"\n",
    "\n",
    "ylabels = {\"sm_max_60\": \"Duration [s]\", \"sm_max_position\": \"Time before Awak. [min]\", \"sm_std_60\": \"Duration [s]\"}\n",
    "\n",
    "xticklabels = {\n",
    "    \"sm_max_60\": r\"$sp_{max}$\",\n",
    "    \"sm_max_position\": r\"$t(sp_{max})$\",\n",
    "    \"sm_std_60\": r\"$\\sigma_{sp}$\",\n",
    "}\n",
    "\n",
    "features = [\"sm_max_60\", \"sm_max_position\", \"sm_std_60\"]\n",
    "box_pairs, pvals = pipeline.sig_brackets(\n",
    "    \"posthoc\", stats_effect_type=\"between\", plot_type=\"multi\", x=\"imu_feature\", subplots=True, features=features\n",
    ")\n",
    "\n",
    "sns.set_theme(**theme_kwargs_scale)\n",
    "fig, axs = plt.subplots(figsize=(12, 5), ncols=len(features))\n",
    "bp.plotting.multi_feature_boxplot(\n",
    "    data=imu_data_plot,\n",
    "    x=\"imu_feature\",\n",
    "    y=\"data\",\n",
    "    group=\"imu_feature\",\n",
    "    hue=hue,\n",
    "    features=features,\n",
    "    hue_order=condition_order,\n",
    "    ylabels=ylabels,\n",
    "    xticklabels=xticklabels,\n",
    "    stats_kwargs={\"box_pairs\": box_pairs, \"pvalues\": pvals, \"text_offset\": -8, \"verbose\": False},\n",
    "    axs=axs,\n",
    "    legend_fontsize=\"small\",\n",
    "    legend_orientation=\"horizontal\",\n",
    "    legend_loc=\"upper center\",\n",
    "    width=0.9,\n",
    "    saturation=1.0,\n",
    ")\n",
    "\n",
    "axs[1].set_ylim([-32.5, 2.5])\n",
    "fig.tight_layout(rect=(0, 0, 1.0, 0.88), pad=pad)\n",
    "\n",
    "if export:\n",
    "    [fig.savefig(p.joinpath(f\"img_boxplots_imu_{hue}.pdf\"), transparent=True) for p in [plot_path, paper_img_path]]"
   ]
  },
  {
   "cell_type": "markdown",
   "metadata": {},
   "source": [
    "#### Plots for Presentation"
   ]
  },
  {
   "cell_type": "code",
   "execution_count": null,
   "metadata": {},
   "outputs": [],
   "source": [
    "hue = \"condition\"\n",
    "\n",
    "ylabels = {\n",
    "    \"sm_max_60\": \"Duration [s]\",\n",
    "    \"sm_max_position\": \"Time before Awak. [min]\",\n",
    "    \"sm_std_60\": \"Duration [s]\",\n",
    "    \"sm_mean_60\": \"Duration [s]\",\n",
    "}\n",
    "\n",
    "xticklabels = {\n",
    "    \"sm_max_60\": r\"$sp_{max}$\",\n",
    "    \"sm_max_position\": r\"$t(sp_{max})$\",\n",
    "    \"sm_std_60\": r\"$\\sigma_{sp}$\",\n",
    "    \"sm_mean_60\": r\"$\\mu_{sp}$\",\n",
    "}\n",
    "\n",
    "features = [\"sm_max_60\", \"sm_max_position\", \"sm_mean_60\", \"sm_std_60\"]\n",
    "box_pairs, pvals = pipeline.sig_brackets(\n",
    "    \"posthoc\", stats_effect_type=\"between\", plot_type=\"multi\", x=\"imu_feature\", subplots=True, features=features\n",
    ")\n",
    "\n",
    "sns.set_theme(**theme_kwargs_scale)\n",
    "fig, axs = plt.subplots(figsize=(16, 7), ncols=len(features))\n",
    "bp.plotting.multi_feature_boxplot(\n",
    "    x=\"imu_feature\",\n",
    "    y=\"data\",\n",
    "    group=\"imu_feature\",\n",
    "    data=imu_data_plot,\n",
    "    hue=hue,\n",
    "    features=features,\n",
    "    hue_order=condition_order,\n",
    "    ylabels=ylabels,\n",
    "    xticklabels=xticklabels,\n",
    "    stats_kwargs={\"box_pairs\": box_pairs, \"pvalues\": pvals, \"text_offset\": -8, \"verbose\": False},\n",
    "    axs=axs,\n",
    "    legend_fontsize=\"small\",\n",
    "    legend_orientation=\"horizontal\",\n",
    "    legend_loc=\"upper center\",\n",
    "    width=0.9,\n",
    "    saturation=1.0,\n",
    ")\n",
    "\n",
    "axs[1].set_ylim([-32.5, 2.5])\n",
    "fig.tight_layout(rect=(0, 0, 1.0, 0.85), pad=pad)\n",
    "\n",
    "if export:\n",
    "    fig.savefig(plot_path.joinpath(f\"img_boxplots_imu_{hue}_presentation.pdf\"), transparent=True)"
   ]
  },
  {
   "cell_type": "code",
   "execution_count": null,
   "metadata": {},
   "outputs": [],
   "source": []
  }
 ],
 "metadata": {
  "kernelspec": {
   "display_name": "carwatch-analysis",
   "language": "python",
   "name": "carwatch-analysis"
  },
  "language_info": {
   "codemirror_mode": {
    "name": "ipython",
    "version": 3
   },
   "file_extension": ".py",
   "mimetype": "text/x-python",
   "name": "python",
   "nbconvert_exporter": "python",
   "pygments_lexer": "ipython3",
   "version": "3.8.3"
  }
 },
 "nbformat": 4,
 "nbformat_minor": 4
}
