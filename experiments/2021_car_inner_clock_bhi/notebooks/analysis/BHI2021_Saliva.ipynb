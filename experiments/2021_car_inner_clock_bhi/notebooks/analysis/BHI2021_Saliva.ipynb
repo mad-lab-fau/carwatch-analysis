{
 "cells": [
  {
   "cell_type": "markdown",
   "metadata": {},
   "source": [
    "# Saliva Analysis – BHI 2021"
   ]
  },
  {
   "cell_type": "markdown",
   "metadata": {},
   "source": [
    "Saliva Analysis for the Paper \"Assessing the Influence of the Inner Clock on the Cortisol Awakening Response and Pre-Awakening Movement\" (BHI 2021)"
   ]
  },
  {
   "cell_type": "markdown",
   "metadata": {},
   "source": [
    "## Setup"
   ]
  },
  {
   "cell_type": "code",
   "execution_count": null,
   "metadata": {},
   "outputs": [],
   "source": [
    "import json\n",
    "from pathlib import Path\n",
    "\n",
    "import pandas as pd\n",
    "import numpy as np\n",
    "import pingouin as pg\n",
    "\n",
    "import matplotlib.pyplot as plt\n",
    "import seaborn as sns\n",
    "\n",
    "from fau_colors.v2019 import cmaps\n",
    "\n",
    "import biopsykit as bp\n",
    "from biopsykit.io import load_long_format_csv\n",
    "from biopsykit.utils.dataframe_handling import multi_xs\n",
    "from biopsykit.stats import StatsPipeline\n",
    "from biopsykit.protocols import CAR\n",
    "\n",
    "from carwatch_analysis.utils import describe_groups_df\n",
    "from carwatch_analysis.plotting import boxplot_saliva_features\n",
    "from carwatch_analysis.stats import (\n",
    "    create_unique_night_id, stats_pipeline_saliva_samples, stats_pipeline_saliva_features\n",
    ")\n",
    "\n",
    "\n",
    "%matplotlib widget\n",
    "%load_ext autoreload\n",
    "%autoreload 2"
   ]
  },
  {
   "cell_type": "code",
   "execution_count": null,
   "metadata": {},
   "outputs": [],
   "source": [
    "pg.options[\"round\"] = 3\n",
    "\n",
    "palette = cmaps.faculties\n",
    "\n",
    "theme_kwargs = {\n",
    "    \"context\": \"talk\",\n",
    "    \"style\": \"ticks\",\n",
    "    \"palette\": palette\n",
    "}\n",
    "theme_kwargs_scale = {\n",
    "    \"context\": \"talk\",\n",
    "    \"style\": \"ticks\",\n",
    "    \"palette\": palette,\n",
    "    \"font_scale\": 1.25\n",
    "}\n",
    "\n",
    "sns.set_theme(**theme_kwargs)\n",
    "#plt.rcParams[\"figure.figsize\"] = (15,5)\n",
    "plt.rcParams[\"figure.figsize\"] = (10,5)\n",
    "plt.rcParams[\"mathtext.default\"] = \"regular\"\n",
    "plt.rcParams[\"pdf.fonttype\"] = 42\n",
    "plt.close(\"all\")\n",
    "\n",
    "pad = 0.2\n",
    "\n",
    "export = True\n",
    "palette"
   ]
  },
  {
   "cell_type": "code",
   "execution_count": null,
   "metadata": {},
   "outputs": [],
   "source": [
    "base_path = Path(\"../..\")\n",
    "export_path = base_path.joinpath(\"exports\")\n",
    "result_path = base_path.joinpath(\"results\")\n",
    "plot_path = result_path.joinpath(\"plots\")\n",
    "stats_path = result_path.joinpath(\"statistics\")\n",
    "\n",
    "paper_path = Path(json.load(Path(\"../paper_path.json\").open(encoding=\"utf-8\"))[\"paper_path\"])\n",
    "paper_img_path = paper_path.joinpath(\"img\")\n",
    "\n",
    "bp.utils.file_handling.mkdirs([result_path, plot_path, stats_path, paper_img_path])"
   ]
  },
  {
   "cell_type": "markdown",
   "metadata": {},
   "source": [
    "## Data Import"
   ]
  },
  {
   "cell_type": "code",
   "execution_count": null,
   "metadata": {},
   "outputs": [],
   "source": [
    "sample_times = [i*15 for i in range(5)]\n",
    "car = CAR()"
   ]
  },
  {
   "cell_type": "markdown",
   "metadata": {},
   "source": [
    "### Raw Cortisol"
   ]
  },
  {
   "cell_type": "code",
   "execution_count": null,
   "metadata": {},
   "outputs": [],
   "source": [
    "cort_samples = load_long_format_csv(export_path.joinpath(\"cortisol_samples_cleaned.csv\")).reset_index(\"cortisol\")\n",
    "cort_samples = create_unique_night_id(cort_samples)\n",
    "cort_samples.head()"
   ]
  },
  {
   "cell_type": "markdown",
   "metadata": {},
   "source": [
    "### Cortsol Features"
   ]
  },
  {
   "cell_type": "code",
   "execution_count": null,
   "metadata": {},
   "outputs": [],
   "source": [
    "cort_features = load_long_format_csv(export_path.joinpath(\"cortisol_features_cleaned.csv\"))\n",
    "cort_features.head()"
   ]
  },
  {
   "cell_type": "code",
   "execution_count": null,
   "metadata": {},
   "outputs": [],
   "source": [
    "car.add_saliva_data(cort_samples, saliva_type=\"cortisol\", sample_times=sample_times)"
   ]
  },
  {
   "cell_type": "markdown",
   "metadata": {},
   "source": [
    "## Plots and Statistics"
   ]
  },
  {
   "cell_type": "code",
   "execution_count": null,
   "metadata": {},
   "outputs": [],
   "source": [
    "condition_order = [\"Spontaneous\", \"Known Alarm\", \"Unknown Alarm\"]"
   ]
  },
  {
   "cell_type": "markdown",
   "metadata": {},
   "source": [
    "### Subjects after Cleaning"
   ]
  },
  {
   "cell_type": "code",
   "execution_count": null,
   "metadata": {},
   "outputs": [],
   "source": [
    "subjects = cort_samples.index.get_level_values(\"subject\").unique()\n",
    "len(subjects)"
   ]
  },
  {
   "cell_type": "markdown",
   "metadata": {},
   "source": [
    "### Class Distribution"
   ]
  },
  {
   "cell_type": "code",
   "execution_count": null,
   "metadata": {},
   "outputs": [],
   "source": [
    "describe_groups_df(cort_samples, \"condition\", order=condition_order)"
   ]
  },
  {
   "cell_type": "markdown",
   "metadata": {},
   "source": [
    "### Raw Cortisol"
   ]
  },
  {
   "cell_type": "markdown",
   "metadata": {},
   "source": [
    "#### Statistics"
   ]
  },
  {
   "cell_type": "code",
   "execution_count": null,
   "metadata": {},
   "outputs": [],
   "source": [
    "variable = \"condition\"\n",
    "\n",
    "pipeline = stats_pipeline_saliva_samples(cort_samples, variable=variable)\n",
    "pipeline.display_results(posthoc=False)\n",
    "if export:\n",
    "    pipeline.export_statistics(stats_path.joinpath(f\"stats_cortisol_raw_{variable}.xlsx\"))"
   ]
  },
  {
   "cell_type": "markdown",
   "metadata": {},
   "source": [
    "#### Plots"
   ]
  },
  {
   "cell_type": "code",
   "execution_count": null,
   "metadata": {},
   "outputs": [],
   "source": [
    "hue = \"condition\"\n",
    "\n",
    "sns.set_theme(**theme_kwargs_scale)\n",
    "fig, ax = plt.subplots(figsize=(10, 4.5))\n",
    "car.car_saliva_plot(saliva_type=\"cortisol\", hue=hue, hue_order=condition_order, ax=ax, legend_fontsize=\"small\")\n",
    "\n",
    "fig.tight_layout(pad=pad)\n",
    "if export:\n",
    "    [fig.savefig(p.joinpath(f\"img_car_raw_{hue}.pdf\"), transparent=True) for p in [plot_path, paper_img_path]]"
   ]
  },
  {
   "cell_type": "markdown",
   "metadata": {},
   "source": [
    "#### Plots for Presentation"
   ]
  },
  {
   "cell_type": "code",
   "execution_count": null,
   "metadata": {},
   "outputs": [],
   "source": [
    "hue = \"condition\"\n",
    "\n",
    "sns.set_theme(**theme_kwargs_scale)\n",
    "fig, ax = plt.subplots(figsize=(10, 7))\n",
    "car.car_saliva_plot(saliva_type=\"cortisol\", hue=hue, hue_order=condition_order, ax=ax, legend_fontsize=\"small\")\n",
    "\n",
    "fig.tight_layout(pad=pad)\n",
    "if export:\n",
    "    fig.savefig(plot_path.joinpath(\"img_car_raw_condition_presentation.pdf\"), transparent=True)"
   ]
  },
  {
   "cell_type": "markdown",
   "metadata": {},
   "source": [
    "### Cortisol Features"
   ]
  },
  {
   "cell_type": "markdown",
   "metadata": {},
   "source": [
    "#### Statistics"
   ]
  },
  {
   "cell_type": "code",
   "execution_count": null,
   "metadata": {},
   "outputs": [],
   "source": [
    "variable = \"condition\"\n",
    "\n",
    "pipeline = stats_pipeline_saliva_features(cort_features, variable=variable, equal_var=True)\n",
    "pipeline.display_results(posthoc=True, sig_only=\"posthoc\", grouped=False)\n",
    "if export:\n",
    "    pipeline.export_statistics(stats_path.joinpath(f\"stats_cortisol_features_{variable}.xlsx\"))"
   ]
  },
  {
   "cell_type": "markdown",
   "metadata": {},
   "source": [
    "#### Plots"
   ]
  },
  {
   "cell_type": "code",
   "execution_count": null,
   "metadata": {},
   "outputs": [],
   "source": [
    "features = {\n",
    "    \"auc\": [\"auc_i\", \"auc_g\"],\n",
    "    \"slope\": \"slopeS0S3\",\n",
    "    \"max_inc\": \"max_inc\"\n",
    "}\n",
    "hue = \"condition\"\n",
    "\n",
    "box_pairs, pvals = pipeline.sig_brackets(\n",
    "    \"posthoc\", \n",
    "    stats_effect_type=\"between\", \n",
    "    plot_type=\"multi\", \n",
    "    x=\"saliva_feature\", \n",
    "    subplots=True, \n",
    "    features=features\n",
    ")\n",
    "\n",
    "sns.set_theme(**theme_kwargs_scale)\n",
    "fig, axs = plt.subplots(figsize=(12,5), ncols=len(features))\n",
    "car.saliva_multi_feature_boxplot(\n",
    "    data=cort_features,\n",
    "    saliva_type=\"cortisol\", \n",
    "    hue=hue, \n",
    "    features=features, \n",
    "    hue_order=condition_order, \n",
    "    stats_kwargs={\n",
    "        \"box_pairs\": box_pairs, \n",
    "        \"pvalues\": pvals,\n",
    "        \"text_offset\": -8\n",
    "    },\n",
    "    ax=axs, \n",
    "    legend_fontsize=\"small\", \n",
    "    legend_orientation=\"horizontal\", \n",
    "    legend_loc=\"upper center\",\n",
    "    width=0.9,\n",
    "    saturation=1.0\n",
    ")\n",
    "fig.tight_layout(rect=(0, 0, 1.0, 0.88), pad=pad)\n",
    "\n",
    "if export:\n",
    "    [fig.savefig(p.joinpath(f\"img_boxplots_car_{hue}.pdf\"), transparent=True) for p in [plot_path, paper_img_path]]"
   ]
  },
  {
   "cell_type": "markdown",
   "metadata": {},
   "source": [
    "#### Plots for Presentation"
   ]
  },
  {
   "cell_type": "code",
   "execution_count": null,
   "metadata": {},
   "outputs": [],
   "source": [
    "features = {\n",
    "    \"auc\": [\"auc_i\", \"auc_g\"],\n",
    "    \"slope\": \"slopeS0S3\",\n",
    "    \"max_inc\": \"max_inc\"\n",
    "}\n",
    "hue = \"condition\"\n",
    "\n",
    "box_pairs, pvals = pipeline.sig_brackets(\n",
    "    \"posthoc\", \n",
    "    stats_effect_type=\"between\", \n",
    "    plot_type=\"multi\", \n",
    "    x=\"saliva_feature\", \n",
    "    subplots=True, \n",
    "    features=features\n",
    ")\n",
    "\n",
    "sns.set_theme(**theme_kwargs_scale)\n",
    "fig, axs = plt.subplots(figsize=(11,7), ncols=len(features))\n",
    "car.saliva_multi_feature_boxplot(\n",
    "    data=cort_features,\n",
    "    saliva_type=\"cortisol\", \n",
    "    hue=hue, \n",
    "    features=features, \n",
    "    hue_order=condition_order, \n",
    "    stats_kwargs={\n",
    "        \"box_pairs\": box_pairs, \n",
    "        \"pvalues\": pvals,\n",
    "        \"text_offset\": -8\n",
    "    },\n",
    "    ax=axs, \n",
    "    legend_fontsize=\"small\", \n",
    "    legend_orientation=\"horizontal\", \n",
    "    legend_loc=\"upper center\",\n",
    "    width=0.9,\n",
    "    saturation=1.0\n",
    ")\n",
    "fig.tight_layout(rect=(0, 0, 1.0, 0.85), pad=pad)\n",
    "\n",
    "if export:\n",
    "    fig.savefig(plot_path.joinpath(f\"img_boxplots_car_{hue}_presentation.pdf\"), transparent=True)"
   ]
  },
  {
   "cell_type": "code",
   "execution_count": null,
   "metadata": {},
   "outputs": [],
   "source": []
  }
 ],
 "metadata": {
  "kernelspec": {
   "display_name": "carwatch-analysis",
   "language": "python",
   "name": "carwatch-analysis"
  },
  "language_info": {
   "codemirror_mode": {
    "name": "ipython",
    "version": 3
   },
   "file_extension": ".py",
   "mimetype": "text/x-python",
   "name": "python",
   "nbconvert_exporter": "python",
   "pygments_lexer": "ipython3",
   "version": "3.8.3"
  }
 },
 "nbformat": 4,
 "nbformat_minor": 4
}
