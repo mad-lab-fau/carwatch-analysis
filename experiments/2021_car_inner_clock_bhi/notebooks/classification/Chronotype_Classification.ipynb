{
 "cells": [
  {
   "cell_type": "markdown",
   "metadata": {},
   "source": [
    "# Chronotype Classification"
   ]
  },
  {
   "cell_type": "code",
   "execution_count": null,
   "metadata": {},
   "outputs": [],
   "source": [
    "from pathlib import Path\n",
    "\n",
    "import pandas as pd\n",
    "import numpy as np\n",
    "\n",
    "from biopsykit.classification.utils import prepare_df_sklearn, split_train_test\n",
    "\n",
    "import matplotlib.pyplot as plt\n",
    "import seaborn as sns\n",
    "\n",
    "from sklearn.pipeline import Pipeline\n",
    "from sklearn.preprocessing import MinMaxScaler\n",
    "from sklearn.decomposition import PCA, KernelPCA\n",
    "from sklearn.feature_selection import SelectKBest, f_classif\n",
    "from sklearn.model_selection import LeaveOneGroupOut, StratifiedKFold, GroupKFold, GridSearchCV, cross_validate\n",
    "from sklearn.metrics import confusion_matrix, ConfusionMatrixDisplay\n",
    "\n",
    "\n",
    "from tqdm.notebook import tqdm\n",
    "\n",
    "%matplotlib widget\n",
    "%load_ext autoreload\n",
    "%autoreload 2"
   ]
  },
  {
   "cell_type": "code",
   "execution_count": null,
   "metadata": {},
   "outputs": [],
   "source": [
    "export_path = Path(\"../../exports\")\n",
    "result_path = Path(\"../../results/classification\")\n",
    "result_path.mkdir(exist_ok=True, parents=True)"
   ]
  },
  {
   "cell_type": "code",
   "execution_count": null,
   "metadata": {},
   "outputs": [],
   "source": [
    "data = pd.read_csv(export_path.joinpath(\"chronotype_features_complete.csv\"), index_col=['subject', 'night'])\n",
    "data.head()"
   ]
  },
  {
   "cell_type": "code",
   "execution_count": null,
   "metadata": {},
   "outputs": [],
   "source": [
    "data.columns"
   ]
  },
  {
   "cell_type": "markdown",
   "metadata": {},
   "source": [
    "### Data Selection"
   ]
  },
  {
   "cell_type": "markdown",
   "metadata": {},
   "source": [
    "Drop Label '2' (Evening Type)"
   ]
  },
  {
   "cell_type": "code",
   "execution_count": null,
   "metadata": {},
   "outputs": [],
   "source": [
    "data.rename(columns={'within_ideal_bed_time': 'label'}, inplace=True)\n",
    "data.set_index('label', append=True, inplace=True)"
   ]
  },
  {
   "cell_type": "code",
   "execution_count": null,
   "metadata": {},
   "outputs": [],
   "source": [
    "#data = data.drop(0.0, level='label')"
   ]
  },
  {
   "cell_type": "markdown",
   "metadata": {},
   "source": [
    "## Functions"
   ]
  },
  {
   "cell_type": "code",
   "execution_count": null,
   "metadata": {},
   "outputs": [],
   "source": [
    "def evaluate_model(X, y, groups, params, pipeline, scoring='f1'):\n",
    "    results_dict = {key: [] for key in ['cv_results', 'test_score', 'best_estimator', 'conf_matrix']}\n",
    "    cv = LeaveOneGroupOut()\n",
    "    outer_cv = GroupKFold(n_splits=5)\n",
    "    plt.ioff()\n",
    "    for train, test in tqdm(list(outer_cv.split(X, y, groups))):\n",
    "        X_train, X_test, y_train, y_test, groups_train, groups_test = split_train_test(X, y, train, test, groups)\n",
    "        grid = GridSearchCV(pipeline, param_grid=params, cv=cv.split(X_train, y_train, groups_train), scoring=scoring, n_jobs=-1, verbose=True)\n",
    "        grid.fit(X_train, y_train)\n",
    "        \n",
    "        conf_matrix = confusion_matrix(y_test, grid.predict(X_test), normalize='true')\n",
    "        results_dict['test_score'].append(grid.score(X_test, y_test))\n",
    "        results_dict['cv_results'].append(grid.cv_results_)\n",
    "        results_dict['best_estimator'].append(grid.best_estimator_)\n",
    "        results_dict['conf_matrix'].append(conf_matrix)\n",
    "        \n",
    "    plt.ion()\n",
    "    \n",
    "    return results_dict"
   ]
  },
  {
   "cell_type": "markdown",
   "metadata": {},
   "source": [
    "## Classification"
   ]
  },
  {
   "cell_type": "code",
   "execution_count": null,
   "metadata": {},
   "outputs": [],
   "source": [
    "X, y, groups, group_keys = prepare_df_sklearn(data, print_summary=True)\n",
    "#y = y - 1\n",
    "#y"
   ]
  },
  {
   "cell_type": "code",
   "execution_count": null,
   "metadata": {},
   "outputs": [],
   "source": [
    "X_scale = MinMaxScaler().fit_transform(X)\n",
    "pca = PCA(n_components=2)\n",
    "X_trans = pca.fit_transform(X_scale)"
   ]
  },
  {
   "cell_type": "code",
   "execution_count": null,
   "metadata": {},
   "outputs": [],
   "source": [
    "df_test = pd.DataFrame(X_trans, index=y)"
   ]
  },
  {
   "cell_type": "code",
   "execution_count": null,
   "metadata": {},
   "outputs": [],
   "source": [
    "g = sns.pairplot(data=df_test.reset_index(), hue='index')"
   ]
  },
  {
   "cell_type": "markdown",
   "metadata": {},
   "source": [
    "### kNN"
   ]
  },
  {
   "cell_type": "code",
   "execution_count": null,
   "metadata": {},
   "outputs": [],
   "source": [
    "from sklearn.neighbors import KNeighborsClassifier"
   ]
  },
  {
   "cell_type": "code",
   "execution_count": null,
   "metadata": {},
   "outputs": [],
   "source": [
    "pipeline_knn = Pipeline([('scale', MinMaxScaler()), ('reduce_dim', 'passthrough'), ('clf', KNeighborsClassifier())])"
   ]
  },
  {
   "cell_type": "code",
   "execution_count": null,
   "metadata": {},
   "outputs": [],
   "source": [
    "N_COMPONENTS_OPTIONS = [2, 4, 8, None]\n",
    "K_OPTIONS = [2, 4, 8, 'all']\n",
    "N_NEIGHBORS_OPTIONS = np.arange(3, 12, 2)\n",
    "\n",
    "params_knn = [\n",
    "    {\n",
    "        'reduce_dim': [PCA()],\n",
    "        'reduce_dim__n_components': N_COMPONENTS_OPTIONS,\n",
    "        'clf__n_neighbors': N_NEIGHBORS_OPTIONS,\n",
    "    },\n",
    "    {\n",
    "        'reduce_dim': [SelectKBest()],\n",
    "        'reduce_dim__k': K_OPTIONS,\n",
    "        'clf__n_neighbors': N_NEIGHBORS_OPTIONS,\n",
    "    }\n",
    "]"
   ]
  },
  {
   "cell_type": "code",
   "execution_count": null,
   "metadata": {},
   "outputs": [],
   "source": [
    "results_dict_knn = evaluate_model(X, y, groups, params_knn, pipeline_knn, 'f1')"
   ]
  },
  {
   "cell_type": "code",
   "execution_count": null,
   "metadata": {},
   "outputs": [],
   "source": [
    "mean_score = np.mean(results_dict_knn['test_score'])\n",
    "mean_score"
   ]
  },
  {
   "cell_type": "code",
   "execution_count": null,
   "metadata": {},
   "outputs": [],
   "source": [
    "fig, ax = plt.subplots()\n",
    "ConfusionMatrixDisplay(results_dict_knn['conf_matrix'][0]).plot(cmap=plt.cm.Blues, ax=ax)"
   ]
  },
  {
   "cell_type": "markdown",
   "metadata": {},
   "source": [
    "### Decision Tree"
   ]
  },
  {
   "cell_type": "code",
   "execution_count": null,
   "metadata": {},
   "outputs": [],
   "source": [
    "from sklearn.tree import DecisionTreeClassifier"
   ]
  },
  {
   "cell_type": "code",
   "execution_count": null,
   "metadata": {},
   "outputs": [],
   "source": [
    "pipeline_dt = Pipeline([('scale', MinMaxScaler()), ('clf', DecisionTreeClassifier())])"
   ]
  },
  {
   "cell_type": "code",
   "execution_count": null,
   "metadata": {},
   "outputs": [],
   "source": [
    "params_dt = {\n",
    "    'clf__criterion': ['entropy'],\n",
    "    'clf__max_depth': np.append(np.arange(3, 10), None),\n",
    "    'clf__min_samples_split': np.arange(0.01, 0.1, 0.02),\n",
    "    'clf__min_samples_leaf': np.arange(0.01, 0.05, 0.01),\n",
    "    'clf__max_features': [None, 'log2']\n",
    "}"
   ]
  },
  {
   "cell_type": "code",
   "execution_count": null,
   "metadata": {},
   "outputs": [],
   "source": [
    "results_dict_dt = evaluate_model(X, y, groups, params_dt, pipeline_dt, 'f1')"
   ]
  },
  {
   "cell_type": "code",
   "execution_count": null,
   "metadata": {},
   "outputs": [],
   "source": [
    "mean_score = np.mean(results_dict_dt['test_score'])\n",
    "mean_score"
   ]
  },
  {
   "cell_type": "markdown",
   "metadata": {},
   "source": [
    "### SVM"
   ]
  },
  {
   "cell_type": "code",
   "execution_count": null,
   "metadata": {},
   "outputs": [],
   "source": [
    "from sklearn.svm import SVC"
   ]
  },
  {
   "cell_type": "code",
   "execution_count": null,
   "metadata": {},
   "outputs": [],
   "source": [
    "pipeline_svm = Pipeline([('scale', MinMaxScaler()), ('reduce_dim', 'passthrough'), ('clf', SVC())])"
   ]
  },
  {
   "cell_type": "code",
   "execution_count": null,
   "metadata": {},
   "outputs": [],
   "source": [
    "C_OPTIONS = np.logspace(start=-4, stop=4, num=9)\n",
    "GAMMA_OPTIONS = np.append(np.logspace(start=-4, stop=3, num=8), 'scale')\n",
    "N_COMPONENTS_OPTIONS = [2]#, 4, 8, None]\n",
    "K_OPTIONS = [2, 4, 8, 'all']\n",
    "\n",
    "params_svm = [\n",
    "    {\n",
    "        'reduce_dim': [PCA()],\n",
    "        'reduce_dim__n_components': N_COMPONENTS_OPTIONS,\n",
    "        'clf__C': C_OPTIONS,\n",
    "        'clf__kernel': ['linear']\n",
    "    },\n",
    "    {\n",
    "        'reduce_dim': [PCA()],\n",
    "        'reduce_dim__n_components': N_COMPONENTS_OPTIONS,\n",
    "        'clf__C': C_OPTIONS,\n",
    "        'clf__gamma': GAMMA_OPTIONS,\n",
    "        'clf__kernel': ['rbf']\n",
    "    },\n",
    "    #{\n",
    "    #    'reduce_dim': [SelectKBest()],\n",
    "    #    'reduce_dim__k': K_OPTIONS,\n",
    "    #    'clf__C': C_OPTIONS,\n",
    "    #    'clf__gamma': GAMMA_OPTIONS,\n",
    "    #    'clf__kernel': ['linear', 'rbf']\n",
    "    #}\n",
    "]"
   ]
  },
  {
   "cell_type": "code",
   "execution_count": null,
   "metadata": {},
   "outputs": [],
   "source": [
    "from sklearn import set_config\n",
    "set_config(display='diagram')   \n",
    "# diplays HTML representation in a jupyter context\n",
    "results_dict_svm['best_estimator'][0]"
   ]
  },
  {
   "cell_type": "code",
   "execution_count": null,
   "metadata": {},
   "outputs": [],
   "source": [
    "results_dict_svm = evaluate_model(X, y, groups, params_svm, pipeline_svm, 'f1')"
   ]
  },
  {
   "cell_type": "code",
   "execution_count": null,
   "metadata": {},
   "outputs": [],
   "source": [
    "mean_score = np.mean(results_dict_svm['test_score'])\n",
    "mean_score"
   ]
  },
  {
   "cell_type": "code",
   "execution_count": null,
   "metadata": {},
   "outputs": [],
   "source": []
  }
 ],
 "metadata": {
  "kernelspec": {
   "display_name": "Python 3",
   "language": "python",
   "name": "python3"
  },
  "language_info": {
   "codemirror_mode": {
    "name": "ipython",
    "version": 3
   },
   "file_extension": ".py",
   "mimetype": "text/x-python",
   "name": "python",
   "nbconvert_exporter": "python",
   "pygments_lexer": "ipython3",
   "version": "3.8.3"
  }
 },
 "nbformat": 4,
 "nbformat_minor": 4
}
