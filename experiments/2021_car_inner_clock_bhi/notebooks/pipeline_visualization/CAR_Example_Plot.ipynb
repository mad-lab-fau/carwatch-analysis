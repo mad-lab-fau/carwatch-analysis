{
 "cells": [
  {
   "cell_type": "markdown",
   "metadata": {},
   "source": [
    "# CAR Example Plots"
   ]
  },
  {
   "cell_type": "code",
   "execution_count": null,
   "metadata": {},
   "outputs": [],
   "source": [
    "import json\n",
    "from pathlib import Path\n",
    "\n",
    "import pandas as pd\n",
    "import numpy as np\n",
    "\n",
    "import biopsykit as bp\n",
    "from biopsykit.io import load_long_format_csv\n",
    "\n",
    "import pingouin as pg\n",
    "\n",
    "import matplotlib.pyplot as plt\n",
    "import seaborn as sns\n",
    "\n",
    "from fau_colors import cmaps\n",
    "from fau_colors import colors\n",
    "\n",
    "from carwatch_analysis.stats import create_unique_night_id\n",
    "\n",
    "%matplotlib widget\n",
    "%load_ext autoreload\n",
    "%autoreload 2"
   ]
  },
  {
   "cell_type": "code",
   "execution_count": null,
   "metadata": {},
   "outputs": [],
   "source": [
    "plt.close(\"all\")\n",
    "\n",
    "palette = sns.color_palette(cmaps.faculties)\n",
    "sns.set_theme(context=\"talk\", style=\"ticks\", palette=palette)\n",
    "\n",
    "plt.rcParams[\"figure.figsize\"] = (10, 5)\n",
    "plt.rcParams[\"pdf.fonttype\"] = 42\n",
    "plt.rcParams[\"mathtext.default\"] = \"regular\"\n",
    "\n",
    "pg.options[\"round\"] = 4\n",
    "\n",
    "tight_kwargs = {\"rect\": (0, 0, 0.825, 1.0), \"pad\": 0.2}\n",
    "legend_kwargs = {\"loc\": \"upper right\", \"bbox_to_anchor\": (1.0, 1.0)}\n",
    "\n",
    "save_fig = True\n",
    "\n",
    "palette"
   ]
  },
  {
   "cell_type": "code",
   "execution_count": null,
   "metadata": {},
   "outputs": [],
   "source": [
    "export_path = Path(\"../../exports\")\n",
    "result_path = Path(\"../../results\")\n",
    "\n",
    "plot_path_car = result_path.joinpath(\"plots/example_car\")\n",
    "\n",
    "plot_path_car.mkdir(exist_ok=True, parents=True)"
   ]
  },
  {
   "cell_type": "markdown",
   "metadata": {},
   "source": [
    "## Cortisol"
   ]
  },
  {
   "cell_type": "code",
   "execution_count": null,
   "metadata": {},
   "outputs": [],
   "source": [
    "cort_samples = load_long_format_csv(export_path.joinpath(\"cortisol_samples_cleaned.csv\")).reset_index(\"cortisol\")\n",
    "cort_samples = create_unique_night_id(cort_samples)\n",
    "\n",
    "cort_samples.head()"
   ]
  },
  {
   "cell_type": "code",
   "execution_count": null,
   "metadata": {},
   "outputs": [],
   "source": [
    "cort_example = cort_samples.xs(\"KS28N\", level=\"subject\").xs(0, level=\"night\")\n",
    "cort_example"
   ]
  },
  {
   "cell_type": "code",
   "execution_count": null,
   "metadata": {},
   "outputs": [],
   "source": [
    "ylabel = \"Cortisol [nmol/l]\"\n",
    "xlabel = \"Time after Awakening [min]\"\n",
    "xticklabels = [i * 15 for i in range(5)]"
   ]
  },
  {
   "cell_type": "code",
   "execution_count": null,
   "metadata": {},
   "outputs": [],
   "source": [
    "fig, ax = plt.subplots()\n",
    "sns.pointplot(\n",
    "    data=cort_example.reset_index(), x=\"time\", y=\"cortisol\", ax=ax, ci=None, err_style=\"bars\", err_kws={\"capsize\": 5}\n",
    ")\n",
    "\n",
    "ax.set_ylabel(ylabel)\n",
    "ax.set_xticklabels(xticklabels)\n",
    "ax.set_xlabel(xlabel)\n",
    "ax.set_ylim([0, 25])\n",
    "fig.tight_layout()\n",
    "\n",
    "if save_fig:\n",
    "    fig.savefig(plot_path_car.joinpath(\"img_car_example.pdf\"), transparent=True)"
   ]
  },
  {
   "cell_type": "code",
   "execution_count": null,
   "metadata": {},
   "outputs": [],
   "source": [
    "fig, ax = plt.subplots(figsize=(10, 5))\n",
    "sns.pointplot(data=cort_samples.reset_index(), x=\"sample\", y=\"cortisol\", ax=ax, ci=\"sd\", err_style=\"bars\", capsize=0.2)\n",
    "ax.set_ylabel(ylabel)\n",
    "ax.set_xticklabels(xticklabels)\n",
    "ax.set_xlabel(xlabel)\n",
    "ax.set_ylim([0, 25])\n",
    "\n",
    "fig.tight_layout()\n",
    "if save_fig:\n",
    "    fig.savefig(plot_path_car.joinpath(\"img_car_mean_sd.pdf\"), transparent=True)"
   ]
  },
  {
   "cell_type": "code",
   "execution_count": null,
   "metadata": {},
   "outputs": [],
   "source": []
  }
 ],
 "metadata": {
  "kernelspec": {
   "display_name": "carwatch-analysis",
   "language": "python",
   "name": "carwatch-analysis"
  },
  "language_info": {
   "codemirror_mode": {
    "name": "ipython",
    "version": 3
   },
   "file_extension": ".py",
   "mimetype": "text/x-python",
   "name": "python",
   "nbconvert_exporter": "python",
   "pygments_lexer": "ipython3",
   "version": "3.8.3"
  }
 },
 "nbformat": 4,
 "nbformat_minor": 4
}
