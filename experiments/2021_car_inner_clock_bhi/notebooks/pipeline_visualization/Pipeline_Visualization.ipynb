{
 "cells": [
  {
   "cell_type": "markdown",
   "metadata": {},
   "source": [
    "# Processing Pipeline Visualizations"
   ]
  },
  {
   "cell_type": "code",
   "execution_count": null,
   "metadata": {},
   "outputs": [],
   "source": [
    "import json\n",
    "from pathlib import Path\n",
    "\n",
    "import pandas as pd\n",
    "import numpy as np\n",
    "\n",
    "import biopsykit as bp\n",
    "\n",
    "import pingouin as pg\n",
    "\n",
    "import matplotlib.pyplot as plt\n",
    "import matplotlib.dates as mdates\n",
    "import matplotlib.ticker as mticks\n",
    "import seaborn as sns\n",
    "\n",
    "from fau_colors import cmaps\n",
    "from fau_colors import colors\n",
    "\n",
    "from biopsykit.signals.imu.wear_detection import WearDetection\n",
    "from biopsykit.sleep.sleep_processing_pipeline import predict_pipeline_acceleration\n",
    "from biopsykit.sleep.plotting import sleep_imu_plot\n",
    "\n",
    "\n",
    "from carwatch_analysis.datasets import CarWatchDatasetRaw\n",
    "from carwatch_analysis.plotting import static_moment_plot\n",
    "\n",
    "%matplotlib widget\n",
    "%load_ext autoreload\n",
    "%autoreload 2"
   ]
  },
  {
   "cell_type": "code",
   "execution_count": null,
   "metadata": {},
   "outputs": [],
   "source": [
    "plt.close(\"all\")\n",
    "\n",
    "palette = sns.color_palette(cmaps.faculties)\n",
    "sns.set_theme(context=\"notebook\", style=\"ticks\", palette=palette)\n",
    "\n",
    "plt.rcParams[\"figure.figsize\"] = (14, 5)\n",
    "plt.rcParams[\"pdf.fonttype\"] = 42\n",
    "plt.rcParams[\"mathtext.default\"] = \"regular\"\n",
    "\n",
    "pg.options[\"round\"] = 4\n",
    "\n",
    "tight_kwargs = {\"rect\": (0, 0, 0.825, 1.0), \"pad\": 0.2}\n",
    "legend_kwargs = {\"loc\": \"upper right\", \"bbox_to_anchor\": (1.0, 1.0)}\n",
    "\n",
    "save_fig = True\n",
    "\n",
    "palette"
   ]
  },
  {
   "cell_type": "markdown",
   "metadata": {},
   "source": [
    "## Setup Paths"
   ]
  },
  {
   "cell_type": "code",
   "execution_count": null,
   "metadata": {},
   "outputs": [],
   "source": [
    "deploy_type = \"local\""
   ]
  },
  {
   "cell_type": "code",
   "execution_count": null,
   "metadata": {},
   "outputs": [],
   "source": [
    "# build path to data folder\n",
    "config_dict = json.load(Path(\"../../../config.json\").open(encoding=\"utf-8\"))\n",
    "base_path = Path(\"..\").joinpath(config_dict[deploy_type][\"base_path\"])\n",
    "base_path"
   ]
  },
  {
   "cell_type": "code",
   "execution_count": null,
   "metadata": {},
   "outputs": [],
   "source": [
    "export_path = Path(\"../../exports\")\n",
    "result_path = Path(\"../../results\")\n",
    "\n",
    "# plot_path_car = result_path.joinpath(\"plots/presentation/example_car\")\n",
    "plot_path_sleep = result_path.joinpath(\"plots/presentation/sleep_processing_pipeline\")\n",
    "plot_path_imu = result_path.joinpath(\"plots/presentation/imu_feature_extraction_pipeline\")\n",
    "\n",
    "for path in [plot_path_sleep, plot_path_imu]:\n",
    "    path.mkdir(exist_ok=True, parents=True)"
   ]
  },
  {
   "cell_type": "code",
   "execution_count": null,
   "metadata": {},
   "outputs": [],
   "source": [
    "dataset = CarWatchDatasetRaw(base_path)\n",
    "dataset"
   ]
  },
  {
   "cell_type": "markdown",
   "metadata": {},
   "source": [
    "## Sleep/Wake Detection"
   ]
  },
  {
   "cell_type": "code",
   "execution_count": null,
   "metadata": {},
   "outputs": [],
   "source": [
    "data = dataset.get_subset(subject=\"AK12I\", night=1).imu\n",
    "fs = dataset.sampling_rate\n",
    "data = data.between_time(\"23:30\", \"07:00\")"
   ]
  },
  {
   "cell_type": "code",
   "execution_count": null,
   "metadata": {},
   "outputs": [],
   "source": [
    "sleep_results = predict_pipeline_acceleration(data, dataset.sampling_rate)\n",
    "sleep_endpoints = sleep_results[\"sleep_endpoints\"]"
   ]
  },
  {
   "cell_type": "code",
   "execution_count": null,
   "metadata": {},
   "outputs": [],
   "source": [
    "major_wear_block = WearDetection.get_major_wear_block(sleep_results[\"wear_detection\"])"
   ]
  },
  {
   "cell_type": "code",
   "execution_count": null,
   "metadata": {},
   "outputs": [],
   "source": [
    "wear_start = major_wear_block[0]\n",
    "wear_stop = major_wear_block[1]"
   ]
  },
  {
   "cell_type": "markdown",
   "metadata": {},
   "source": [
    "### Raw ACC"
   ]
  },
  {
   "cell_type": "code",
   "execution_count": null,
   "metadata": {},
   "outputs": [],
   "source": [
    "fig, ax = plt.subplots()\n",
    "sleep_imu_plot(data, datastreams=[\"acc\"], downsample_factor=10 * fs, ax=ax)\n",
    "\n",
    "ax.legend().remove()\n",
    "fig.legend(**legend_kwargs)\n",
    "fig.tight_layout(**tight_kwargs)\n",
    "\n",
    "if save_fig:\n",
    "    fig.savefig(plot_path_sleep.joinpath(\"img_00_sleep_raw.pdf\"), transparent=True)"
   ]
  },
  {
   "cell_type": "markdown",
   "metadata": {},
   "source": [
    "### Wear Detection"
   ]
  },
  {
   "cell_type": "code",
   "execution_count": null,
   "metadata": {
    "tags": []
   },
   "outputs": [],
   "source": [
    "fig, ax = plt.subplots()\n",
    "sleep_imu_plot(data, datastreams=[\"acc\"], downsample_factor=10 * fs, ax=ax)\n",
    "\n",
    "ax.axvspan(wear_start, wear_stop, color=colors.med, alpha=0.1, label=\"Wear Period\")\n",
    "\n",
    "ax.legend().remove()\n",
    "fig.legend(**legend_kwargs)\n",
    "fig.tight_layout(**tight_kwargs)\n",
    "\n",
    "if save_fig:\n",
    "    fig.savefig(plot_path_sleep.joinpath(\"img_01_sleep_wear_detection.pdf\"), transparent=True)"
   ]
  },
  {
   "cell_type": "markdown",
   "metadata": {},
   "source": [
    "### Bed Interval\n"
   ]
  },
  {
   "cell_type": "code",
   "execution_count": null,
   "metadata": {},
   "outputs": [],
   "source": [
    "data_cut = data.loc[wear_start : (wear_stop - pd.Timedelta(\"1:30:00\"))]"
   ]
  },
  {
   "cell_type": "code",
   "execution_count": null,
   "metadata": {},
   "outputs": [],
   "source": [
    "sleep_results = predict_pipeline_acceleration(data_cut, fs, convert_to_g=True)\n",
    "sleep_endpoints = sleep_results[\"sleep_endpoints\"]"
   ]
  },
  {
   "cell_type": "code",
   "execution_count": null,
   "metadata": {},
   "outputs": [],
   "source": [
    "fig, ax = plt.subplots()\n",
    "sleep_imu_plot(\n",
    "    data,\n",
    "    datastreams=[\"acc\"],\n",
    "    sleep_endpoints=sleep_endpoints,\n",
    "    downsample_factor=10 * fs,\n",
    "    ax=ax,\n",
    "    plot_sleep_onset=False,\n",
    "    plot_wake_onset=False,\n",
    "    plot_sleep_wake=False,\n",
    ")\n",
    "\n",
    "ax.axvspan(wear_start, wear_stop, color=colors.med, alpha=0.1, label=\"Wear Period\", zorder=0)\n",
    "\n",
    "ax.set_title(None)\n",
    "ax.legend().remove()\n",
    "fig.legend(**legend_kwargs)\n",
    "fig.tight_layout(**tight_kwargs)\n",
    "\n",
    "if save_fig:\n",
    "    fig.savefig(plot_path_sleep.joinpath(\"img_02_sleep_mrp.pdf\"), transparent=True)"
   ]
  },
  {
   "cell_type": "markdown",
   "metadata": {},
   "source": [
    "### Sleep/Wake Detection"
   ]
  },
  {
   "cell_type": "code",
   "execution_count": null,
   "metadata": {},
   "outputs": [],
   "source": [
    "fig, ax = plt.subplots()\n",
    "sleep_imu_plot(data, datastreams=[\"acc\"], sleep_endpoints=sleep_endpoints, downsample_factor=10 * fs, ax=ax)\n",
    "\n",
    "ax.axvspan(\n",
    "    major_wear_block[0],\n",
    "    pd.Timestamp(sleep_endpoints[\"sleep_onset\"]),\n",
    "    color=colors.med,\n",
    "    alpha=0.1,\n",
    "    label=\"Wear Period\",\n",
    "    zorder=0,\n",
    ")\n",
    "ax.axvspan(pd.Timestamp(sleep_endpoints[\"wake_onset\"]), major_wear_block[1], color=colors.med, alpha=0.1, zorder=0)\n",
    "\n",
    "ax.set_title(None)\n",
    "ax.legend().remove()\n",
    "fig.legend(**legend_kwargs)\n",
    "fig.tight_layout(**tight_kwargs)\n",
    "\n",
    "if save_fig:\n",
    "    fig.savefig(plot_path_sleep.joinpath(\"img_03_sleep_total.pdf\"), transparent=True)"
   ]
  },
  {
   "cell_type": "markdown",
   "metadata": {},
   "source": [
    "## Sleep/Wake Detection – Subplots"
   ]
  },
  {
   "cell_type": "code",
   "execution_count": null,
   "metadata": {},
   "outputs": [],
   "source": [
    "data = dataset.get_subset(subject=\"AK12I\", night=1).imu\n",
    "fs = dataset.sampling_rate\n",
    "data = data.between_time(\"23:30\", \"06:00\")"
   ]
  },
  {
   "cell_type": "code",
   "execution_count": null,
   "metadata": {},
   "outputs": [],
   "source": [
    "sleep_results = predict_pipeline_acceleration(data, fs, convert_to_g=True)\n",
    "sleep_endpoints = sleep_results[\"sleep_endpoints\"]"
   ]
  },
  {
   "cell_type": "code",
   "execution_count": null,
   "metadata": {},
   "outputs": [],
   "source": [
    "major_wear_block = WearDetection.get_major_wear_block(sleep_results[\"wear_detection\"])\n",
    "wear_start = major_wear_block[0]\n",
    "wear_stop = major_wear_block[1]"
   ]
  },
  {
   "cell_type": "code",
   "execution_count": null,
   "metadata": {},
   "outputs": [],
   "source": [
    "from matplotlib.dates import DateFormatter\n",
    "\n",
    "fig, axs = plt.subplots(figsize=(22, 5), ncols=4, sharey=True)\n",
    "\n",
    "sleep_imu_plot(data, datastreams=[\"acc\"], downsample_factor=10 * fs, ax=axs[0])\n",
    "\n",
    "sleep_imu_plot(data, datastreams=[\"acc\"], downsample_factor=10 * fs, ax=axs[1])\n",
    "axs[1].axvspan(wear_start, wear_stop, color=colors.med, alpha=0.1, label=\"Wear Period\")\n",
    "\n",
    "sleep_imu_plot(\n",
    "    data,\n",
    "    datastreams=[\"acc\"],\n",
    "    sleep_endpoints=sleep_endpoints,\n",
    "    downsample_factor=10 * fs,\n",
    "    ax=axs[2],\n",
    "    plot_sleep_onset=False,\n",
    "    plot_wake_onset=False,\n",
    "    plot_sleep_wake=False,\n",
    ")\n",
    "axs[2].axvspan(wear_start, wear_stop, color=colors.med, alpha=0.1, label=\"Wear Period\", zorder=0)\n",
    "\n",
    "sleep_imu_plot(data, datastreams=[\"acc\"], sleep_endpoints=sleep_endpoints, downsample_factor=10 * fs, ax=axs[3])\n",
    "axs[3].axvspan(\n",
    "    major_wear_block[0],\n",
    "    pd.Timestamp(sleep_endpoints[\"sleep_onset\"]),\n",
    "    color=colors.med,\n",
    "    alpha=0.1,\n",
    "    label=\"Wear Period\",\n",
    "    zorder=0,\n",
    ")\n",
    "axs[3].axvspan(pd.Timestamp(sleep_endpoints[\"wake_onset\"]), major_wear_block[1], color=colors.med, alpha=0.1, zorder=0)\n",
    "\n",
    "for ax in axs:\n",
    "    ax.xaxis.set_major_formatter(DateFormatter(\"%H:%M\"))\n",
    "    h, l = ax.get_legend_handles_labels()\n",
    "    ax.legend().remove()\n",
    "    ax.set_title(None)\n",
    "\n",
    "fig.legend(h, l, **legend_kwargs)\n",
    "fig.tight_layout(pad=0.2, rect=(0, 0, 0.89, 1.0))\n",
    "if save_fig:\n",
    "    fig.savefig(plot_path_sleep.joinpath(\"img_sleep_pipeline_total.pdf\"), transparent=True)"
   ]
  },
  {
   "cell_type": "markdown",
   "metadata": {},
   "source": [
    "## Static Periods Plot"
   ]
  },
  {
   "cell_type": "markdown",
   "metadata": {},
   "source": [
    "### Whole Night"
   ]
  },
  {
   "cell_type": "code",
   "execution_count": null,
   "metadata": {},
   "outputs": [],
   "source": [
    "data = dataset.get_subset(subject=\"AK12I\", night=1).imu\n",
    "fs = dataset.sampling_rate\n",
    "data = data.between_time(\"23:30\", \"07:00\")"
   ]
  },
  {
   "cell_type": "code",
   "execution_count": null,
   "metadata": {},
   "outputs": [],
   "source": [
    "sleep_results = predict_pipeline_acceleration(data, fs, convert_to_g=True)\n",
    "sleep_endpoints = sleep_results[\"sleep_endpoints\"]"
   ]
  },
  {
   "cell_type": "code",
   "execution_count": null,
   "metadata": {},
   "outputs": [],
   "source": [
    "major_wear_block = WearDetection.get_major_wear_block(sleep_results[\"wear_detection\"])"
   ]
  },
  {
   "cell_type": "code",
   "execution_count": null,
   "metadata": {},
   "outputs": [],
   "source": [
    "wear_start = major_wear_block[0]\n",
    "wear_stop = major_wear_block[1]"
   ]
  },
  {
   "cell_type": "code",
   "execution_count": null,
   "metadata": {},
   "outputs": [],
   "source": [
    "fig, ax = plt.subplots()\n",
    "sleep_imu_plot(data, datastreams=[\"acc\"], sleep_endpoints=sleep_endpoints, downsample_factor=10 * fs, ax=ax)\n",
    "ax.set_title(None)\n",
    "fig.tight_layout()"
   ]
  },
  {
   "cell_type": "markdown",
   "metadata": {},
   "source": [
    "### Raw"
   ]
  },
  {
   "cell_type": "code",
   "execution_count": null,
   "metadata": {},
   "outputs": [],
   "source": [
    "data_cut = data.loc[wear_start : (wear_stop - pd.Timedelta(\"1:30:00\"))]\n",
    "\n",
    "sleep_results = predict_pipeline_acceleration(data_cut, fs, convert_to_g=True)\n",
    "sleep_endpoints = sleep_results[\"sleep_endpoints\"]"
   ]
  },
  {
   "cell_type": "code",
   "execution_count": null,
   "metadata": {},
   "outputs": [],
   "source": [
    "wake_onset = pd.to_datetime(sleep_endpoints[\"wake_onset\"])"
   ]
  },
  {
   "cell_type": "code",
   "execution_count": null,
   "metadata": {},
   "outputs": [],
   "source": [
    "data_30 = data.loc[(wake_onset - pd.Timedelta(\"0:30:00\")) : wake_onset]"
   ]
  },
  {
   "cell_type": "code",
   "execution_count": null,
   "metadata": {},
   "outputs": [],
   "source": [
    "fig, ax = plt.subplots(figsize=(7, 5))\n",
    "fig, ax = static_moment_plot(data_30, wake_onset, ax=ax)\n",
    "fig.savefig(plot_path_imu.joinpath(\"img_00_imu_feature_extraction_raw.pdf\"), transparent=True)"
   ]
  },
  {
   "cell_type": "markdown",
   "metadata": {},
   "source": [
    "### Static Moments"
   ]
  },
  {
   "cell_type": "code",
   "execution_count": null,
   "metadata": {},
   "outputs": [],
   "source": [
    "static_moments = bp.signals.imu.static_moment_detection.find_static_moments(\n",
    "    data_30.filter(like=\"gyr\"), threshold=100, window_sec=5, overlap_percent=0.9, sampling_rate=fs\n",
    ")\n",
    "\n",
    "# filter static moments longer than 60s\n",
    "static_moments_mask = static_moments.diff(axis=1)[\"end\"] > 60 * fs\n",
    "static_moments = static_moments.loc[static_moments_mask]\n",
    "\n",
    "# convert indices to timestamps\n",
    "static_moments = static_moments.applymap(lambda val: data_30.index[val])\n",
    "static_moments"
   ]
  },
  {
   "cell_type": "code",
   "execution_count": null,
   "metadata": {},
   "outputs": [],
   "source": [
    "fig, ax = plt.subplots(figsize=(7, 5))\n",
    "fig, ax = static_moment_plot(data_30, wake_onset, static_moments=static_moments, ax=ax)\n",
    "\n",
    "fig.savefig(plot_path_imu.joinpath(\"img_01_imu_feature_extraction_static_moments.pdf\"), transparent=True)"
   ]
  },
  {
   "cell_type": "markdown",
   "metadata": {},
   "source": [
    "### Static Moment Features"
   ]
  },
  {
   "cell_type": "code",
   "execution_count": null,
   "metadata": {},
   "outputs": [],
   "source": [
    "fig, ax = plt.subplots(figsize=(7, 5))\n",
    "fig, ax = static_moment_plot(\n",
    "    data_30, wake_onset, static_moments=static_moments, plot_static_moment_features=True, ax=ax\n",
    ")\n",
    "\n",
    "fig.savefig(plot_path_imu.joinpath(\"img_02_imu_feature_extraction_features.pdf\"), transparent=True)"
   ]
  },
  {
   "cell_type": "code",
   "execution_count": null,
   "metadata": {},
   "outputs": [],
   "source": []
  },
  {
   "cell_type": "code",
   "execution_count": null,
   "metadata": {},
   "outputs": [],
   "source": []
  }
 ],
 "metadata": {
  "kernelspec": {
   "display_name": "carwatch-analysis",
   "language": "python",
   "name": "carwatch-analysis"
  },
  "language_info": {
   "codemirror_mode": {
    "name": "ipython",
    "version": 3
   },
   "file_extension": ".py",
   "mimetype": "text/x-python",
   "name": "python",
   "nbconvert_exporter": "python",
   "pygments_lexer": "ipython3",
   "version": "3.8.3"
  }
 },
 "nbformat": 4,
 "nbformat_minor": 4
}
