{
 "cells": [
  {
   "cell_type": "markdown",
   "id": "e4dd50d4-80c3-4ea6-b05d-48de1cbca2cd",
   "metadata": {
    "pycharm": {
     "name": "#%% md\n"
    }
   },
   "source": [
    "# Cortisol Analysis – All Log Types"
   ]
  },
  {
   "cell_type": "code",
   "execution_count": null,
   "id": "970e48bd-840f-403b-a173-08e0c5bf1fa7",
   "metadata": {
    "pycharm": {
     "name": "#%%\n"
    }
   },
   "outputs": [],
   "source": [
    "from pathlib import Path\n",
    "import json\n",
    "\n",
    "import pandas as pd\n",
    "import numpy as np\n",
    "import pingouin as pg\n",
    "\n",
    "import biopsykit as bp\n",
    "from biopsykit.stats import StatsPipeline\n",
    "from biopsykit.io import load_long_format_csv\n",
    "from biopsykit.utils.dataframe_handling import multi_xs\n",
    "\n",
    "from fau_colors import cmaps\n",
    "\n",
    "import matplotlib.pyplot as plt\n",
    "import seaborn as sns\n",
    "\n",
    "from carwatch_analysis.io import load_cortisol_samples_log_times\n",
    "from carwatch_analysis.utils import describe_groups_df\n",
    "from carwatch_analysis.stats import (\n",
    "    create_unique_night_id\n",
    ")\n",
    "\n",
    "%matplotlib widget\n",
    "%load_ext autoreload\n",
    "%autoreload 2"
   ]
  },
  {
   "cell_type": "code",
   "execution_count": null,
   "id": "90952493-9446-4332-ad23-ae08ce78578e",
   "metadata": {
    "pycharm": {
     "name": "#%%\n"
    }
   },
   "outputs": [],
   "source": [
    "plt.close(\"all\")\n",
    "\n",
    "palette = sns.color_palette(cmaps.faculties)\n",
    "\n",
    "theme_kwargs = {\"context\": \"talk\", \"style\": \"ticks\", \"palette\": palette}\n",
    "theme_kwargs_grid = {\"context\": \"talk\", \"style\": \"ticks\", \"palette\": palette, \"font_scale\": 0.8}\n",
    "sns.set_theme(**theme_kwargs)\n",
    "\n",
    "plt.rcParams[\"figure.figsize\"] = (10, 5)\n",
    "plt.rcParams[\"pdf.fonttype\"] = 42\n",
    "plt.rcParams[\"mathtext.default\"] = \"regular\"\n",
    "\n",
    "export = True\n",
    "\n",
    "pg.options[\"round\"] = 4\n",
    "\n",
    "palette"
   ]
  },
  {
   "cell_type": "markdown",
   "id": "68e63bcf-1055-4d24-98db-0d08150f182c",
   "metadata": {
    "pycharm": {
     "name": "#%% md\n"
    }
   },
   "source": [
    "## Setup Paths"
   ]
  },
  {
   "cell_type": "code",
   "execution_count": null,
   "id": "484ad1f6-4b9c-4b82-9f82-16c1b1150ae4",
   "metadata": {
    "pycharm": {
     "name": "#%%\n"
    }
   },
   "outputs": [],
   "source": [
    "base_path = Path(\"../..\")\n",
    "export_path = base_path.joinpath(\"exports\")\n",
    "#result_path = base_path.joinpath(\"results\")\n",
    "#plot_path = result_path.joinpath(\"plots\")\n",
    "#stats_path = result_path.joinpath(\"statistics\")\n",
    "\n",
    "#bp.utils.file_handling.mkdirs([result_path, plot_path, stats_path])"
   ]
  },
  {
   "cell_type": "markdown",
   "id": "e1b387a5-a762-4215-8f70-a9322667bf4d",
   "metadata": {
    "pycharm": {
     "name": "#%% md\n"
    }
   },
   "source": [
    "## Load Data"
   ]
  },
  {
   "cell_type": "markdown",
   "id": "af7b293c-ae98-494a-915d-35afa0e8ec22",
   "metadata": {
    "pycharm": {
     "name": "#%% md\n"
    }
   },
   "source": [
    "### Cortisol Samples"
   ]
  },
  {
   "cell_type": "code",
   "execution_count": null,
   "id": "bf1a4149-641c-4f69-a3a3-24090261c729",
   "metadata": {
    "pycharm": {
     "name": "#%%\n"
    }
   },
   "outputs": [],
   "source": [
    "cort_path = export_path.joinpath(\"cortisol_samples_processed_all_log_types.csv\")\n",
    "cort_samples = load_cortisol_samples_log_times(cort_path)\n",
    "\n",
    "cort_samples.head()"
   ]
  },
  {
   "cell_type": "markdown",
   "id": "d074cedf-2aa9-4830-ac24-a1aecfe2d4ac",
   "metadata": {
    "pycharm": {
     "name": "#%% md\n"
    }
   },
   "source": [
    "### Cortisol Features"
   ]
  },
  {
   "cell_type": "code",
   "execution_count": null,
   "id": "bc167475-6cb3-4118-b627-c6bc6117e7ca",
   "metadata": {
    "pycharm": {
     "name": "#%%\n"
    }
   },
   "outputs": [],
   "source": [
    "cort_features = load_long_format_csv(export_path.joinpath(\"cortisol_features_processed_all_log_types.csv\"))\n",
    "cort_features = create_unique_night_id(cort_features)\n",
    "cort_features.head()"
   ]
  },
  {
   "cell_type": "code",
   "execution_count": null,
   "id": "cc39c1ee-179e-45bf-a19f-f71a5545eff4",
   "metadata": {
    "pycharm": {
     "name": "#%%\n"
    }
   },
   "outputs": [],
   "source": [
    "conditions = [\"Spontaneous\", \"Known Alarm\", \"Unknown Alarm\"]\n",
    "# Don't consider IMU and IMU_App because the cortisol features are the same as \n",
    "# Selfreport and App since only the wake onset differs, but not the sampling times\n",
    "log_types = [\"Naive\", \"Selfreport\", \"App\"]\n",
    "log_types_full = [\"Naive\", \"Selfreport\", \"App\", \"Sensor_Selfreport\", \"Sensor_App\"]\n",
    "delay_groups = [\"None\", \"Short\", \"Moderate\", \"High\"]"
   ]
  },
  {
   "cell_type": "markdown",
   "id": "be8be710-37f1-4800-b2dd-047d1ffa4721",
   "metadata": {
    "pycharm": {
     "name": "#%% md\n"
    }
   },
   "source": [
    "## Data Selection"
   ]
  },
  {
   "cell_type": "markdown",
   "id": "26948ba0-2160-493f-87a6-00a4c7b0dc83",
   "metadata": {
    "pycharm": {
     "name": "#%% md\n"
    }
   },
   "source": [
    "### Cortisol Samples"
   ]
  },
  {
   "cell_type": "code",
   "execution_count": null,
   "id": "85de54d4-ee22-4149-be99-b23e41e8b780",
   "metadata": {
    "pycharm": {
     "name": "#%%\n"
    }
   },
   "outputs": [],
   "source": [
    "cort_samples = multi_xs(cort_samples, log_types_full, level=\"log_type\")\n",
    "cort_samples.head()"
   ]
  },
  {
   "cell_type": "markdown",
   "id": "bf341563-4181-4bec-b71a-7f186d97eae9",
   "metadata": {
    "pycharm": {
     "name": "#%% md\n"
    }
   },
   "source": [
    "### Cortisol Features"
   ]
  },
  {
   "cell_type": "code",
   "execution_count": null,
   "id": "eec74f2a-bc8c-4420-b3bc-e67bf47a65be",
   "metadata": {
    "pycharm": {
     "name": "#%%\n"
    }
   },
   "outputs": [],
   "source": [
    "cort_features_analysis = cort_features.copy()\n",
    "cort_features_analysis = multi_xs(cort_features_analysis, [\"auc_g\", \"auc_i\"], level=\"saliva_feature\")\n",
    "cort_features_analysis = multi_xs(cort_features_analysis, log_types, level=\"log_type\")\n",
    "cort_features_analysis.head()"
   ]
  },
  {
   "cell_type": "markdown",
   "id": "4ada896c-2c1b-4e4f-8021-3a66344e6c67",
   "metadata": {
    "pycharm": {
     "name": "#%% md\n"
    }
   },
   "source": [
    "## Saliva Samples – CAR Plot"
   ]
  },
  {
   "cell_type": "code",
   "execution_count": null,
   "id": "0f41ed6b-b398-4941-82d2-9f5580a43903",
   "metadata": {
    "pycharm": {
     "name": "#%%\n"
    }
   },
   "outputs": [],
   "source": [
    "car = bp.protocols.CAR()\n",
    "car.add_saliva_data(\n",
    "    saliva_data=cort_samples.drop(\"Naive\", level=\"log_type\"),\n",
    "    saliva_type=\"cortisol\",\n",
    "    sample_times=[0, 15, 30, 45, 60]\n",
    ")"
   ]
  },
  {
   "cell_type": "code",
   "execution_count": null,
   "id": "b486e20b-f2e1-400f-93f5-4fefe12b1e51",
   "metadata": {
    "pycharm": {
     "name": "#%%\n"
    }
   },
   "outputs": [],
   "source": [
    "fig, ax = plt.subplots()\n",
    "\n",
    "car.car_saliva_plot(\n",
    "    saliva_type=\"cortisol\", \n",
    "    hue=\"log_type\", \n",
    "    style=\"log_type\",\n",
    "    #linestyle=[\"-\", \"--\", \"-.\", \":\"],\n",
    "    #marker=[\"o\", \"P\", \"v\", \"s\"],\n",
    "    ax=ax, \n",
    "    hue_order=log_types_full[1:], \n",
    "    x_offset=0.0\n",
    ")\n",
    "fig.tight_layout()"
   ]
  },
  {
   "cell_type": "markdown",
   "id": "1e25c1af",
   "metadata": {
    "tags": [],
    "pycharm": {
     "name": "#%% md\n"
    }
   },
   "source": [
    "## Saliva Features – Statistical Analysis"
   ]
  },
  {
   "cell_type": "markdown",
   "id": "041833cf-6b1b-4ac8-a997-d01d1902214b",
   "metadata": {
    "pycharm": {
     "name": "#%% md\n"
    }
   },
   "source": [
    "### Log Type"
   ]
  },
  {
   "cell_type": "code",
   "execution_count": null,
   "id": "a86daebe-6dc5-41d3-a46e-05a8a0d5633d",
   "metadata": {
    "pycharm": {
     "name": "#%%\n"
    }
   },
   "outputs": [],
   "source": [
    "data_analysis = cort_features_analysis.copy()\n",
    "\n",
    "pipeline = StatsPipeline(\n",
    "    steps=[\n",
    "        (\"prep\", \"normality\"), \n",
    "        (\"prep\", \"equal_var\"), \n",
    "        (\"test\", \"rm_anova\"), \n",
    "        (\"posthoc\", \"pairwise_ttests\")\n",
    "    ],\n",
    "    params={\n",
    "        \"dv\": \"cortisol\", \n",
    "        \"within\": \"log_type\", \n",
    "        \"subject\": \"night_id\",\n",
    "        \"groupby\": \"saliva_feature\",\n",
    "        \"multicomp\": {\"method\": \"bonf\", \"levels\": False}\n",
    "    },\n",
    ")\n",
    "\n",
    "pipeline.apply(data_analysis)\n",
    "pipeline.display_results()"
   ]
  },
  {
   "cell_type": "code",
   "execution_count": null,
   "id": "0ba70706",
   "metadata": {
    "tags": [],
    "pycharm": {
     "name": "#%%\n"
    }
   },
   "outputs": [],
   "source": [
    "box_pairs, pvalues = pipeline.sig_brackets(\n",
    "    \"posthoc\", \n",
    "    stats_effect_type=\"within\", \n",
    "    plot_type=\"single\",\n",
    "    subplots=True,\n",
    "    x=\"log_type\",\n",
    "    features=[\"auc_g\", \"auc_i\"]\n",
    ")\n",
    "\n",
    "fig, axs = plt.subplots(ncols=2)\n",
    "\n",
    "for (feature, data), ax in zip(cort_features_analysis.groupby(\"saliva_feature\"), axs):\n",
    "    bp.protocols.plotting.saliva_feature_boxplot(\n",
    "        data=data, \n",
    "        x=\"log_type\",\n",
    "        saliva_type=\"cortisol\",\n",
    "        feature=feature,\n",
    "        order=log_types,\n",
    "        stats_kwargs={\"box_pairs\": box_pairs[feature], \"pvalues\": pvalues[feature], \"verbose\": 0},\n",
    "        ax=ax\n",
    "    )\n",
    "    ax.set_title(feature)\n",
    "\n",
    "fig.tight_layout()"
   ]
  },
  {
   "cell_type": "markdown",
   "id": "de9d09bc-04fb-462a-9bc1-12dbdde9ab9b",
   "metadata": {
    "pycharm": {
     "name": "#%% md\n"
    }
   },
   "source": [
    "### Interaction Condition x Log Type"
   ]
  },
  {
   "cell_type": "code",
   "execution_count": null,
   "id": "1126c60b-a660-471c-927f-d5bbf67c20f8",
   "metadata": {
    "pycharm": {
     "name": "#%%\n"
    }
   },
   "outputs": [],
   "source": [
    "data_analysis = cort_features_analysis.copy()\n",
    "\n",
    "pipeline = StatsPipeline(\n",
    "    steps=[\n",
    "        (\"prep\", \"normality\"), \n",
    "        (\"prep\", \"equal_var\"), \n",
    "        (\"test\", \"mixed_anova\"), \n",
    "        (\"posthoc\", \"pairwise_ttests\")\n",
    "    ],\n",
    "    params={\n",
    "        \"dv\": \"cortisol\", \n",
    "        \"within\": \"log_type\", \n",
    "        \"between\": \"condition\",\n",
    "        \"subject\": \"night_id\",\n",
    "        \"groupby\": \"saliva_feature\",\n",
    "        \"multicomp\": {\"method\": \"bonf\", \"levels\": None}\n",
    "    },\n",
    ")\n",
    "\n",
    "pipeline.apply(data_analysis)\n",
    "pipeline.display_results(prep=False, posthoc=False)"
   ]
  },
  {
   "cell_type": "markdown",
   "id": "5277f582-7422-4ad6-a4af-2fafab59a047",
   "metadata": {
    "pycharm": {
     "name": "#%% md\n"
    }
   },
   "source": [
    "### Paired Plots"
   ]
  },
  {
   "cell_type": "markdown",
   "id": "e3939c3d-d532-4ac6-bab6-81098df3adc1",
   "metadata": {
    "pycharm": {
     "name": "#%% md\n"
    }
   },
   "source": [
    "#### $AUC_G$"
   ]
  },
  {
   "cell_type": "code",
   "execution_count": null,
   "id": "338e3738-0431-4b2e-9a48-ddda1d647457",
   "metadata": {
    "pycharm": {
     "name": "#%%\n"
    }
   },
   "outputs": [],
   "source": [
    "fig, axs = plt.subplots(ncols=3, sharey=True)\n",
    "\n",
    "data_plot = cort_features_analysis.xs(\"auc_g\", level=\"saliva_feature\")\n",
    "\n",
    "for log_type, ax in zip(log_types[::-1], axs):\n",
    "    order = log_types.copy()\n",
    "    order.remove(log_type)\n",
    "    \n",
    "    data = data_plot.reindex(order, level=\"log_type\")\n",
    "    \n",
    "    pg.plot_paired(\n",
    "        data=data.reset_index(), \n",
    "        dv=\"cortisol\", \n",
    "        within=\"log_type\", \n",
    "        order=order,\n",
    "        subject=\"night_id\", \n",
    "        #boxplot_in_front=True, \n",
    "        pointplot_kwargs={\"alpha\": 0.5},\n",
    "        ax=ax\n",
    "    )\n",
    "\n",
    "fig.suptitle(\"$AUC_G$\")\n",
    "fig.tight_layout()"
   ]
  },
  {
   "cell_type": "markdown",
   "id": "9345ddc1-ed23-4581-8d94-3ca8a9a7b92e",
   "metadata": {
    "pycharm": {
     "name": "#%% md\n"
    }
   },
   "source": [
    "#### $AUC_I$"
   ]
  },
  {
   "cell_type": "code",
   "execution_count": null,
   "id": "60281081-ec01-40ca-bd62-cc0bd8444357",
   "metadata": {
    "pycharm": {
     "name": "#%%\n"
    }
   },
   "outputs": [],
   "source": [
    "fig, axs = plt.subplots(ncols=3, sharey=True)\n",
    "\n",
    "data_plot = cort_features_analysis.xs(\"auc_i\", level=\"saliva_feature\")\n",
    "\n",
    "for log_type, ax in zip(log_types[::-1], axs):\n",
    "    order = log_types.copy()\n",
    "    order.remove(log_type)\n",
    "    \n",
    "    data = data_plot.reindex(order, level=\"log_type\")\n",
    "    \n",
    "    pg.plot_paired(\n",
    "        data=data.reset_index(), \n",
    "        dv=\"cortisol\", \n",
    "        within=\"log_type\", \n",
    "        order=order,\n",
    "        subject=\"night_id\", \n",
    "        #boxplot_in_front=True, \n",
    "        pointplot_kwargs={\"alpha\": 0.5},\n",
    "        ax=ax\n",
    "    )\n",
    "\n",
    "fig.suptitle(\"$AUC_I$\")\n",
    "fig.tight_layout()"
   ]
  },
  {
   "cell_type": "markdown",
   "id": "6c2ef6d4-b8c5-4a45-ad54-47423fd81807",
   "metadata": {
    "pycharm": {
     "name": "#%% md\n"
    }
   },
   "source": [
    "### Increase vs. S2 Time Delay"
   ]
  },
  {
   "cell_type": "markdown",
   "id": "76c9b3ed-be22-4b20-bfa0-c11e9bfc126d",
   "metadata": {
    "pycharm": {
     "name": "#%% md\n"
    }
   },
   "source": [
    "(Kudielka et al. 2003):  \n",
    "\"We found that the larger the time deviation for sample 2 (+30 min), the smaller the observed awakening cortisol increase. If subjects delay sample 2, they obviously miss the peak, and the resulting awakening increase turns out to be smaller.\""
   ]
  },
  {
   "cell_type": "markdown",
   "id": "da07e009-c5e5-4896-8d50-73107d3c1bf6",
   "metadata": {
    "pycharm": {
     "name": "#%% md\n"
    }
   },
   "source": [
    "#### Data Preparation"
   ]
  },
  {
   "cell_type": "markdown",
   "id": "9af6d5b6-55fe-4576-b454-a49a09a9322c",
   "metadata": {
    "pycharm": {
     "name": "#%% md\n"
    }
   },
   "source": [
    "Get time deviation for S2 (+30 min)"
   ]
  },
  {
   "cell_type": "code",
   "execution_count": null,
   "id": "6aa70e4f-10dd-489e-844f-41e54a011cc6",
   "metadata": {
    "pycharm": {
     "name": "#%%\n"
    }
   },
   "outputs": [],
   "source": [
    "s2_delay = cort_samples.xs(\"S2\", level=\"sample\")[[\"time_diff_to_naive_min\"]].dropna()\n",
    "\n",
    "# drop time deviation outlier, i.e., samples that are be closer to S3 or to S1 than S2 (|delay| >= 7.5 min)\n",
    "drop_mask = s2_delay[\"time_diff_to_naive_min\"].abs() >= 7.5\n",
    "drop_mask = drop_mask[drop_mask]\n",
    "s2_delay = s2_delay.drop(drop_mask.index)\n",
    "s2_delay.columns = [\"s2_delay\"]\n",
    "\n",
    "s2_delay.head()"
   ]
  },
  {
   "cell_type": "markdown",
   "id": "5dcbbc4c-2377-4e66-9d8f-b2bc709c9631",
   "metadata": {
    "pycharm": {
     "name": "#%% md\n"
    }
   },
   "source": [
    "Get cortisol increase between S0 and S2"
   ]
  },
  {
   "cell_type": "code",
   "execution_count": null,
   "id": "d18414d8-1908-4e36-8e44-8e23bac61880",
   "metadata": {
    "pycharm": {
     "name": "#%%\n"
    }
   },
   "outputs": [],
   "source": [
    "cort_inc = cort_samples[[\"cortisol\"]]\n",
    "cort_inc = (cort_inc.xs(\"S2\", level=-1) - cort_inc.xs(\"S0\", level=-1))\n",
    "cort_inc = cort_inc.join(s2_delay).dropna()\n",
    "cort_inc.head()"
   ]
  },
  {
   "cell_type": "markdown",
   "id": "8dfcf5b2-dd26-4a1f-97d3-2c26333e2a3b",
   "metadata": {
    "pycharm": {
     "name": "#%% md\n"
    }
   },
   "source": [
    "#### Linear Regression"
   ]
  },
  {
   "cell_type": "code",
   "execution_count": null,
   "id": "d48a1161-c4c3-4a97-8da3-0580a1a25781",
   "metadata": {
    "pycharm": {
     "name": "#%%\n"
    }
   },
   "outputs": [],
   "source": [
    "data_grp = cort_inc.groupby(\"log_type\")\n",
    "\n",
    "data_result = {}\n",
    "\n",
    "for log_type in [\"Selfreport\", \"App\", \"Sensor_App\"]:\n",
    "    data_reg = data_grp.get_group(log_type)\n",
    "    reg = pg.regression.linear_regression(\n",
    "        X=data_reg[\"s2_delay\"],\n",
    "        y=data_reg[\"cortisol\"],\n",
    "    )\n",
    "    data_result[log_type] = reg\n",
    "    \n",
    "pd.concat(data_result)"
   ]
  },
  {
   "cell_type": "markdown",
   "id": "d0923a22-8ead-4ea3-83f2-f8a40073033b",
   "metadata": {
    "pycharm": {
     "name": "#%% md\n"
    }
   },
   "source": [
    "#### Regression Plot"
   ]
  },
  {
   "cell_type": "code",
   "execution_count": null,
   "id": "8c816c17-048b-4ca3-9552-1e3bf4572f96",
   "metadata": {
    "tags": [],
    "pycharm": {
     "name": "#%%\n"
    }
   },
   "outputs": [],
   "source": [
    "fig,  ax = plt.subplots()\n",
    "\n",
    "for log_type in [\"Selfreport\", \"App\", \"Sensor_App\"]:\n",
    "    sns.regplot(\n",
    "        data=cort_inc.xs(log_type, level=\"log_type\").reset_index(), \n",
    "        x=\"s2_delay\", \n",
    "        y=\"cortisol\", \n",
    "        ax=ax, \n",
    "        label=log_type\n",
    "    )\n",
    "ax.legend()\n",
    "fig.tight_layout()"
   ]
  },
  {
   "cell_type": "code",
   "execution_count": null,
   "id": "c2e7b21b-72c5-435e-861c-c99635446d04",
   "metadata": {
    "pycharm": {
     "name": "#%%\n"
    }
   },
   "outputs": [],
   "source": []
  }
 ],
 "metadata": {
  "interpreter": {
   "hash": "02aa1679edd4a06f5b85738ebdeaad54fd91805d6ba50c75947a30cd3f6e5db1"
  },
  "kernelspec": {
   "display_name": "carwatch-analysis",
   "language": "python",
   "name": "carwatch-analysis"
  },
  "language_info": {
   "codemirror_mode": {
    "name": "ipython",
    "version": 3
   },
   "file_extension": ".py",
   "mimetype": "text/x-python",
   "name": "python",
   "nbconvert_exporter": "python",
   "pygments_lexer": "ipython3",
   "version": "3.8.3"
  },
  "toc-showtags": false
 },
 "nbformat": 4,
 "nbformat_minor": 5
}