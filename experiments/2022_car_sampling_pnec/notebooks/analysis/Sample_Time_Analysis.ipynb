{
 "cells": [
  {
   "cell_type": "markdown",
   "id": "21bdd348-ae56-4221-b28a-a7752647a2dd",
   "metadata": {
    "pycharm": {
     "name": "#%% md\n"
    }
   },
   "source": [
    "# Sample Time Analysis"
   ]
  },
  {
   "cell_type": "code",
   "execution_count": null,
   "id": "71aa15df-aad5-4822-999b-5649aba9fa4e",
   "metadata": {
    "collapsed": false,
    "jupyter": {
     "outputs_hidden": false
    },
    "pycharm": {
     "name": "#%%\n"
    }
   },
   "outputs": [],
   "source": [
    "from pathlib import Path\n",
    "import json\n",
    "\n",
    "import pandas as pd\n",
    "import numpy as np\n",
    "import scipy.stats as stats\n",
    "import pingouin as pg\n",
    "\n",
    "import biopsykit as bp\n",
    "from biopsykit.stats import StatsPipeline\n",
    "from biopsykit.io import load_long_format_csv\n",
    "from biopsykit.utils.dataframe_handling import multi_xs\n",
    "\n",
    "from fau_colors import cmaps\n",
    "\n",
    "import matplotlib.pyplot as plt\n",
    "import seaborn as sns\n",
    "\n",
    "from carwatch_analysis.io import load_cortisol_samples_reporting_times\n",
    "from carwatch_analysis.datasets import CarWatchDatasetProcessed\n",
    "from carwatch_analysis.data_processing.sample_times import (\n",
    "    compute_cumulative_sampling_delay,\n",
    "    categorize_sampling_adherence,\n",
    ")\n",
    "from carwatch_analysis.stats import create_unique_night_id, median_iqr_saliva_samples\n",
    "from carwatch_analysis.plotting import multi_boxplot_sampling_delay, multi_paired_plot_sampling_delay\n",
    "\n",
    "%matplotlib widget\n",
    "%load_ext autoreload\n",
    "%autoreload 2"
   ]
  },
  {
   "cell_type": "code",
   "execution_count": null,
   "id": "f7106914-3a75-4e76-a301-d5bcc391133a",
   "metadata": {
    "collapsed": false,
    "jupyter": {
     "outputs_hidden": false
    },
    "pycharm": {
     "name": "#%%\n"
    }
   },
   "outputs": [],
   "source": [
    "plt.close(\"all\")\n",
    "\n",
    "palette = sns.color_palette(cmaps.faculties)\n",
    "\n",
    "theme_kwargs = {\"context\": \"talk\", \"style\": \"ticks\", \"palette\": palette}\n",
    "sns.set_theme(**theme_kwargs)\n",
    "\n",
    "plt.rcParams[\"figure.figsize\"] = (10, 5)\n",
    "plt.rcParams[\"pdf.fonttype\"] = 42\n",
    "plt.rcParams[\"mathtext.default\"] = \"regular\"\n",
    "\n",
    "export = True\n",
    "\n",
    "pg.options[\"round\"] = 4\n",
    "\n",
    "palette"
   ]
  },
  {
   "cell_type": "markdown",
   "id": "3f96cde6-7a9e-462f-8b46-c657542c1860",
   "metadata": {
    "pycharm": {
     "name": "#%% md\n"
    }
   },
   "source": [
    "## Setup Paths"
   ]
  },
  {
   "cell_type": "code",
   "execution_count": null,
   "id": "b432506b-37c3-41ad-991a-7ace2b0706b9",
   "metadata": {
    "collapsed": false,
    "jupyter": {
     "outputs_hidden": false
    },
    "pycharm": {
     "name": "#%%\n"
    }
   },
   "outputs": [],
   "source": [
    "deploy_type = \"develop\""
   ]
  },
  {
   "cell_type": "code",
   "execution_count": null,
   "id": "a7e55906-9b0a-4e73-8d00-1dda81c9d6a4",
   "metadata": {
    "collapsed": false,
    "jupyter": {
     "outputs_hidden": false
    },
    "pycharm": {
     "name": "#%%\n"
    }
   },
   "outputs": [],
   "source": [
    "# build path to data folder\n",
    "config_dict = json.load(Path(\"../../../config.json\").open(encoding=\"utf-8\"))\n",
    "data_path = Path(\"..\").joinpath(config_dict[deploy_type][\"base_path\"])\n",
    "data_path"
   ]
  },
  {
   "cell_type": "code",
   "execution_count": null,
   "id": "839da555-436e-4f7e-8bc8-c1bdc3702c1d",
   "metadata": {
    "collapsed": false,
    "jupyter": {
     "outputs_hidden": false
    },
    "pycharm": {
     "name": "#%%\n"
    }
   },
   "outputs": [],
   "source": [
    "dataset = CarWatchDatasetProcessed(data_path)\n",
    "dataset"
   ]
  },
  {
   "cell_type": "code",
   "execution_count": null,
   "id": "ea24ba88-44f9-4975-a36e-997fda95a177",
   "metadata": {
    "collapsed": false,
    "jupyter": {
     "outputs_hidden": false
    },
    "pycharm": {
     "name": "#%%\n"
    }
   },
   "outputs": [],
   "source": [
    "base_path = Path(\"../..\")\n",
    "export_path = base_path.joinpath(\"exports\")\n",
    "result_path = base_path.joinpath(\"results\")\n",
    "stats_path = result_path.joinpath(\"statistics\")\n",
    "\n",
    "img_path = result_path.joinpath(\"plots\")\n",
    "\n",
    "paper_path = Path(json.load(Path(\"../paper_path.json\").open(encoding=\"utf-8\"))[\"paper_path\"])\n",
    "paper_img_path = paper_path.joinpath(\"img\")\n",
    "\n",
    "bp.utils.file_handling.mkdirs([result_path, stats_path, img_path, paper_img_path])"
   ]
  },
  {
   "cell_type": "markdown",
   "id": "f9e26413-c3ee-4efa-bf14-61f5d00a2147",
   "metadata": {
    "pycharm": {
     "name": "#%% md\n"
    }
   },
   "source": [
    "### Cortisol Samples"
   ]
  },
  {
   "cell_type": "code",
   "execution_count": null,
   "id": "6cf521c3-e7b8-4a3b-9227-9425c9071050",
   "metadata": {
    "pycharm": {
     "name": "#%%\n"
    }
   },
   "outputs": [],
   "source": [
    "cort_path = export_path.joinpath(\"cortisol_samples_processed_all_reporting_types.csv\")\n",
    "cort_samples = load_cortisol_samples_reporting_times(cort_path)\n",
    "# rename condition for table and plotting\n",
    "cort_samples = cort_samples.rename({\"Spontaneous\": \"Spontaneous Awakening\"}, level=\"condition\")\n",
    "\n",
    "cort_samples.head()"
   ]
  },
  {
   "cell_type": "code",
   "execution_count": null,
   "id": "cc39c1ee-179e-45bf-a19f-f71a5545eff4",
   "metadata": {
    "pycharm": {
     "name": "#%%\n"
    }
   },
   "outputs": [],
   "source": [
    "conditions = [\"Spontaneous Awakening\", \"Known Alarm\", \"Unknown Alarm\"]\n",
    "reporting_types_fine = [\n",
    "    \"Naive\",\n",
    "    \"Selfreport without App\",\n",
    "    \"Selfreport with App\",\n",
    "    \"App\",\n",
    "    \"Sensor + Selfreport without App\",\n",
    "    \"Sensor + Selfreport with App\",\n",
    "    \"Sensor + App\",\n",
    "]\n",
    "\n",
    "reporting_types_coarse = [\"Naive\", \"Selfreport\", \"App\", \"Sensor + Selfreport\", \"Sensor + App\"]\n",
    "\n",
    "reporting_types_fine_rename = [s.replace(\"without\", \"w/o\").replace(\"with\", \"w/\") for s in reporting_types_fine]\n",
    "rename_mapper_reporting_types = dict(zip(reporting_types_fine, reporting_types_fine_rename))\n",
    "\n",
    "reporting_types_fine = reporting_types_fine_rename\n",
    "\n",
    "cort_samples = cort_samples.rename(rename_mapper_reporting_types, level=\"reporting_type\")\n",
    "cort_samples"
   ]
  },
  {
   "cell_type": "code",
   "execution_count": null,
   "id": "199247a5-071e-4890-b612-dd845c6f7208",
   "metadata": {
    "collapsed": false,
    "jupyter": {
     "outputs_hidden": false
    },
    "pycharm": {
     "name": "#%%\n"
    }
   },
   "outputs": [],
   "source": [
    "dict_sample_times = {}"
   ]
  },
  {
   "cell_type": "markdown",
   "id": "90980ed1-8f6f-440a-bc02-d5da26cb2f71",
   "metadata": {
    "pycharm": {
     "name": "#%% md\n"
    }
   },
   "source": [
    "## Sample Times"
   ]
  },
  {
   "cell_type": "markdown",
   "id": "aab7b3ef-048d-41aa-ae8b-d25c679d617b",
   "metadata": {
    "pycharm": {
     "name": "#%% md\n"
    }
   },
   "source": [
    "### All Log Types"
   ]
  },
  {
   "cell_type": "markdown",
   "id": "4984ccf2-be50-4e71-a9c9-73dd20c06b81",
   "metadata": {
    "pycharm": {
     "name": "#%% md\n"
    }
   },
   "source": [
    "#### Median & IQR"
   ]
  },
  {
   "cell_type": "code",
   "execution_count": null,
   "id": "6b51da5c-e8dd-4d0c-a56e-49f1306b5514",
   "metadata": {
    "collapsed": false,
    "jupyter": {
     "outputs_hidden": false
    },
    "pycharm": {
     "name": "#%%\n"
    }
   },
   "outputs": [],
   "source": [
    "variable = \"time_diff_to_naive_min\"\n",
    "data_desc = median_iqr_saliva_samples(cort_samples, \"time_diff_to_naive_min\", [\"reporting_type\", \"sample\"])\n",
    "data_desc = data_desc.reindex(reporting_types_fine[1:])\n",
    "data_desc.columns = data_desc.columns.set_names(variable, level=-1)\n",
    "data_desc = data_desc.round(2)\n",
    "dict_sample_times[\"Sampling_Delay_Mean_IQR\"] = data_desc\n",
    "\n",
    "data_desc"
   ]
  },
  {
   "cell_type": "markdown",
   "id": "7b73ada5-15db-4e2d-8058-ba52052356d9",
   "metadata": {
    "pycharm": {
     "name": "#%% md\n"
    }
   },
   "source": [
    "#### Cumulative Sampling Delay"
   ]
  },
  {
   "cell_type": "code",
   "execution_count": null,
   "id": "289811d2-e774-4d1f-b018-dfcbe47582ed",
   "metadata": {
    "collapsed": false,
    "jupyter": {
     "outputs_hidden": false
    },
    "pycharm": {
     "name": "#%%\n"
    }
   },
   "outputs": [],
   "source": [
    "cum_sampling_delay = cort_samples[\"time_diff_to_naive_min\"].drop(\"Naive\", level=\"reporting_type\").unstack(\"sample\")\n",
    "cum_sampling_delay = compute_cumulative_sampling_delay(cum_sampling_delay)\n",
    "cum_sampling_delay = cum_sampling_delay.reindex(reporting_types_fine[1:]).round(2)\n",
    "dict_sample_times[\"Cumulative_Sampling_Delay\"] = cum_sampling_delay\n",
    "\n",
    "cum_sampling_delay"
   ]
  },
  {
   "cell_type": "markdown",
   "id": "98ab2655-4e9d-4d0b-ae3b-7afb2be0b013",
   "metadata": {
    "pycharm": {
     "name": "#%% md\n"
    }
   },
   "source": [
    "#### Boxplots"
   ]
  },
  {
   "cell_type": "code",
   "execution_count": null,
   "id": "fade474e-c365-4ddc-9988-3ffaa092cf7a",
   "metadata": {
    "collapsed": false,
    "jupyter": {
     "outputs_hidden": false
    },
    "pycharm": {
     "name": "#%%\n"
    }
   },
   "outputs": [],
   "source": [
    "data_plot = cort_samples.drop(\"Naive\", level=\"reporting_type\")\n",
    "\n",
    "reporting_type_order = reporting_types_fine.copy()\n",
    "reporting_type_order.remove(\"Naive\")\n",
    "reporting_type_order.remove(\"Selfreport w/ App\")\n",
    "reporting_type_order.remove(\"Sensor + Selfreport w/ App\")\n",
    "\n",
    "fig, axs = multi_boxplot_sampling_delay(\n",
    "    data_plot, order=reporting_type_order, figsize=(12, 4), palette=cmaps.faculties_light\n",
    ")\n",
    "\n",
    "for path in [img_path, paper_img_path]:\n",
    "    bp.utils.file_handling.export_figure(\n",
    "        fig, filename=\"img_boxplot_sampling_delay\", base_dir=path, formats=[\"png\", \"pdf\"], dpi=300\n",
    "    )"
   ]
  },
  {
   "cell_type": "markdown",
   "id": "4e15418e-c5df-4ffe-8690-7bf4d32a9fb0",
   "metadata": {
    "pycharm": {
     "name": "#%% md\n"
    }
   },
   "source": [
    "#### Paired Plots"
   ]
  },
  {
   "cell_type": "code",
   "execution_count": null,
   "id": "6c86aebd-dcd3-443d-84df-bf8f8e42b252",
   "metadata": {
    "collapsed": false,
    "jupyter": {
     "outputs_hidden": false
    },
    "pycharm": {
     "name": "#%%\n"
    }
   },
   "outputs": [],
   "source": [
    "data_plot = cort_samples.copy()\n",
    "\n",
    "reporting_type_order = reporting_types_fine.copy()\n",
    "reporting_type_order.remove(\"Naive\")\n",
    "reporting_type_order.remove(\"Selfreport w/ App\")\n",
    "reporting_type_order.remove(\"Sensor + Selfreport w/ App\")\n",
    "\n",
    "fig, axs = multi_paired_plot_sampling_delay(data_plot, order=reporting_type_order, figsize=(12, 4), dpi=300)\n",
    "\n",
    "for path in [img_path, paper_img_path]:\n",
    "    bp.utils.file_handling.export_figure(fig, \"img_pairedplot_sampling_delay\", path, formats=[\"png\", \"pdf\"], dpi=300)"
   ]
  },
  {
   "cell_type": "markdown",
   "id": "af0ca552-5b7e-47ab-a3ce-46223de30bae",
   "metadata": {
    "pycharm": {
     "name": "#%% md\n"
    }
   },
   "source": [
    "#### Compare Highest App-based Sampling Delays with Selfreport Sampling Delays"
   ]
  },
  {
   "cell_type": "markdown",
   "id": "8b9da254-e1dd-4e3f-8d16-de08ea3427ed",
   "metadata": {
    "pycharm": {
     "name": "#%% md\n"
    }
   },
   "source": [
    "Get the three CARs with the highest $\\Delta t_{S0}$ for *App* (see Paired Plot)"
   ]
  },
  {
   "cell_type": "code",
   "execution_count": null,
   "id": "2666ee37-4154-4f7c-8f3b-b83946692d61",
   "metadata": {
    "collapsed": false,
    "jupyter": {
     "outputs_hidden": false
    },
    "pycharm": {
     "name": "#%%\n"
    }
   },
   "outputs": [],
   "source": [
    "cars_max_delay = cort_samples.xs(\"App\", level=\"reporting_type\")[\"time_diff_to_naive_min\"]\n",
    "cars_max_delay = cars_max_delay.unstack(\"sample\")[\"S0\"].sort_values(ascending=False).iloc[0:3]\n",
    "cars_max_delay = cars_max_delay.index.get_level_values(\"night_id\")\n",
    "cars_max_delay"
   ]
  },
  {
   "cell_type": "code",
   "execution_count": null,
   "id": "2764511e-b12e-448a-9d5c-86bd263af592",
   "metadata": {
    "collapsed": false,
    "jupyter": {
     "outputs_hidden": false
    },
    "pycharm": {
     "name": "#%%\n"
    }
   },
   "outputs": [],
   "source": [
    "max_delay_selfreport = cort_samples[\"time_diff_to_naive_min\"].reindex(cars_max_delay, level=\"night_id\")\n",
    "max_delay_selfreport = max_delay_selfreport.reindex([\"Selfreport\", \"App\"], level=\"reporting_type\").unstack(\n",
    "    [\"sample\", \"reporting_type\"]\n",
    ")\n",
    "max_delay_selfreport = max_delay_selfreport.sort_index(axis=1).dropna().sort_values(by=(\"S0\", \"App\"), ascending=False)\n",
    "max_delay_selfreport = max_delay_selfreport.round(2)\n",
    "dict_sample_times[\"Max_Sampling_Delay_SR_App\"] = max_delay_selfreport\n",
    "\n",
    "max_delay_selfreport"
   ]
  },
  {
   "cell_type": "markdown",
   "id": "ba76e896-d43b-4bd9-9072-e72c63414e10",
   "metadata": {
    "pycharm": {
     "name": "#%% md\n"
    }
   },
   "source": [
    "#### Histogram"
   ]
  },
  {
   "cell_type": "code",
   "execution_count": null,
   "id": "83fc5e5d-6f21-4ab6-aa9a-421d5503796b",
   "metadata": {
    "collapsed": false,
    "jupyter": {
     "outputs_hidden": false
    },
    "pycharm": {
     "name": "#%%\n"
    }
   },
   "outputs": [],
   "source": [
    "col = \"time_diff_to_naive_min\"\n",
    "\n",
    "reporting_type_order = reporting_types_fine.copy()\n",
    "reporting_type_order.remove(\"Naive\")\n",
    "\n",
    "data_hist = cort_samples.reindex(reporting_type_order, level=\"reporting_type\")\n",
    "data_hist[col] = np.around(data_hist[col])\n",
    "\n",
    "fig, axs = plt.subplots(figsize=(12, 5), nrows=2, ncols=3, sharey=True, sharex=True)\n",
    "axs = axs.flatten()\n",
    "\n",
    "grouper = data_hist.groupby(\"reporting_type\")\n",
    "\n",
    "for reporting_type, ax in zip(reporting_type_order, axs):\n",
    "    df = grouper.get_group(reporting_type)\n",
    "    sns.histplot(data=df.reset_index(), x=col, stat=\"percent\", ax=ax, binwidth=1)\n",
    "    ax.minorticks_on()\n",
    "    ax.set_title(reporting_type, fontsize=\"small\")\n",
    "\n",
    "fig.tight_layout()"
   ]
  },
  {
   "cell_type": "markdown",
   "id": "905b268d-b076-4168-bd31-a02c4e5154ab",
   "metadata": {
    "pycharm": {
     "name": "#%% md\n"
    }
   },
   "source": [
    "### Selfreport without App vs. App"
   ]
  },
  {
   "cell_type": "markdown",
   "id": "0b0d5d7f-c6bb-4263-a33e-0e94e2953139",
   "metadata": {
    "pycharm": {
     "name": "#%% md\n"
    }
   },
   "source": [
    "#### Paired Plots"
   ]
  },
  {
   "cell_type": "code",
   "execution_count": null,
   "id": "2eb808aa-11ae-4eb4-bb1b-7dd64a3b5ea3",
   "metadata": {
    "collapsed": false,
    "jupyter": {
     "outputs_hidden": false
    },
    "pycharm": {
     "name": "#%%\n"
    }
   },
   "outputs": [],
   "source": [
    "data_plot = cort_samples.reindex([\"Selfreport w/o App\", \"App\"], level=\"reporting_type\")\n",
    "data_plot.index = data_plot.index.rename({\"sample\": \"Sample\"})\n",
    "\n",
    "reporting_type_order = [\"Selfreport w/o App\", \"App\"]\n",
    "\n",
    "fig, axs = multi_paired_plot_sampling_delay(data_plot, order=reporting_type_order)\n",
    "\n",
    "fig.tight_layout()"
   ]
  },
  {
   "cell_type": "markdown",
   "id": "d3380e40-a11c-4065-b7c5-af6ff337449c",
   "metadata": {
    "pycharm": {
     "name": "#%% md\n"
    }
   },
   "source": [
    "#### By Delay Groups"
   ]
  },
  {
   "cell_type": "code",
   "execution_count": null,
   "id": "ad354b5c-a221-410c-81ad-84f237625c9f",
   "metadata": {
    "collapsed": false,
    "jupyter": {
     "outputs_hidden": false
    },
    "pycharm": {
     "name": "#%%\n"
    }
   },
   "outputs": [],
   "source": [
    "delay_group_data = cort_samples.reindex([\"Selfreport w/o App\", \"App\"], level=\"reporting_type\")\n",
    "delay_group_data = categorize_sampling_adherence(delay_group_data)\n",
    "\n",
    "delay_group_percent = delay_group_data.groupby(\"reporting_type\").apply(\n",
    "    lambda df: df.groupby(\"delay_group\").apply(lambda d: len(d) / len(df) * 100)\n",
    ")\n",
    "delay_group_percent = delay_group_percent.round(2)\n",
    "dict_sample_times[\"Adherence_App_Selfreport\"] = delay_group_percent\n",
    "\n",
    "delay_group_percent"
   ]
  },
  {
   "cell_type": "markdown",
   "id": "f75350ee-0682-40f4-a2d6-8ce201a31c49",
   "metadata": {
    "pycharm": {
     "name": "#%% md\n"
    }
   },
   "source": [
    "### Selfreport without App vs. with App"
   ]
  },
  {
   "cell_type": "markdown",
   "id": "57504768-c02d-4ad7-82a6-78804991b5bb",
   "metadata": {
    "pycharm": {
     "name": "#%% md\n"
    }
   },
   "source": [
    "#### Data Preparation"
   ]
  },
  {
   "cell_type": "code",
   "execution_count": null,
   "id": "65c3d5df-cf71-4c8e-a539-bd2e9ce04db5",
   "metadata": {
    "collapsed": false,
    "jupyter": {
     "outputs_hidden": false
    },
    "pycharm": {
     "name": "#%%\n"
    }
   },
   "outputs": [],
   "source": [
    "cort_samples_selfreport = cort_samples.reindex([\"Selfreport w/o App\", \"Selfreport w/ App\"], level=\"reporting_type\")\n",
    "cort_samples_selfreport.head()"
   ]
  },
  {
   "cell_type": "markdown",
   "id": "bb7285ce-9d64-4d6f-917d-63da48c11b14",
   "metadata": {
    "pycharm": {
     "name": "#%% md\n"
    }
   },
   "source": [
    "#### Boxplot"
   ]
  },
  {
   "cell_type": "code",
   "execution_count": null,
   "id": "e9ea5f74-ba8b-4d72-9a68-1074f0551d39",
   "metadata": {
    "collapsed": false,
    "jupyter": {
     "outputs_hidden": false
    },
    "pycharm": {
     "name": "#%%\n"
    }
   },
   "outputs": [],
   "source": [
    "fig, ax = plt.subplots()\n",
    "\n",
    "bp.plotting.feature_boxplot(\n",
    "    data=cort_samples_selfreport.reset_index(),\n",
    "    x=\"sample\",\n",
    "    y=\"time_diff_to_naive_min\",\n",
    "    hue=\"reporting_type\",\n",
    "    hue_order=[\"Selfreport w/o App\", \"Selfreport w/ App\"],\n",
    "    legend_orientation=\"horizontal\",\n",
    "    legend_loc=\"upper center\",\n",
    "    rect=(0, 0, 1, 0.9),\n",
    "    ax=ax,\n",
    "    palette=cmaps.faculties_light,\n",
    ")\n",
    "ax.set_ylabel(\"$\\Delta t$ [min]\")\n",
    "ax.set_xlabel(\"Sample\")\n",
    "\n",
    "for path in [img_path, paper_img_path]:\n",
    "    bp.utils.file_handling.export_figure(fig, \"img_boxplot_sampling_delay_selfreport\", path, [\"pdf\", \"png\"])"
   ]
  },
  {
   "cell_type": "markdown",
   "id": "57987ea6-2a2d-413b-8d88-6aaedb49d60d",
   "metadata": {
    "pycharm": {
     "name": "#%% md\n"
    }
   },
   "source": [
    "### Sensor"
   ]
  },
  {
   "cell_type": "markdown",
   "id": "6b2260df-3b44-4596-ab04-2a8d96e78e5c",
   "metadata": {
    "pycharm": {
     "name": "#%% md\n"
    }
   },
   "source": [
    "#### Data Preparation"
   ]
  },
  {
   "cell_type": "code",
   "execution_count": null,
   "id": "0af18d71-a878-41fc-8870-fd279241683f",
   "metadata": {
    "collapsed": false,
    "jupyter": {
     "outputs_hidden": false
    },
    "pycharm": {
     "name": "#%%\n"
    }
   },
   "outputs": [],
   "source": [
    "reporting_order = [\"Sensor + Selfreport w/o App\", \"Sensor + App\"]\n",
    "\n",
    "data_sensor = multi_xs(cort_samples, reporting_order, level=\"reporting_type\")\n",
    "data_sensor.head()"
   ]
  },
  {
   "cell_type": "markdown",
   "id": "1166f06d-b7fb-4cc0-8731-89351481ab70",
   "metadata": {
    "pycharm": {
     "name": "#%% md\n"
    }
   },
   "source": [
    "#### Median & IQR"
   ]
  },
  {
   "cell_type": "code",
   "execution_count": null,
   "id": "dd76c772-06bb-4e6a-aec1-0fcf53646808",
   "metadata": {
    "collapsed": false,
    "jupyter": {
     "outputs_hidden": false
    },
    "pycharm": {
     "name": "#%%\n"
    }
   },
   "outputs": [],
   "source": [
    "data_desc = median_iqr_saliva_samples(data_sensor, \"time_diff_to_naive_min\", [\"reporting_type\", \"sample\"])\n",
    "data_desc.head()"
   ]
  },
  {
   "cell_type": "markdown",
   "id": "d6111825-55c1-41e1-ac3b-05c1692d7b32",
   "metadata": {
    "pycharm": {
     "name": "#%% md\n"
    }
   },
   "source": [
    "#### By Delay Groups"
   ]
  },
  {
   "cell_type": "code",
   "execution_count": null,
   "id": "6be5850e-c5d2-4e4f-9e82-62fcffd5e808",
   "metadata": {
    "collapsed": false,
    "jupyter": {
     "outputs_hidden": false
    },
    "pycharm": {
     "name": "#%%\n"
    }
   },
   "outputs": [],
   "source": [
    "delay_group_data = data_sensor.reindex(reporting_order, level=\"reporting_type\")\n",
    "delay_group_data = categorize_sampling_adherence(delay_group_data)\n",
    "\n",
    "delay_group_percent = delay_group_data.groupby(\"reporting_type\").apply(\n",
    "    lambda df: df.groupby(\"delay_group\").apply(lambda d: len(d) / len(df) * 100)\n",
    ")\n",
    "delay_group_percent = delay_group_percent.round(2)\n",
    "dict_sample_times[\"Adherence_Sensor_App_Selfreport\"] = delay_group_percent\n",
    "delay_group_percent"
   ]
  },
  {
   "cell_type": "markdown",
   "id": "775cae1c-c054-4289-bd41-a7fd05d5eca7",
   "metadata": {
    "pycharm": {
     "name": "#%% md\n"
    }
   },
   "source": [
    "## Export"
   ]
  },
  {
   "cell_type": "code",
   "execution_count": null,
   "id": "18ba6c51-777c-48a4-870e-5a1a2c705d1e",
   "metadata": {
    "collapsed": false,
    "jupyter": {
     "outputs_hidden": false
    },
    "pycharm": {
     "name": "#%%\n"
    }
   },
   "outputs": [],
   "source": [
    "bp.io.write_pandas_dict_excel(dict_sample_times, result_path.joinpath(\"sample_time_results.xlsx\"))"
   ]
  },
  {
   "cell_type": "code",
   "execution_count": null,
   "id": "ef19b9eb-2b97-4191-83ee-99239ade6904",
   "metadata": {},
   "outputs": [],
   "source": []
  }
 ],
 "metadata": {
  "interpreter": {
   "hash": "02aa1679edd4a06f5b85738ebdeaad54fd91805d6ba50c75947a30cd3f6e5db1"
  },
  "kernelspec": {
   "display_name": "carwatch-analysis",
   "language": "python",
   "name": "carwatch-analysis"
  },
  "language_info": {
   "codemirror_mode": {
    "name": "ipython",
    "version": 3
   },
   "file_extension": ".py",
   "mimetype": "text/x-python",
   "name": "python",
   "nbconvert_exporter": "python",
   "pygments_lexer": "ipython3",
   "version": "3.8.3"
  }
 },
 "nbformat": 4,
 "nbformat_minor": 5
}
