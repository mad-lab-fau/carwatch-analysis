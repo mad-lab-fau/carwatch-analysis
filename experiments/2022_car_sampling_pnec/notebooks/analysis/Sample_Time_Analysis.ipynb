{
 "cells": [
  {
   "cell_type": "markdown",
   "id": "e4dd50d4-80c3-4ea6-b05d-48de1cbca2cd",
   "metadata": {
    "pycharm": {
     "name": "#%% md\n"
    }
   },
   "source": [
    "# Sample Time Analysis – All Log Types"
   ]
  },
  {
   "cell_type": "code",
   "execution_count": null,
   "id": "970e48bd-840f-403b-a173-08e0c5bf1fa7",
   "metadata": {
    "pycharm": {
     "name": "#%%\n"
    }
   },
   "outputs": [],
   "source": [
    "from pathlib import Path\n",
    "import json\n",
    "\n",
    "import pandas as pd\n",
    "import numpy as np\n",
    "import scipy.stats as stats\n",
    "import pingouin as pg\n",
    "\n",
    "import biopsykit as bp\n",
    "from biopsykit.stats import StatsPipeline\n",
    "from biopsykit.io import load_long_format_csv\n",
    "from biopsykit.utils.dataframe_handling import multi_xs\n",
    "\n",
    "from fau_colors import cmaps\n",
    "\n",
    "import matplotlib.pyplot as plt\n",
    "import seaborn as sns\n",
    "\n",
    "from carwatch_analysis.io import load_cortisol_samples_log_times\n",
    "from carwatch_analysis.datasets import CarWatchDatasetProcessed\n",
    "\n",
    "from carwatch_analysis.stats import (\n",
    "    create_unique_night_id,\n",
    "    median_iqr_saliva_samples\n",
    ")\n",
    "\n",
    "%matplotlib widget\n",
    "%load_ext autoreload\n",
    "%autoreload 2"
   ]
  },
  {
   "cell_type": "code",
   "execution_count": null,
   "id": "90952493-9446-4332-ad23-ae08ce78578e",
   "metadata": {
    "pycharm": {
     "name": "#%%\n"
    }
   },
   "outputs": [],
   "source": [
    "plt.close(\"all\")\n",
    "\n",
    "palette = sns.color_palette(cmaps.faculties)\n",
    "\n",
    "theme_kwargs = {\"context\": \"talk\", \"style\": \"ticks\", \"palette\": palette}\n",
    "theme_kwargs_grid = {\"context\": \"talk\", \"style\": \"ticks\", \"palette\": palette, \"font_scale\": 0.8}\n",
    "sns.set_theme(**theme_kwargs)\n",
    "\n",
    "plt.rcParams[\"figure.figsize\"] = (10, 5)\n",
    "plt.rcParams[\"pdf.fonttype\"] = 42\n",
    "plt.rcParams[\"mathtext.default\"] = \"regular\"\n",
    "\n",
    "export = True\n",
    "\n",
    "pg.options[\"round\"] = 4\n",
    "\n",
    "palette"
   ]
  },
  {
   "cell_type": "markdown",
   "id": "68e63bcf-1055-4d24-98db-0d08150f182c",
   "metadata": {
    "pycharm": {
     "name": "#%% md\n"
    }
   },
   "source": [
    "## Setup Paths"
   ]
  },
  {
   "cell_type": "code",
   "execution_count": null,
   "id": "90644977-5c60-416f-8eb3-226a52da424e",
   "metadata": {
    "pycharm": {
     "name": "#%%\n"
    }
   },
   "outputs": [],
   "source": [
    "deploy_type = \"develop\""
   ]
  },
  {
   "cell_type": "code",
   "execution_count": null,
   "id": "5318e65d-548d-419f-9ba1-c36eae31abd4",
   "metadata": {
    "pycharm": {
     "name": "#%%\n"
    }
   },
   "outputs": [],
   "source": [
    "# build path to data folder\n",
    "config_dict = json.load(Path(\"../../../config.json\").open(encoding=\"utf-8\"))\n",
    "data_path = Path(\"..\").joinpath(config_dict[deploy_type][\"base_path\"])\n",
    "data_path"
   ]
  },
  {
   "cell_type": "code",
   "execution_count": null,
   "id": "3ec26bb8-f0d0-452b-850a-c105948f9fe5",
   "metadata": {
    "pycharm": {
     "name": "#%%\n"
    }
   },
   "outputs": [],
   "source": [
    "dataset = CarWatchDatasetProcessed(data_path)\n",
    "dataset"
   ]
  },
  {
   "cell_type": "code",
   "execution_count": null,
   "id": "484ad1f6-4b9c-4b82-9f82-16c1b1150ae4",
   "metadata": {
    "pycharm": {
     "name": "#%%\n"
    }
   },
   "outputs": [],
   "source": [
    "base_path = Path(\"../..\")\n",
    "export_path = base_path.joinpath(\"exports\")\n",
    "result_path = base_path.joinpath(\"results\")\n",
    "stats_path = result_path.joinpath(\"statistics\")\n",
    "\n",
    "img_path = result_path.joinpath(\"plots\")\n",
    "\n",
    "paper_path = Path(json.load(Path(\"../paper_path.json\").open(encoding=\"utf-8\"))[\"paper_path\"])\n",
    "paper_img_path = paper_path.joinpath(\"img\")\n",
    "\n",
    "bp.utils.file_handling.mkdirs([result_path, stats_path, img_path, paper_img_path])"
   ]
  },
  {
   "cell_type": "markdown",
   "id": "e1b387a5-a762-4215-8f70-a9322667bf4d",
   "metadata": {
    "pycharm": {
     "name": "#%% md\n"
    }
   },
   "source": [
    "## Load Data"
   ]
  },
  {
   "cell_type": "markdown",
   "id": "f9e26413-c3ee-4efa-bf14-61f5d00a2147",
   "metadata": {
    "pycharm": {
     "name": "#%% md\n"
    }
   },
   "source": [
    "### Cortisol Samples"
   ]
  },
  {
   "cell_type": "code",
   "execution_count": null,
   "id": "6cf521c3-e7b8-4a3b-9227-9425c9071050",
   "metadata": {
    "pycharm": {
     "name": "#%%\n"
    }
   },
   "outputs": [],
   "source": [
    "cort_path = export_path.joinpath(\"cortisol_samples_processed_all_log_types.csv\")\n",
    "cort_samples = load_cortisol_samples_log_times(cort_path)\n",
    "cort_samples = cort_samples.rename({\"Spontaneous\": \"Spontaneous Awakening\"}, level=\"condition\")\n",
    "cort_samples.head()"
   ]
  },
  {
   "cell_type": "code",
   "execution_count": null,
   "id": "cc39c1ee-179e-45bf-a19f-f71a5545eff4",
   "metadata": {
    "pycharm": {
     "name": "#%%\n"
    }
   },
   "outputs": [],
   "source": [
    "conditions = [\"Spontaneous Awakening\", \"Known Alarm\", \"Unknown Alarm\"]\n",
    "log_types_fine = [\n",
    "    \"Naive\", \n",
    "    \"Selfreport without App\", \n",
    "    \"Selfreport with App\", \n",
    "    \"App\", \n",
    "    \"Sensor + Selfreport without App\", \n",
    "    \"Sensor + Selfreport with App\", \n",
    "    \"Sensor + App\"\n",
    "]\n",
    "log_types_coarse = [\"Naive\", \"Selfreport\", \"App\", \"Sensor + Selfreport\", \"Sensor + App\"]"
   ]
  },
  {
   "cell_type": "markdown",
   "id": "a72fbbb8-c558-40b3-acd1-c3cc3c061529",
   "metadata": {
    "pycharm": {
     "name": "#%% md\n"
    }
   },
   "source": [
    "## Sample Times"
   ]
  },
  {
   "cell_type": "markdown",
   "id": "eacb7462-5c64-4600-a1bd-1d172c155c5d",
   "metadata": {
    "pycharm": {
     "name": "#%% md\n"
    }
   },
   "source": [
    "### All Log Types"
   ]
  },
  {
   "cell_type": "markdown",
   "id": "ee876daf-413d-4c3a-a69e-4f1bac8f90a6",
   "metadata": {
    "pycharm": {
     "name": "#%% md\n"
    }
   },
   "source": [
    "#### Median & IQR"
   ]
  },
  {
   "cell_type": "code",
   "execution_count": null,
   "id": "55ed7f57-bf68-43bd-948c-f1c717e016f8",
   "metadata": {
    "pycharm": {
     "name": "#%%\n"
    }
   },
   "outputs": [],
   "source": [
    "variable = \"time_diff_to_naive_min\"\n",
    "data_desc = median_iqr_saliva_samples(cort_samples, \"time_diff_to_naive_min\", [\"log_type\", \"sample\"])\n",
    "data_desc = data_desc.reindex(log_types_fine[1:])\n",
    "data_desc.columns = data_desc.columns.set_names(variable, level=-1)\n",
    "data_desc.to_csv(result_path.joinpath(\"log_time_difference_mean_iqr.csv\"))\n",
    "\n",
    "data_desc"
   ]
  },
  {
   "cell_type": "markdown",
   "id": "7e0c57ba-c45f-4f16-843d-cf91b9604773",
   "metadata": {
    "pycharm": {
     "name": "#%% md\n"
    }
   },
   "source": [
    "#### Cumulated Sampling Delay"
   ]
  },
  {
   "cell_type": "code",
   "execution_count": null,
   "id": "cdd496bd-8673-4c83-abbe-1162395d886d",
   "metadata": {
    "pycharm": {
     "name": "#%%\n"
    }
   },
   "outputs": [],
   "source": [
    "cum_sampling_delay = cort_samples[\"time_diff_to_naive_min\"].drop(\"Naive\", level=\"log_type\").unstack(\"sample\")\n",
    "cum_sampling_delay = cum_sampling_delay[\"S4\"] - cum_sampling_delay[\"S0\"]\n",
    "cum_sampling_delay = pd.DataFrame(cum_sampling_delay, columns=[\"cum_sampling_delay\"])\n",
    "cum_sampling_delay = cum_sampling_delay.reindex(log_types_fine[1:], level=\"log_type\")\n",
    "cum_sampling_delay.groupby(\"log_type\").agg([\"median\", stats.iqr]).round(2)"
   ]
  },
  {
   "cell_type": "markdown",
   "id": "89d6d340-28fa-4fea-b580-c2befface84a",
   "metadata": {
    "pycharm": {
     "name": "#%% md\n"
    }
   },
   "source": [
    "#### Boxplots"
   ]
  },
  {
   "cell_type": "code",
   "execution_count": null,
   "id": "ffe80883-29a0-4e5c-8f0c-683c7bc1968d",
   "metadata": {
    "pycharm": {
     "name": "#%%\n"
    }
   },
   "outputs": [],
   "source": [
    "fig, axs = plt.subplots(figsize=(12, 4), ncols=4, sharey=True)\n",
    "\n",
    "data_plot = cort_samples.drop(\"Naive\", level=\"log_type\")\n",
    "data_plot.index = data_plot.index.rename({\"sample\": \"Sample\"})\n",
    "data_group = data_plot.groupby(\"log_type\")\n",
    "\n",
    "order = log_types_fine.copy()\n",
    "order.remove(\"Naive\")\n",
    "order.remove(\"Selfreport with App\")\n",
    "order.remove(\"Sensor + Selfreport with App\")\n",
    "\n",
    "for i, (key, ax) in enumerate(zip(order, axs)):\n",
    "    df = data_group.get_group(key)\n",
    "    bp.plotting.feature_boxplot(\n",
    "        data=df.reset_index(), x=\"Sample\", y=\"time_diff_to_naive_min\", ax=ax\n",
    "    )\n",
    "    ax.set_title(key)\n",
    "\n",
    "    if i == 0:\n",
    "        ax.set_ylabel(\"$\\Delta s$ [min]\")\n",
    "    else:\n",
    "        ax.set_ylabel(None)\n",
    "\n",
    "fig.tight_layout()\n",
    "#for path in [img_path, paper_img_path]:\n",
    "    #fig.savefig(path.joinpath(\"img_log_time_differences.pdf\"), transparent=True)\n",
    "#    bp.utils.file_handling.export_figure(fig, \"img_boxplot_sampling_delay\", path, formats=[\"png\", \"pdf\"])"
   ]
  },
  {
   "cell_type": "markdown",
   "id": "1d721cc9-ad7d-4863-8fe0-8dcb672e83bf",
   "metadata": {
    "pycharm": {
     "name": "#%% md\n"
    }
   },
   "source": [
    "#### Paired Plots"
   ]
  },
  {
   "cell_type": "code",
   "execution_count": null,
   "id": "f6c75e53-7d63-426a-8021-b9f98f5d4d05",
   "metadata": {
    "pycharm": {
     "name": "#%%\n"
    }
   },
   "outputs": [],
   "source": [
    "fig, axs = plt.subplots(figsize=(12,5), ncols=4, sharey=True)\n",
    "\n",
    "data_plot = cort_samples.copy()\n",
    "data_plot.index = data_plot.index.rename({\"sample\": \"Sample\"})\n",
    "data_group = data_plot.groupby(\"log_type\")\n",
    "\n",
    "order = log_types_fine.copy()\n",
    "order.remove(\"Naive\")\n",
    "order.remove(\"Selfreport with App\")\n",
    "order.remove(\"Sensor + Selfreport with App\")\n",
    "\n",
    "for key, ax in zip(order, axs):\n",
    "    df = data_group.get_group(key)\n",
    "    pg.plot_paired(\n",
    "        data=df.reset_index(), \n",
    "        dv=\"time_diff_to_naive_min\", \n",
    "        within=\"Sample\", \n",
    "        subject=\"night_id\", \n",
    "        pointplot_kwargs={\"alpha\": 0.5}, \n",
    "        boxplot_in_front=True,\n",
    "        ax=ax\n",
    "    )\n",
    "    ax.set_title(key, fontsize=\"smaller\")\n",
    "\n",
    "axs[0].set_ylabel(\"$\\Delta s$ [min]\")\n",
    "\n",
    "fig.tight_layout()\n",
    "for path in [img_path, paper_img_path]:\n",
    "    #fig.savefig(path.joinpath(\"img_pair_plot_sampling_delay.pdf\"), transparent=True)\n",
    "    bp.utils.file_handling.export_figure(fig, \"img_pairedplot_sampling_delay\", path, formats=[\"png\", \"pdf\"])"
   ]
  },
  {
   "cell_type": "markdown",
   "id": "c9c29132-8c8e-4e19-a250-5492c819bdd2",
   "metadata": {
    "pycharm": {
     "name": "#%% md\n"
    }
   },
   "source": [
    "#### Compare Highest App-based Sampling Delays with Selfreport Sampling Delays"
   ]
  },
  {
   "cell_type": "markdown",
   "id": "0d2b1d7a-ef33-4279-9107-4540353101ef",
   "metadata": {
    "pycharm": {
     "name": "#%% md\n"
    }
   },
   "source": [
    "Get the three CARs with the highest $\\Delta s_0$ for *App* (see Paired Plot)"
   ]
  },
  {
   "cell_type": "code",
   "execution_count": null,
   "id": "1c95c742-014a-45b0-a577-3504d57fb499",
   "metadata": {
    "pycharm": {
     "name": "#%%\n"
    }
   },
   "outputs": [],
   "source": [
    "cars_max_delay = cort_samples.xs(\"App\", level=\"log_type\")[\"time_diff_to_naive_min\"]\n",
    "cars_max_delay = cars_max_delay.unstack(\"sample\")[\"S0\"].sort_values(ascending=False).iloc[0:3]\n",
    "cars_max_delay = cars_max_delay.index.get_level_values(\"night_id\")\n",
    "cars_max_delay"
   ]
  },
  {
   "cell_type": "code",
   "execution_count": null,
   "id": "a16e2b15-3e66-427c-9b81-7eb1671c8e00",
   "metadata": {
    "pycharm": {
     "name": "#%%\n"
    }
   },
   "outputs": [],
   "source": [
    "max_delay_selfreport = cort_samples[\"time_diff_to_naive_min\"].reindex(cars_max_delay, level=\"night_id\")\n",
    "max_delay_selfreport = max_delay_selfreport.reindex([\"Selfreport\", \"App\"], level=\"log_type\").unstack([\"sample\", \"log_type\"])\n",
    "max_delay_selfreport = max_delay_selfreport.sort_index(axis=1).dropna().sort_values(by=(\"S0\", \"App\"), ascending=False)\n",
    "max_delay_selfreport"
   ]
  },
  {
   "cell_type": "markdown",
   "id": "27657ecf-bc33-4ca3-a029-42a8357bf232",
   "metadata": {
    "pycharm": {
     "name": "#%% md\n"
    }
   },
   "source": [
    "#### Histogram"
   ]
  },
  {
   "cell_type": "code",
   "execution_count": null,
   "id": "b4f3188c-b1a3-4fb3-892d-d5c4f5496647",
   "metadata": {
    "pycharm": {
     "name": "#%%\n"
    }
   },
   "outputs": [],
   "source": [
    "fig, ax = plt.subplots(figsize=(12,3))\n",
    "\n",
    "col = \"time_diff_to_naive_min\"\n",
    "\n",
    "log_type_order = log_types_fine.copy()\n",
    "log_type_order.remove(\"Naive\")\n",
    "\n",
    "data_hist = cort_samples.reindex(log_type_order, level=\"log_type\")\n",
    "data_hist[col] = np.around(data_hist[col])\n",
    "\n",
    "sns.histplot(\n",
    "    data=data_hist.reset_index(), \n",
    "    x=col, \n",
    "    hue=\"log_type\", \n",
    "    hue_order=log_type_order,\n",
    "    stat=\"percent\", \n",
    "    binwidth=1,\n",
    "    common_norm=False, \n",
    "    ax=ax\n",
    ")\n",
    "ax.minorticks_on()\n",
    "l, h = ax.get_legend_handles_labels()\n",
    "fig.tight_layout()\n",
    "\n",
    "\n",
    "fig, axs = plt.subplots(figsize=(12,5), nrows=2, ncols=3, sharey=True, sharex=True)\n",
    "axs = axs.flatten()\n",
    "\n",
    "grouper = data_hist.groupby(\"log_type\")\n",
    "\n",
    "for log_type, ax in zip(log_type_order, axs):\n",
    "    df = grouper.get_group(log_type)\n",
    "    sns.histplot(\n",
    "        data=df.reset_index(), x=col, stat=\"percent\", ax=ax, binwidth=1\n",
    "    )\n",
    "    ax.minorticks_on()\n",
    "    ax.set_title(log_type, fontsize=\"small\")\n",
    "\n",
    "fig.tight_layout()"
   ]
  },
  {
   "cell_type": "markdown",
   "id": "2c04c619-4918-4d9b-9bdf-108dff2755c4",
   "metadata": {
    "pycharm": {
     "name": "#%% md\n"
    }
   },
   "source": [
    "### Selfreport without App vs. App"
   ]
  },
  {
   "cell_type": "markdown",
   "id": "99eced8b-6b13-42ed-9844-f93202d6be85",
   "metadata": {
    "pycharm": {
     "name": "#%% md\n"
    }
   },
   "source": [
    "#### Paired Plots"
   ]
  },
  {
   "cell_type": "code",
   "execution_count": null,
   "id": "cf141d97-4edf-419f-b87c-a7afb0d97507",
   "metadata": {
    "pycharm": {
     "name": "#%%\n"
    }
   },
   "outputs": [],
   "source": [
    "fig, axs = plt.subplots(ncols=2, sharey=True)\n",
    "\n",
    "data_plot = cort_samples.reindex([\"Selfreport without App\", \"App\"], level=\"log_type\")\n",
    "data_plot.index = data_plot.index.rename({\"sample\": \"Sample\"})\n",
    "data_group = data_plot.groupby(\"log_type\")\n",
    "\n",
    "order = [\"Selfreport without App\", \"App\"]\n",
    "\n",
    "for key, ax in zip(order, axs):\n",
    "    df = data_group.get_group(key)\n",
    "    pg.plot_paired(\n",
    "        data=df.reset_index(), \n",
    "        dv=\"time_diff_to_naive_min\", \n",
    "        within=\"Sample\", \n",
    "        subject=\"night_id\", \n",
    "        pointplot_kwargs={\"alpha\": 0.5}, \n",
    "        boxplot_in_front=True,\n",
    "        ax=ax\n",
    "    )\n",
    "    ax.set_title(key)\n",
    "    ax.set_title(key.replace(\"_\", \" + \"))\n",
    "\n",
    "axs[0].set_ylabel(\"$\\Delta s$ [min]\")\n",
    "\n",
    "fig.tight_layout()"
   ]
  },
  {
   "cell_type": "markdown",
   "id": "41041caf-f44c-4e71-8c6b-58e657e694ca",
   "metadata": {
    "pycharm": {
     "name": "#%% md\n"
    }
   },
   "source": [
    "#### By Delay Groups"
   ]
  },
  {
   "cell_type": "code",
   "execution_count": null,
   "id": "6cc37cfd-83a7-4133-8cfa-aab3e489c0aa",
   "metadata": {
    "pycharm": {
     "name": "#%%\n"
    }
   },
   "outputs": [],
   "source": [
    "wo_s0_data = cort_samples.reindex([\"Selfreport without App\", \"App\"], level=\"log_type\")\n",
    "wo_s0_data = wo_s0_data.xs(\"S0\", level=\"sample\")[\"time_diff_to_naive_min\"]\n",
    "wo_s0_group = pd.cut(\n",
    "    wo_s0_data, \n",
    "    bins=[wo_s0_data.min(), 5, wo_s0_data.max()], \n",
    "    include_lowest=True, \n",
    "    labels=[\"Adherent\", \"Non-adherent\"]\n",
    ")\n",
    "wo_s0_group.name = \"delay_group\"\n",
    "wo_s0_data = pd.DataFrame(wo_s0_data).join(wo_s0_group).set_index(\"delay_group\", append=True)\n",
    "delay_group_percent = wo_s0_data.groupby(\"log_type\").apply(\n",
    "    lambda df: df.groupby(\"delay_group\").apply(lambda d: len(d) / len(df) * 100)\n",
    ")\n",
    "delay_group_percent"
   ]
  },
  {
   "cell_type": "markdown",
   "id": "82d97e73-5f5f-4f3a-815b-8415cfa831f1",
   "metadata": {
    "pycharm": {
     "name": "#%% md\n"
    }
   },
   "source": [
    "### Selfreport without App vs. with App"
   ]
  },
  {
   "cell_type": "markdown",
   "id": "0e328a3f-56eb-42f2-af3f-1cc3ab5adeb2",
   "metadata": {
    "pycharm": {
     "name": "#%% md\n"
    }
   },
   "source": [
    "#### Data Preparation"
   ]
  },
  {
   "cell_type": "code",
   "execution_count": null,
   "id": "545c39df-36bb-43ec-9742-a3f6c2b9774f",
   "metadata": {
    "pycharm": {
     "name": "#%%\n"
    }
   },
   "outputs": [],
   "source": [
    "cort_samples_selfreport = cort_samples.reindex([\"Selfreport without App\", \"Selfreport with App\"], level=\"log_type\")\n",
    "cort_samples_selfreport.head()"
   ]
  },
  {
   "cell_type": "markdown",
   "id": "3750e6aa-f1ff-418f-9fe5-15758cb7013b",
   "metadata": {
    "tags": [],
    "pycharm": {
     "name": "#%% md\n"
    }
   },
   "source": [
    "#### Boxplot"
   ]
  },
  {
   "cell_type": "code",
   "execution_count": null,
   "id": "977bb423-f8ec-4e50-b2ed-5b7a01b82202",
   "metadata": {
    "pycharm": {
     "name": "#%%\n"
    }
   },
   "outputs": [],
   "source": [
    "data_analysis = cort_samples_selfreport.copy()\n",
    "\n",
    "pipeline = StatsPipeline(\n",
    "    steps=[\n",
    "        (\"prep\", \"normality\"), \n",
    "        (\"prep\", \"equal_var\"), \n",
    "        (\"test\", \"mixed_anova\"), \n",
    "        (\"posthoc\", \"pairwise_ttests\")\n",
    "    ],\n",
    "    params={\n",
    "        \"dv\": \"time_diff_to_naive_min\", \n",
    "        \"within\": \"sample\", \n",
    "        \"between\": \"log_type\",\n",
    "        \"subject\": \"night_id\",\n",
    "        \"multicomp\": {\"method\": \"bonf\"}\n",
    "    }\n",
    ")\n",
    "\n",
    "pipeline.apply(data_analysis)\n",
    "pipeline.display_results(prep=True, posthoc=False)"
   ]
  },
  {
   "cell_type": "code",
   "execution_count": null,
   "id": "dc439282-687c-4d56-84a2-e198fa089702",
   "metadata": {
    "pycharm": {
     "name": "#%%\n"
    }
   },
   "outputs": [],
   "source": [
    "fig, ax = plt.subplots()\n",
    "\n",
    "bp.plotting.feature_boxplot(\n",
    "    data=cort_samples_selfreport.reset_index(), \n",
    "    x=\"sample\", \n",
    "    y=\"time_diff_to_naive_min\", \n",
    "    hue=\"log_type\",\n",
    "    hue_order=[\"Selfreport without App\", \"Selfreport with App\"],\n",
    "    legend_orientation=\"horizontal\",\n",
    "    legend_loc=\"upper center\",\n",
    "    rect=(0, 0, 1, 0.9),\n",
    "    ax=ax\n",
    ");\n",
    "ax.set_ylabel(\"$\\Delta s$ [min]\")\n",
    "ax.set_xlabel(\"Sample\")\n",
    "\n",
    "for path in [img_path, paper_img_path]:\n",
    "    bp.utils.file_handling.export_figure(fig, \"img_sampling_delay_selfreport\", path, [\"pdf\", \"png\"])"
   ]
  },
  {
   "cell_type": "markdown",
   "id": "1ef60651-dccb-465c-9789-92dd2a2b0f12",
   "metadata": {
    "pycharm": {
     "name": "#%% md\n"
    }
   },
   "source": [
    "### Sensor"
   ]
  },
  {
   "cell_type": "markdown",
   "id": "fc256d6f-3cb3-4594-b44e-aa1b7daba75c",
   "metadata": {
    "pycharm": {
     "name": "#%% md\n"
    }
   },
   "source": [
    "#### Data Preparation"
   ]
  },
  {
   "cell_type": "code",
   "execution_count": null,
   "id": "cca9cc1e-3a22-40d7-919e-82c29283791b",
   "metadata": {
    "pycharm": {
     "name": "#%%\n"
    }
   },
   "outputs": [],
   "source": [
    "log_order = [\"Sensor + Selfreport without App\", \"Sensor + App\"]\n",
    "\n",
    "data_sensor = multi_xs(cort_samples, log_order, level=\"log_type\")\n",
    "data_sensor.head()"
   ]
  },
  {
   "cell_type": "markdown",
   "id": "c283b390-86f2-44ee-a046-6f2cacceff94",
   "metadata": {
    "pycharm": {
     "name": "#%% md\n"
    }
   },
   "source": [
    "#### Median & IQR"
   ]
  },
  {
   "cell_type": "code",
   "execution_count": null,
   "id": "3613d1c5-dee4-46dd-bb6f-67a39d2f3431",
   "metadata": {
    "pycharm": {
     "name": "#%%\n"
    }
   },
   "outputs": [],
   "source": [
    "data_desc = median_iqr_saliva_samples(data_sensor, \"time_diff_to_naive_min\", [\"log_type\", \"sample\"])\n",
    "data_desc.head()"
   ]
  },
  {
   "cell_type": "markdown",
   "id": "13d9d342-13a7-4a4a-b2c0-2d2eee11d37b",
   "metadata": {
    "pycharm": {
     "name": "#%% md\n"
    }
   },
   "source": [
    "#### By Delay Groups"
   ]
  },
  {
   "cell_type": "code",
   "execution_count": null,
   "id": "3a0ef9f6-7803-4f3d-b1eb-3c1d404adae1",
   "metadata": {
    "pycharm": {
     "name": "#%%\n"
    }
   },
   "outputs": [],
   "source": [
    "wo_s0_data = data_sensor.xs(\"S0\", level=\"sample\")[\"time_diff_to_naive_min\"]\n",
    "wo_s0_group = pd.cut(\n",
    "    wo_s0_data, \n",
    "    bins=[wo_s0_data.min(), 5, wo_s0_data.max()], \n",
    "    include_lowest=True, \n",
    "    labels=[\"Adherent\", \"Non-adherent\"]\n",
    ")\n",
    "\n",
    "wo_s0_group.name = \"delay_group\"\n",
    "wo_s0_data = pd.DataFrame(wo_s0_data).join(wo_s0_group).set_index(\"delay_group\", append=True)\n",
    "\n",
    "delay_group_percent = wo_s0_data.groupby(\"log_type\").apply(\n",
    "    lambda df: df.groupby(\"delay_group\").apply(lambda d: len(d) / len(df) * 100)\n",
    ").reindex(log_order)\n",
    "delay_group_percent"
   ]
  },
  {
   "cell_type": "markdown",
   "id": "cbf777ad-70bf-4743-aada-ded0abf72529",
   "metadata": {
    "pycharm": {
     "name": "#%% md\n"
    }
   },
   "source": [
    "## Awakening and Sampling Time Unit Digits"
   ]
  },
  {
   "cell_type": "code",
   "execution_count": null,
   "id": "f4c79cc3-6d00-492c-9c71-907bb0c51796",
   "metadata": {
    "pycharm": {
     "name": "#%%\n"
    }
   },
   "outputs": [],
   "source": [
    "log_type_order = [\"Selfreport\", \"App\"]\n",
    "condition_order = [\"Known Alarm\", \"Spontaneous Awakening\", \"Unknown Alarm\"]"
   ]
  },
  {
   "cell_type": "markdown",
   "id": "fe3920ac-4c62-41b4-bb6a-0dd6d9423c70",
   "metadata": {
    "pycharm": {
     "name": "#%% md\n"
    }
   },
   "source": [
    "### Data Preparation"
   ]
  },
  {
   "cell_type": "code",
   "execution_count": null,
   "id": "86b5ec05-5a35-4176-9fe3-9618940c0001",
   "metadata": {
    "pycharm": {
     "name": "#%%\n"
    }
   },
   "outputs": [],
   "source": [
    "cort_samples = cort_samples.assign(\n",
    "    **{\n",
    "        \"sample_minute\": cort_samples[\"sample_time\"].dt.components[\"minutes\"] % 10,\n",
    "        \"wake_onset_minute\": cort_samples[\"wake_onset\"].dt.components[\"minutes\"] % 10\n",
    "    }\n",
    ")\n",
    "\n",
    "cort_samples.head()"
   ]
  },
  {
   "cell_type": "markdown",
   "id": "6fc5e510-125f-4022-b977-80122239a9e3",
   "metadata": {
    "pycharm": {
     "name": "#%% md\n"
    }
   },
   "source": [
    "### Awakening Times"
   ]
  },
  {
   "cell_type": "markdown",
   "id": "fae6d812-24b4-4bf4-ad04-d50fbdde84b4",
   "metadata": {
    "pycharm": {
     "name": "#%% md\n"
    }
   },
   "source": [
    "#### Percents"
   ]
  },
  {
   "cell_type": "code",
   "execution_count": null,
   "id": "5170c15d-44aa-4c6f-b705-2ea9466a8e32",
   "metadata": {
    "pycharm": {
     "name": "#%%\n"
    }
   },
   "outputs": [],
   "source": [
    "wo_minutes = cort_samples[\"wake_onset_minute\"].reindex(log_type_order, level=\"log_type\")\n",
    "wo_minutes = wo_minutes.groupby([\"condition\", \"log_type\"]).value_counts(normalize=True) * 100\n",
    "wo_minutes = wo_minutes.unstack([\"wake_onset_minute\"]).fillna(0).round(0)\n",
    "wo_minutes"
   ]
  },
  {
   "cell_type": "markdown",
   "id": "639759cf-4aee-47ff-83d3-eab4fdc4b850",
   "metadata": {
    "pycharm": {
     "name": "#%% md\n"
    }
   },
   "source": [
    "#### Histogram Plots"
   ]
  },
  {
   "cell_type": "code",
   "execution_count": null,
   "id": "e7feb09e-f4d8-4039-9be7-4c44cd8e16b5",
   "metadata": {
    "pycharm": {
     "name": "#%%\n"
    }
   },
   "outputs": [],
   "source": [
    "from matplotlib.ticker import MultipleLocator\n",
    "\n",
    "sns.set_theme(**theme_kwargs_grid)\n",
    "\n",
    "fig = plt.figure(figsize=(8, 9), constrained_layout=True)\n",
    "fig.suptitle(\"Awakening Times\")\n",
    "\n",
    "subfigs = fig.subfigures(nrows=3, ncols=1, hspace=0.05)\n",
    "\n",
    "data_analysis = cort_samples.reindex(log_type_order, level=\"log_type\")\n",
    "grouper_condition = data_analysis.groupby(\"condition\")\n",
    "\n",
    "ylims = [0, 65]\n",
    "\n",
    "for condition, subfig in zip(condition_order, subfigs):\n",
    "    subfig.suptitle(condition, fontsize=\"medium\")\n",
    "    grouper_log_type = grouper_condition.get_group(condition).groupby(\"log_type\")\n",
    "    \n",
    "    # create 1x2 subplots per subfig\n",
    "    axs = subfig.subplots(nrows=1, ncols=2, gridspec_kw={\"wspace\": 0.1})\n",
    "    for log_type, ax in zip(log_type_order, axs):\n",
    "        df = grouper_log_type.get_group(log_type)\n",
    "        sns.histplot(\n",
    "            data=df.reset_index(), \n",
    "            x=\"wake_onset_minute\", \n",
    "            stat=\"percent\", \n",
    "            bins=10, \n",
    "            binrange=[0,9], \n",
    "            discrete=True, \n",
    "            ax=ax\n",
    "        )\n",
    "        ax.set_xticks(np.arange(0,10))\n",
    "        ax.yaxis.set_major_locator(MultipleLocator(20))\n",
    "        ax.yaxis.set_minor_locator(MultipleLocator(10))\n",
    "        ax.set_title(log_type)\n",
    "        ax.set_xlabel(\"Unit Digit [min]\")\n",
    "        ax.set_ylabel(\"Frequency [%]\")\n",
    "        ax.set_ylim(ylims)\n",
    "\n",
    "for path in [img_path, paper_img_path]:\n",
    "    bp.utils.file_handling.export_figure(fig, \"img_unit_digits_awakening_time\", path, [\"pdf\", \"png\"])"
   ]
  },
  {
   "cell_type": "markdown",
   "id": "5f6f9c07-1d93-4085-bc3e-bfa3d148cd61",
   "metadata": {
    "pycharm": {
     "name": "#%% md\n"
    }
   },
   "source": [
    "### Sampling Times"
   ]
  },
  {
   "cell_type": "markdown",
   "id": "a444124b-e592-4770-b5f2-7931488679f1",
   "metadata": {
    "pycharm": {
     "name": "#%% md\n"
    }
   },
   "source": [
    "#### Percents"
   ]
  },
  {
   "cell_type": "code",
   "execution_count": null,
   "id": "76f8af5c-c544-4dac-bfbd-eaf6eab3a42b",
   "metadata": {
    "pycharm": {
     "name": "#%%\n"
    }
   },
   "outputs": [],
   "source": [
    "sample_minutes = cort_samples[\"sample_minute\"].reindex(log_type_order, level=\"log_type\")\n",
    "sample_minutes = sample_minutes.groupby([\"log_type\"]).value_counts(normalize=True) * 100\n",
    "sample_minutes = sample_minutes.unstack([\"sample_minute\"]).fillna(0).round(0)\n",
    "sample_minutes"
   ]
  },
  {
   "cell_type": "markdown",
   "id": "5b20a6b1-2715-4de7-81b4-c8a3284c77bb",
   "metadata": {
    "pycharm": {
     "name": "#%% md\n"
    }
   },
   "source": [
    "#### Histogram Plots"
   ]
  },
  {
   "cell_type": "markdown",
   "id": "829602d7-234a-43d2-8221-d840fe439286",
   "metadata": {
    "pycharm": {
     "name": "#%% md\n"
    }
   },
   "source": [
    "##### All Conditions Combined"
   ]
  },
  {
   "cell_type": "code",
   "execution_count": null,
   "id": "f233d542-fc08-4f56-8921-9cf6da31e90b",
   "metadata": {
    "pycharm": {
     "name": "#%%\n"
    }
   },
   "outputs": [],
   "source": [
    "from matplotlib.ticker import MultipleLocator\n",
    "\n",
    "sns.set_theme(**theme_kwargs_grid)\n",
    "\n",
    "fig = plt.figure(figsize=(8, 3), constrained_layout=True)\n",
    "fig.suptitle(\"Sampling Times\")\n",
    "\n",
    "subfig = fig.subfigures(nrows=1, ncols=1, hspace=0.05)\n",
    "subfig.suptitle(\"All Conditions\", fontsize=\"medium\")\n",
    "\n",
    "data_analysis = cort_samples.reindex(log_type_order, level=\"log_type\")\n",
    "grouper = data_analysis.groupby(\"log_type\")\n",
    "\n",
    "ylims = [0, 45]\n",
    "\n",
    "axs = subfig.subplots(nrows=1, ncols=2, gridspec_kw={\"wspace\": 0.1})\n",
    "for log_type, ax in zip(log_type_order, axs):\n",
    "    \n",
    "    df = grouper.get_group(log_type)\n",
    "    \n",
    "    sns.histplot(\n",
    "        data=df.reset_index(), \n",
    "        x=\"sample_minute\", \n",
    "        stat=\"percent\", \n",
    "        bins=10, \n",
    "        binrange=[0,9], \n",
    "        discrete=True, \n",
    "        ax=ax\n",
    "    )\n",
    "    ax.set_xticks(np.arange(0,10))\n",
    "    ax.yaxis.set_major_locator(MultipleLocator(20))\n",
    "    ax.yaxis.set_minor_locator(MultipleLocator(10))\n",
    "    ax.set_title(log_type)\n",
    "    ax.set_xlabel(\"Unit Digit [min]\")\n",
    "    ax.set_ylabel(\"Frequency [%]\")\n",
    "    ax.set_ylim(ylims)\n",
    "\n",
    "\n",
    "for path in [img_path, paper_img_path]:\n",
    "    bp.utils.file_handling.export_figure(fig, \"img_unit_digits_sampling_time\", path, [\"pdf\", \"png\"])"
   ]
  },
  {
   "cell_type": "markdown",
   "id": "16100b13-c61c-4df2-b4a2-58611a1d795a",
   "metadata": {
    "pycharm": {
     "name": "#%% md\n"
    }
   },
   "source": [
    "##### Per Condition"
   ]
  },
  {
   "cell_type": "code",
   "execution_count": null,
   "id": "dd973514-3db3-479d-a19e-a056032ce726",
   "metadata": {
    "pycharm": {
     "name": "#%%\n"
    }
   },
   "outputs": [],
   "source": [
    "from matplotlib.ticker import MultipleLocator\n",
    "\n",
    "sns.set_theme(**theme_kwargs_grid)\n",
    "\n",
    "fig = plt.figure(figsize=(8, 9), constrained_layout=True)\n",
    "fig.suptitle(\"Sampling Times\")\n",
    "\n",
    "subfigs = fig.subfigures(nrows=3, ncols=1, hspace=0.05)\n",
    "\n",
    "data_analysis = cort_samples.reindex(log_type_order, level=\"log_type\")\n",
    "grouper_condition = data_analysis.groupby(\"condition\")\n",
    "\n",
    "ylims = [0, 45]\n",
    "\n",
    "for condition, subfig in zip(condition_order, subfigs):\n",
    "    subfig.suptitle(condition, fontsize=\"medium\")\n",
    "    grouper_log_type = grouper_condition.get_group(condition).groupby(\"log_type\")\n",
    "    \n",
    "    # create 1x3 subplots per subfig\n",
    "    axs = subfig.subplots(nrows=1, ncols=2, gridspec_kw={\"wspace\": 0.1})\n",
    "    for log_type, ax in zip(log_type_order, axs):\n",
    "        df = grouper_log_type.get_group(log_type)\n",
    "        sns.histplot(\n",
    "            data=df.reset_index(), \n",
    "            x=\"sample_minute\", \n",
    "            stat=\"percent\", \n",
    "            bins=10, \n",
    "            binrange=[0,9], \n",
    "            discrete=True, \n",
    "            ax=ax\n",
    "        )\n",
    "        ax.set_xticks(np.arange(0,10))\n",
    "        ax.yaxis.set_major_locator(MultipleLocator(20))\n",
    "        ax.yaxis.set_minor_locator(MultipleLocator(10))\n",
    "        ax.set_title(log_type)\n",
    "        ax.set_xlabel(\"Unit Digit [min]\")\n",
    "        ax.set_ylabel(\"Frequency [%]\")\n",
    "        ax.set_ylim(ylims)\n",
    "\n",
    "#for path in [img_path, paper_img_path]:\n",
    "#    bp.utils.file_handling.export_figure(fig, \"img_unit_digits_sampling_time\", path, [\"pdf\", \"png\"])"
   ]
  },
  {
   "cell_type": "code",
   "execution_count": null,
   "id": "1f938c92-0541-494f-9cf5-3093ad8e917e",
   "metadata": {
    "pycharm": {
     "name": "#%%\n"
    }
   },
   "outputs": [],
   "source": []
  }
 ],
 "metadata": {
  "interpreter": {
   "hash": "02aa1679edd4a06f5b85738ebdeaad54fd91805d6ba50c75947a30cd3f6e5db1"
  },
  "kernelspec": {
   "display_name": "carwatch-analysis",
   "language": "python",
   "name": "carwatch-analysis"
  },
  "language_info": {
   "codemirror_mode": {
    "name": "ipython",
    "version": 3
   },
   "file_extension": ".py",
   "mimetype": "text/x-python",
   "name": "python",
   "nbconvert_exporter": "python",
   "pygments_lexer": "ipython3",
   "version": "3.8.3"
  }
 },
 "nbformat": 4,
 "nbformat_minor": 5
}