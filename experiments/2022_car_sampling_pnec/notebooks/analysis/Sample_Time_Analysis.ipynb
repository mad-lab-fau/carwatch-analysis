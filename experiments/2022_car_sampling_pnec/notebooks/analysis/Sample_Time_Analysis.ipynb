{
 "cells": [
  {
   "cell_type": "markdown",
   "id": "21bdd348-ae56-4221-b28a-a7752647a2dd",
   "metadata": {
    "pycharm": {
     "name": "#%% md\n"
    }
   },
   "source": [
    "# Sample Time Analysis"
   ]
  },
  {
   "cell_type": "code",
   "execution_count": 11,
   "id": "71aa15df-aad5-4822-999b-5649aba9fa4e",
   "metadata": {
    "collapsed": false,
    "jupyter": {
     "outputs_hidden": false
    },
    "pycharm": {
     "name": "#%%\n"
    }
   },
   "outputs": [
    {
     "name": "stdout",
     "output_type": "stream",
     "text": [
      "The autoreload extension is already loaded. To reload it, use:\n",
      "  %reload_ext autoreload\n"
     ]
    }
   ],
   "source": [
    "from pathlib import Path\n",
    "import json\n",
    "\n",
    "import pandas as pd\n",
    "import numpy as np\n",
    "import scipy.stats as stats\n",
    "import pingouin as pg\n",
    "\n",
    "import biopsykit as bp\n",
    "from biopsykit.stats import StatsPipeline\n",
    "from biopsykit.io import load_long_format_csv\n",
    "from biopsykit.utils.dataframe_handling import multi_xs\n",
    "\n",
    "from fau_colors import cmaps\n",
    "\n",
    "import matplotlib.pyplot as plt\n",
    "import seaborn as sns\n",
    "\n",
    "from carwatch_analysis.io import load_cortisol_samples_log_times\n",
    "from carwatch_analysis.datasets import CarWatchDatasetProcessed\n",
    "from carwatch_analysis.data_processing.sample_times import (\n",
    "    compute_cumulative_sampling_delay,\n",
    "    categorize_sampling_adherence,\n",
    ")\n",
    "from carwatch_analysis.stats import create_unique_night_id, median_iqr_saliva_samples\n",
    "from carwatch_analysis.plotting import multi_boxplot_sampling_delay, multi_paired_plot_sampling_delay\n",
    "\n",
    "%matplotlib widget\n",
    "%load_ext autoreload\n",
    "%autoreload 2"
   ]
  },
  {
   "cell_type": "code",
   "execution_count": 12,
   "id": "f7106914-3a75-4e76-a301-d5bcc391133a",
   "metadata": {
    "collapsed": false,
    "jupyter": {
     "outputs_hidden": false
    },
    "pycharm": {
     "name": "#%%\n"
    }
   },
   "outputs": [
    {
     "data": {
      "text/html": [
       "<svg  width=\"330\" height=\"55\"><rect x=\"0\" y=\"0\" width=\"55\" height=\"55\" style=\"fill:#002f6c;stroke-width:2;stroke:rgb(255,255,255)\"/><rect x=\"55\" y=\"0\" width=\"55\" height=\"55\" style=\"fill:#779fb5;stroke-width:2;stroke:rgb(255,255,255)\"/><rect x=\"110\" y=\"0\" width=\"55\" height=\"55\" style=\"fill:#ffb81c;stroke-width:2;stroke:rgb(255,255,255)\"/><rect x=\"165\" y=\"0\" width=\"55\" height=\"55\" style=\"fill:#00a3e0;stroke-width:2;stroke:rgb(255,255,255)\"/><rect x=\"220\" y=\"0\" width=\"55\" height=\"55\" style=\"fill:#43b02a;stroke-width:2;stroke:rgb(255,255,255)\"/><rect x=\"275\" y=\"0\" width=\"55\" height=\"55\" style=\"fill:#c8102e;stroke-width:2;stroke:rgb(255,255,255)\"/></svg>"
      ],
      "text/plain": [
       "[(0.0, 0.1843137254901961, 0.4235294117647059),\n",
       " (0.4666666666666667, 0.6235294117647059, 0.7098039215686275),\n",
       " (1.0, 0.7215686274509804, 0.10980392156862745),\n",
       " (0.0, 0.6392156862745098, 0.8784313725490196),\n",
       " (0.2627450980392157, 0.6901960784313725, 0.16470588235294117),\n",
       " (0.7843137254901961, 0.06274509803921569, 0.1803921568627451)]"
      ]
     },
     "execution_count": 12,
     "metadata": {},
     "output_type": "execute_result"
    }
   ],
   "source": [
    "plt.close(\"all\")\n",
    "\n",
    "palette = sns.color_palette(cmaps.faculties)\n",
    "\n",
    "theme_kwargs = {\"context\": \"talk\", \"style\": \"ticks\", \"palette\": palette}\n",
    "sns.set_theme(**theme_kwargs)\n",
    "\n",
    "plt.rcParams[\"figure.figsize\"] = (10, 5)\n",
    "plt.rcParams[\"pdf.fonttype\"] = 42\n",
    "plt.rcParams[\"mathtext.default\"] = \"regular\"\n",
    "\n",
    "export = True\n",
    "\n",
    "pg.options[\"round\"] = 4\n",
    "\n",
    "palette"
   ]
  },
  {
   "cell_type": "markdown",
   "id": "3f96cde6-7a9e-462f-8b46-c657542c1860",
   "metadata": {
    "pycharm": {
     "name": "#%% md\n"
    }
   },
   "source": [
    "## Setup Paths"
   ]
  },
  {
   "cell_type": "code",
   "execution_count": 13,
   "id": "b432506b-37c3-41ad-991a-7ace2b0706b9",
   "metadata": {
    "collapsed": false,
    "jupyter": {
     "outputs_hidden": false
    },
    "pycharm": {
     "name": "#%%\n"
    }
   },
   "outputs": [],
   "source": [
    "deploy_type = \"develop\""
   ]
  },
  {
   "cell_type": "code",
   "execution_count": 14,
   "id": "a7e55906-9b0a-4e73-8d00-1dda81c9d6a4",
   "metadata": {
    "collapsed": false,
    "jupyter": {
     "outputs_hidden": false
    },
    "pycharm": {
     "name": "#%%\n"
    }
   },
   "outputs": [
    {
     "data": {
      "text/plain": [
       "PosixPath('/Users/Richer/Documents/PhD/Projects/HealthPsychology/CARWatch/Data')"
      ]
     },
     "execution_count": 14,
     "metadata": {},
     "output_type": "execute_result"
    }
   ],
   "source": [
    "# build path to data folder\n",
    "config_dict = json.load(Path(\"../../../config.json\").open(encoding=\"utf-8\"))\n",
    "data_path = Path(\"..\").joinpath(config_dict[deploy_type][\"base_path\"])\n",
    "data_path"
   ]
  },
  {
   "cell_type": "code",
   "execution_count": 15,
   "id": "839da555-436e-4f7e-8bc8-c1bdc3702c1d",
   "metadata": {
    "collapsed": false,
    "jupyter": {
     "outputs_hidden": false
    },
    "pycharm": {
     "name": "#%%\n"
    }
   },
   "outputs": [
    {
     "data": {
      "text/html": [
       "<h4 style=\"margin-bottom: 0.1em;\">CarWatchDatasetProcessed [234 groups/rows]</h3>\n",
       "<div style=\"margin-top: 0em\">\n",
       "<style scoped>\n",
       "    .dataframe tbody tr th:only-of-type {\n",
       "        vertical-align: middle;\n",
       "    }\n",
       "\n",
       "    .dataframe tbody tr th {\n",
       "        vertical-align: top;\n",
       "    }\n",
       "\n",
       "    .dataframe thead th {\n",
       "        text-align: right;\n",
       "    }\n",
       "</style>\n",
       "<table style=\"margin-left: 3em;\">\n",
       "  <thead>\n",
       "    <tr style=\"text-align: right;\">\n",
       "      <th style=\"text-align: center;\"></th>\n",
       "      <th style=\"text-align: center;\">subject</th>\n",
       "      <th style=\"text-align: center;\">night</th>\n",
       "    </tr>\n",
       "  </thead>\n",
       "  <tbody>\n",
       "    <tr>\n",
       "      <th style=\"text-align: center;\">0</th>\n",
       "      <td style=\"text-align: center; padding-left: 2em; padding-right: 2em;\">AB19E</td>\n",
       "      <td style=\"text-align: center; padding-left: 2em; padding-right: 2em;\">0</td>\n",
       "    </tr>\n",
       "    <tr>\n",
       "      <th style=\"text-align: center;\">1</th>\n",
       "      <td style=\"text-align: center; padding-left: 2em; padding-right: 2em;\">AB19E</td>\n",
       "      <td style=\"text-align: center; padding-left: 2em; padding-right: 2em;\">1</td>\n",
       "    </tr>\n",
       "    <tr>\n",
       "      <th style=\"text-align: center;\">2</th>\n",
       "      <td style=\"text-align: center; padding-left: 2em; padding-right: 2em;\">AB31R</td>\n",
       "      <td style=\"text-align: center; padding-left: 2em; padding-right: 2em;\">0</td>\n",
       "    </tr>\n",
       "    <tr>\n",
       "      <th style=\"text-align: center;\">3</th>\n",
       "      <td style=\"text-align: center; padding-left: 2em; padding-right: 2em;\">AB31R</td>\n",
       "      <td style=\"text-align: center; padding-left: 2em; padding-right: 2em;\">1</td>\n",
       "    </tr>\n",
       "    <tr>\n",
       "      <th style=\"text-align: center;\">4</th>\n",
       "      <td style=\"text-align: center; padding-left: 2em; padding-right: 2em;\">AC12E</td>\n",
       "      <td style=\"text-align: center; padding-left: 2em; padding-right: 2em;\">0</td>\n",
       "    </tr>\n",
       "    <tr>\n",
       "      <th style=\"text-align: center;\">...</th>\n",
       "      <td style=\"text-align: center; padding-left: 2em; padding-right: 2em;\">...</td>\n",
       "      <td style=\"text-align: center; padding-left: 2em; padding-right: 2em;\">...</td>\n",
       "    </tr>\n",
       "    <tr>\n",
       "      <th style=\"text-align: center;\">229</th>\n",
       "      <td style=\"text-align: center; padding-left: 2em; padding-right: 2em;\">VE19A</td>\n",
       "      <td style=\"text-align: center; padding-left: 2em; padding-right: 2em;\">1</td>\n",
       "    </tr>\n",
       "    <tr>\n",
       "      <th style=\"text-align: center;\">230</th>\n",
       "      <td style=\"text-align: center; padding-left: 2em; padding-right: 2em;\">VS09S</td>\n",
       "      <td style=\"text-align: center; padding-left: 2em; padding-right: 2em;\">0</td>\n",
       "    </tr>\n",
       "    <tr>\n",
       "      <th style=\"text-align: center;\">231</th>\n",
       "      <td style=\"text-align: center; padding-left: 2em; padding-right: 2em;\">VS09S</td>\n",
       "      <td style=\"text-align: center; padding-left: 2em; padding-right: 2em;\">1</td>\n",
       "    </tr>\n",
       "    <tr>\n",
       "      <th style=\"text-align: center;\">232</th>\n",
       "      <td style=\"text-align: center; padding-left: 2em; padding-right: 2em;\">WM13K</td>\n",
       "      <td style=\"text-align: center; padding-left: 2em; padding-right: 2em;\">0</td>\n",
       "    </tr>\n",
       "    <tr>\n",
       "      <th style=\"text-align: center;\">233</th>\n",
       "      <td style=\"text-align: center; padding-left: 2em; padding-right: 2em;\">WM13K</td>\n",
       "      <td style=\"text-align: center; padding-left: 2em; padding-right: 2em;\">1</td>\n",
       "    </tr>\n",
       "  </tbody>\n",
       "</table>\n",
       "<p>234 rows × 2 columns</p>\n",
       "</div>"
      ],
      "text/plain": [
       "CarWatchDatasetProcessed [234 groups/rows]\n",
       "\n",
       "       subject  night\n",
       "   0     AB19E      0\n",
       "   1     AB19E      1\n",
       "   2     AB31R      0\n",
       "   3     AB31R      1\n",
       "   4     AC12E      0\n",
       "   ..      ...    ...\n",
       "   229   VE19A      1\n",
       "   230   VS09S      0\n",
       "   231   VS09S      1\n",
       "   232   WM13K      0\n",
       "   233   WM13K      1\n",
       "   \n",
       "   [234 rows x 2 columns]"
      ]
     },
     "execution_count": 15,
     "metadata": {},
     "output_type": "execute_result"
    }
   ],
   "source": [
    "dataset = CarWatchDatasetProcessed(data_path)\n",
    "dataset"
   ]
  },
  {
   "cell_type": "code",
   "execution_count": 16,
   "id": "ea24ba88-44f9-4975-a36e-997fda95a177",
   "metadata": {
    "collapsed": false,
    "jupyter": {
     "outputs_hidden": false
    },
    "pycharm": {
     "name": "#%%\n"
    }
   },
   "outputs": [],
   "source": [
    "base_path = Path(\"../..\")\n",
    "export_path = base_path.joinpath(\"exports\")\n",
    "result_path = base_path.joinpath(\"results\")\n",
    "stats_path = result_path.joinpath(\"statistics\")\n",
    "\n",
    "img_path = result_path.joinpath(\"plots\")\n",
    "\n",
    "paper_path = Path(json.load(Path(\"../paper_path.json\").open(encoding=\"utf-8\"))[\"paper_path\"])\n",
    "paper_img_path = paper_path.joinpath(\"img\")\n",
    "\n",
    "bp.utils.file_handling.mkdirs([result_path, stats_path, img_path, paper_img_path])"
   ]
  },
  {
   "cell_type": "markdown",
   "id": "f9e26413-c3ee-4efa-bf14-61f5d00a2147",
   "metadata": {
    "pycharm": {
     "name": "#%% md\n"
    }
   },
   "source": [
    "### Cortisol Samples"
   ]
  },
  {
   "cell_type": "code",
   "execution_count": 17,
   "id": "6cf521c3-e7b8-4a3b-9227-9425c9071050",
   "metadata": {
    "pycharm": {
     "name": "#%%\n"
    }
   },
   "outputs": [
    {
     "data": {
      "text/html": [
       "<div>\n",
       "<style scoped>\n",
       "    .dataframe tbody tr th:only-of-type {\n",
       "        vertical-align: middle;\n",
       "    }\n",
       "\n",
       "    .dataframe tbody tr th {\n",
       "        vertical-align: top;\n",
       "    }\n",
       "\n",
       "    .dataframe thead th {\n",
       "        text-align: right;\n",
       "    }\n",
       "</style>\n",
       "<table border=\"1\" class=\"dataframe\">\n",
       "  <thead>\n",
       "    <tr style=\"text-align: right;\">\n",
       "      <th></th>\n",
       "      <th></th>\n",
       "      <th></th>\n",
       "      <th></th>\n",
       "      <th></th>\n",
       "      <th></th>\n",
       "      <th>date</th>\n",
       "      <th>wake_onset</th>\n",
       "      <th>sample_time</th>\n",
       "      <th>cortisol</th>\n",
       "      <th>time_diff_to_wake_onset</th>\n",
       "      <th>time_diff_min</th>\n",
       "      <th>time_diff_to_naive_min</th>\n",
       "    </tr>\n",
       "    <tr>\n",
       "      <th>subject</th>\n",
       "      <th>night</th>\n",
       "      <th>night_id</th>\n",
       "      <th>condition</th>\n",
       "      <th>log_type</th>\n",
       "      <th>sample</th>\n",
       "      <th></th>\n",
       "      <th></th>\n",
       "      <th></th>\n",
       "      <th></th>\n",
       "      <th></th>\n",
       "      <th></th>\n",
       "      <th></th>\n",
       "    </tr>\n",
       "  </thead>\n",
       "  <tbody>\n",
       "    <tr>\n",
       "      <th rowspan=\"5\" valign=\"top\">AB19E</th>\n",
       "      <th rowspan=\"5\" valign=\"top\">0</th>\n",
       "      <th rowspan=\"5\" valign=\"top\">AB19E_0</th>\n",
       "      <th rowspan=\"5\" valign=\"top\">Known Alarm</th>\n",
       "      <th rowspan=\"5\" valign=\"top\">Naive</th>\n",
       "      <th>S0</th>\n",
       "      <td>2019-11-18</td>\n",
       "      <td>0 days 05:45:00</td>\n",
       "      <td>0 days 05:45:00</td>\n",
       "      <td>2.80</td>\n",
       "      <td>0 days 00:00:00</td>\n",
       "      <td>0.0</td>\n",
       "      <td>0.0</td>\n",
       "    </tr>\n",
       "    <tr>\n",
       "      <th>S1</th>\n",
       "      <td>2019-11-18</td>\n",
       "      <td>0 days 05:45:00</td>\n",
       "      <td>0 days 06:00:00</td>\n",
       "      <td>5.59</td>\n",
       "      <td>0 days 00:15:00</td>\n",
       "      <td>15.0</td>\n",
       "      <td>0.0</td>\n",
       "    </tr>\n",
       "    <tr>\n",
       "      <th>S2</th>\n",
       "      <td>2019-11-18</td>\n",
       "      <td>0 days 05:45:00</td>\n",
       "      <td>0 days 06:15:00</td>\n",
       "      <td>13.29</td>\n",
       "      <td>0 days 00:30:00</td>\n",
       "      <td>30.0</td>\n",
       "      <td>0.0</td>\n",
       "    </tr>\n",
       "    <tr>\n",
       "      <th>S3</th>\n",
       "      <td>2019-11-18</td>\n",
       "      <td>0 days 05:45:00</td>\n",
       "      <td>0 days 06:30:00</td>\n",
       "      <td>13.46</td>\n",
       "      <td>0 days 00:45:00</td>\n",
       "      <td>45.0</td>\n",
       "      <td>0.0</td>\n",
       "    </tr>\n",
       "    <tr>\n",
       "      <th>S4</th>\n",
       "      <td>2019-11-18</td>\n",
       "      <td>0 days 05:45:00</td>\n",
       "      <td>0 days 06:45:00</td>\n",
       "      <td>12.65</td>\n",
       "      <td>0 days 01:00:00</td>\n",
       "      <td>60.0</td>\n",
       "      <td>0.0</td>\n",
       "    </tr>\n",
       "  </tbody>\n",
       "</table>\n",
       "</div>"
      ],
      "text/plain": [
       "                                                         date      wake_onset  \\\n",
       "subject night night_id condition   log_type sample                              \n",
       "AB19E   0     AB19E_0  Known Alarm Naive    S0     2019-11-18 0 days 05:45:00   \n",
       "                                            S1     2019-11-18 0 days 05:45:00   \n",
       "                                            S2     2019-11-18 0 days 05:45:00   \n",
       "                                            S3     2019-11-18 0 days 05:45:00   \n",
       "                                            S4     2019-11-18 0 days 05:45:00   \n",
       "\n",
       "                                                       sample_time  cortisol  \\\n",
       "subject night night_id condition   log_type sample                             \n",
       "AB19E   0     AB19E_0  Known Alarm Naive    S0     0 days 05:45:00      2.80   \n",
       "                                            S1     0 days 06:00:00      5.59   \n",
       "                                            S2     0 days 06:15:00     13.29   \n",
       "                                            S3     0 days 06:30:00     13.46   \n",
       "                                            S4     0 days 06:45:00     12.65   \n",
       "\n",
       "                                                   time_diff_to_wake_onset  \\\n",
       "subject night night_id condition   log_type sample                           \n",
       "AB19E   0     AB19E_0  Known Alarm Naive    S0             0 days 00:00:00   \n",
       "                                            S1             0 days 00:15:00   \n",
       "                                            S2             0 days 00:30:00   \n",
       "                                            S3             0 days 00:45:00   \n",
       "                                            S4             0 days 01:00:00   \n",
       "\n",
       "                                                    time_diff_min  \\\n",
       "subject night night_id condition   log_type sample                  \n",
       "AB19E   0     AB19E_0  Known Alarm Naive    S0                0.0   \n",
       "                                            S1               15.0   \n",
       "                                            S2               30.0   \n",
       "                                            S3               45.0   \n",
       "                                            S4               60.0   \n",
       "\n",
       "                                                    time_diff_to_naive_min  \n",
       "subject night night_id condition   log_type sample                          \n",
       "AB19E   0     AB19E_0  Known Alarm Naive    S0                         0.0  \n",
       "                                            S1                         0.0  \n",
       "                                            S2                         0.0  \n",
       "                                            S3                         0.0  \n",
       "                                            S4                         0.0  "
      ]
     },
     "execution_count": 17,
     "metadata": {},
     "output_type": "execute_result"
    }
   ],
   "source": [
    "cort_path = export_path.joinpath(\"cortisol_samples_processed_all_log_types.csv\")\n",
    "cort_samples = load_cortisol_samples_log_times(cort_path)\n",
    "# rename condition for\n",
    "cort_samples = cort_samples.rename({\"Spontaneous\": \"Spontaneous Awakening\"}, level=\"condition\")\n",
    "cort_samples.head()"
   ]
  },
  {
   "cell_type": "code",
   "execution_count": 18,
   "id": "cc39c1ee-179e-45bf-a19f-f71a5545eff4",
   "metadata": {
    "pycharm": {
     "name": "#%%\n"
    }
   },
   "outputs": [],
   "source": [
    "conditions = [\"Spontaneous Awakening\", \"Known Alarm\", \"Unknown Alarm\"]\n",
    "log_types_fine = [\n",
    "    \"Naive\",\n",
    "    \"Selfreport without App\",\n",
    "    \"Selfreport with App\",\n",
    "    \"App\",\n",
    "    \"Sensor + Selfreport without App\",\n",
    "    \"Sensor + Selfreport with App\",\n",
    "    \"Sensor + App\",\n",
    "]\n",
    "log_types_coarse = [\"Naive\", \"Selfreport\", \"App\", \"Sensor + Selfreport\", \"Sensor + App\"]"
   ]
  },
  {
   "cell_type": "code",
   "execution_count": null,
   "outputs": [],
   "source": [
    "dict_sample_times = {}"
   ],
   "metadata": {
    "collapsed": false,
    "pycharm": {
     "name": "#%%\n"
    }
   }
  },
  {
   "cell_type": "markdown",
   "source": [
    "## Sample Times"
   ],
   "metadata": {
    "collapsed": false,
    "pycharm": {
     "name": "#%% md\n"
    }
   }
  },
  {
   "cell_type": "markdown",
   "source": [
    "### All Log Types"
   ],
   "metadata": {
    "collapsed": false,
    "pycharm": {
     "name": "#%% md\n"
    }
   }
  },
  {
   "cell_type": "markdown",
   "source": [
    "#### Median & IQR"
   ],
   "metadata": {
    "collapsed": false,
    "pycharm": {
     "name": "#%% md\n"
    }
   }
  },
  {
   "cell_type": "code",
   "execution_count": null,
   "outputs": [],
   "source": [
    "variable = \"time_diff_to_naive_min\"\n",
    "data_desc = median_iqr_saliva_samples(cort_samples, \"time_diff_to_naive_min\", [\"log_type\", \"sample\"])\n",
    "data_desc = data_desc.reindex(log_types_fine[1:])\n",
    "data_desc.columns = data_desc.columns.set_names(variable, level=-1)\n",
    "data_desc = data_desc.round(2)\n",
    "dict_sample_times[\"Sampling_Delay_Mean_IQR\"] = data_desc\n",
    "\n",
    "data_desc"
   ],
   "metadata": {
    "collapsed": false,
    "pycharm": {
     "name": "#%%\n"
    }
   }
  },
  {
   "cell_type": "markdown",
   "source": [
    "#### Cumulated Sampling Delay"
   ],
   "metadata": {
    "collapsed": false,
    "pycharm": {
     "name": "#%% md\n"
    }
   }
  },
  {
   "cell_type": "code",
   "execution_count": null,
   "outputs": [],
   "source": [
    "cum_sampling_delay = cort_samples[\"time_diff_to_naive_min\"].drop(\"Naive\", level=\"log_type\").unstack(\"sample\")\n",
    "cum_sampling_delay = compute_cumulative_sampling_delay(cum_sampling_delay)\n",
    "cum_sampling_delay = cum_sampling_delay.reindex(log_types_fine[1:]).round(2)\n",
    "dict_sample_times[\"Cumulative_Sampling_Delay\"] = cum_sampling_delay\n",
    "\n",
    "cum_sampling_delay"
   ],
   "metadata": {
    "collapsed": false,
    "pycharm": {
     "name": "#%%\n"
    }
   }
  },
  {
   "cell_type": "markdown",
   "source": [
    "#### Boxplots"
   ],
   "metadata": {
    "collapsed": false,
    "pycharm": {
     "name": "#%% md\n"
    }
   }
  },
  {
   "cell_type": "code",
   "execution_count": null,
   "outputs": [],
   "source": [
    "data_plot = cort_samples.drop(\"Naive\", level=\"log_type\")\n",
    "\n",
    "log_type_order = log_types_fine.copy()\n",
    "log_type_order.remove(\"Naive\")\n",
    "log_type_order.remove(\"Selfreport with App\")\n",
    "log_type_order.remove(\"Sensor + Selfreport with App\")\n",
    "\n",
    "fig, axs = multi_boxplot_sampling_delay(data_plot, order=log_type_order, figsize=(12, 4))\n",
    "\n",
    "for path in [img_path, paper_img_path]:\n",
    "    # fig.savefig(path.joinpath(\"img_log_time_differences.pdf\"), transparent=True)\n",
    "    bp.utils.file_handling.export_figure(\n",
    "        fig, filename=\"img_boxplot_sampling_delay\", base_dir=path, formats=[\"png\", \"pdf\"], dpi=300\n",
    "    )"
   ],
   "metadata": {
    "collapsed": false,
    "pycharm": {
     "name": "#%%\n"
    }
   }
  },
  {
   "cell_type": "markdown",
   "source": [
    "#### Paired Plots"
   ],
   "metadata": {
    "collapsed": false,
    "pycharm": {
     "name": "#%% md\n"
    }
   }
  },
  {
   "cell_type": "code",
   "execution_count": null,
   "outputs": [],
   "source": [
    "data_plot = cort_samples.copy()\n",
    "\n",
    "log_type_order = log_types_fine.copy()\n",
    "log_type_order.remove(\"Naive\")\n",
    "log_type_order.remove(\"Selfreport with App\")\n",
    "log_type_order.remove(\"Sensor + Selfreport with App\")\n",
    "\n",
    "fig, axs = multi_paired_plot_sampling_delay(data_plot, order=log_type_order, figsize=(12, 4))\n",
    "\n",
    "for path in [img_path, paper_img_path]:\n",
    "    # fig.savefig(path.joinpath(\"img_pair_plot_sampling_delay.pdf\"), transparent=True)\n",
    "    bp.utils.file_handling.export_figure(fig, \"img_pairedplot_sampling_delay\", path, formats=[\"png\", \"pdf\"], dpi=300)"
   ],
   "metadata": {
    "collapsed": false,
    "pycharm": {
     "name": "#%%\n"
    }
   }
  },
  {
   "cell_type": "markdown",
   "source": [
    "#### Compare Highest App-based Sampling Delays with Selfreport Sampling Delays"
   ],
   "metadata": {
    "collapsed": false,
    "pycharm": {
     "name": "#%% md\n"
    }
   }
  },
  {
   "cell_type": "markdown",
   "source": [
    "Get the three CARs with the highest $\\Delta s_0$ for *App* (see Paired Plot)"
   ],
   "metadata": {
    "collapsed": false,
    "pycharm": {
     "name": "#%% md\n"
    }
   }
  },
  {
   "cell_type": "code",
   "execution_count": null,
   "outputs": [],
   "source": [
    "cars_max_delay = cort_samples.xs(\"App\", level=\"log_type\")[\"time_diff_to_naive_min\"]\n",
    "cars_max_delay = cars_max_delay.unstack(\"sample\")[\"S0\"].sort_values(ascending=False).iloc[0:3]\n",
    "cars_max_delay = cars_max_delay.index.get_level_values(\"night_id\")\n",
    "cars_max_delay"
   ],
   "metadata": {
    "collapsed": false,
    "pycharm": {
     "name": "#%%\n"
    }
   }
  },
  {
   "cell_type": "code",
   "execution_count": null,
   "outputs": [],
   "source": [
    "max_delay_selfreport = cort_samples[\"time_diff_to_naive_min\"].reindex(cars_max_delay, level=\"night_id\")\n",
    "max_delay_selfreport = max_delay_selfreport.reindex([\"Selfreport\", \"App\"], level=\"log_type\").unstack(\n",
    "    [\"sample\", \"log_type\"]\n",
    ")\n",
    "max_delay_selfreport = max_delay_selfreport.sort_index(axis=1).dropna().sort_values(by=(\"S0\", \"App\"), ascending=False)\n",
    "max_delay_selfreport = max_delay_selfreport.round(2)\n",
    "dict_sample_times[\"Max_Sampling_Delay_SR_App\"] = max_delay_selfreport\n",
    "\n",
    "max_delay_selfreport"
   ],
   "metadata": {
    "collapsed": false,
    "pycharm": {
     "name": "#%%\n"
    }
   }
  },
  {
   "cell_type": "markdown",
   "source": [
    "#### Histogram"
   ],
   "metadata": {
    "collapsed": false,
    "pycharm": {
     "name": "#%% md\n"
    }
   }
  },
  {
   "cell_type": "code",
   "execution_count": null,
   "outputs": [],
   "source": [
    "col = \"time_diff_to_naive_min\"\n",
    "\n",
    "log_type_order = log_types_fine.copy()\n",
    "log_type_order.remove(\"Naive\")\n",
    "\n",
    "data_hist = cort_samples.reindex(log_type_order, level=\"log_type\")\n",
    "data_hist[col] = np.around(data_hist[col])\n",
    "\n",
    "fig, axs = plt.subplots(figsize=(12, 5), nrows=2, ncols=3, sharey=True, sharex=True)\n",
    "axs = axs.flatten()\n",
    "\n",
    "grouper = data_hist.groupby(\"log_type\")\n",
    "\n",
    "for log_type, ax in zip(log_type_order, axs):\n",
    "    df = grouper.get_group(log_type)\n",
    "    sns.histplot(data=df.reset_index(), x=col, stat=\"percent\", ax=ax, binwidth=1)\n",
    "    ax.minorticks_on()\n",
    "    ax.set_title(log_type, fontsize=\"small\")\n",
    "\n",
    "fig.tight_layout()"
   ],
   "metadata": {
    "collapsed": false,
    "pycharm": {
     "name": "#%%\n"
    }
   }
  },
  {
   "cell_type": "markdown",
   "source": [
    "### Selfreport without App vs. App"
   ],
   "metadata": {
    "collapsed": false,
    "pycharm": {
     "name": "#%% md\n"
    }
   }
  },
  {
   "cell_type": "markdown",
   "source": [
    "#### Paired Plots"
   ],
   "metadata": {
    "collapsed": false,
    "pycharm": {
     "name": "#%% md\n"
    }
   }
  },
  {
   "cell_type": "code",
   "execution_count": null,
   "outputs": [],
   "source": [
    "data_plot = cort_samples.reindex([\"Selfreport without App\", \"App\"], level=\"log_type\")\n",
    "data_plot.index = data_plot.index.rename({\"sample\": \"Sample\"})\n",
    "\n",
    "log_type_order = [\"Selfreport without App\", \"App\"]\n",
    "\n",
    "fig, axs = multi_paired_plot_sampling_delay(data_plot, order=log_type_order)\n",
    "\n",
    "fig.tight_layout()"
   ],
   "metadata": {
    "collapsed": false,
    "pycharm": {
     "name": "#%%\n"
    }
   }
  },
  {
   "cell_type": "markdown",
   "source": [
    "#### By Delay Groups"
   ],
   "metadata": {
    "collapsed": false,
    "pycharm": {
     "name": "#%% md\n"
    }
   }
  },
  {
   "cell_type": "code",
   "execution_count": null,
   "outputs": [],
   "source": [
    "delay_group_data = cort_samples.reindex([\"Selfreport without App\", \"App\"], level=\"log_type\")\n",
    "delay_group_data = categorize_sampling_adherence(delay_group_data)\n",
    "\n",
    "delay_group_percent = delay_group_data.groupby(\"log_type\").apply(\n",
    "    lambda df: df.groupby(\"delay_group\").apply(lambda d: len(d) / len(df) * 100)\n",
    ")\n",
    "delay_group_percent = delay_group_percent.round(2)\n",
    "dict_sample_times[\"Adherence_App_Selfreport\"] = delay_group_percent\n",
    "\n",
    "delay_group_percent"
   ],
   "metadata": {
    "collapsed": false,
    "pycharm": {
     "name": "#%%\n"
    }
   }
  },
  {
   "cell_type": "markdown",
   "source": [
    "### Selfreport without App vs. with App"
   ],
   "metadata": {
    "collapsed": false,
    "pycharm": {
     "name": "#%% md\n"
    }
   }
  },
  {
   "cell_type": "markdown",
   "source": [
    "#### Data Preparation"
   ],
   "metadata": {
    "collapsed": false,
    "pycharm": {
     "name": "#%% md\n"
    }
   }
  },
  {
   "cell_type": "code",
   "execution_count": null,
   "outputs": [],
   "source": [
    "cort_samples_selfreport = cort_samples.reindex([\"Selfreport without App\", \"Selfreport with App\"], level=\"log_type\")\n",
    "cort_samples_selfreport.head()"
   ],
   "metadata": {
    "collapsed": false,
    "pycharm": {
     "name": "#%%\n"
    }
   }
  },
  {
   "cell_type": "markdown",
   "source": [
    "#### Boxplot"
   ],
   "metadata": {
    "collapsed": false,
    "pycharm": {
     "name": "#%% md\n"
    }
   }
  },
  {
   "cell_type": "code",
   "execution_count": null,
   "outputs": [],
   "source": [
    "# data_analysis = cort_samples_selfreport.copy()\n",
    "#\n",
    "# pipeline = StatsPipeline(\n",
    "#    steps=[\n",
    "#        (\"prep\", \"normality\"),\n",
    "#        (\"prep\", \"equal_var\"),\n",
    "#        (\"test\", \"mixed_anova\"),\n",
    "#        (\"posthoc\", \"pairwise_ttests\")\n",
    "#    ],\n",
    "#    params={\n",
    "#        \"dv\": \"time_diff_to_naive_min\",\n",
    "#        \"within\": \"sample\",\n",
    "#        \"between\": \"log_type\",\n",
    "#        \"subject\": \"night_id\",\n",
    "#        \"multicomp\": {\"method\": \"bonf\"}\n",
    "#    }\n",
    "# )\n",
    "#\n",
    "# pipeline.apply(data_analysis)\n",
    "# pipeline.display_results(prep=True, posthoc=False)"
   ],
   "metadata": {
    "collapsed": false,
    "pycharm": {
     "name": "#%%\n"
    }
   }
  },
  {
   "cell_type": "code",
   "execution_count": null,
   "outputs": [],
   "source": [
    "fig, ax = plt.subplots()\n",
    "\n",
    "bp.plotting.feature_boxplot(\n",
    "    data=cort_samples_selfreport.reset_index(),\n",
    "    x=\"sample\",\n",
    "    y=\"time_diff_to_naive_min\",\n",
    "    hue=\"log_type\",\n",
    "    hue_order=[\"Selfreport without App\", \"Selfreport with App\"],\n",
    "    legend_orientation=\"horizontal\",\n",
    "    legend_loc=\"upper center\",\n",
    "    rect=(0, 0, 1, 0.9),\n",
    "    ax=ax,\n",
    ")\n",
    "ax.set_ylabel(\"$\\Delta s$ [min]\")\n",
    "ax.set_xlabel(\"Sample\")\n",
    "\n",
    "for path in [img_path, paper_img_path]:\n",
    "    bp.utils.file_handling.export_figure(fig, \"img_boxplot_sampling_delay_selfreport\", path, [\"pdf\", \"png\"])"
   ],
   "metadata": {
    "collapsed": false,
    "pycharm": {
     "name": "#%%\n"
    }
   }
  },
  {
   "cell_type": "markdown",
   "source": [
    "### Sensor"
   ],
   "metadata": {
    "collapsed": false,
    "pycharm": {
     "name": "#%% md\n"
    }
   }
  },
  {
   "cell_type": "markdown",
   "source": [
    "#### Data Preparation"
   ],
   "metadata": {
    "collapsed": false,
    "pycharm": {
     "name": "#%% md\n"
    }
   }
  },
  {
   "cell_type": "code",
   "execution_count": null,
   "outputs": [],
   "source": [
    "log_order = [\"Sensor + Selfreport without App\", \"Sensor + App\"]\n",
    "\n",
    "data_sensor = multi_xs(cort_samples, log_order, level=\"log_type\")\n",
    "data_sensor.head()"
   ],
   "metadata": {
    "collapsed": false,
    "pycharm": {
     "name": "#%%\n"
    }
   }
  },
  {
   "cell_type": "markdown",
   "source": [
    "#### Median & IQR"
   ],
   "metadata": {
    "collapsed": false,
    "pycharm": {
     "name": "#%% md\n"
    }
   }
  },
  {
   "cell_type": "code",
   "execution_count": null,
   "outputs": [],
   "source": [
    "data_desc = median_iqr_saliva_samples(data_sensor, \"time_diff_to_naive_min\", [\"log_type\", \"sample\"])\n",
    "data_desc.head()"
   ],
   "metadata": {
    "collapsed": false,
    "pycharm": {
     "name": "#%%\n"
    }
   }
  },
  {
   "cell_type": "markdown",
   "source": [
    "#### By Delay Groups"
   ],
   "metadata": {
    "collapsed": false,
    "pycharm": {
     "name": "#%% md\n"
    }
   }
  },
  {
   "cell_type": "code",
   "execution_count": null,
   "outputs": [],
   "source": [
    "delay_group_data = data_sensor.reindex(log_order, level=\"log_type\")\n",
    "delay_group_data = categorize_sampling_adherence(delay_group_data)\n",
    "\n",
    "delay_group_percent = delay_group_data.groupby(\"log_type\").apply(\n",
    "    lambda df: df.groupby(\"delay_group\").apply(lambda d: len(d) / len(df) * 100)\n",
    ")\n",
    "delay_group_percent = delay_group_percent.round(2)\n",
    "dict_sample_times[\"Adherence_Sensor_App_Selfreport\"] = delay_group_percent\n",
    "delay_group_percent"
   ],
   "metadata": {
    "collapsed": false,
    "pycharm": {
     "name": "#%%\n"
    }
   }
  },
  {
   "cell_type": "markdown",
   "source": [
    "## Export"
   ],
   "metadata": {
    "collapsed": false,
    "pycharm": {
     "name": "#%% md\n"
    }
   }
  },
  {
   "cell_type": "code",
   "execution_count": null,
   "outputs": [],
   "source": [
    "bp.io.write_pandas_dict_excel(dict_sample_times, result_path.joinpath(\"sample_time_results.xlsx\"))"
   ],
   "metadata": {
    "collapsed": false,
    "pycharm": {
     "name": "#%%\n"
    }
   }
  }
 ],
 "metadata": {
  "interpreter": {
   "hash": "02aa1679edd4a06f5b85738ebdeaad54fd91805d6ba50c75947a30cd3f6e5db1"
  },
  "kernelspec": {
   "display_name": "carwatch-analysis",
   "language": "python",
   "name": "carwatch-analysis"
  },
  "language_info": {
   "codemirror_mode": {
    "name": "ipython",
    "version": 3
   },
   "file_extension": ".py",
   "mimetype": "text/x-python",
   "name": "python",
   "nbconvert_exporter": "python",
   "pygments_lexer": "ipython3",
   "version": "3.8.3"
  }
 },
 "nbformat": 4,
 "nbformat_minor": 5
}