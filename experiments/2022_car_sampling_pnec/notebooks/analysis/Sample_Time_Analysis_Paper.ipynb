{
 "cells": [
  {
   "cell_type": "markdown",
   "id": "21bdd348-ae56-4221-b28a-a7752647a2dd",
   "metadata": {
    "pycharm": {
     "name": "#%% md\n"
    }
   },
   "source": [
    "# Sample Time Analysis"
   ]
  },
  {
   "cell_type": "code",
   "execution_count": 1,
   "id": "71aa15df-aad5-4822-999b-5649aba9fa4e",
   "metadata": {
    "collapsed": false,
    "jupyter": {
     "outputs_hidden": false
    },
    "pycharm": {
     "name": "#%%\n"
    }
   },
   "outputs": [],
   "source": [
    "from pathlib import Path\n",
    "import json\n",
    "\n",
    "import pandas as pd\n",
    "import numpy as np\n",
    "import scipy.stats as stats\n",
    "import pingouin as pg\n",
    "\n",
    "import biopsykit as bp\n",
    "from biopsykit.stats import StatsPipeline\n",
    "from biopsykit.io import load_long_format_csv\n",
    "from biopsykit.utils.dataframe_handling import multi_xs\n",
    "\n",
    "from fau_colors import cmaps, register_fausans_font\n",
    "\n",
    "import matplotlib.pyplot as plt\n",
    "import seaborn as sns\n",
    "\n",
    "from carwatch_analysis.io import load_cortisol_samples_reporting_times\n",
    "from carwatch_analysis.datasets import CarWatchDatasetProcessed\n",
    "from carwatch_analysis.data_processing.sample_times import (\n",
    "    compute_cumulative_sampling_delay,\n",
    "    categorize_sampling_adherence,\n",
    "    compute_max_delay_selfreport\n",
    ")\n",
    "from carwatch_analysis.stats import create_unique_night_id, median_iqr_saliva_samples\n",
    "from carwatch_analysis.plotting import (\n",
    "    multi_boxplot_sampling_delay,\n",
    "    multi_paired_plot_sampling_delay,\n",
    "    sampling_delay_histogram,\n",
    ")\n",
    "\n",
    "%matplotlib widget\n",
    "%load_ext autoreload\n",
    "%autoreload 2"
   ]
  },
  {
   "cell_type": "code",
   "execution_count": 2,
   "id": "f7106914-3a75-4e76-a301-d5bcc391133a",
   "metadata": {
    "collapsed": false,
    "jupyter": {
     "outputs_hidden": false
    },
    "pycharm": {
     "name": "#%%\n"
    }
   },
   "outputs": [
    {
     "name": "stdout",
     "output_type": "stream",
     "text": [
      "Successfully registered FAU Sans font.\n"
     ]
    },
    {
     "data": {
      "text/html": [
       "<svg  width=\"330\" height=\"55\"><rect x=\"0\" y=\"0\" width=\"55\" height=\"55\" style=\"fill:#002f6c;stroke-width:2;stroke:rgb(255,255,255)\"/><rect x=\"55\" y=\"0\" width=\"55\" height=\"55\" style=\"fill:#779fb5;stroke-width:2;stroke:rgb(255,255,255)\"/><rect x=\"110\" y=\"0\" width=\"55\" height=\"55\" style=\"fill:#ffb81c;stroke-width:2;stroke:rgb(255,255,255)\"/><rect x=\"165\" y=\"0\" width=\"55\" height=\"55\" style=\"fill:#00a3e0;stroke-width:2;stroke:rgb(255,255,255)\"/><rect x=\"220\" y=\"0\" width=\"55\" height=\"55\" style=\"fill:#43b02a;stroke-width:2;stroke:rgb(255,255,255)\"/><rect x=\"275\" y=\"0\" width=\"55\" height=\"55\" style=\"fill:#c8102e;stroke-width:2;stroke:rgb(255,255,255)\"/></svg>"
      ],
      "text/plain": [
       "[(0.0, 0.1843137254901961, 0.4235294117647059),\n",
       " (0.4666666666666667, 0.6235294117647059, 0.7098039215686275),\n",
       " (1.0, 0.7215686274509804, 0.10980392156862745),\n",
       " (0.0, 0.6392156862745098, 0.8784313725490196),\n",
       " (0.2627450980392157, 0.6901960784313725, 0.16470588235294117),\n",
       " (0.7843137254901961, 0.06274509803921569, 0.1803921568627451)]"
      ]
     },
     "execution_count": 2,
     "metadata": {},
     "output_type": "execute_result"
    }
   ],
   "source": [
    "register_fausans_font()\n",
    "plt.close(\"all\")\n",
    "\n",
    "palette = sns.color_palette(cmaps.faculties)\n",
    "\n",
    "theme_kwargs = {\"context\": \"talk\", \"style\": \"ticks\", \"palette\": palette}\n",
    "sns.set_theme(**theme_kwargs)\n",
    "\n",
    "plt.rcParams[\"figure.figsize\"] = (10, 5)\n",
    "plt.rcParams[\"pdf.fonttype\"] = 42\n",
    "plt.rcParams[\"mathtext.default\"] = \"regular\"\n",
    "plt.rcParams[\"font.family\"] = \"sans-serif\"\n",
    "plt.rcParams[\"font.sans-serif\"] = \"FAUSans Office\"\n",
    "\n",
    "export = True\n",
    "\n",
    "pg.options[\"round\"] = 4\n",
    "\n",
    "palette"
   ]
  },
  {
   "cell_type": "markdown",
   "id": "3f96cde6-7a9e-462f-8b46-c657542c1860",
   "metadata": {
    "pycharm": {
     "name": "#%% md\n"
    }
   },
   "source": [
    "## Setup Paths"
   ]
  },
  {
   "cell_type": "code",
   "execution_count": 3,
   "id": "b432506b-37c3-41ad-991a-7ace2b0706b9",
   "metadata": {
    "collapsed": false,
    "jupyter": {
     "outputs_hidden": false
    },
    "pycharm": {
     "name": "#%%\n"
    }
   },
   "outputs": [],
   "source": [
    "deploy_type = \"develop\""
   ]
  },
  {
   "cell_type": "code",
   "execution_count": 4,
   "id": "a7e55906-9b0a-4e73-8d00-1dda81c9d6a4",
   "metadata": {
    "collapsed": false,
    "jupyter": {
     "outputs_hidden": false
    },
    "pycharm": {
     "name": "#%%\n"
    }
   },
   "outputs": [
    {
     "data": {
      "text/plain": [
       "PosixPath('/Users/Richer/Documents/PhD/Projects/HealthPsychology/CARWatch/Data')"
      ]
     },
     "execution_count": 4,
     "metadata": {},
     "output_type": "execute_result"
    }
   ],
   "source": [
    "# build path to data folder\n",
    "config_dict = json.load(Path(\"../../../config.json\").open(encoding=\"utf-8\"))\n",
    "data_path = Path(\"..\").joinpath(config_dict[deploy_type][\"base_path\"])\n",
    "data_path"
   ]
  },
  {
   "cell_type": "code",
   "execution_count": 5,
   "id": "839da555-436e-4f7e-8bc8-c1bdc3702c1d",
   "metadata": {
    "collapsed": false,
    "jupyter": {
     "outputs_hidden": false
    },
    "pycharm": {
     "name": "#%%\n"
    }
   },
   "outputs": [
    {
     "data": {
      "text/html": [
       "<h4 style=\"margin-bottom: 0.1em;\">CarWatchDatasetProcessed [234 groups/rows]</h3>\n",
       "<div style=\"margin-top: 0em\">\n",
       "<style scoped>\n",
       "    .dataframe tbody tr th:only-of-type {\n",
       "        vertical-align: middle;\n",
       "    }\n",
       "\n",
       "    .dataframe tbody tr th {\n",
       "        vertical-align: top;\n",
       "    }\n",
       "\n",
       "    .dataframe thead th {\n",
       "        text-align: right;\n",
       "    }\n",
       "</style>\n",
       "<table style=\"margin-left: 3em;\">\n",
       "  <thead>\n",
       "    <tr style=\"text-align: right;\">\n",
       "      <th style=\"text-align: center;\"></th>\n",
       "      <th style=\"text-align: center;\">subject</th>\n",
       "      <th style=\"text-align: center;\">night</th>\n",
       "    </tr>\n",
       "  </thead>\n",
       "  <tbody>\n",
       "    <tr>\n",
       "      <th style=\"text-align: center;\">0</th>\n",
       "      <td style=\"text-align: center; padding-left: 2em; padding-right: 2em;\">AB19E</td>\n",
       "      <td style=\"text-align: center; padding-left: 2em; padding-right: 2em;\">0</td>\n",
       "    </tr>\n",
       "    <tr>\n",
       "      <th style=\"text-align: center;\">1</th>\n",
       "      <td style=\"text-align: center; padding-left: 2em; padding-right: 2em;\">AB19E</td>\n",
       "      <td style=\"text-align: center; padding-left: 2em; padding-right: 2em;\">1</td>\n",
       "    </tr>\n",
       "    <tr>\n",
       "      <th style=\"text-align: center;\">2</th>\n",
       "      <td style=\"text-align: center; padding-left: 2em; padding-right: 2em;\">AB31R</td>\n",
       "      <td style=\"text-align: center; padding-left: 2em; padding-right: 2em;\">0</td>\n",
       "    </tr>\n",
       "    <tr>\n",
       "      <th style=\"text-align: center;\">3</th>\n",
       "      <td style=\"text-align: center; padding-left: 2em; padding-right: 2em;\">AB31R</td>\n",
       "      <td style=\"text-align: center; padding-left: 2em; padding-right: 2em;\">1</td>\n",
       "    </tr>\n",
       "    <tr>\n",
       "      <th style=\"text-align: center;\">4</th>\n",
       "      <td style=\"text-align: center; padding-left: 2em; padding-right: 2em;\">AC12E</td>\n",
       "      <td style=\"text-align: center; padding-left: 2em; padding-right: 2em;\">0</td>\n",
       "    </tr>\n",
       "    <tr>\n",
       "      <th style=\"text-align: center;\">...</th>\n",
       "      <td style=\"text-align: center; padding-left: 2em; padding-right: 2em;\">...</td>\n",
       "      <td style=\"text-align: center; padding-left: 2em; padding-right: 2em;\">...</td>\n",
       "    </tr>\n",
       "    <tr>\n",
       "      <th style=\"text-align: center;\">229</th>\n",
       "      <td style=\"text-align: center; padding-left: 2em; padding-right: 2em;\">VE19A</td>\n",
       "      <td style=\"text-align: center; padding-left: 2em; padding-right: 2em;\">1</td>\n",
       "    </tr>\n",
       "    <tr>\n",
       "      <th style=\"text-align: center;\">230</th>\n",
       "      <td style=\"text-align: center; padding-left: 2em; padding-right: 2em;\">VS09S</td>\n",
       "      <td style=\"text-align: center; padding-left: 2em; padding-right: 2em;\">0</td>\n",
       "    </tr>\n",
       "    <tr>\n",
       "      <th style=\"text-align: center;\">231</th>\n",
       "      <td style=\"text-align: center; padding-left: 2em; padding-right: 2em;\">VS09S</td>\n",
       "      <td style=\"text-align: center; padding-left: 2em; padding-right: 2em;\">1</td>\n",
       "    </tr>\n",
       "    <tr>\n",
       "      <th style=\"text-align: center;\">232</th>\n",
       "      <td style=\"text-align: center; padding-left: 2em; padding-right: 2em;\">WM13K</td>\n",
       "      <td style=\"text-align: center; padding-left: 2em; padding-right: 2em;\">0</td>\n",
       "    </tr>\n",
       "    <tr>\n",
       "      <th style=\"text-align: center;\">233</th>\n",
       "      <td style=\"text-align: center; padding-left: 2em; padding-right: 2em;\">WM13K</td>\n",
       "      <td style=\"text-align: center; padding-left: 2em; padding-right: 2em;\">1</td>\n",
       "    </tr>\n",
       "  </tbody>\n",
       "</table>\n",
       "<p>234 rows × 2 columns</p>\n",
       "</div>"
      ],
      "text/plain": [
       "CarWatchDatasetProcessed [234 groups/rows]\n",
       "\n",
       "       subject  night\n",
       "   0     AB19E      0\n",
       "   1     AB19E      1\n",
       "   2     AB31R      0\n",
       "   3     AB31R      1\n",
       "   4     AC12E      0\n",
       "   ..      ...    ...\n",
       "   229   VE19A      1\n",
       "   230   VS09S      0\n",
       "   231   VS09S      1\n",
       "   232   WM13K      0\n",
       "   233   WM13K      1\n",
       "   \n",
       "   [234 rows x 2 columns]"
      ]
     },
     "execution_count": 5,
     "metadata": {},
     "output_type": "execute_result"
    }
   ],
   "source": [
    "dataset = CarWatchDatasetProcessed(data_path)\n",
    "dataset"
   ]
  },
  {
   "cell_type": "code",
   "execution_count": 6,
   "id": "ea24ba88-44f9-4975-a36e-997fda95a177",
   "metadata": {
    "collapsed": false,
    "jupyter": {
     "outputs_hidden": false
    },
    "pycharm": {
     "name": "#%%\n"
    }
   },
   "outputs": [],
   "source": [
    "base_path = Path(\"../..\")\n",
    "export_path = base_path.joinpath(\"exports\")\n",
    "result_path = base_path.joinpath(\"results\")\n",
    "stats_path = result_path.joinpath(\"statistics\")\n",
    "\n",
    "img_path = result_path.joinpath(\"plots\")\n",
    "\n",
    "paper_path = Path(json.load(Path(\"../paper_path.json\").open(encoding=\"utf-8\"))[\"paper_path\"])\n",
    "paper_img_path = paper_path.joinpath(\"img\")\n",
    "\n",
    "bp.utils.file_handling.mkdirs([result_path, stats_path, img_path, paper_img_path])"
   ]
  },
  {
   "cell_type": "markdown",
   "id": "f9e26413-c3ee-4efa-bf14-61f5d00a2147",
   "metadata": {
    "pycharm": {
     "name": "#%% md\n"
    }
   },
   "source": [
    "### Cortisol Samples"
   ]
  },
  {
   "cell_type": "code",
   "execution_count": 7,
   "id": "6cf521c3-e7b8-4a3b-9227-9425c9071050",
   "metadata": {
    "pycharm": {
     "name": "#%%\n"
    }
   },
   "outputs": [
    {
     "data": {
      "text/html": [
       "<div>\n",
       "<style scoped>\n",
       "    .dataframe tbody tr th:only-of-type {\n",
       "        vertical-align: middle;\n",
       "    }\n",
       "\n",
       "    .dataframe tbody tr th {\n",
       "        vertical-align: top;\n",
       "    }\n",
       "\n",
       "    .dataframe thead th {\n",
       "        text-align: right;\n",
       "    }\n",
       "</style>\n",
       "<table border=\"1\" class=\"dataframe\">\n",
       "  <thead>\n",
       "    <tr style=\"text-align: right;\">\n",
       "      <th></th>\n",
       "      <th></th>\n",
       "      <th></th>\n",
       "      <th></th>\n",
       "      <th></th>\n",
       "      <th></th>\n",
       "      <th>date</th>\n",
       "      <th>wake_onset</th>\n",
       "      <th>sample_time</th>\n",
       "      <th>cortisol</th>\n",
       "      <th>time_diff_to_wake_onset</th>\n",
       "      <th>time_diff_min</th>\n",
       "      <th>time_diff_to_naive_min</th>\n",
       "    </tr>\n",
       "    <tr>\n",
       "      <th>subject</th>\n",
       "      <th>night</th>\n",
       "      <th>night_id</th>\n",
       "      <th>condition</th>\n",
       "      <th>reporting_type</th>\n",
       "      <th>sample</th>\n",
       "      <th></th>\n",
       "      <th></th>\n",
       "      <th></th>\n",
       "      <th></th>\n",
       "      <th></th>\n",
       "      <th></th>\n",
       "      <th></th>\n",
       "    </tr>\n",
       "  </thead>\n",
       "  <tbody>\n",
       "    <tr>\n",
       "      <th rowspan=\"5\" valign=\"top\">AB19E</th>\n",
       "      <th rowspan=\"5\" valign=\"top\">0</th>\n",
       "      <th rowspan=\"5\" valign=\"top\">AB19E_0</th>\n",
       "      <th rowspan=\"5\" valign=\"top\">Known Alarm</th>\n",
       "      <th rowspan=\"5\" valign=\"top\">Naive</th>\n",
       "      <th>S1</th>\n",
       "      <td>2019-11-18</td>\n",
       "      <td>0 days 05:45:00</td>\n",
       "      <td>0 days 05:45:00</td>\n",
       "      <td>2.80</td>\n",
       "      <td>0 days 00:00:00</td>\n",
       "      <td>0.0</td>\n",
       "      <td>0.0</td>\n",
       "    </tr>\n",
       "    <tr>\n",
       "      <th>S2</th>\n",
       "      <td>2019-11-18</td>\n",
       "      <td>0 days 05:45:00</td>\n",
       "      <td>0 days 06:00:00</td>\n",
       "      <td>5.59</td>\n",
       "      <td>0 days 00:15:00</td>\n",
       "      <td>15.0</td>\n",
       "      <td>0.0</td>\n",
       "    </tr>\n",
       "    <tr>\n",
       "      <th>S3</th>\n",
       "      <td>2019-11-18</td>\n",
       "      <td>0 days 05:45:00</td>\n",
       "      <td>0 days 06:15:00</td>\n",
       "      <td>13.29</td>\n",
       "      <td>0 days 00:30:00</td>\n",
       "      <td>30.0</td>\n",
       "      <td>0.0</td>\n",
       "    </tr>\n",
       "    <tr>\n",
       "      <th>S4</th>\n",
       "      <td>2019-11-18</td>\n",
       "      <td>0 days 05:45:00</td>\n",
       "      <td>0 days 06:30:00</td>\n",
       "      <td>13.46</td>\n",
       "      <td>0 days 00:45:00</td>\n",
       "      <td>45.0</td>\n",
       "      <td>0.0</td>\n",
       "    </tr>\n",
       "    <tr>\n",
       "      <th>S5</th>\n",
       "      <td>2019-11-18</td>\n",
       "      <td>0 days 05:45:00</td>\n",
       "      <td>0 days 06:45:00</td>\n",
       "      <td>12.65</td>\n",
       "      <td>0 days 01:00:00</td>\n",
       "      <td>60.0</td>\n",
       "      <td>0.0</td>\n",
       "    </tr>\n",
       "  </tbody>\n",
       "</table>\n",
       "</div>"
      ],
      "text/plain": [
       "                                                               date  \\\n",
       "subject night night_id condition   reporting_type sample              \n",
       "AB19E   0     AB19E_0  Known Alarm Naive          S1     2019-11-18   \n",
       "                                                  S2     2019-11-18   \n",
       "                                                  S3     2019-11-18   \n",
       "                                                  S4     2019-11-18   \n",
       "                                                  S5     2019-11-18   \n",
       "\n",
       "                                                              wake_onset  \\\n",
       "subject night night_id condition   reporting_type sample                   \n",
       "AB19E   0     AB19E_0  Known Alarm Naive          S1     0 days 05:45:00   \n",
       "                                                  S2     0 days 05:45:00   \n",
       "                                                  S3     0 days 05:45:00   \n",
       "                                                  S4     0 days 05:45:00   \n",
       "                                                  S5     0 days 05:45:00   \n",
       "\n",
       "                                                             sample_time  \\\n",
       "subject night night_id condition   reporting_type sample                   \n",
       "AB19E   0     AB19E_0  Known Alarm Naive          S1     0 days 05:45:00   \n",
       "                                                  S2     0 days 06:00:00   \n",
       "                                                  S3     0 days 06:15:00   \n",
       "                                                  S4     0 days 06:30:00   \n",
       "                                                  S5     0 days 06:45:00   \n",
       "\n",
       "                                                          cortisol  \\\n",
       "subject night night_id condition   reporting_type sample             \n",
       "AB19E   0     AB19E_0  Known Alarm Naive          S1          2.80   \n",
       "                                                  S2          5.59   \n",
       "                                                  S3         13.29   \n",
       "                                                  S4         13.46   \n",
       "                                                  S5         12.65   \n",
       "\n",
       "                                                         time_diff_to_wake_onset  \\\n",
       "subject night night_id condition   reporting_type sample                           \n",
       "AB19E   0     AB19E_0  Known Alarm Naive          S1             0 days 00:00:00   \n",
       "                                                  S2             0 days 00:15:00   \n",
       "                                                  S3             0 days 00:30:00   \n",
       "                                                  S4             0 days 00:45:00   \n",
       "                                                  S5             0 days 01:00:00   \n",
       "\n",
       "                                                          time_diff_min  \\\n",
       "subject night night_id condition   reporting_type sample                  \n",
       "AB19E   0     AB19E_0  Known Alarm Naive          S1                0.0   \n",
       "                                                  S2               15.0   \n",
       "                                                  S3               30.0   \n",
       "                                                  S4               45.0   \n",
       "                                                  S5               60.0   \n",
       "\n",
       "                                                          time_diff_to_naive_min  \n",
       "subject night night_id condition   reporting_type sample                          \n",
       "AB19E   0     AB19E_0  Known Alarm Naive          S1                         0.0  \n",
       "                                                  S2                         0.0  \n",
       "                                                  S3                         0.0  \n",
       "                                                  S4                         0.0  \n",
       "                                                  S5                         0.0  "
      ]
     },
     "execution_count": 7,
     "metadata": {},
     "output_type": "execute_result"
    }
   ],
   "source": [
    "cort_path = export_path.joinpath(\"cortisol_samples_processed_all_reporting_types.csv\")\n",
    "cort_samples = load_cortisol_samples_reporting_times(cort_path)\n",
    "# rename condition for table and plotting\n",
    "cort_samples = cort_samples.rename({\"Spontaneous\": \"Spontaneous Awakening\"}, level=\"condition\")\n",
    "\n",
    "cort_samples.head()"
   ]
  },
  {
   "cell_type": "code",
   "execution_count": 8,
   "id": "cc39c1ee-179e-45bf-a19f-f71a5545eff4",
   "metadata": {
    "pycharm": {
     "name": "#%%\n"
    }
   },
   "outputs": [
    {
     "data": {
      "text/html": [
       "<div>\n",
       "<style scoped>\n",
       "    .dataframe tbody tr th:only-of-type {\n",
       "        vertical-align: middle;\n",
       "    }\n",
       "\n",
       "    .dataframe tbody tr th {\n",
       "        vertical-align: top;\n",
       "    }\n",
       "\n",
       "    .dataframe thead th {\n",
       "        text-align: right;\n",
       "    }\n",
       "</style>\n",
       "<table border=\"1\" class=\"dataframe\">\n",
       "  <thead>\n",
       "    <tr style=\"text-align: right;\">\n",
       "      <th></th>\n",
       "      <th></th>\n",
       "      <th></th>\n",
       "      <th></th>\n",
       "      <th></th>\n",
       "      <th></th>\n",
       "      <th>date</th>\n",
       "      <th>wake_onset</th>\n",
       "      <th>sample_time</th>\n",
       "      <th>cortisol</th>\n",
       "      <th>time_diff_to_wake_onset</th>\n",
       "      <th>time_diff_min</th>\n",
       "      <th>time_diff_to_naive_min</th>\n",
       "    </tr>\n",
       "    <tr>\n",
       "      <th>subject</th>\n",
       "      <th>night</th>\n",
       "      <th>night_id</th>\n",
       "      <th>condition</th>\n",
       "      <th>reporting_type</th>\n",
       "      <th>sample</th>\n",
       "      <th></th>\n",
       "      <th></th>\n",
       "      <th></th>\n",
       "      <th></th>\n",
       "      <th></th>\n",
       "      <th></th>\n",
       "      <th></th>\n",
       "    </tr>\n",
       "  </thead>\n",
       "  <tbody>\n",
       "    <tr>\n",
       "      <th rowspan=\"5\" valign=\"top\">AB19E</th>\n",
       "      <th rowspan=\"5\" valign=\"top\">0</th>\n",
       "      <th rowspan=\"5\" valign=\"top\">AB19E_0</th>\n",
       "      <th rowspan=\"5\" valign=\"top\">Known Alarm</th>\n",
       "      <th rowspan=\"5\" valign=\"top\">Naive</th>\n",
       "      <th>S1</th>\n",
       "      <td>2019-11-18</td>\n",
       "      <td>0 days 05:45:00</td>\n",
       "      <td>0 days 05:45:00</td>\n",
       "      <td>2.80</td>\n",
       "      <td>0 days 00:00:00</td>\n",
       "      <td>0.000000</td>\n",
       "      <td>0.000000</td>\n",
       "    </tr>\n",
       "    <tr>\n",
       "      <th>S2</th>\n",
       "      <td>2019-11-18</td>\n",
       "      <td>0 days 05:45:00</td>\n",
       "      <td>0 days 06:00:00</td>\n",
       "      <td>5.59</td>\n",
       "      <td>0 days 00:15:00</td>\n",
       "      <td>15.000000</td>\n",
       "      <td>0.000000</td>\n",
       "    </tr>\n",
       "    <tr>\n",
       "      <th>S3</th>\n",
       "      <td>2019-11-18</td>\n",
       "      <td>0 days 05:45:00</td>\n",
       "      <td>0 days 06:15:00</td>\n",
       "      <td>13.29</td>\n",
       "      <td>0 days 00:30:00</td>\n",
       "      <td>30.000000</td>\n",
       "      <td>0.000000</td>\n",
       "    </tr>\n",
       "    <tr>\n",
       "      <th>S4</th>\n",
       "      <td>2019-11-18</td>\n",
       "      <td>0 days 05:45:00</td>\n",
       "      <td>0 days 06:30:00</td>\n",
       "      <td>13.46</td>\n",
       "      <td>0 days 00:45:00</td>\n",
       "      <td>45.000000</td>\n",
       "      <td>0.000000</td>\n",
       "    </tr>\n",
       "    <tr>\n",
       "      <th>S5</th>\n",
       "      <td>2019-11-18</td>\n",
       "      <td>0 days 05:45:00</td>\n",
       "      <td>0 days 06:45:00</td>\n",
       "      <td>12.65</td>\n",
       "      <td>0 days 01:00:00</td>\n",
       "      <td>60.000000</td>\n",
       "      <td>0.000000</td>\n",
       "    </tr>\n",
       "    <tr>\n",
       "      <th>...</th>\n",
       "      <th>...</th>\n",
       "      <th>...</th>\n",
       "      <th>...</th>\n",
       "      <th>...</th>\n",
       "      <th>...</th>\n",
       "      <td>...</td>\n",
       "      <td>...</td>\n",
       "      <td>...</td>\n",
       "      <td>...</td>\n",
       "      <td>...</td>\n",
       "      <td>...</td>\n",
       "      <td>...</td>\n",
       "    </tr>\n",
       "    <tr>\n",
       "      <th rowspan=\"5\" valign=\"top\">WM13K</th>\n",
       "      <th rowspan=\"5\" valign=\"top\">0</th>\n",
       "      <th rowspan=\"5\" valign=\"top\">WM13K_0</th>\n",
       "      <th rowspan=\"5\" valign=\"top\">Unknown Alarm</th>\n",
       "      <th rowspan=\"5\" valign=\"top\">AW: Sensor, ST: Selfreport (w/ App)</th>\n",
       "      <th>S1</th>\n",
       "      <td>2019-12-02</td>\n",
       "      <td>0 days 06:38:13</td>\n",
       "      <td>0 days 06:40:00</td>\n",
       "      <td>6.88</td>\n",
       "      <td>0 days 00:01:47</td>\n",
       "      <td>1.783333</td>\n",
       "      <td>1.783333</td>\n",
       "    </tr>\n",
       "    <tr>\n",
       "      <th>S2</th>\n",
       "      <td>2019-12-02</td>\n",
       "      <td>0 days 06:38:13</td>\n",
       "      <td>0 days 06:55:00</td>\n",
       "      <td>8.83</td>\n",
       "      <td>0 days 00:16:47</td>\n",
       "      <td>16.783333</td>\n",
       "      <td>1.783333</td>\n",
       "    </tr>\n",
       "    <tr>\n",
       "      <th>S3</th>\n",
       "      <td>2019-12-02</td>\n",
       "      <td>0 days 06:38:13</td>\n",
       "      <td>0 days 07:10:00</td>\n",
       "      <td>16.22</td>\n",
       "      <td>0 days 00:31:47</td>\n",
       "      <td>31.783333</td>\n",
       "      <td>1.783333</td>\n",
       "    </tr>\n",
       "    <tr>\n",
       "      <th>S4</th>\n",
       "      <td>2019-12-02</td>\n",
       "      <td>0 days 06:38:13</td>\n",
       "      <td>0 days 07:27:00</td>\n",
       "      <td>20.21</td>\n",
       "      <td>0 days 00:48:47</td>\n",
       "      <td>48.783333</td>\n",
       "      <td>3.783333</td>\n",
       "    </tr>\n",
       "    <tr>\n",
       "      <th>S5</th>\n",
       "      <td>2019-12-02</td>\n",
       "      <td>0 days 06:38:13</td>\n",
       "      <td>0 days 07:42:00</td>\n",
       "      <td>25.39</td>\n",
       "      <td>0 days 01:03:47</td>\n",
       "      <td>63.783333</td>\n",
       "      <td>3.783333</td>\n",
       "    </tr>\n",
       "  </tbody>\n",
       "</table>\n",
       "<p>4965 rows × 7 columns</p>\n",
       "</div>"
      ],
      "text/plain": [
       "                                                                                      date  \\\n",
       "subject night night_id condition     reporting_type                      sample              \n",
       "AB19E   0     AB19E_0  Known Alarm   Naive                               S1     2019-11-18   \n",
       "                                                                         S2     2019-11-18   \n",
       "                                                                         S3     2019-11-18   \n",
       "                                                                         S4     2019-11-18   \n",
       "                                                                         S5     2019-11-18   \n",
       "...                                                                                    ...   \n",
       "WM13K   0     WM13K_0  Unknown Alarm AW: Sensor, ST: Selfreport (w/ App) S1     2019-12-02   \n",
       "                                                                         S2     2019-12-02   \n",
       "                                                                         S3     2019-12-02   \n",
       "                                                                         S4     2019-12-02   \n",
       "                                                                         S5     2019-12-02   \n",
       "\n",
       "                                                                                     wake_onset  \\\n",
       "subject night night_id condition     reporting_type                      sample                   \n",
       "AB19E   0     AB19E_0  Known Alarm   Naive                               S1     0 days 05:45:00   \n",
       "                                                                         S2     0 days 05:45:00   \n",
       "                                                                         S3     0 days 05:45:00   \n",
       "                                                                         S4     0 days 05:45:00   \n",
       "                                                                         S5     0 days 05:45:00   \n",
       "...                                                                                         ...   \n",
       "WM13K   0     WM13K_0  Unknown Alarm AW: Sensor, ST: Selfreport (w/ App) S1     0 days 06:38:13   \n",
       "                                                                         S2     0 days 06:38:13   \n",
       "                                                                         S3     0 days 06:38:13   \n",
       "                                                                         S4     0 days 06:38:13   \n",
       "                                                                         S5     0 days 06:38:13   \n",
       "\n",
       "                                                                                    sample_time  \\\n",
       "subject night night_id condition     reporting_type                      sample                   \n",
       "AB19E   0     AB19E_0  Known Alarm   Naive                               S1     0 days 05:45:00   \n",
       "                                                                         S2     0 days 06:00:00   \n",
       "                                                                         S3     0 days 06:15:00   \n",
       "                                                                         S4     0 days 06:30:00   \n",
       "                                                                         S5     0 days 06:45:00   \n",
       "...                                                                                         ...   \n",
       "WM13K   0     WM13K_0  Unknown Alarm AW: Sensor, ST: Selfreport (w/ App) S1     0 days 06:40:00   \n",
       "                                                                         S2     0 days 06:55:00   \n",
       "                                                                         S3     0 days 07:10:00   \n",
       "                                                                         S4     0 days 07:27:00   \n",
       "                                                                         S5     0 days 07:42:00   \n",
       "\n",
       "                                                                                 cortisol  \\\n",
       "subject night night_id condition     reporting_type                      sample             \n",
       "AB19E   0     AB19E_0  Known Alarm   Naive                               S1          2.80   \n",
       "                                                                         S2          5.59   \n",
       "                                                                         S3         13.29   \n",
       "                                                                         S4         13.46   \n",
       "                                                                         S5         12.65   \n",
       "...                                                                                   ...   \n",
       "WM13K   0     WM13K_0  Unknown Alarm AW: Sensor, ST: Selfreport (w/ App) S1          6.88   \n",
       "                                                                         S2          8.83   \n",
       "                                                                         S3         16.22   \n",
       "                                                                         S4         20.21   \n",
       "                                                                         S5         25.39   \n",
       "\n",
       "                                                                                time_diff_to_wake_onset  \\\n",
       "subject night night_id condition     reporting_type                      sample                           \n",
       "AB19E   0     AB19E_0  Known Alarm   Naive                               S1             0 days 00:00:00   \n",
       "                                                                         S2             0 days 00:15:00   \n",
       "                                                                         S3             0 days 00:30:00   \n",
       "                                                                         S4             0 days 00:45:00   \n",
       "                                                                         S5             0 days 01:00:00   \n",
       "...                                                                                                 ...   \n",
       "WM13K   0     WM13K_0  Unknown Alarm AW: Sensor, ST: Selfreport (w/ App) S1             0 days 00:01:47   \n",
       "                                                                         S2             0 days 00:16:47   \n",
       "                                                                         S3             0 days 00:31:47   \n",
       "                                                                         S4             0 days 00:48:47   \n",
       "                                                                         S5             0 days 01:03:47   \n",
       "\n",
       "                                                                                 time_diff_min  \\\n",
       "subject night night_id condition     reporting_type                      sample                  \n",
       "AB19E   0     AB19E_0  Known Alarm   Naive                               S1           0.000000   \n",
       "                                                                         S2          15.000000   \n",
       "                                                                         S3          30.000000   \n",
       "                                                                         S4          45.000000   \n",
       "                                                                         S5          60.000000   \n",
       "...                                                                                        ...   \n",
       "WM13K   0     WM13K_0  Unknown Alarm AW: Sensor, ST: Selfreport (w/ App) S1           1.783333   \n",
       "                                                                         S2          16.783333   \n",
       "                                                                         S3          31.783333   \n",
       "                                                                         S4          48.783333   \n",
       "                                                                         S5          63.783333   \n",
       "\n",
       "                                                                                 time_diff_to_naive_min  \n",
       "subject night night_id condition     reporting_type                      sample                          \n",
       "AB19E   0     AB19E_0  Known Alarm   Naive                               S1                    0.000000  \n",
       "                                                                         S2                    0.000000  \n",
       "                                                                         S3                    0.000000  \n",
       "                                                                         S4                    0.000000  \n",
       "                                                                         S5                    0.000000  \n",
       "...                                                                                                 ...  \n",
       "WM13K   0     WM13K_0  Unknown Alarm AW: Sensor, ST: Selfreport (w/ App) S1                    1.783333  \n",
       "                                                                         S2                    1.783333  \n",
       "                                                                         S3                    1.783333  \n",
       "                                                                         S4                    3.783333  \n",
       "                                                                         S5                    3.783333  \n",
       "\n",
       "[4965 rows x 7 columns]"
      ]
     },
     "execution_count": 8,
     "metadata": {},
     "output_type": "execute_result"
    }
   ],
   "source": [
    "conditions = [\"Spontaneous Awakening\", \"Known Alarm\", \"Unknown Alarm\"]\n",
    "reporting_types_fine = [\n",
    "    \"Naive\",\n",
    "    \"AW & ST: Selfreport (without App)\",\n",
    "    \"AW & ST: Selfreport (with App)\",\n",
    "    \"AW: Sensor, ST: Selfreport (without App)\",\n",
    "    \"AW: Sensor, ST: Selfreport (with App)\",\n",
    "    \"AW: Sensor, ST: App\",\n",
    "]\n",
    "\n",
    "reporting_types_coarse = [\n",
    "    \"Naive\",\n",
    "    \"AW & ST: Selfreport\",\n",
    "    \"AW: Sensor, ST: Selfreport\",\n",
    "    \"AW: Sensor, ST: App\",\n",
    "]\n",
    "\n",
    "reporting_types_fine_rename = [s.replace(\"without\", \"w/o\").replace(\"with\", \"w/\") for s in reporting_types_fine]\n",
    "rename_mapper_reporting_types = dict(zip(reporting_types_fine, reporting_types_fine_rename))\n",
    "\n",
    "reporting_types_fine = reporting_types_fine_rename\n",
    "\n",
    "cort_samples = cort_samples.rename(rename_mapper_reporting_types, level=\"reporting_type\")\n",
    "cort_samples"
   ]
  },
  {
   "cell_type": "code",
   "execution_count": 9,
   "id": "199247a5-071e-4890-b612-dd845c6f7208",
   "metadata": {
    "collapsed": false,
    "jupyter": {
     "outputs_hidden": false
    },
    "pycharm": {
     "name": "#%%\n"
    }
   },
   "outputs": [],
   "source": [
    "dict_sample_times = {}"
   ]
  },
  {
   "cell_type": "markdown",
   "id": "90980ed1-8f6f-440a-bc02-d5da26cb2f71",
   "metadata": {
    "pycharm": {
     "name": "#%% md\n"
    }
   },
   "source": [
    "## Sample Times"
   ]
  },
  {
   "cell_type": "markdown",
   "id": "aab7b3ef-048d-41aa-ae8b-d25c679d617b",
   "metadata": {
    "pycharm": {
     "name": "#%% md\n"
    }
   },
   "source": [
    "### All Log Types"
   ]
  },
  {
   "cell_type": "markdown",
   "id": "4984ccf2-be50-4e71-a9c9-73dd20c06b81",
   "metadata": {
    "pycharm": {
     "name": "#%% md\n"
    }
   },
   "source": [
    "#### Median & IQR"
   ]
  },
  {
   "cell_type": "code",
   "execution_count": 10,
   "id": "6b51da5c-e8dd-4d0c-a56e-49f1306b5514",
   "metadata": {
    "collapsed": false,
    "jupyter": {
     "outputs_hidden": false
    },
    "pycharm": {
     "name": "#%%\n"
    }
   },
   "outputs": [
    {
     "data": {
      "text/html": [
       "<div>\n",
       "<style scoped>\n",
       "    .dataframe tbody tr th:only-of-type {\n",
       "        vertical-align: middle;\n",
       "    }\n",
       "\n",
       "    .dataframe tbody tr th {\n",
       "        vertical-align: top;\n",
       "    }\n",
       "\n",
       "    .dataframe thead tr th {\n",
       "        text-align: left;\n",
       "    }\n",
       "\n",
       "    .dataframe thead tr:last-of-type th {\n",
       "        text-align: right;\n",
       "    }\n",
       "</style>\n",
       "<table border=\"1\" class=\"dataframe\">\n",
       "  <thead>\n",
       "    <tr>\n",
       "      <th>sample</th>\n",
       "      <th colspan=\"2\" halign=\"left\">S1</th>\n",
       "      <th colspan=\"2\" halign=\"left\">S2</th>\n",
       "      <th colspan=\"2\" halign=\"left\">S3</th>\n",
       "      <th colspan=\"2\" halign=\"left\">S4</th>\n",
       "      <th colspan=\"2\" halign=\"left\">S5</th>\n",
       "    </tr>\n",
       "    <tr>\n",
       "      <th>time_diff_to_naive_min</th>\n",
       "      <th>median</th>\n",
       "      <th>iqr</th>\n",
       "      <th>median</th>\n",
       "      <th>iqr</th>\n",
       "      <th>median</th>\n",
       "      <th>iqr</th>\n",
       "      <th>median</th>\n",
       "      <th>iqr</th>\n",
       "      <th>median</th>\n",
       "      <th>iqr</th>\n",
       "    </tr>\n",
       "    <tr>\n",
       "      <th>reporting_type</th>\n",
       "      <th></th>\n",
       "      <th></th>\n",
       "      <th></th>\n",
       "      <th></th>\n",
       "      <th></th>\n",
       "      <th></th>\n",
       "      <th></th>\n",
       "      <th></th>\n",
       "      <th></th>\n",
       "      <th></th>\n",
       "    </tr>\n",
       "  </thead>\n",
       "  <tbody>\n",
       "    <tr>\n",
       "      <th>AW &amp; ST: Selfreport (w/o App)</th>\n",
       "      <td>1.00</td>\n",
       "      <td>3.00</td>\n",
       "      <td>2.00</td>\n",
       "      <td>5.00</td>\n",
       "      <td>2.00</td>\n",
       "      <td>5.00</td>\n",
       "      <td>2.00</td>\n",
       "      <td>7.00</td>\n",
       "      <td>3.00</td>\n",
       "      <td>8.00</td>\n",
       "    </tr>\n",
       "    <tr>\n",
       "      <th>AW &amp; ST: Selfreport (w/ App)</th>\n",
       "      <td>1.00</td>\n",
       "      <td>2.00</td>\n",
       "      <td>1.50</td>\n",
       "      <td>3.00</td>\n",
       "      <td>2.00</td>\n",
       "      <td>4.00</td>\n",
       "      <td>2.00</td>\n",
       "      <td>3.00</td>\n",
       "      <td>2.00</td>\n",
       "      <td>4.00</td>\n",
       "    </tr>\n",
       "    <tr>\n",
       "      <th>AW: Sensor, ST: Selfreport (w/o App)</th>\n",
       "      <td>3.90</td>\n",
       "      <td>3.03</td>\n",
       "      <td>4.35</td>\n",
       "      <td>2.88</td>\n",
       "      <td>5.07</td>\n",
       "      <td>3.12</td>\n",
       "      <td>5.40</td>\n",
       "      <td>3.38</td>\n",
       "      <td>5.43</td>\n",
       "      <td>3.43</td>\n",
       "    </tr>\n",
       "    <tr>\n",
       "      <th>AW: Sensor, ST: Selfreport (w/ App)</th>\n",
       "      <td>3.76</td>\n",
       "      <td>2.68</td>\n",
       "      <td>3.79</td>\n",
       "      <td>2.78</td>\n",
       "      <td>4.62</td>\n",
       "      <td>2.73</td>\n",
       "      <td>5.18</td>\n",
       "      <td>3.15</td>\n",
       "      <td>5.52</td>\n",
       "      <td>3.05</td>\n",
       "    </tr>\n",
       "    <tr>\n",
       "      <th>AW: Sensor, ST: App</th>\n",
       "      <td>4.34</td>\n",
       "      <td>1.93</td>\n",
       "      <td>5.00</td>\n",
       "      <td>2.10</td>\n",
       "      <td>5.68</td>\n",
       "      <td>2.59</td>\n",
       "      <td>6.16</td>\n",
       "      <td>2.61</td>\n",
       "      <td>6.63</td>\n",
       "      <td>2.77</td>\n",
       "    </tr>\n",
       "  </tbody>\n",
       "</table>\n",
       "</div>"
      ],
      "text/plain": [
       "sample                                   S1           S2           S3        \\\n",
       "time_diff_to_naive_min               median   iqr median   iqr median   iqr   \n",
       "reporting_type                                                                \n",
       "AW & ST: Selfreport (w/o App)          1.00  3.00   2.00  5.00   2.00  5.00   \n",
       "AW & ST: Selfreport (w/ App)           1.00  2.00   1.50  3.00   2.00  4.00   \n",
       "AW: Sensor, ST: Selfreport (w/o App)   3.90  3.03   4.35  2.88   5.07  3.12   \n",
       "AW: Sensor, ST: Selfreport (w/ App)    3.76  2.68   3.79  2.78   4.62  2.73   \n",
       "AW: Sensor, ST: App                    4.34  1.93   5.00  2.10   5.68  2.59   \n",
       "\n",
       "sample                                   S4           S5        \n",
       "time_diff_to_naive_min               median   iqr median   iqr  \n",
       "reporting_type                                                  \n",
       "AW & ST: Selfreport (w/o App)          2.00  7.00   3.00  8.00  \n",
       "AW & ST: Selfreport (w/ App)           2.00  3.00   2.00  4.00  \n",
       "AW: Sensor, ST: Selfreport (w/o App)   5.40  3.38   5.43  3.43  \n",
       "AW: Sensor, ST: Selfreport (w/ App)    5.18  3.15   5.52  3.05  \n",
       "AW: Sensor, ST: App                    6.16  2.61   6.63  2.77  "
      ]
     },
     "execution_count": 10,
     "metadata": {},
     "output_type": "execute_result"
    }
   ],
   "source": [
    "variable = \"time_diff_to_naive_min\"\n",
    "data_desc = median_iqr_saliva_samples(cort_samples, \"time_diff_to_naive_min\", [\"reporting_type\", \"sample\"])\n",
    "data_desc = data_desc.reindex(reporting_types_fine[1:])\n",
    "data_desc.columns = data_desc.columns.set_names(variable, level=-1)\n",
    "data_desc = data_desc.round(2)\n",
    "dict_sample_times[\"Sampling_Delay_Mean_IQR\"] = data_desc\n",
    "\n",
    "data_desc"
   ]
  },
  {
   "cell_type": "markdown",
   "id": "7b73ada5-15db-4e2d-8058-ba52052356d9",
   "metadata": {
    "pycharm": {
     "name": "#%% md\n"
    }
   },
   "source": [
    "#### Cumulative Sampling Delay"
   ]
  },
  {
   "cell_type": "code",
   "execution_count": 11,
   "id": "289811d2-e774-4d1f-b018-dfcbe47582ed",
   "metadata": {
    "collapsed": false,
    "jupyter": {
     "outputs_hidden": false
    },
    "pycharm": {
     "name": "#%%\n"
    }
   },
   "outputs": [
    {
     "data": {
      "text/html": [
       "<div>\n",
       "<style scoped>\n",
       "    .dataframe tbody tr th:only-of-type {\n",
       "        vertical-align: middle;\n",
       "    }\n",
       "\n",
       "    .dataframe tbody tr th {\n",
       "        vertical-align: top;\n",
       "    }\n",
       "\n",
       "    .dataframe thead tr th {\n",
       "        text-align: left;\n",
       "    }\n",
       "\n",
       "    .dataframe thead tr:last-of-type th {\n",
       "        text-align: right;\n",
       "    }\n",
       "</style>\n",
       "<table border=\"1\" class=\"dataframe\">\n",
       "  <thead>\n",
       "    <tr>\n",
       "      <th></th>\n",
       "      <th colspan=\"2\" halign=\"left\">cum_sampling_delay</th>\n",
       "    </tr>\n",
       "    <tr>\n",
       "      <th></th>\n",
       "      <th>median</th>\n",
       "      <th>iqr</th>\n",
       "    </tr>\n",
       "    <tr>\n",
       "      <th>reporting_type</th>\n",
       "      <th></th>\n",
       "      <th></th>\n",
       "    </tr>\n",
       "  </thead>\n",
       "  <tbody>\n",
       "    <tr>\n",
       "      <th>AW &amp; ST: Selfreport (w/o App)</th>\n",
       "      <td>0.00</td>\n",
       "      <td>4.00</td>\n",
       "    </tr>\n",
       "    <tr>\n",
       "      <th>AW &amp; ST: Selfreport (w/ App)</th>\n",
       "      <td>1.00</td>\n",
       "      <td>2.00</td>\n",
       "    </tr>\n",
       "    <tr>\n",
       "      <th>AW: Sensor, ST: Selfreport (w/o App)</th>\n",
       "      <td>0.00</td>\n",
       "      <td>1.00</td>\n",
       "    </tr>\n",
       "    <tr>\n",
       "      <th>AW: Sensor, ST: Selfreport (w/ App)</th>\n",
       "      <td>1.00</td>\n",
       "      <td>2.00</td>\n",
       "    </tr>\n",
       "    <tr>\n",
       "      <th>AW: Sensor, ST: App</th>\n",
       "      <td>1.99</td>\n",
       "      <td>1.64</td>\n",
       "    </tr>\n",
       "  </tbody>\n",
       "</table>\n",
       "</div>"
      ],
      "text/plain": [
       "                                     cum_sampling_delay      \n",
       "                                                 median   iqr\n",
       "reporting_type                                               \n",
       "AW & ST: Selfreport (w/o App)                      0.00  4.00\n",
       "AW & ST: Selfreport (w/ App)                       1.00  2.00\n",
       "AW: Sensor, ST: Selfreport (w/o App)               0.00  1.00\n",
       "AW: Sensor, ST: Selfreport (w/ App)                1.00  2.00\n",
       "AW: Sensor, ST: App                                1.99  1.64"
      ]
     },
     "execution_count": 11,
     "metadata": {},
     "output_type": "execute_result"
    }
   ],
   "source": [
    "cum_sampling_delay = cort_samples[\"time_diff_to_naive_min\"].drop(\"Naive\", level=\"reporting_type\").unstack(\"sample\")\n",
    "cum_sampling_delay = compute_cumulative_sampling_delay(cum_sampling_delay)\n",
    "cum_sampling_delay = cum_sampling_delay.reindex(reporting_types_fine[1:]).round(2)\n",
    "dict_sample_times[\"Cumulative_Sampling_Delay\"] = cum_sampling_delay\n",
    "\n",
    "cum_sampling_delay"
   ]
  },
  {
   "cell_type": "markdown",
   "id": "98ab2655-4e9d-4d0b-ae3b-7afb2be0b013",
   "metadata": {
    "pycharm": {
     "name": "#%% md\n"
    }
   },
   "source": [
    "#### Boxplots"
   ]
  },
  {
   "cell_type": "markdown",
   "id": "4e15418e-c5df-4ffe-8690-7bf4d32a9fb0",
   "metadata": {
    "pycharm": {
     "name": "#%% md\n"
    }
   },
   "source": [
    "#### Paired Plots"
   ]
  },
  {
   "cell_type": "code",
   "execution_count": 12,
   "id": "6c86aebd-dcd3-443d-84df-bf8f8e42b252",
   "metadata": {
    "collapsed": false,
    "jupyter": {
     "outputs_hidden": false
    },
    "pycharm": {
     "name": "#%%\n"
    }
   },
   "outputs": [
    {
     "data": {
      "application/vnd.jupyter.widget-view+json": {
       "model_id": "94eb38f25d8346259edf378d1e657cde",
       "version_major": 2,
       "version_minor": 0
      },
      "image/png": "[encoded data removed]",
      "text/html": [
       "\n",
       "            <div style=\"display: inline-block;\">\n",
       "                <div class=\"jupyter-widgets widget-label\" style=\"text-align: center;\">\n",
       "                    Figure\n",
       "                </div>\n",
       "                <img src='data:image/png;base64,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' width=1200.0/>\n",
       "            </div>\n",
       "        "
      ],
      "text/plain": [
       "Canvas(toolbar=Toolbar(toolitems=[('Home', 'Reset original view', 'home', 'home'), ('Back', 'Back to previous …"
      ]
     },
     "metadata": {},
     "output_type": "display_data"
    }
   ],
   "source": [
    "data_plot = cort_samples.copy()\n",
    "\n",
    "reporting_type_order = reporting_types_fine.copy()\n",
    "reporting_type_order.remove(\"Naive\")\n",
    "reporting_type_order.remove(\"AW & ST: Selfreport (w/ App)\")\n",
    "reporting_type_order.remove(\"AW: Sensor, ST: Selfreport (w/ App)\")\n",
    "\n",
    "fig, axs = multi_paired_plot_sampling_delay(data_plot, order=reporting_type_order, figsize=(12, 4), dpi=300)\n",
    "\n",
    "for path in [img_path, paper_img_path]:\n",
    "    bp.utils.file_handling.export_figure(fig, \"img_pairedplot_sampling_delay\", path, formats=[\"png\", \"pdf\"], dpi=300)"
   ]
  },
  {
   "cell_type": "markdown",
   "id": "af0ca552-5b7e-47ab-a3ce-46223de30bae",
   "metadata": {
    "pycharm": {
     "name": "#%% md\n"
    }
   },
   "source": [
    "#### Compare Highest App-based Sampling Delays with Selfreport Sampling Delays"
   ]
  },
  {
   "cell_type": "markdown",
   "id": "8b9da254-e1dd-4e3f-8d16-de08ea3427ed",
   "metadata": {
    "pycharm": {
     "name": "#%% md\n"
    }
   },
   "source": [
    "Get the three CARs with the highest $\\Delta t_{S1}$ for *App* (see Paired Plot)"
   ]
  },
  {
   "cell_type": "code",
   "execution_count": 13,
   "id": "2666ee37-4154-4f7c-8f3b-b83946692d61",
   "metadata": {
    "collapsed": false,
    "jupyter": {
     "outputs_hidden": false
    },
    "pycharm": {
     "name": "#%%\n"
    }
   },
   "outputs": [
    {
     "name": "stdout",
     "output_type": "stream",
     "text": [
      "['MD26R_0', 'KD16N_0', 'WM13K_1']\n"
     ]
    }
   ],
   "source": [
    "cars_max_delay = cort_samples.xs(\"AW & ST: App\", level=\"reporting_type\")[\"time_diff_to_naive_min\"]\n",
    "cars_max_delay = cars_max_delay.unstack(\"sample\")[\"S1\"].sort_values(ascending=False).iloc[0:3]\n",
    "cars_max_delay = list(cars_max_delay.index.get_level_values(\"night_id\"))\n",
    "print(cars_max_delay)"
   ]
  },
  {
   "cell_type": "code",
   "execution_count": 14,
   "id": "2764511e-b12e-448a-9d5c-86bd263af592",
   "metadata": {
    "collapsed": false,
    "jupyter": {
     "outputs_hidden": false
    },
    "pycharm": {
     "name": "#%%\n"
    }
   },
   "outputs": [
    {
     "data": {
      "text/html": [
       "<div>\n",
       "<style scoped>\n",
       "    .dataframe tbody tr th:only-of-type {\n",
       "        vertical-align: middle;\n",
       "    }\n",
       "\n",
       "    .dataframe tbody tr th {\n",
       "        vertical-align: top;\n",
       "    }\n",
       "\n",
       "    .dataframe thead tr th {\n",
       "        text-align: left;\n",
       "    }\n",
       "\n",
       "    .dataframe thead tr:last-of-type th {\n",
       "        text-align: right;\n",
       "    }\n",
       "</style>\n",
       "<table border=\"1\" class=\"dataframe\">\n",
       "  <thead>\n",
       "    <tr>\n",
       "      <th></th>\n",
       "      <th></th>\n",
       "      <th></th>\n",
       "      <th>sample</th>\n",
       "      <th colspan=\"2\" halign=\"left\">S1</th>\n",
       "      <th colspan=\"2\" halign=\"left\">S2</th>\n",
       "      <th colspan=\"2\" halign=\"left\">S3</th>\n",
       "      <th colspan=\"2\" halign=\"left\">S4</th>\n",
       "      <th colspan=\"2\" halign=\"left\">S5</th>\n",
       "    </tr>\n",
       "    <tr>\n",
       "      <th></th>\n",
       "      <th></th>\n",
       "      <th></th>\n",
       "      <th>reporting_type</th>\n",
       "      <th>AW &amp; ST: App</th>\n",
       "      <th>AW &amp; ST: Selfreport</th>\n",
       "      <th>AW &amp; ST: App</th>\n",
       "      <th>AW &amp; ST: Selfreport</th>\n",
       "      <th>AW &amp; ST: App</th>\n",
       "      <th>AW &amp; ST: Selfreport</th>\n",
       "      <th>AW &amp; ST: App</th>\n",
       "      <th>AW &amp; ST: Selfreport</th>\n",
       "      <th>AW &amp; ST: App</th>\n",
       "      <th>AW &amp; ST: Selfreport</th>\n",
       "    </tr>\n",
       "    <tr>\n",
       "      <th>subject</th>\n",
       "      <th>night</th>\n",
       "      <th>night_id</th>\n",
       "      <th>condition</th>\n",
       "      <th></th>\n",
       "      <th></th>\n",
       "      <th></th>\n",
       "      <th></th>\n",
       "      <th></th>\n",
       "      <th></th>\n",
       "      <th></th>\n",
       "      <th></th>\n",
       "      <th></th>\n",
       "      <th></th>\n",
       "    </tr>\n",
       "  </thead>\n",
       "  <tbody>\n",
       "    <tr>\n",
       "      <th>MD26R</th>\n",
       "      <th>0</th>\n",
       "      <th>MD26R_0</th>\n",
       "      <th>Unknown Alarm</th>\n",
       "      <td>28.07</td>\n",
       "      <td>2.0</td>\n",
       "      <td>28.32</td>\n",
       "      <td>2.0</td>\n",
       "      <td>28.42</td>\n",
       "      <td>2.0</td>\n",
       "      <td>28.96</td>\n",
       "      <td>2.0</td>\n",
       "      <td>29.18</td>\n",
       "      <td>3.0</td>\n",
       "    </tr>\n",
       "    <tr>\n",
       "      <th>KD16N</th>\n",
       "      <th>0</th>\n",
       "      <th>KD16N_0</th>\n",
       "      <th>Known Alarm</th>\n",
       "      <td>18.18</td>\n",
       "      <td>4.0</td>\n",
       "      <td>18.59</td>\n",
       "      <td>5.0</td>\n",
       "      <td>19.14</td>\n",
       "      <td>5.0</td>\n",
       "      <td>19.38</td>\n",
       "      <td>5.0</td>\n",
       "      <td>21.20</td>\n",
       "      <td>5.0</td>\n",
       "    </tr>\n",
       "    <tr>\n",
       "      <th>WM13K</th>\n",
       "      <th>1</th>\n",
       "      <th>WM13K_1</th>\n",
       "      <th>Unknown Alarm</th>\n",
       "      <td>11.78</td>\n",
       "      <td>0.0</td>\n",
       "      <td>12.12</td>\n",
       "      <td>0.0</td>\n",
       "      <td>12.55</td>\n",
       "      <td>0.0</td>\n",
       "      <td>12.77</td>\n",
       "      <td>0.0</td>\n",
       "      <td>13.26</td>\n",
       "      <td>0.0</td>\n",
       "    </tr>\n",
       "  </tbody>\n",
       "</table>\n",
       "</div>"
      ],
      "text/plain": [
       "sample                                         S1                      \\\n",
       "reporting_type                       AW & ST: App AW & ST: Selfreport   \n",
       "subject night night_id condition                                        \n",
       "MD26R   0     MD26R_0  Unknown Alarm        28.07                 2.0   \n",
       "KD16N   0     KD16N_0  Known Alarm          18.18                 4.0   \n",
       "WM13K   1     WM13K_1  Unknown Alarm        11.78                 0.0   \n",
       "\n",
       "sample                                         S2                      \\\n",
       "reporting_type                       AW & ST: App AW & ST: Selfreport   \n",
       "subject night night_id condition                                        \n",
       "MD26R   0     MD26R_0  Unknown Alarm        28.32                 2.0   \n",
       "KD16N   0     KD16N_0  Known Alarm          18.59                 5.0   \n",
       "WM13K   1     WM13K_1  Unknown Alarm        12.12                 0.0   \n",
       "\n",
       "sample                                         S3                      \\\n",
       "reporting_type                       AW & ST: App AW & ST: Selfreport   \n",
       "subject night night_id condition                                        \n",
       "MD26R   0     MD26R_0  Unknown Alarm        28.42                 2.0   \n",
       "KD16N   0     KD16N_0  Known Alarm          19.14                 5.0   \n",
       "WM13K   1     WM13K_1  Unknown Alarm        12.55                 0.0   \n",
       "\n",
       "sample                                         S4                      \\\n",
       "reporting_type                       AW & ST: App AW & ST: Selfreport   \n",
       "subject night night_id condition                                        \n",
       "MD26R   0     MD26R_0  Unknown Alarm        28.96                 2.0   \n",
       "KD16N   0     KD16N_0  Known Alarm          19.38                 5.0   \n",
       "WM13K   1     WM13K_1  Unknown Alarm        12.77                 0.0   \n",
       "\n",
       "sample                                         S5                      \n",
       "reporting_type                       AW & ST: App AW & ST: Selfreport  \n",
       "subject night night_id condition                                       \n",
       "MD26R   0     MD26R_0  Unknown Alarm        29.18                 3.0  \n",
       "KD16N   0     KD16N_0  Known Alarm          21.20                 5.0  \n",
       "WM13K   1     WM13K_1  Unknown Alarm        13.26                 0.0  "
      ]
     },
     "execution_count": 14,
     "metadata": {},
     "output_type": "execute_result"
    }
   ],
   "source": [
    "max_delay_selfreport = compute_max_delay_selfreport(cort_samples, cars_max_delay)\n",
    "dict_sample_times[\"Max_Sampling_Delay_SR_App\"] = max_delay_selfreport\n",
    "\n",
    "max_delay_selfreport"
   ]
  },
  {
   "cell_type": "markdown",
   "id": "905b268d-b076-4168-bd31-a02c4e5154ab",
   "metadata": {
    "pycharm": {
     "name": "#%% md\n"
    }
   },
   "source": [
    "### AW & ST: Selfreport (without App) vs. AW & ST: App"
   ]
  },
  {
   "cell_type": "markdown",
   "id": "d3380e40-a11c-4065-b7c5-af6ff337449c",
   "metadata": {
    "pycharm": {
     "name": "#%% md\n"
    }
   },
   "source": [
    "#### By Delay Groups"
   ]
  },
  {
   "cell_type": "code",
   "execution_count": 15,
   "id": "ad354b5c-a221-410c-81ad-84f237625c9f",
   "metadata": {
    "collapsed": false,
    "jupyter": {
     "outputs_hidden": false
    },
    "pycharm": {
     "name": "#%%\n"
    }
   },
   "outputs": [
    {
     "data": {
      "text/html": [
       "<div>\n",
       "<style scoped>\n",
       "    .dataframe tbody tr th:only-of-type {\n",
       "        vertical-align: middle;\n",
       "    }\n",
       "\n",
       "    .dataframe tbody tr th {\n",
       "        vertical-align: top;\n",
       "    }\n",
       "\n",
       "    .dataframe thead th {\n",
       "        text-align: right;\n",
       "    }\n",
       "</style>\n",
       "<table border=\"1\" class=\"dataframe\">\n",
       "  <thead>\n",
       "    <tr style=\"text-align: right;\">\n",
       "      <th>delay_group</th>\n",
       "      <th>Adherent</th>\n",
       "      <th>Non-adherent</th>\n",
       "    </tr>\n",
       "    <tr>\n",
       "      <th>reporting_type</th>\n",
       "      <th></th>\n",
       "      <th></th>\n",
       "    </tr>\n",
       "  </thead>\n",
       "  <tbody>\n",
       "    <tr>\n",
       "      <th>AW &amp; ST: App</th>\n",
       "      <td>96.25</td>\n",
       "      <td>3.75</td>\n",
       "    </tr>\n",
       "    <tr>\n",
       "      <th>AW &amp; ST: Selfreport (w/o App)</th>\n",
       "      <td>86.14</td>\n",
       "      <td>13.86</td>\n",
       "    </tr>\n",
       "  </tbody>\n",
       "</table>\n",
       "</div>"
      ],
      "text/plain": [
       "delay_group                    Adherent  Non-adherent\n",
       "reporting_type                                       \n",
       "AW & ST: App                      96.25          3.75\n",
       "AW & ST: Selfreport (w/o App)     86.14         13.86"
      ]
     },
     "execution_count": 15,
     "metadata": {},
     "output_type": "execute_result"
    }
   ],
   "source": [
    "delay_group_data = cort_samples.reindex([\"AW & ST: Selfreport (w/o App)\", \"AW & ST: App\"], level=\"reporting_type\")\n",
    "delay_group_data = categorize_sampling_adherence(delay_group_data)\n",
    "\n",
    "delay_group_percent = delay_group_data.groupby(\"reporting_type\").apply(\n",
    "    lambda df: df.groupby(\"delay_group\").apply(lambda d: len(d) / len(df) * 100)\n",
    ")\n",
    "delay_group_percent = delay_group_percent.round(2)\n",
    "dict_sample_times[\"Adherence_App_Selfreport\"] = delay_group_percent\n",
    "\n",
    "delay_group_percent"
   ]
  },
  {
   "cell_type": "markdown",
   "id": "f75350ee-0682-40f4-a2d6-8ce201a31c49",
   "metadata": {
    "pycharm": {
     "name": "#%% md\n"
    }
   },
   "source": [
    "### AW & ST: Selfreport (without App) vs. AW & ST: Selfreport (with App)"
   ]
  },
  {
   "cell_type": "markdown",
   "id": "57504768-c02d-4ad7-82a6-78804991b5bb",
   "metadata": {
    "pycharm": {
     "name": "#%% md\n"
    }
   },
   "source": [
    "#### Data Preparation"
   ]
  },
  {
   "cell_type": "code",
   "execution_count": 16,
   "id": "65c3d5df-cf71-4c8e-a539-bd2e9ce04db5",
   "metadata": {
    "collapsed": false,
    "jupyter": {
     "outputs_hidden": false
    },
    "pycharm": {
     "name": "#%%\n"
    }
   },
   "outputs": [
    {
     "data": {
      "text/html": [
       "<div>\n",
       "<style scoped>\n",
       "    .dataframe tbody tr th:only-of-type {\n",
       "        vertical-align: middle;\n",
       "    }\n",
       "\n",
       "    .dataframe tbody tr th {\n",
       "        vertical-align: top;\n",
       "    }\n",
       "\n",
       "    .dataframe thead th {\n",
       "        text-align: right;\n",
       "    }\n",
       "</style>\n",
       "<table border=\"1\" class=\"dataframe\">\n",
       "  <thead>\n",
       "    <tr style=\"text-align: right;\">\n",
       "      <th></th>\n",
       "      <th></th>\n",
       "      <th></th>\n",
       "      <th></th>\n",
       "      <th></th>\n",
       "      <th></th>\n",
       "      <th>date</th>\n",
       "      <th>wake_onset</th>\n",
       "      <th>sample_time</th>\n",
       "      <th>cortisol</th>\n",
       "      <th>time_diff_to_wake_onset</th>\n",
       "      <th>time_diff_min</th>\n",
       "      <th>time_diff_to_naive_min</th>\n",
       "    </tr>\n",
       "    <tr>\n",
       "      <th>subject</th>\n",
       "      <th>night</th>\n",
       "      <th>night_id</th>\n",
       "      <th>condition</th>\n",
       "      <th>reporting_type</th>\n",
       "      <th>sample</th>\n",
       "      <th></th>\n",
       "      <th></th>\n",
       "      <th></th>\n",
       "      <th></th>\n",
       "      <th></th>\n",
       "      <th></th>\n",
       "      <th></th>\n",
       "    </tr>\n",
       "  </thead>\n",
       "  <tbody>\n",
       "    <tr>\n",
       "      <th rowspan=\"5\" valign=\"top\">AB19E</th>\n",
       "      <th rowspan=\"5\" valign=\"top\">0</th>\n",
       "      <th rowspan=\"5\" valign=\"top\">AB19E_0</th>\n",
       "      <th rowspan=\"5\" valign=\"top\">Known Alarm</th>\n",
       "      <th rowspan=\"5\" valign=\"top\">AW &amp; ST: Selfreport (w/o App)</th>\n",
       "      <th>S1</th>\n",
       "      <td>2019-11-18</td>\n",
       "      <td>0 days 05:45:00</td>\n",
       "      <td>0 days 06:00:00</td>\n",
       "      <td>2.80</td>\n",
       "      <td>0 days 00:15:00</td>\n",
       "      <td>15.0</td>\n",
       "      <td>15.0</td>\n",
       "    </tr>\n",
       "    <tr>\n",
       "      <th>S2</th>\n",
       "      <td>2019-11-18</td>\n",
       "      <td>0 days 05:45:00</td>\n",
       "      <td>0 days 06:15:00</td>\n",
       "      <td>5.59</td>\n",
       "      <td>0 days 00:30:00</td>\n",
       "      <td>30.0</td>\n",
       "      <td>15.0</td>\n",
       "    </tr>\n",
       "    <tr>\n",
       "      <th>S3</th>\n",
       "      <td>2019-11-18</td>\n",
       "      <td>0 days 05:45:00</td>\n",
       "      <td>0 days 06:30:00</td>\n",
       "      <td>13.29</td>\n",
       "      <td>0 days 00:45:00</td>\n",
       "      <td>45.0</td>\n",
       "      <td>15.0</td>\n",
       "    </tr>\n",
       "    <tr>\n",
       "      <th>S4</th>\n",
       "      <td>2019-11-18</td>\n",
       "      <td>0 days 05:45:00</td>\n",
       "      <td>0 days 06:45:00</td>\n",
       "      <td>13.46</td>\n",
       "      <td>0 days 01:00:00</td>\n",
       "      <td>60.0</td>\n",
       "      <td>15.0</td>\n",
       "    </tr>\n",
       "    <tr>\n",
       "      <th>S5</th>\n",
       "      <td>2019-11-18</td>\n",
       "      <td>0 days 05:45:00</td>\n",
       "      <td>0 days 07:01:00</td>\n",
       "      <td>12.65</td>\n",
       "      <td>0 days 01:16:00</td>\n",
       "      <td>76.0</td>\n",
       "      <td>16.0</td>\n",
       "    </tr>\n",
       "  </tbody>\n",
       "</table>\n",
       "</div>"
      ],
      "text/plain": [
       "                                                                              date  \\\n",
       "subject night night_id condition   reporting_type                sample              \n",
       "AB19E   0     AB19E_0  Known Alarm AW & ST: Selfreport (w/o App) S1     2019-11-18   \n",
       "                                                                 S2     2019-11-18   \n",
       "                                                                 S3     2019-11-18   \n",
       "                                                                 S4     2019-11-18   \n",
       "                                                                 S5     2019-11-18   \n",
       "\n",
       "                                                                             wake_onset  \\\n",
       "subject night night_id condition   reporting_type                sample                   \n",
       "AB19E   0     AB19E_0  Known Alarm AW & ST: Selfreport (w/o App) S1     0 days 05:45:00   \n",
       "                                                                 S2     0 days 05:45:00   \n",
       "                                                                 S3     0 days 05:45:00   \n",
       "                                                                 S4     0 days 05:45:00   \n",
       "                                                                 S5     0 days 05:45:00   \n",
       "\n",
       "                                                                            sample_time  \\\n",
       "subject night night_id condition   reporting_type                sample                   \n",
       "AB19E   0     AB19E_0  Known Alarm AW & ST: Selfreport (w/o App) S1     0 days 06:00:00   \n",
       "                                                                 S2     0 days 06:15:00   \n",
       "                                                                 S3     0 days 06:30:00   \n",
       "                                                                 S4     0 days 06:45:00   \n",
       "                                                                 S5     0 days 07:01:00   \n",
       "\n",
       "                                                                         cortisol  \\\n",
       "subject night night_id condition   reporting_type                sample             \n",
       "AB19E   0     AB19E_0  Known Alarm AW & ST: Selfreport (w/o App) S1          2.80   \n",
       "                                                                 S2          5.59   \n",
       "                                                                 S3         13.29   \n",
       "                                                                 S4         13.46   \n",
       "                                                                 S5         12.65   \n",
       "\n",
       "                                                                        time_diff_to_wake_onset  \\\n",
       "subject night night_id condition   reporting_type                sample                           \n",
       "AB19E   0     AB19E_0  Known Alarm AW & ST: Selfreport (w/o App) S1             0 days 00:15:00   \n",
       "                                                                 S2             0 days 00:30:00   \n",
       "                                                                 S3             0 days 00:45:00   \n",
       "                                                                 S4             0 days 01:00:00   \n",
       "                                                                 S5             0 days 01:16:00   \n",
       "\n",
       "                                                                         time_diff_min  \\\n",
       "subject night night_id condition   reporting_type                sample                  \n",
       "AB19E   0     AB19E_0  Known Alarm AW & ST: Selfreport (w/o App) S1               15.0   \n",
       "                                                                 S2               30.0   \n",
       "                                                                 S3               45.0   \n",
       "                                                                 S4               60.0   \n",
       "                                                                 S5               76.0   \n",
       "\n",
       "                                                                         time_diff_to_naive_min  \n",
       "subject night night_id condition   reporting_type                sample                          \n",
       "AB19E   0     AB19E_0  Known Alarm AW & ST: Selfreport (w/o App) S1                        15.0  \n",
       "                                                                 S2                        15.0  \n",
       "                                                                 S3                        15.0  \n",
       "                                                                 S4                        15.0  \n",
       "                                                                 S5                        16.0  "
      ]
     },
     "execution_count": 16,
     "metadata": {},
     "output_type": "execute_result"
    }
   ],
   "source": [
    "cort_samples_selfreport = cort_samples.reindex(\n",
    "    [\"AW & ST: Selfreport (w/o App)\", \"AW & ST: Selfreport (w/ App)\"], level=\"reporting_type\"\n",
    ")\n",
    "cort_samples_selfreport.head()"
   ]
  },
  {
   "cell_type": "markdown",
   "id": "bb7285ce-9d64-4d6f-917d-63da48c11b14",
   "metadata": {
    "pycharm": {
     "name": "#%% md\n"
    }
   },
   "source": [
    "#### Boxplot"
   ]
  },
  {
   "cell_type": "code",
   "execution_count": 17,
   "id": "e9ea5f74-ba8b-4d72-9a68-1074f0551d39",
   "metadata": {
    "collapsed": false,
    "jupyter": {
     "outputs_hidden": false
    },
    "pycharm": {
     "name": "#%%\n"
    }
   },
   "outputs": [
    {
     "data": {
      "application/vnd.jupyter.widget-view+json": {
       "model_id": "81e21519ee794909abebbecce118470e",
       "version_major": 2,
       "version_minor": 0
      },
      "image/png": "[encoded data removed]",
      "text/html": [
       "\n",
       "            <div style=\"display: inline-block;\">\n",
       "                <div class=\"jupyter-widgets widget-label\" style=\"text-align: center;\">\n",
       "                    Figure\n",
       "                </div>\n",
       "                <img src='data:image/png;base64,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' width=800.0/>\n",
       "            </div>\n",
       "        "
      ],
      "text/plain": [
       "Canvas(toolbar=Toolbar(toolitems=[('Home', 'Reset original view', 'home', 'home'), ('Back', 'Back to previous …"
      ]
     },
     "metadata": {},
     "output_type": "display_data"
    }
   ],
   "source": [
    "fig, ax = plt.subplots(figsize=(8, 7.5))\n",
    "\n",
    "num_recordings = dict(\n",
    "    cort_samples_selfreport.groupby(\"reporting_type\").apply(\n",
    "        lambda df: len(df.index.get_level_values(\"night_id\").unique())\n",
    "    )\n",
    ")\n",
    "\n",
    "label_mapping = {\n",
    "    \"AW & ST: Selfreport (w/o App)\": \"AW & ST: Selfreport\\n(w/o App)\",\n",
    "    \"AW & ST: Selfreport (w/ App)\": \"AW & ST: Selfreport\\n(w/ App)\",\n",
    "}\n",
    "label_mapping = {key: f\"{label_mapping[key]} (N = {num_recordings[key]})\" for key in num_recordings}\n",
    "data_plot = cort_samples_selfreport.rename(index=label_mapping, level=\"reporting_type\")\n",
    "\n",
    "\n",
    "bp.plotting.feature_boxplot(\n",
    "    data=data_plot,\n",
    "    x=\"sample\",\n",
    "    y=\"time_diff_to_naive_min\",\n",
    "    hue=\"reporting_type\",\n",
    "    hue_order=list(label_mapping.values()),\n",
    "    showmeans=True,\n",
    "    meanprops={\"markeredgecolor\": cmaps.wiso[0], \"markerfacecolor\": cmaps.wiso[0]},\n",
    "    legend_orientation=\"horizontal\",\n",
    "    legend_loc=\"upper center\",\n",
    "    rect=(0, 0, 1, 0.9),\n",
    "    ax=ax,\n",
    "    palette=cmaps.faculties_light,\n",
    ")\n",
    "ax.set_ylabel(\"$\\Delta t$ [min]\")\n",
    "ax.set_xlabel(\"Sample\")\n",
    "\n",
    "for path in [img_path, paper_img_path]:\n",
    "    bp.utils.file_handling.export_figure(fig, \"img_boxplot_sampling_delay_selfreport\", path, [\"pdf\", \"png\"])"
   ]
  },
  {
   "cell_type": "markdown",
   "id": "57987ea6-2a2d-413b-8d88-6aaedb49d60d",
   "metadata": {
    "pycharm": {
     "name": "#%% md\n"
    }
   },
   "source": [
    "### Sensor"
   ]
  },
  {
   "cell_type": "markdown",
   "id": "6b2260df-3b44-4596-ab04-2a8d96e78e5c",
   "metadata": {
    "pycharm": {
     "name": "#%% md\n"
    }
   },
   "source": [
    "#### Data Preparation"
   ]
  },
  {
   "cell_type": "code",
   "execution_count": 18,
   "id": "0af18d71-a878-41fc-8870-fd279241683f",
   "metadata": {
    "collapsed": false,
    "jupyter": {
     "outputs_hidden": false
    },
    "pycharm": {
     "name": "#%%\n"
    }
   },
   "outputs": [
    {
     "data": {
      "text/html": [
       "<div>\n",
       "<style scoped>\n",
       "    .dataframe tbody tr th:only-of-type {\n",
       "        vertical-align: middle;\n",
       "    }\n",
       "\n",
       "    .dataframe tbody tr th {\n",
       "        vertical-align: top;\n",
       "    }\n",
       "\n",
       "    .dataframe thead th {\n",
       "        text-align: right;\n",
       "    }\n",
       "</style>\n",
       "<table border=\"1\" class=\"dataframe\">\n",
       "  <thead>\n",
       "    <tr style=\"text-align: right;\">\n",
       "      <th></th>\n",
       "      <th></th>\n",
       "      <th></th>\n",
       "      <th></th>\n",
       "      <th></th>\n",
       "      <th></th>\n",
       "      <th>date</th>\n",
       "      <th>wake_onset</th>\n",
       "      <th>sample_time</th>\n",
       "      <th>cortisol</th>\n",
       "      <th>time_diff_to_wake_onset</th>\n",
       "      <th>time_diff_min</th>\n",
       "      <th>time_diff_to_naive_min</th>\n",
       "    </tr>\n",
       "    <tr>\n",
       "      <th>subject</th>\n",
       "      <th>night</th>\n",
       "      <th>night_id</th>\n",
       "      <th>condition</th>\n",
       "      <th>reporting_type</th>\n",
       "      <th>sample</th>\n",
       "      <th></th>\n",
       "      <th></th>\n",
       "      <th></th>\n",
       "      <th></th>\n",
       "      <th></th>\n",
       "      <th></th>\n",
       "      <th></th>\n",
       "    </tr>\n",
       "  </thead>\n",
       "  <tbody>\n",
       "    <tr>\n",
       "      <th rowspan=\"5\" valign=\"top\">AB19E</th>\n",
       "      <th rowspan=\"5\" valign=\"top\">0</th>\n",
       "      <th rowspan=\"5\" valign=\"top\">AB19E_0</th>\n",
       "      <th rowspan=\"5\" valign=\"top\">Known Alarm</th>\n",
       "      <th rowspan=\"5\" valign=\"top\">AW: Sensor, ST: Selfreport (w/o App)</th>\n",
       "      <th>S1</th>\n",
       "      <td>2019-11-18</td>\n",
       "      <td>0 days 05:56:52</td>\n",
       "      <td>0 days 06:00:00</td>\n",
       "      <td>2.80</td>\n",
       "      <td>0 days 00:03:08</td>\n",
       "      <td>3.133333</td>\n",
       "      <td>3.133333</td>\n",
       "    </tr>\n",
       "    <tr>\n",
       "      <th>S2</th>\n",
       "      <td>2019-11-18</td>\n",
       "      <td>0 days 05:56:52</td>\n",
       "      <td>0 days 06:15:00</td>\n",
       "      <td>5.59</td>\n",
       "      <td>0 days 00:18:08</td>\n",
       "      <td>18.133333</td>\n",
       "      <td>3.133333</td>\n",
       "    </tr>\n",
       "    <tr>\n",
       "      <th>S3</th>\n",
       "      <td>2019-11-18</td>\n",
       "      <td>0 days 05:56:52</td>\n",
       "      <td>0 days 06:30:00</td>\n",
       "      <td>13.29</td>\n",
       "      <td>0 days 00:33:08</td>\n",
       "      <td>33.133333</td>\n",
       "      <td>3.133333</td>\n",
       "    </tr>\n",
       "    <tr>\n",
       "      <th>S4</th>\n",
       "      <td>2019-11-18</td>\n",
       "      <td>0 days 05:56:52</td>\n",
       "      <td>0 days 06:45:00</td>\n",
       "      <td>13.46</td>\n",
       "      <td>0 days 00:48:08</td>\n",
       "      <td>48.133333</td>\n",
       "      <td>3.133333</td>\n",
       "    </tr>\n",
       "    <tr>\n",
       "      <th>S5</th>\n",
       "      <td>2019-11-18</td>\n",
       "      <td>0 days 05:56:52</td>\n",
       "      <td>0 days 07:01:00</td>\n",
       "      <td>12.65</td>\n",
       "      <td>0 days 01:04:08</td>\n",
       "      <td>64.133333</td>\n",
       "      <td>4.133333</td>\n",
       "    </tr>\n",
       "  </tbody>\n",
       "</table>\n",
       "</div>"
      ],
      "text/plain": [
       "                                                                                     date  \\\n",
       "subject night night_id condition   reporting_type                       sample              \n",
       "AB19E   0     AB19E_0  Known Alarm AW: Sensor, ST: Selfreport (w/o App) S1     2019-11-18   \n",
       "                                                                        S2     2019-11-18   \n",
       "                                                                        S3     2019-11-18   \n",
       "                                                                        S4     2019-11-18   \n",
       "                                                                        S5     2019-11-18   \n",
       "\n",
       "                                                                                    wake_onset  \\\n",
       "subject night night_id condition   reporting_type                       sample                   \n",
       "AB19E   0     AB19E_0  Known Alarm AW: Sensor, ST: Selfreport (w/o App) S1     0 days 05:56:52   \n",
       "                                                                        S2     0 days 05:56:52   \n",
       "                                                                        S3     0 days 05:56:52   \n",
       "                                                                        S4     0 days 05:56:52   \n",
       "                                                                        S5     0 days 05:56:52   \n",
       "\n",
       "                                                                                   sample_time  \\\n",
       "subject night night_id condition   reporting_type                       sample                   \n",
       "AB19E   0     AB19E_0  Known Alarm AW: Sensor, ST: Selfreport (w/o App) S1     0 days 06:00:00   \n",
       "                                                                        S2     0 days 06:15:00   \n",
       "                                                                        S3     0 days 06:30:00   \n",
       "                                                                        S4     0 days 06:45:00   \n",
       "                                                                        S5     0 days 07:01:00   \n",
       "\n",
       "                                                                                cortisol  \\\n",
       "subject night night_id condition   reporting_type                       sample             \n",
       "AB19E   0     AB19E_0  Known Alarm AW: Sensor, ST: Selfreport (w/o App) S1          2.80   \n",
       "                                                                        S2          5.59   \n",
       "                                                                        S3         13.29   \n",
       "                                                                        S4         13.46   \n",
       "                                                                        S5         12.65   \n",
       "\n",
       "                                                                               time_diff_to_wake_onset  \\\n",
       "subject night night_id condition   reporting_type                       sample                           \n",
       "AB19E   0     AB19E_0  Known Alarm AW: Sensor, ST: Selfreport (w/o App) S1             0 days 00:03:08   \n",
       "                                                                        S2             0 days 00:18:08   \n",
       "                                                                        S3             0 days 00:33:08   \n",
       "                                                                        S4             0 days 00:48:08   \n",
       "                                                                        S5             0 days 01:04:08   \n",
       "\n",
       "                                                                                time_diff_min  \\\n",
       "subject night night_id condition   reporting_type                       sample                  \n",
       "AB19E   0     AB19E_0  Known Alarm AW: Sensor, ST: Selfreport (w/o App) S1           3.133333   \n",
       "                                                                        S2          18.133333   \n",
       "                                                                        S3          33.133333   \n",
       "                                                                        S4          48.133333   \n",
       "                                                                        S5          64.133333   \n",
       "\n",
       "                                                                                time_diff_to_naive_min  \n",
       "subject night night_id condition   reporting_type                       sample                          \n",
       "AB19E   0     AB19E_0  Known Alarm AW: Sensor, ST: Selfreport (w/o App) S1                    3.133333  \n",
       "                                                                        S2                    3.133333  \n",
       "                                                                        S3                    3.133333  \n",
       "                                                                        S4                    3.133333  \n",
       "                                                                        S5                    4.133333  "
      ]
     },
     "execution_count": 18,
     "metadata": {},
     "output_type": "execute_result"
    }
   ],
   "source": [
    "reporting_order = [\"AW: Sensor, ST: Selfreport (w/o App)\", \"AW: Sensor, ST: App\"]\n",
    "\n",
    "data_sensor = multi_xs(cort_samples, reporting_order, level=\"reporting_type\")\n",
    "data_sensor.head()"
   ]
  },
  {
   "cell_type": "markdown",
   "id": "1166f06d-b7fb-4cc0-8731-89351481ab70",
   "metadata": {
    "pycharm": {
     "name": "#%% md\n"
    }
   },
   "source": [
    "#### Median & IQR"
   ]
  },
  {
   "cell_type": "code",
   "execution_count": 19,
   "id": "dd76c772-06bb-4e6a-aec1-0fcf53646808",
   "metadata": {
    "collapsed": false,
    "jupyter": {
     "outputs_hidden": false
    },
    "pycharm": {
     "name": "#%%\n"
    }
   },
   "outputs": [
    {
     "data": {
      "text/html": [
       "<div>\n",
       "<style scoped>\n",
       "    .dataframe tbody tr th:only-of-type {\n",
       "        vertical-align: middle;\n",
       "    }\n",
       "\n",
       "    .dataframe tbody tr th {\n",
       "        vertical-align: top;\n",
       "    }\n",
       "\n",
       "    .dataframe thead tr th {\n",
       "        text-align: left;\n",
       "    }\n",
       "\n",
       "    .dataframe thead tr:last-of-type th {\n",
       "        text-align: right;\n",
       "    }\n",
       "</style>\n",
       "<table border=\"1\" class=\"dataframe\">\n",
       "  <thead>\n",
       "    <tr>\n",
       "      <th>sample</th>\n",
       "      <th colspan=\"2\" halign=\"left\">S1</th>\n",
       "      <th colspan=\"2\" halign=\"left\">S2</th>\n",
       "      <th colspan=\"2\" halign=\"left\">S3</th>\n",
       "      <th colspan=\"2\" halign=\"left\">S4</th>\n",
       "      <th colspan=\"2\" halign=\"left\">S5</th>\n",
       "    </tr>\n",
       "    <tr>\n",
       "      <th></th>\n",
       "      <th>median</th>\n",
       "      <th>iqr</th>\n",
       "      <th>median</th>\n",
       "      <th>iqr</th>\n",
       "      <th>median</th>\n",
       "      <th>iqr</th>\n",
       "      <th>median</th>\n",
       "      <th>iqr</th>\n",
       "      <th>median</th>\n",
       "      <th>iqr</th>\n",
       "    </tr>\n",
       "    <tr>\n",
       "      <th>reporting_type</th>\n",
       "      <th></th>\n",
       "      <th></th>\n",
       "      <th></th>\n",
       "      <th></th>\n",
       "      <th></th>\n",
       "      <th></th>\n",
       "      <th></th>\n",
       "      <th></th>\n",
       "      <th></th>\n",
       "      <th></th>\n",
       "    </tr>\n",
       "  </thead>\n",
       "  <tbody>\n",
       "    <tr>\n",
       "      <th>AW: Sensor, ST: App</th>\n",
       "      <td>4.341217</td>\n",
       "      <td>1.926800</td>\n",
       "      <td>4.997267</td>\n",
       "      <td>2.097483</td>\n",
       "      <td>5.679067</td>\n",
       "      <td>2.589533</td>\n",
       "      <td>6.162967</td>\n",
       "      <td>2.61115</td>\n",
       "      <td>6.627433</td>\n",
       "      <td>2.76595</td>\n",
       "    </tr>\n",
       "    <tr>\n",
       "      <th>AW: Sensor, ST: Selfreport (w/o App)</th>\n",
       "      <td>3.900000</td>\n",
       "      <td>3.033333</td>\n",
       "      <td>4.350000</td>\n",
       "      <td>2.875000</td>\n",
       "      <td>5.066667</td>\n",
       "      <td>3.125000</td>\n",
       "      <td>5.400000</td>\n",
       "      <td>3.37500</td>\n",
       "      <td>5.433333</td>\n",
       "      <td>3.42500</td>\n",
       "    </tr>\n",
       "  </tbody>\n",
       "</table>\n",
       "</div>"
      ],
      "text/plain": [
       "sample                                      S1                  S2            \\\n",
       "                                        median       iqr    median       iqr   \n",
       "reporting_type                                                                 \n",
       "AW: Sensor, ST: App                   4.341217  1.926800  4.997267  2.097483   \n",
       "AW: Sensor, ST: Selfreport (w/o App)  3.900000  3.033333  4.350000  2.875000   \n",
       "\n",
       "sample                                      S3                  S4           \\\n",
       "                                        median       iqr    median      iqr   \n",
       "reporting_type                                                                \n",
       "AW: Sensor, ST: App                   5.679067  2.589533  6.162967  2.61115   \n",
       "AW: Sensor, ST: Selfreport (w/o App)  5.066667  3.125000  5.400000  3.37500   \n",
       "\n",
       "sample                                      S5           \n",
       "                                        median      iqr  \n",
       "reporting_type                                           \n",
       "AW: Sensor, ST: App                   6.627433  2.76595  \n",
       "AW: Sensor, ST: Selfreport (w/o App)  5.433333  3.42500  "
      ]
     },
     "execution_count": 19,
     "metadata": {},
     "output_type": "execute_result"
    }
   ],
   "source": [
    "data_desc = median_iqr_saliva_samples(data_sensor, \"time_diff_to_naive_min\", [\"reporting_type\", \"sample\"])\n",
    "data_desc.head()"
   ]
  },
  {
   "cell_type": "markdown",
   "id": "d6111825-55c1-41e1-ac3b-05c1692d7b32",
   "metadata": {
    "pycharm": {
     "name": "#%% md\n"
    }
   },
   "source": [
    "#### By Delay Groups"
   ]
  },
  {
   "cell_type": "code",
   "execution_count": 20,
   "id": "6be5850e-c5d2-4e4f-9e82-62fcffd5e808",
   "metadata": {
    "collapsed": false,
    "jupyter": {
     "outputs_hidden": false
    },
    "pycharm": {
     "name": "#%%\n"
    }
   },
   "outputs": [
    {
     "data": {
      "text/html": [
       "<div>\n",
       "<style scoped>\n",
       "    .dataframe tbody tr th:only-of-type {\n",
       "        vertical-align: middle;\n",
       "    }\n",
       "\n",
       "    .dataframe tbody tr th {\n",
       "        vertical-align: top;\n",
       "    }\n",
       "\n",
       "    .dataframe thead th {\n",
       "        text-align: right;\n",
       "    }\n",
       "</style>\n",
       "<table border=\"1\" class=\"dataframe\">\n",
       "  <thead>\n",
       "    <tr style=\"text-align: right;\">\n",
       "      <th>delay_group</th>\n",
       "      <th>Adherent</th>\n",
       "      <th>Non-adherent</th>\n",
       "    </tr>\n",
       "    <tr>\n",
       "      <th>reporting_type</th>\n",
       "      <th></th>\n",
       "      <th></th>\n",
       "    </tr>\n",
       "  </thead>\n",
       "  <tbody>\n",
       "    <tr>\n",
       "      <th>AW: Sensor, ST: App</th>\n",
       "      <td>65.85</td>\n",
       "      <td>34.15</td>\n",
       "    </tr>\n",
       "    <tr>\n",
       "      <th>AW: Sensor, ST: Selfreport (w/o App)</th>\n",
       "      <td>60.78</td>\n",
       "      <td>39.22</td>\n",
       "    </tr>\n",
       "  </tbody>\n",
       "</table>\n",
       "</div>"
      ],
      "text/plain": [
       "delay_group                           Adherent  Non-adherent\n",
       "reporting_type                                              \n",
       "AW: Sensor, ST: App                      65.85         34.15\n",
       "AW: Sensor, ST: Selfreport (w/o App)     60.78         39.22"
      ]
     },
     "execution_count": 20,
     "metadata": {},
     "output_type": "execute_result"
    }
   ],
   "source": [
    "delay_group_data = data_sensor.reindex(reporting_order, level=\"reporting_type\")\n",
    "delay_group_data = categorize_sampling_adherence(delay_group_data)\n",
    "\n",
    "delay_group_percent = delay_group_data.groupby(\"reporting_type\").apply(\n",
    "    lambda df: df.groupby(\"delay_group\").apply(lambda d: len(d) / len(df) * 100)\n",
    ")\n",
    "delay_group_percent = delay_group_percent.round(2)\n",
    "dict_sample_times[\"Adherence_Sensor_App_Selfreport\"] = delay_group_percent\n",
    "delay_group_percent"
   ]
  },
  {
   "cell_type": "markdown",
   "id": "775cae1c-c054-4289-bd41-a7fd05d5eca7",
   "metadata": {
    "pycharm": {
     "name": "#%% md\n"
    }
   },
   "source": [
    "## Export"
   ]
  },
  {
   "cell_type": "code",
   "execution_count": 21,
   "id": "18ba6c51-777c-48a4-870e-5a1a2c705d1e",
   "metadata": {
    "collapsed": false,
    "jupyter": {
     "outputs_hidden": false
    },
    "pycharm": {
     "name": "#%%\n"
    }
   },
   "outputs": [],
   "source": [
    "bp.io.write_pandas_dict_excel(dict_sample_times, result_path.joinpath(\"sample_time_results.xlsx\"))"
   ]
  },
  {
   "cell_type": "code",
   "execution_count": null,
   "id": "ef19b9eb-2b97-4191-83ee-99239ade6904",
   "metadata": {},
   "outputs": [],
   "source": []
  }
 ],
 "metadata": {
  "interpreter": {
   "hash": "02aa1679edd4a06f5b85738ebdeaad54fd91805d6ba50c75947a30cd3f6e5db1"
  },
  "kernelspec": {
   "display_name": "carwatch-analysis",
   "language": "python",
   "name": "carwatch-analysis"
  },
  "language_info": {
   "codemirror_mode": {
    "name": "ipython",
    "version": 3
   },
   "file_extension": ".py",
   "mimetype": "text/x-python",
   "name": "python",
   "nbconvert_exporter": "python",
   "pygments_lexer": "ipython3",
   "version": "3.9.13"
  }
 },
 "nbformat": 4,
 "nbformat_minor": 5
}
