{
 "cells": [
  {
   "cell_type": "markdown",
   "metadata": {},
   "source": [
    "# App Log Cleaning"
   ]
  },
  {
   "cell_type": "code",
   "execution_count": 1,
   "metadata": {},
   "outputs": [],
   "source": [
    "from pathlib import Path\n",
    "import json\n",
    "\n",
    "import pandas as pd\n",
    "import numpy as np\n",
    "import pingouin as pg\n",
    "\n",
    "import biopsykit as bp\n",
    "from biopsykit.utils.time import time_to_timedelta\n",
    "from biopsykit.utils.dataframe_handling import multi_xs, int_from_str_idx, camel_to_snake\n",
    "\n",
    "from fau_colors import cmaps\n",
    "\n",
    "import matplotlib.pyplot as plt\n",
    "import seaborn as sns\n",
    "\n",
    "from carwatch_analysis.datasets import CarWatchDatasetProcessed\n",
    "\n",
    "%matplotlib widget\n",
    "%load_ext autoreload\n",
    "%autoreload 2"
   ]
  },
  {
   "cell_type": "code",
   "execution_count": 2,
   "metadata": {},
   "outputs": [
    {
     "data": {
      "text/html": [
       "<svg  width=\"330\" height=\"55\"><rect x=\"0\" y=\"0\" width=\"55\" height=\"55\" style=\"fill:#002f6c;stroke-width:2;stroke:rgb(255,255,255)\"/><rect x=\"55\" y=\"0\" width=\"55\" height=\"55\" style=\"fill:#779fb5;stroke-width:2;stroke:rgb(255,255,255)\"/><rect x=\"110\" y=\"0\" width=\"55\" height=\"55\" style=\"fill:#ffb81c;stroke-width:2;stroke:rgb(255,255,255)\"/><rect x=\"165\" y=\"0\" width=\"55\" height=\"55\" style=\"fill:#00a3e0;stroke-width:2;stroke:rgb(255,255,255)\"/><rect x=\"220\" y=\"0\" width=\"55\" height=\"55\" style=\"fill:#43b02a;stroke-width:2;stroke:rgb(255,255,255)\"/><rect x=\"275\" y=\"0\" width=\"55\" height=\"55\" style=\"fill:#c8102e;stroke-width:2;stroke:rgb(255,255,255)\"/></svg>"
      ],
      "text/plain": [
       "[(0.0, 0.1843137254901961, 0.4235294117647059),\n",
       " (0.4666666666666667, 0.6235294117647059, 0.7098039215686275),\n",
       " (1.0, 0.7215686274509804, 0.10980392156862745),\n",
       " (0.0, 0.6392156862745098, 0.8784313725490196),\n",
       " (0.2627450980392157, 0.6901960784313725, 0.16470588235294117),\n",
       " (0.7843137254901961, 0.06274509803921569, 0.1803921568627451)]"
      ]
     },
     "execution_count": 2,
     "metadata": {},
     "output_type": "execute_result"
    }
   ],
   "source": [
    "plt.close(\"all\")\n",
    "\n",
    "palette = sns.color_palette(cmaps.faculties)\n",
    "sns.set_theme(context=\"notebook\", style=\"ticks\", palette=palette)\n",
    "\n",
    "plt.rcParams[\"figure.figsize\"] = (8, 4)\n",
    "plt.rcParams[\"pdf.fonttype\"] = 42\n",
    "plt.rcParams[\"mathtext.default\"] = \"regular\"\n",
    "\n",
    "pg.options[\"round\"] = 4\n",
    "\n",
    "palette"
   ]
  },
  {
   "cell_type": "markdown",
   "metadata": {},
   "source": [
    "## Setup Paths"
   ]
  },
  {
   "cell_type": "code",
   "execution_count": 3,
   "metadata": {},
   "outputs": [],
   "source": [
    "deploy_type = \"develop\""
   ]
  },
  {
   "cell_type": "code",
   "execution_count": 4,
   "metadata": {},
   "outputs": [
    {
     "data": {
      "text/plain": [
       "PosixPath('/Users/Richer/Documents/PhD/Projects/HealthPsychology/CARWatch/Data')"
      ]
     },
     "execution_count": 4,
     "metadata": {},
     "output_type": "execute_result"
    }
   ],
   "source": [
    "# build path to data folder\n",
    "config_dict = json.load(Path(\"../../../config.json\").open(encoding=\"utf-8\"))\n",
    "base_path = Path(\"..\").joinpath(config_dict[deploy_type][\"base_path\"])\n",
    "base_path"
   ]
  },
  {
   "cell_type": "code",
   "execution_count": 5,
   "metadata": {},
   "outputs": [
    {
     "data": {
      "text/html": [
       "<h4 style=\"margin-bottom: 0.1em;\">CarWatchDatasetProcessed [234 groups/rows]</h3>\n",
       "<div style=\"margin-top: 0em\">\n",
       "<style scoped>\n",
       "    .dataframe tbody tr th:only-of-type {\n",
       "        vertical-align: middle;\n",
       "    }\n",
       "\n",
       "    .dataframe tbody tr th {\n",
       "        vertical-align: top;\n",
       "    }\n",
       "\n",
       "    .dataframe thead th {\n",
       "        text-align: right;\n",
       "    }\n",
       "</style>\n",
       "<table style=\"margin-left: 3em;\">\n",
       "  <thead>\n",
       "    <tr style=\"text-align: right;\">\n",
       "      <th style=\"text-align: center;\"></th>\n",
       "      <th style=\"text-align: center;\">subject</th>\n",
       "      <th style=\"text-align: center;\">night</th>\n",
       "    </tr>\n",
       "  </thead>\n",
       "  <tbody>\n",
       "    <tr>\n",
       "      <th style=\"text-align: center;\">0</th>\n",
       "      <td style=\"text-align: center; padding-left: 2em; padding-right: 2em;\">AB19E</td>\n",
       "      <td style=\"text-align: center; padding-left: 2em; padding-right: 2em;\">0</td>\n",
       "    </tr>\n",
       "    <tr>\n",
       "      <th style=\"text-align: center;\">1</th>\n",
       "      <td style=\"text-align: center; padding-left: 2em; padding-right: 2em;\">AB19E</td>\n",
       "      <td style=\"text-align: center; padding-left: 2em; padding-right: 2em;\">1</td>\n",
       "    </tr>\n",
       "    <tr>\n",
       "      <th style=\"text-align: center;\">2</th>\n",
       "      <td style=\"text-align: center; padding-left: 2em; padding-right: 2em;\">AB31R</td>\n",
       "      <td style=\"text-align: center; padding-left: 2em; padding-right: 2em;\">0</td>\n",
       "    </tr>\n",
       "    <tr>\n",
       "      <th style=\"text-align: center;\">3</th>\n",
       "      <td style=\"text-align: center; padding-left: 2em; padding-right: 2em;\">AB31R</td>\n",
       "      <td style=\"text-align: center; padding-left: 2em; padding-right: 2em;\">1</td>\n",
       "    </tr>\n",
       "    <tr>\n",
       "      <th style=\"text-align: center;\">4</th>\n",
       "      <td style=\"text-align: center; padding-left: 2em; padding-right: 2em;\">AC12E</td>\n",
       "      <td style=\"text-align: center; padding-left: 2em; padding-right: 2em;\">0</td>\n",
       "    </tr>\n",
       "    <tr>\n",
       "      <th style=\"text-align: center;\">...</th>\n",
       "      <td style=\"text-align: center; padding-left: 2em; padding-right: 2em;\">...</td>\n",
       "      <td style=\"text-align: center; padding-left: 2em; padding-right: 2em;\">...</td>\n",
       "    </tr>\n",
       "    <tr>\n",
       "      <th style=\"text-align: center;\">229</th>\n",
       "      <td style=\"text-align: center; padding-left: 2em; padding-right: 2em;\">VE19A</td>\n",
       "      <td style=\"text-align: center; padding-left: 2em; padding-right: 2em;\">1</td>\n",
       "    </tr>\n",
       "    <tr>\n",
       "      <th style=\"text-align: center;\">230</th>\n",
       "      <td style=\"text-align: center; padding-left: 2em; padding-right: 2em;\">VS09S</td>\n",
       "      <td style=\"text-align: center; padding-left: 2em; padding-right: 2em;\">0</td>\n",
       "    </tr>\n",
       "    <tr>\n",
       "      <th style=\"text-align: center;\">231</th>\n",
       "      <td style=\"text-align: center; padding-left: 2em; padding-right: 2em;\">VS09S</td>\n",
       "      <td style=\"text-align: center; padding-left: 2em; padding-right: 2em;\">1</td>\n",
       "    </tr>\n",
       "    <tr>\n",
       "      <th style=\"text-align: center;\">232</th>\n",
       "      <td style=\"text-align: center; padding-left: 2em; padding-right: 2em;\">WM13K</td>\n",
       "      <td style=\"text-align: center; padding-left: 2em; padding-right: 2em;\">0</td>\n",
       "    </tr>\n",
       "    <tr>\n",
       "      <th style=\"text-align: center;\">233</th>\n",
       "      <td style=\"text-align: center; padding-left: 2em; padding-right: 2em;\">WM13K</td>\n",
       "      <td style=\"text-align: center; padding-left: 2em; padding-right: 2em;\">1</td>\n",
       "    </tr>\n",
       "  </tbody>\n",
       "</table>\n",
       "<p>234 rows × 2 columns</p>\n",
       "</div>"
      ],
      "text/plain": [
       "CarWatchDatasetProcessed [234 groups/rows]\n",
       "\n",
       "       subject  night\n",
       "   0     AB19E      0\n",
       "   1     AB19E      1\n",
       "   2     AB31R      0\n",
       "   3     AB31R      1\n",
       "   4     AC12E      0\n",
       "   ..      ...    ...\n",
       "   229   VE19A      1\n",
       "   230   VS09S      0\n",
       "   231   VS09S      1\n",
       "   232   WM13K      0\n",
       "   233   WM13K      1\n",
       "   \n",
       "   [234 rows x 2 columns]"
      ]
     },
     "execution_count": 5,
     "metadata": {},
     "output_type": "execute_result"
    }
   ],
   "source": [
    "dataset = CarWatchDatasetProcessed(base_path)\n",
    "dataset"
   ]
  },
  {
   "cell_type": "markdown",
   "metadata": {},
   "source": [
    "## Load Data"
   ]
  },
  {
   "cell_type": "markdown",
   "metadata": {},
   "source": [
    "### App Logs"
   ]
  },
  {
   "cell_type": "code",
   "execution_count": 8,
   "metadata": {},
   "outputs": [
    {
     "data": {
      "text/html": [
       "<div>\n",
       "<style scoped>\n",
       "    .dataframe tbody tr th:only-of-type {\n",
       "        vertical-align: middle;\n",
       "    }\n",
       "\n",
       "    .dataframe tbody tr th {\n",
       "        vertical-align: top;\n",
       "    }\n",
       "\n",
       "    .dataframe thead th {\n",
       "        text-align: right;\n",
       "    }\n",
       "</style>\n",
       "<table border=\"1\" class=\"dataframe\">\n",
       "  <thead>\n",
       "    <tr style=\"text-align: right;\">\n",
       "      <th></th>\n",
       "      <th>time</th>\n",
       "      <th>action</th>\n",
       "      <th>extras</th>\n",
       "    </tr>\n",
       "  </thead>\n",
       "  <tbody>\n",
       "    <tr>\n",
       "      <th>0</th>\n",
       "      <td>2019-11-18 14:00:45.577000+01:00</td>\n",
       "      <td>subject_id_set</td>\n",
       "      <td>{\"subject_id\": \"AB19E\", \"subject_condition\": \"...</td>\n",
       "    </tr>\n",
       "    <tr>\n",
       "      <th>1</th>\n",
       "      <td>2019-11-18 14:01:20.425000+01:00</td>\n",
       "      <td>subject_id_set</td>\n",
       "      <td>{\"subject_id\": \"AB19E\", \"subject_condition\": \"...</td>\n",
       "    </tr>\n",
       "    <tr>\n",
       "      <th>2</th>\n",
       "      <td>2019-11-18 22:38:32.227000+01:00</td>\n",
       "      <td>evening_salivette</td>\n",
       "      <td>{\"id\": 815}</td>\n",
       "    </tr>\n",
       "    <tr>\n",
       "      <th>3</th>\n",
       "      <td>2019-11-18 22:38:48.230000+01:00</td>\n",
       "      <td>barcode_scanned</td>\n",
       "      <td>{\"id\": 815, \"saliva_id\": 5, \"barcode_value\": \"...</td>\n",
       "    </tr>\n",
       "    <tr>\n",
       "      <th>4</th>\n",
       "      <td>2019-11-18 22:38:54.706000+01:00</td>\n",
       "      <td>service_started</td>\n",
       "      <td>{}</td>\n",
       "    </tr>\n",
       "    <tr>\n",
       "      <th>...</th>\n",
       "      <td>...</td>\n",
       "      <td>...</td>\n",
       "      <td>...</td>\n",
       "    </tr>\n",
       "    <tr>\n",
       "      <th>83</th>\n",
       "      <td>2019-11-21 12:46:28.314000+01:00</td>\n",
       "      <td>screen_on</td>\n",
       "      <td>{}</td>\n",
       "    </tr>\n",
       "    <tr>\n",
       "      <th>84</th>\n",
       "      <td>2019-11-21 12:46:30.024000+01:00</td>\n",
       "      <td>user_present</td>\n",
       "      <td>{}</td>\n",
       "    </tr>\n",
       "    <tr>\n",
       "      <th>85</th>\n",
       "      <td>2019-11-21 13:16:22.114000+01:00</td>\n",
       "      <td>screen_off</td>\n",
       "      <td>{}</td>\n",
       "    </tr>\n",
       "    <tr>\n",
       "      <th>86</th>\n",
       "      <td>2019-11-21 13:18:20.275000+01:00</td>\n",
       "      <td>screen_on</td>\n",
       "      <td>{}</td>\n",
       "    </tr>\n",
       "    <tr>\n",
       "      <th>87</th>\n",
       "      <td>2019-11-21 13:18:23.494000+01:00</td>\n",
       "      <td>user_present</td>\n",
       "      <td>{}</td>\n",
       "    </tr>\n",
       "  </tbody>\n",
       "</table>\n",
       "<p>88 rows × 3 columns</p>\n",
       "</div>"
      ],
      "text/plain": [
       "                                time             action  \\\n",
       "0   2019-11-18 14:00:45.577000+01:00     subject_id_set   \n",
       "1   2019-11-18 14:01:20.425000+01:00     subject_id_set   \n",
       "2   2019-11-18 22:38:32.227000+01:00  evening_salivette   \n",
       "3   2019-11-18 22:38:48.230000+01:00    barcode_scanned   \n",
       "4   2019-11-18 22:38:54.706000+01:00    service_started   \n",
       "..                               ...                ...   \n",
       "83  2019-11-21 12:46:28.314000+01:00          screen_on   \n",
       "84  2019-11-21 12:46:30.024000+01:00       user_present   \n",
       "85  2019-11-21 13:16:22.114000+01:00         screen_off   \n",
       "86  2019-11-21 13:18:20.275000+01:00          screen_on   \n",
       "87  2019-11-21 13:18:23.494000+01:00       user_present   \n",
       "\n",
       "                                               extras  \n",
       "0   {\"subject_id\": \"AB19E\", \"subject_condition\": \"...  \n",
       "1   {\"subject_id\": \"AB19E\", \"subject_condition\": \"...  \n",
       "2                                         {\"id\": 815}  \n",
       "3   {\"id\": 815, \"saliva_id\": 5, \"barcode_value\": \"...  \n",
       "4                                                  {}  \n",
       "..                                                ...  \n",
       "83                                                 {}  \n",
       "84                                                 {}  \n",
       "85                                                 {}  \n",
       "86                                                 {}  \n",
       "87                                                 {}  \n",
       "\n",
       "[88 rows x 3 columns]"
      ]
     },
     "execution_count": 8,
     "metadata": {},
     "output_type": "execute_result"
    }
   ],
   "source": [
    "dataset.get_subset(subject=\"AB19E\").app_logs"
   ]
  },
  {
   "cell_type": "markdown",
   "metadata": {},
   "source": [
    "### Saliva"
   ]
  },
  {
   "cell_type": "code",
   "execution_count": null,
   "metadata": {},
   "outputs": [],
   "source": [
    "cort_samples = dataset.cortisol_samples\n",
    "cort_samples.head()"
   ]
  },
  {
   "cell_type": "code",
   "execution_count": null,
   "metadata": {},
   "outputs": [],
   "source": [
    "cort_features = dataset.cortisol_features\n",
    "cort_features.head()"
   ]
  },
  {
   "cell_type": "markdown",
   "metadata": {
    "tags": []
   },
   "source": [
    "## Data Cleaning"
   ]
  },
  {
   "cell_type": "code",
   "execution_count": null,
   "metadata": {},
   "outputs": [],
   "source": [
    "print(f\"Number of CARs before cleaning: {cort_samples.unstack('sample').shape[0]}\")"
   ]
  },
  {
   "cell_type": "markdown",
   "metadata": {},
   "source": [
    "### Remove CARs with any missing cortisol values"
   ]
  },
  {
   "cell_type": "code",
   "execution_count": null,
   "metadata": {},
   "outputs": [],
   "source": [
    "cort_samples = clean_missing_values(cort_samples)"
   ]
  },
  {
   "cell_type": "markdown",
   "metadata": {},
   "source": [
    "### Remove CARs with missing date information\n",
    "Missing date information is defined as no valid data for any of:\n",
    "* recording date\n",
    "* wake onset\n",
    "* sample time information"
   ]
  },
  {
   "cell_type": "code",
   "execution_count": null,
   "metadata": {},
   "outputs": [],
   "source": [
    "cort_samples = clean_missing_date_information(cort_samples)"
   ]
  },
  {
   "cell_type": "markdown",
   "metadata": {},
   "source": [
    "### Remove CARs with Differences >5 min between Wake Onset and S0"
   ]
  },
  {
   "cell_type": "code",
   "execution_count": null,
   "metadata": {},
   "outputs": [],
   "source": [
    "cort_samples = clean_s0_after_wake_onset(cort_samples)"
   ]
  },
  {
   "cell_type": "markdown",
   "metadata": {},
   "source": [
    "### Remove CARs with absolute difference between two consecutive saliva samples of >5 min from the actual time"
   ]
  },
  {
   "cell_type": "code",
   "execution_count": null,
   "metadata": {},
   "outputs": [],
   "source": [
    "cort_samples = clean_sampling_time_difference(cort_samples)"
   ]
  },
  {
   "cell_type": "markdown",
   "metadata": {},
   "source": [
    "### Remove Statistical Outlier ($> 3 \\sigma$)"
   ]
  },
  {
   "cell_type": "markdown",
   "metadata": {},
   "source": [
    "Remove CARs where any cortisol sample differs more than 3 standard deviations from the mean"
   ]
  },
  {
   "cell_type": "code",
   "execution_count": null,
   "metadata": {},
   "outputs": [],
   "source": [
    "cort_samples = clean_statistical_outlier(cort_samples)"
   ]
  },
  {
   "cell_type": "markdown",
   "metadata": {},
   "source": [
    "### Remove Physiological Outlier (Cortisol > 70 nmol/l)"
   ]
  },
  {
   "cell_type": "code",
   "execution_count": null,
   "metadata": {},
   "outputs": [],
   "source": [
    "cort_samples = clean_physiological_outlier(cort_samples)"
   ]
  },
  {
   "cell_type": "code",
   "execution_count": null,
   "metadata": {},
   "outputs": [],
   "source": [
    "cort_samples.head()"
   ]
  },
  {
   "cell_type": "markdown",
   "metadata": {},
   "source": [
    "## Apply Index to Cortisol Features"
   ]
  },
  {
   "cell_type": "code",
   "execution_count": null,
   "metadata": {},
   "outputs": [],
   "source": [
    "cort_features = cort_features.unstack(\"saliva_feature\").reindex(cort_samples.unstack(\"sample\").index)\n",
    "cort_features = cort_features.stack()\n",
    "cort_features.head()"
   ]
  },
  {
   "cell_type": "markdown",
   "metadata": {},
   "source": [
    "## Adding Categorial Variables"
   ]
  },
  {
   "cell_type": "markdown",
   "metadata": {},
   "source": [
    "### Wakeup Sources"
   ]
  },
  {
   "cell_type": "code",
   "execution_count": null,
   "metadata": {},
   "outputs": [],
   "source": [
    "wakeup_source = dataset.questionnaire[\"wakeup_source\"].fillna(0).astype(int)"
   ]
  },
  {
   "cell_type": "markdown",
   "metadata": {},
   "source": [
    "### Weekend"
   ]
  },
  {
   "cell_type": "code",
   "execution_count": null,
   "metadata": {},
   "outputs": [],
   "source": [
    "# NOTE: 4 = Friday, 5 = Saturday; this is chosen because \"date\" corresponds to the day when the night *started*,\n",
    "# i.e, the nights from Friday to Saturday and from Saturday to Sunday are considered weekend\n",
    "weekend = dataset.date[\"date\"].dt.weekday.isin([4, 5]).astype(int)\n",
    "weekend.name = \"weekend\""
   ]
  },
  {
   "cell_type": "markdown",
   "metadata": {},
   "source": [
    "### Wakeup Hour"
   ]
  },
  {
   "cell_type": "code",
   "execution_count": null,
   "metadata": {},
   "outputs": [],
   "source": [
    "wakeup_hour = np.floor(dataset.sleep_information_merged[\"wake_onset_time\"] / pd.Timedelta(hours=1))\n",
    "wakeup_hour.name = \"wakeup_hour\""
   ]
  },
  {
   "cell_type": "markdown",
   "metadata": {},
   "source": [
    "### Chronotype"
   ]
  },
  {
   "cell_type": "code",
   "execution_count": null,
   "metadata": {},
   "outputs": [],
   "source": [
    "meq = sleep_info[\"MEQ\"]\n",
    "chronotype = sleep_info[\"chronotype_coarse\"]\n",
    "chronotype.name = \"chronotype\"\n",
    "within_ideal_bed_time = sleep_info[\"within_ideal_bed_time\"]"
   ]
  },
  {
   "cell_type": "code",
   "execution_count": null,
   "metadata": {},
   "outputs": [],
   "source": [
    "for index in [wakeup_source, wakeup_hour, weekend, meq, chronotype, within_ideal_bed_time]:\n",
    "    if index.name not in cort_samples.reset_index().columns:\n",
    "        cort_samples = cort_samples.join(index)\n",
    "        cort_features = cort_features.join(index)"
   ]
  },
  {
   "cell_type": "markdown",
   "metadata": {},
   "source": [
    "### Apply Codebook: Rename Index Codes, Set Index Levels, Reorder Columns"
   ]
  },
  {
   "cell_type": "markdown",
   "metadata": {},
   "source": [
    "Set desired Index Order"
   ]
  },
  {
   "cell_type": "code",
   "execution_count": null,
   "metadata": {},
   "outputs": [],
   "source": [
    "index_cols = [\n",
    "    \"subject\",\n",
    "    \"condition\",\n",
    "    \"chronotype\",\n",
    "    \"MEQ\",\n",
    "    \"night\",\n",
    "    \"within_ideal_bed_time\",\n",
    "    \"wakeup_source\",\n",
    "    \"weekend\",\n",
    "    \"wakeup_hour\",\n",
    "]"
   ]
  },
  {
   "cell_type": "code",
   "execution_count": null,
   "metadata": {},
   "outputs": [],
   "source": [
    "cort_samples = cort_samples.reset_index().set_index(index_cols + [\"sample\"])\n",
    "cort_samples = cort_samples[[\"cortisol\", \"time\"]]\n",
    "\n",
    "cort_features = cort_features.reset_index().set_index(index_cols + [\"saliva_feature\"])\n",
    "\n",
    "display(cort_samples.head())\n",
    "display(cort_features.head())"
   ]
  },
  {
   "cell_type": "code",
   "execution_count": null,
   "metadata": {},
   "outputs": [],
   "source": [
    "codebook = dataset.codebook\n",
    "cort_samples = bp.utils.dataframe_handling.apply_codebook(cort_samples, codebook)\n",
    "cort_features = bp.utils.dataframe_handling.apply_codebook(cort_features, codebook)\n",
    "\n",
    "display(cort_samples.head())\n",
    "display(cort_features.head())"
   ]
  },
  {
   "cell_type": "markdown",
   "metadata": {},
   "source": [
    "## Export"
   ]
  },
  {
   "cell_type": "code",
   "execution_count": null,
   "metadata": {},
   "outputs": [],
   "source": [
    "export_path = Path(\"../../exports\")\n",
    "export_path.mkdir(exist_ok=True)"
   ]
  },
  {
   "cell_type": "code",
   "execution_count": null,
   "metadata": {},
   "outputs": [],
   "source": [
    "cort_samples.to_csv(export_path.joinpath(\"cortisol_samples_cleaned.csv\"))\n",
    "cort_features.to_csv(export_path.joinpath(\"cortisol_features_cleaned.csv\"))"
   ]
  },
  {
   "cell_type": "code",
   "execution_count": null,
   "metadata": {},
   "outputs": [],
   "source": []
  }
 ],
 "metadata": {
  "kernelspec": {
   "display_name": "carwatch-analysis",
   "language": "python",
   "name": "carwatch-analysis"
  },
  "language_info": {
   "codemirror_mode": {
    "name": "ipython",
    "version": 3
   },
   "file_extension": ".py",
   "mimetype": "text/x-python",
   "name": "python",
   "nbconvert_exporter": "python",
   "pygments_lexer": "ipython3",
   "version": "3.8.3"
  }
 },
 "nbformat": 4,
 "nbformat_minor": 4
}