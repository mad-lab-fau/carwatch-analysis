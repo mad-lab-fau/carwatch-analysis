{
 "cells": [
  {
   "cell_type": "markdown",
   "metadata": {
    "pycharm": {
     "name": "#%% md\n"
    }
   },
   "source": [
    "# Saliva Processing – All Log Types (Naive, Selfreport, App, Sensor)"
   ]
  },
  {
   "cell_type": "code",
   "execution_count": null,
   "metadata": {
    "pycharm": {
     "name": "#%%\n"
    },
    "tags": []
   },
   "outputs": [],
   "source": [
    "from pathlib import Path\n",
    "import json\n",
    "\n",
    "import numpy as np\n",
    "import pandas as pd\n",
    "import pingouin as pg\n",
    "\n",
    "import matplotlib.pyplot as plt\n",
    "import seaborn as sns\n",
    "\n",
    "from tqdm.auto import tqdm\n",
    "\n",
    "import biopsykit as bp\n",
    "from biopsykit.utils.dataframe_handling import multi_xs\n",
    "from biopsykit.carwatch_logs import LogData\n",
    "from biopsykit.carwatch_logs.log_data import get_logs_for_action\n",
    "import biopsykit.carwatch_logs.log_actions as log_actions\n",
    "\n",
    "\n",
    "from carwatch_analysis.io import load_sensor_awakening_times\n",
    "from carwatch_analysis.datasets import CarWatchDatasetProcessed\n",
    "from carwatch_analysis.exceptions import AppLogDataNotFoundException\n",
    "from carwatch_analysis.stats import create_unique_night_id\n",
    "\n",
    "from carwatch_analysis.data_processing.app_logs import (\n",
    "    process_app_log_single_subject,\n",
    "    restructure_sample_times_dataframe_app,\n",
    ")\n",
    "from carwatch_analysis.data_processing.sample_times import (\n",
    "    add_naive_sample_times,\n",
    "    sample_times_long_format,\n",
    "    compute_sample_times_parameter,\n",
    "    restructure_sample_times_dataframe,\n",
    "    compute_time_diff_to_naive,\n",
    "    add_delay_group_index,\n",
    ")\n",
    "from carwatch_analysis.data_processing.saliva import compute_saliva_features\n",
    "\n",
    "import datetime\n",
    "\n",
    "%load_ext autoreload\n",
    "%autoreload 2\n",
    "%matplotlib widget"
   ]
  },
  {
   "cell_type": "markdown",
   "metadata": {
    "pycharm": {
     "name": "#%% md\n"
    }
   },
   "source": [
    "## Setup Paths"
   ]
  },
  {
   "cell_type": "code",
   "execution_count": null,
   "metadata": {
    "pycharm": {
     "name": "#%%\n"
    }
   },
   "outputs": [],
   "source": [
    "deploy_type = \"develop\""
   ]
  },
  {
   "cell_type": "code",
   "execution_count": null,
   "metadata": {
    "pycharm": {
     "name": "#%%\n"
    }
   },
   "outputs": [],
   "source": [
    "# build path to data folder\n",
    "config_dict = json.load(Path(\"../../../config.json\").open(encoding=\"utf-8\"))\n",
    "base_path = Path(config_dict[deploy_type][\"base_path\"])\n",
    "\n",
    "base_path"
   ]
  },
  {
   "cell_type": "code",
   "execution_count": null,
   "metadata": {
    "pycharm": {
     "name": "#%%\n"
    }
   },
   "outputs": [],
   "source": [
    "export_path = Path(\"../../exports\")\n",
    "export_path.resolve()"
   ]
  },
  {
   "cell_type": "code",
   "execution_count": null,
   "metadata": {
    "pycharm": {
     "name": "#%%\n"
    }
   },
   "outputs": [],
   "source": [
    "dataset = CarWatchDatasetProcessed(base_path, use_cache=True)\n",
    "dataset"
   ]
  },
  {
   "cell_type": "markdown",
   "metadata": {
    "pycharm": {
     "name": "#%% md\n"
    },
    "tags": []
   },
   "source": [
    "## Load Data"
   ]
  },
  {
   "cell_type": "markdown",
   "metadata": {
    "pycharm": {
     "name": "#%% md\n"
    }
   },
   "source": [
    "### Awakening Times"
   ]
  },
  {
   "cell_type": "markdown",
   "metadata": {
    "pycharm": {
     "name": "#%% md\n"
    },
    "tags": []
   },
   "source": [
    "#### Selfreport"
   ]
  },
  {
   "cell_type": "code",
   "execution_count": null,
   "metadata": {
    "pycharm": {
     "name": "#%%\n"
    }
   },
   "outputs": [],
   "source": [
    "bedtimes = dataset.endpoints_selfreport\n",
    "bedtimes = bedtimes[[\"wake_onset_selfreport\"]].dropna()\n",
    "bedtimes = bedtimes.apply(pd.to_timedelta).sort_index()\n",
    "\n",
    "bedtimes.head()"
   ]
  },
  {
   "cell_type": "markdown",
   "metadata": {
    "pycharm": {
     "name": "#%% md\n"
    }
   },
   "source": [
    "#### App"
   ]
  },
  {
   "cell_type": "code",
   "execution_count": null,
   "metadata": {
    "pycharm": {
     "name": "#%%\n"
    }
   },
   "outputs": [],
   "source": [
    "app_wakeup_path = base_path.joinpath(\"app_logs/app_data_wakeup.xlsx\")\n",
    "\n",
    "app_wakeup = pd.read_excel(app_wakeup_path)\n",
    "app_wakeup = app_wakeup.set_index(\"subject\")\n",
    "app_wakeup.columns.name = \"night\"\n",
    "app_wakeup = pd.DataFrame(pd.to_timedelta(app_wakeup.stack()), columns=[\"wake_onset_app\"]).sort_index()\n",
    "\n",
    "app_wakeup.head()"
   ]
  },
  {
   "cell_type": "markdown",
   "metadata": {
    "pycharm": {
     "name": "#%% md\n"
    }
   },
   "source": [
    "#### Sensor"
   ]
  },
  {
   "cell_type": "code",
   "execution_count": null,
   "metadata": {
    "pycharm": {
     "name": "#%%\n"
    }
   },
   "outputs": [],
   "source": [
    "# get path to general analysis export folder\n",
    "export_path_general = export_path.joinpath(\"../../00_general/exports\")\n",
    "file_path = export_path_general.joinpath(\"imu_sleep_endpoints_cleaned.csv\")\n",
    "\n",
    "sensor_wakeup = load_sensor_awakening_times(file_path)\n",
    "sensor_wakeup.head()"
   ]
  },
  {
   "cell_type": "markdown",
   "metadata": {
    "pycharm": {
     "name": "#%% md\n"
    }
   },
   "source": [
    "### Cortisol Samples"
   ]
  },
  {
   "cell_type": "code",
   "execution_count": null,
   "metadata": {
    "pycharm": {
     "name": "#%%\n"
    }
   },
   "outputs": [],
   "source": [
    "cortisol_samples = pd.read_csv(export_path.joinpath(\"cortisol_samples_cleaned.csv\"))\n",
    "\n",
    "# restructure dataframe\n",
    "index_cols = [\"subject\", \"night\", \"condition\", \"sample\"]\n",
    "cortisol_samples = cortisol_samples.set_index(index_cols)\n",
    "cortisol_samples = cortisol_samples.rename(columns={\"time_abs\": \"sample_time_selfreport\"})\n",
    "cortisol_samples = cortisol_samples.drop(columns=[\"time\", \"wake_onset_time\"])\n",
    "\n",
    "# add time information from selfreport, app, and sensor\n",
    "cortisol_samples = cortisol_samples.join(bedtimes).join(app_wakeup).join(sensor_wakeup)\n",
    "\n",
    "# convert columns to timedelta\n",
    "td_cols = [\"sample_time_selfreport\"] + list(cortisol_samples.filter(like=\"wake_onset\").columns)\n",
    "cortisol_samples[td_cols] = cortisol_samples[td_cols].apply(pd.to_timedelta)\n",
    "\n",
    "cortisol_samples.head()"
   ]
  },
  {
   "cell_type": "markdown",
   "metadata": {
    "pycharm": {
     "name": "#%% md\n"
    }
   },
   "source": [
    "## Data Processing"
   ]
  },
  {
   "cell_type": "code",
   "execution_count": null,
   "metadata": {
    "pycharm": {
     "name": "#%%\n"
    }
   },
   "outputs": [],
   "source": [
    "dict_barcode_day = {}\n",
    "\n",
    "for subset in tqdm(dataset.groupby(\"subject\")):\n",
    "    subject_id = subset.index[\"subject\"][0]\n",
    "    try:\n",
    "        df_barcode_scanned = process_app_log_single_subject(subset)\n",
    "        if df_barcode_scanned is not None:\n",
    "            dict_barcode_day[subject_id] = df_barcode_scanned\n",
    "    except AppLogDataNotFoundException as e:\n",
    "        continue"
   ]
  },
  {
   "cell_type": "code",
   "execution_count": null,
   "metadata": {
    "pycharm": {
     "name": "#%%\n"
    }
   },
   "outputs": [],
   "source": [
    "sample_times = pd.concat(dict_barcode_day, names=[\"subject\"])\n",
    "sample_times = restructure_sample_times_dataframe_app(sample_times)\n",
    "\n",
    "# add sampling times from app to dataframe\n",
    "cortisol_samples_time = cortisol_samples.join(sample_times).sort_index()\n",
    "\n",
    "cortisol_samples_time = add_naive_sample_times(cortisol_samples_time)\n",
    "cortisol_samples_time = sample_times_long_format(cortisol_samples_time)\n",
    "cortisol_samples_time = compute_sample_times_parameter(cortisol_samples_time)\n",
    "cortisol_samples_time = restructure_sample_times_dataframe(cortisol_samples_time)\n",
    "cortisol_samples_time = compute_time_diff_to_naive(cortisol_samples_time)\n",
    "\n",
    "cortisol_samples_time = cortisol_samples_time.rename(lambda s: s.replace(\"_\", \" + \"), level=\"log_type\")\n",
    "\n",
    "cortisol_samples_time.head()"
   ]
  },
  {
   "cell_type": "markdown",
   "metadata": {
    "pycharm": {
     "name": "#%% md\n"
    }
   },
   "source": [
    "## Data Cleaning"
   ]
  },
  {
   "cell_type": "markdown",
   "metadata": {
    "pycharm": {
     "name": "#%% md\n"
    }
   },
   "source": [
    "### Sensor Awakening Times"
   ]
  },
  {
   "cell_type": "code",
   "execution_count": null,
   "metadata": {
    "pycharm": {
     "name": "#%%\n"
    }
   },
   "outputs": [],
   "source": [
    "# consider only delay to S0\n",
    "cort_tmp = cortisol_samples_time.xs(\"S0\", level=\"sample\")\n",
    "# consider only Sensor wake onsets\n",
    "cort_tmp = multi_xs(cort_tmp, keys=[\"Sensor + Selfreport\", \"Sensor + App\"], level=\"log_type\")\n",
    "# select nights where Sensor wake onset is more than 1 min *later* or more than 15 min *earlier*\n",
    "# than the first reported sampling time\n",
    "imu_mask = (cort_tmp[\"time_diff_to_naive_min\"] < -1) | (cort_tmp[\"time_diff_to_naive_min\"] > 30)\n",
    "\n",
    "# drop selected nights\n",
    "cortisol_samples_time_cleaned = cortisol_samples_time.unstack().drop(index=imu_mask.loc[imu_mask].index).stack()\n",
    "cortisol_samples_time_cleaned.head()"
   ]
  },
  {
   "cell_type": "markdown",
   "metadata": {
    "pycharm": {
     "name": "#%% md\n"
    }
   },
   "source": [
    "### Cortisol Samples"
   ]
  },
  {
   "cell_type": "code",
   "execution_count": null,
   "metadata": {
    "pycharm": {
     "name": "#%%\n"
    }
   },
   "outputs": [],
   "source": [
    "col = \"time_diff_to_naive_min\"\n",
    "\n",
    "# remove data that have sampling time differences of 30 min or more\n",
    "cort_mask = cortisol_samples_time_cleaned[col].abs() >= 30\n",
    "cortisol_samples_time_cleaned = cortisol_samples_time_cleaned.loc[~cort_mask]\n",
    "cortisol_samples_time_cleaned = cortisol_samples_time_cleaned.unstack(\"sample\").dropna().stack()\n",
    "cortisol_samples_time_cleaned.head()"
   ]
  },
  {
   "cell_type": "markdown",
   "metadata": {
    "pycharm": {
     "name": "#%% md\n"
    }
   },
   "source": [
    "### Further Split *Selfreport* into *Selfreport with App* and *Selfreport without App*"
   ]
  },
  {
   "cell_type": "code",
   "execution_count": null,
   "metadata": {
    "pycharm": {
     "name": "#%%\n"
    }
   },
   "outputs": [],
   "source": [
    "subjects_with_app = cortisol_samples_time_cleaned.xs(\"App\", level=\"log_type\").index.get_level_values(\"subject\").unique()\n",
    "\n",
    "cortisol_samples_with_app = cortisol_samples_time_cleaned.loc[subjects_with_app]\n",
    "cortisol_samples_without_app = cortisol_samples_time_cleaned.drop(subjects_with_app)\n",
    "\n",
    "cortisol_selfreport = {\n",
    "    \"Selfreport without App\": cortisol_samples_without_app.xs(\"Selfreport\", level=\"log_type\"),\n",
    "    \"Selfreport with App\": cortisol_samples_with_app.xs(\"Selfreport\", level=\"log_type\"),\n",
    "    \"Sensor + Selfreport without App\": cortisol_samples_without_app.xs(\"Sensor + Selfreport\", level=\"log_type\"),\n",
    "    \"Sensor + Selfreport with App\": cortisol_samples_with_app.xs(\"Sensor + Selfreport\", level=\"log_type\"),\n",
    "}\n",
    "cortisol_selfreport = pd.concat(cortisol_selfreport, names=[\"log_type\"])\n",
    "cortisol_selfreport = cortisol_selfreport.reorder_levels(cortisol_samples_time_cleaned.index.names)\n",
    "\n",
    "cortisol_samples_time_cleaned_all = pd.concat([cortisol_samples_time_cleaned, cortisol_selfreport])\n",
    "cortisol_samples_time_cleaned_all.head()"
   ]
  },
  {
   "cell_type": "markdown",
   "metadata": {
    "pycharm": {
     "name": "#%% md\n"
    }
   },
   "source": [
    "## Feature Computation"
   ]
  },
  {
   "cell_type": "code",
   "execution_count": null,
   "metadata": {
    "pycharm": {
     "name": "#%%\n"
    }
   },
   "outputs": [],
   "source": [
    "# Create copy of dataframe for computing cortisol features and prepare dataframe\n",
    "cort_samples_compute = cortisol_samples_time_cleaned_all.copy()\n",
    "cort_samples_compute = cort_samples_compute.rename(columns={\"time_diff_min\": \"time\"})\n",
    "\n",
    "cort_samples_compute.head()"
   ]
  },
  {
   "cell_type": "code",
   "execution_count": null,
   "metadata": {
    "pycharm": {
     "name": "#%%\n"
    }
   },
   "outputs": [],
   "source": [
    "cortisol_features = compute_saliva_features(cort_samples_compute)\n",
    "cortisol_features.head()"
   ]
  },
  {
   "cell_type": "markdown",
   "metadata": {
    "pycharm": {
     "name": "#%% md\n"
    }
   },
   "source": [
    "## Export"
   ]
  },
  {
   "cell_type": "code",
   "execution_count": null,
   "metadata": {
    "pycharm": {
     "name": "#%%\n"
    }
   },
   "outputs": [],
   "source": [
    "export_path = Path(\"../../exports\")\n",
    "export_path.mkdir(exist_ok=True)"
   ]
  },
  {
   "cell_type": "code",
   "execution_count": null,
   "metadata": {
    "pycharm": {
     "name": "#%%\n"
    }
   },
   "outputs": [],
   "source": [
    "cortisol_samples_time_cleaned_all.to_csv(export_path.joinpath(\"cortisol_samples_processed_all_log_types.csv\"))\n",
    "cortisol_features.to_csv(export_path.joinpath(\"cortisol_features_processed_all_log_types.csv\"))"
   ]
  },
  {
   "cell_type": "code",
   "execution_count": null,
   "metadata": {
    "pycharm": {
     "name": "#%%\n"
    }
   },
   "outputs": [],
   "source": []
  }
 ],
 "metadata": {
  "interpreter": {
   "hash": "02aa1679edd4a06f5b85738ebdeaad54fd91805d6ba50c75947a30cd3f6e5db1"
  },
  "kernelspec": {
   "display_name": "carwatch-analysis",
   "language": "python",
   "name": "carwatch-analysis"
  },
  "language_info": {
   "codemirror_mode": {
    "name": "ipython",
    "version": 3
   },
   "file_extension": ".py",
   "mimetype": "text/x-python",
   "name": "python",
   "nbconvert_exporter": "python",
   "pygments_lexer": "ipython3",
   "version": "3.8.3"
  }
 },
 "nbformat": 4,
 "nbformat_minor": 4
}