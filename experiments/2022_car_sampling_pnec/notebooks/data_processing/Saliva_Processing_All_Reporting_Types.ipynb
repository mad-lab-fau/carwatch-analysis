{
 "cells": [
  {
   "cell_type": "markdown",
   "metadata": {
    "pycharm": {
     "name": "#%% md\n"
    }
   },
   "source": [
    "# Saliva Processing – All Reporting Types (Naive, Selfreport, App, Sensor)"
   ]
  },
  {
   "cell_type": "code",
   "execution_count": 1,
   "metadata": {
    "pycharm": {
     "name": "#%%\n"
    },
    "tags": []
   },
   "outputs": [],
   "source": [
    "from pathlib import Path\n",
    "import json\n",
    "\n",
    "import numpy as np\n",
    "import pandas as pd\n",
    "import pingouin as pg\n",
    "\n",
    "import matplotlib.pyplot as plt\n",
    "import seaborn as sns\n",
    "\n",
    "from tqdm.auto import tqdm\n",
    "\n",
    "import biopsykit as bp\n",
    "from biopsykit.utils.dataframe_handling import multi_xs\n",
    "from biopsykit.carwatch_logs import LogData\n",
    "from biopsykit.carwatch_logs.log_data import get_logs_for_action\n",
    "import biopsykit.carwatch_logs.log_actions as log_actions\n",
    "\n",
    "\n",
    "from carwatch_analysis.io import load_sensor_awakening_times, convert_cortisol_sample_ids\n",
    "from carwatch_analysis.datasets import CarWatchDatasetProcessed\n",
    "from carwatch_analysis.exceptions import AppLogDataNotFoundException\n",
    "from carwatch_analysis.stats import create_unique_night_id\n",
    "\n",
    "from carwatch_analysis.data_processing.app_logs import (\n",
    "    process_app_log_single_subject,\n",
    "    restructure_sample_times_dataframe_app,\n",
    ")\n",
    "from carwatch_analysis.data_processing.sample_times import (\n",
    "    add_naive_sample_times,\n",
    "    sample_times_long_format,\n",
    "    compute_sample_times_parameter,\n",
    "    restructure_sample_times_dataframe,\n",
    "    compute_time_diff_to_naive,\n",
    "    add_delay_group_index,\n",
    ")\n",
    "from carwatch_analysis.data_processing.saliva import compute_saliva_features\n",
    "\n",
    "import datetime\n",
    "\n",
    "%load_ext autoreload\n",
    "%autoreload 2\n",
    "%matplotlib widget"
   ]
  },
  {
   "cell_type": "markdown",
   "metadata": {
    "pycharm": {
     "name": "#%% md\n"
    }
   },
   "source": [
    "## Setup Paths"
   ]
  },
  {
   "cell_type": "code",
   "execution_count": 2,
   "metadata": {
    "pycharm": {
     "name": "#%%\n"
    }
   },
   "outputs": [],
   "source": [
    "deploy_type = \"develop\""
   ]
  },
  {
   "cell_type": "code",
   "execution_count": 3,
   "metadata": {
    "pycharm": {
     "name": "#%%\n"
    }
   },
   "outputs": [
    {
     "data": {
      "text/plain": [
       "PosixPath('/Users/Richer/Documents/PhD/Projects/HealthPsychology/CARWatch/Data')"
      ]
     },
     "execution_count": 3,
     "metadata": {},
     "output_type": "execute_result"
    }
   ],
   "source": [
    "# build path to data folder\n",
    "config_dict = json.load(Path(\"../../../config.json\").open(encoding=\"utf-8\"))\n",
    "base_path = Path(config_dict[deploy_type][\"base_path\"])\n",
    "\n",
    "base_path"
   ]
  },
  {
   "cell_type": "code",
   "execution_count": 4,
   "metadata": {
    "pycharm": {
     "name": "#%%\n"
    }
   },
   "outputs": [
    {
     "data": {
      "text/plain": [
       "PosixPath('/Users/Richer/Documents/PhD/Projects/HealthPsychology/CARWatch/Code/carwatch_analysis/experiments/2022_car_sampling_pnec/exports')"
      ]
     },
     "execution_count": 4,
     "metadata": {},
     "output_type": "execute_result"
    }
   ],
   "source": [
    "export_path = Path(\"../../exports\")\n",
    "export_path.mkdir(exist_ok=True)\n",
    "export_path.resolve()"
   ]
  },
  {
   "cell_type": "code",
   "execution_count": 5,
   "metadata": {
    "pycharm": {
     "name": "#%%\n"
    }
   },
   "outputs": [
    {
     "data": {
      "text/html": [
       "<h4 style=\"margin-bottom: 0.1em;\">CarWatchDatasetProcessed [234 groups/rows]</h3>\n",
       "<div style=\"margin-top: 0em\">\n",
       "<style scoped>\n",
       "    .dataframe tbody tr th:only-of-type {\n",
       "        vertical-align: middle;\n",
       "    }\n",
       "\n",
       "    .dataframe tbody tr th {\n",
       "        vertical-align: top;\n",
       "    }\n",
       "\n",
       "    .dataframe thead th {\n",
       "        text-align: right;\n",
       "    }\n",
       "</style>\n",
       "<table style=\"margin-left: 3em;\">\n",
       "  <thead>\n",
       "    <tr style=\"text-align: right;\">\n",
       "      <th style=\"text-align: center;\"></th>\n",
       "      <th style=\"text-align: center;\">subject</th>\n",
       "      <th style=\"text-align: center;\">night</th>\n",
       "    </tr>\n",
       "  </thead>\n",
       "  <tbody>\n",
       "    <tr>\n",
       "      <th style=\"text-align: center;\">0</th>\n",
       "      <td style=\"text-align: center; padding-left: 2em; padding-right: 2em;\">AB19E</td>\n",
       "      <td style=\"text-align: center; padding-left: 2em; padding-right: 2em;\">0</td>\n",
       "    </tr>\n",
       "    <tr>\n",
       "      <th style=\"text-align: center;\">1</th>\n",
       "      <td style=\"text-align: center; padding-left: 2em; padding-right: 2em;\">AB19E</td>\n",
       "      <td style=\"text-align: center; padding-left: 2em; padding-right: 2em;\">1</td>\n",
       "    </tr>\n",
       "    <tr>\n",
       "      <th style=\"text-align: center;\">2</th>\n",
       "      <td style=\"text-align: center; padding-left: 2em; padding-right: 2em;\">AB31R</td>\n",
       "      <td style=\"text-align: center; padding-left: 2em; padding-right: 2em;\">0</td>\n",
       "    </tr>\n",
       "    <tr>\n",
       "      <th style=\"text-align: center;\">3</th>\n",
       "      <td style=\"text-align: center; padding-left: 2em; padding-right: 2em;\">AB31R</td>\n",
       "      <td style=\"text-align: center; padding-left: 2em; padding-right: 2em;\">1</td>\n",
       "    </tr>\n",
       "    <tr>\n",
       "      <th style=\"text-align: center;\">4</th>\n",
       "      <td style=\"text-align: center; padding-left: 2em; padding-right: 2em;\">AC12E</td>\n",
       "      <td style=\"text-align: center; padding-left: 2em; padding-right: 2em;\">0</td>\n",
       "    </tr>\n",
       "    <tr>\n",
       "      <th style=\"text-align: center;\">...</th>\n",
       "      <td style=\"text-align: center; padding-left: 2em; padding-right: 2em;\">...</td>\n",
       "      <td style=\"text-align: center; padding-left: 2em; padding-right: 2em;\">...</td>\n",
       "    </tr>\n",
       "    <tr>\n",
       "      <th style=\"text-align: center;\">229</th>\n",
       "      <td style=\"text-align: center; padding-left: 2em; padding-right: 2em;\">VE19A</td>\n",
       "      <td style=\"text-align: center; padding-left: 2em; padding-right: 2em;\">1</td>\n",
       "    </tr>\n",
       "    <tr>\n",
       "      <th style=\"text-align: center;\">230</th>\n",
       "      <td style=\"text-align: center; padding-left: 2em; padding-right: 2em;\">VS09S</td>\n",
       "      <td style=\"text-align: center; padding-left: 2em; padding-right: 2em;\">0</td>\n",
       "    </tr>\n",
       "    <tr>\n",
       "      <th style=\"text-align: center;\">231</th>\n",
       "      <td style=\"text-align: center; padding-left: 2em; padding-right: 2em;\">VS09S</td>\n",
       "      <td style=\"text-align: center; padding-left: 2em; padding-right: 2em;\">1</td>\n",
       "    </tr>\n",
       "    <tr>\n",
       "      <th style=\"text-align: center;\">232</th>\n",
       "      <td style=\"text-align: center; padding-left: 2em; padding-right: 2em;\">WM13K</td>\n",
       "      <td style=\"text-align: center; padding-left: 2em; padding-right: 2em;\">0</td>\n",
       "    </tr>\n",
       "    <tr>\n",
       "      <th style=\"text-align: center;\">233</th>\n",
       "      <td style=\"text-align: center; padding-left: 2em; padding-right: 2em;\">WM13K</td>\n",
       "      <td style=\"text-align: center; padding-left: 2em; padding-right: 2em;\">1</td>\n",
       "    </tr>\n",
       "  </tbody>\n",
       "</table>\n",
       "<p>234 rows × 2 columns</p>\n",
       "</div>"
      ],
      "text/plain": [
       "CarWatchDatasetProcessed [234 groups/rows]\n",
       "\n",
       "       subject  night\n",
       "   0     AB19E      0\n",
       "   1     AB19E      1\n",
       "   2     AB31R      0\n",
       "   3     AB31R      1\n",
       "   4     AC12E      0\n",
       "   ..      ...    ...\n",
       "   229   VE19A      1\n",
       "   230   VS09S      0\n",
       "   231   VS09S      1\n",
       "   232   WM13K      0\n",
       "   233   WM13K      1\n",
       "   \n",
       "   [234 rows x 2 columns]"
      ]
     },
     "execution_count": 5,
     "metadata": {},
     "output_type": "execute_result"
    }
   ],
   "source": [
    "dataset = CarWatchDatasetProcessed(base_path, use_cache=True)\n",
    "dataset"
   ]
  },
  {
   "cell_type": "markdown",
   "metadata": {
    "pycharm": {
     "name": "#%% md\n"
    },
    "tags": []
   },
   "source": [
    "## Load Data"
   ]
  },
  {
   "cell_type": "markdown",
   "metadata": {
    "pycharm": {
     "name": "#%% md\n"
    }
   },
   "source": [
    "### Awakening Times"
   ]
  },
  {
   "cell_type": "markdown",
   "metadata": {
    "pycharm": {
     "name": "#%% md\n"
    },
    "tags": []
   },
   "source": [
    "#### Selfreport"
   ]
  },
  {
   "cell_type": "code",
   "execution_count": 6,
   "metadata": {
    "pycharm": {
     "name": "#%%\n"
    }
   },
   "outputs": [
    {
     "data": {
      "text/html": [
       "<div>\n",
       "<style scoped>\n",
       "    .dataframe tbody tr th:only-of-type {\n",
       "        vertical-align: middle;\n",
       "    }\n",
       "\n",
       "    .dataframe tbody tr th {\n",
       "        vertical-align: top;\n",
       "    }\n",
       "\n",
       "    .dataframe thead th {\n",
       "        text-align: right;\n",
       "    }\n",
       "</style>\n",
       "<table border=\"1\" class=\"dataframe\">\n",
       "  <thead>\n",
       "    <tr style=\"text-align: right;\">\n",
       "      <th></th>\n",
       "      <th></th>\n",
       "      <th>wake_onset_selfreport</th>\n",
       "    </tr>\n",
       "    <tr>\n",
       "      <th>subject</th>\n",
       "      <th>night</th>\n",
       "      <th></th>\n",
       "    </tr>\n",
       "  </thead>\n",
       "  <tbody>\n",
       "    <tr>\n",
       "      <th>AB19E</th>\n",
       "      <th>0</th>\n",
       "      <td>0 days 05:45:00</td>\n",
       "    </tr>\n",
       "    <tr>\n",
       "      <th rowspan=\"2\" valign=\"top\">AB31R</th>\n",
       "      <th>0</th>\n",
       "      <td>0 days 05:40:00</td>\n",
       "    </tr>\n",
       "    <tr>\n",
       "      <th>1</th>\n",
       "      <td>0 days 05:50:00</td>\n",
       "    </tr>\n",
       "    <tr>\n",
       "      <th rowspan=\"2\" valign=\"top\">AC12E</th>\n",
       "      <th>0</th>\n",
       "      <td>0 days 07:00:00</td>\n",
       "    </tr>\n",
       "    <tr>\n",
       "      <th>1</th>\n",
       "      <td>0 days 07:30:00</td>\n",
       "    </tr>\n",
       "  </tbody>\n",
       "</table>\n",
       "</div>"
      ],
      "text/plain": [
       "              wake_onset_selfreport\n",
       "subject night                      \n",
       "AB19E   0           0 days 05:45:00\n",
       "AB31R   0           0 days 05:40:00\n",
       "        1           0 days 05:50:00\n",
       "AC12E   0           0 days 07:00:00\n",
       "        1           0 days 07:30:00"
      ]
     },
     "execution_count": 6,
     "metadata": {},
     "output_type": "execute_result"
    }
   ],
   "source": [
    "bedtimes = dataset.endpoints_selfreport\n",
    "bedtimes = bedtimes[[\"wake_onset_selfreport\"]].dropna()\n",
    "bedtimes = bedtimes.apply(pd.to_timedelta).sort_index()\n",
    "\n",
    "bedtimes.head()"
   ]
  },
  {
   "cell_type": "markdown",
   "metadata": {
    "pycharm": {
     "name": "#%% md\n"
    }
   },
   "source": [
    "#### App"
   ]
  },
  {
   "cell_type": "code",
   "execution_count": 7,
   "metadata": {
    "pycharm": {
     "name": "#%%\n"
    }
   },
   "outputs": [
    {
     "data": {
      "text/html": [
       "<div>\n",
       "<style scoped>\n",
       "    .dataframe tbody tr th:only-of-type {\n",
       "        vertical-align: middle;\n",
       "    }\n",
       "\n",
       "    .dataframe tbody tr th {\n",
       "        vertical-align: top;\n",
       "    }\n",
       "\n",
       "    .dataframe thead th {\n",
       "        text-align: right;\n",
       "    }\n",
       "</style>\n",
       "<table border=\"1\" class=\"dataframe\">\n",
       "  <thead>\n",
       "    <tr style=\"text-align: right;\">\n",
       "      <th></th>\n",
       "      <th></th>\n",
       "      <th>wake_onset_app</th>\n",
       "    </tr>\n",
       "    <tr>\n",
       "      <th>subject</th>\n",
       "      <th>night</th>\n",
       "      <th></th>\n",
       "    </tr>\n",
       "  </thead>\n",
       "  <tbody>\n",
       "    <tr>\n",
       "      <th rowspan=\"2\" valign=\"top\">BC05R</th>\n",
       "      <th>0</th>\n",
       "      <td>0 days 07:31:16</td>\n",
       "    </tr>\n",
       "    <tr>\n",
       "      <th>1</th>\n",
       "      <td>0 days 08:46:43</td>\n",
       "    </tr>\n",
       "    <tr>\n",
       "      <th rowspan=\"2\" valign=\"top\">BU07E</th>\n",
       "      <th>0</th>\n",
       "      <td>0 days 06:01:24</td>\n",
       "    </tr>\n",
       "    <tr>\n",
       "      <th>1</th>\n",
       "      <td>0 days 09:13:07</td>\n",
       "    </tr>\n",
       "    <tr>\n",
       "      <th>CC09K</th>\n",
       "      <th>0</th>\n",
       "      <td>0 days 06:09:00</td>\n",
       "    </tr>\n",
       "  </tbody>\n",
       "</table>\n",
       "</div>"
      ],
      "text/plain": [
       "               wake_onset_app\n",
       "subject night                \n",
       "BC05R   0     0 days 07:31:16\n",
       "        1     0 days 08:46:43\n",
       "BU07E   0     0 days 06:01:24\n",
       "        1     0 days 09:13:07\n",
       "CC09K   0     0 days 06:09:00"
      ]
     },
     "execution_count": 7,
     "metadata": {},
     "output_type": "execute_result"
    }
   ],
   "source": [
    "app_wakeup_path = base_path.joinpath(\"app_logs/app_data_wakeup.xlsx\")\n",
    "\n",
    "app_wakeup = pd.read_excel(app_wakeup_path)\n",
    "app_wakeup = app_wakeup.set_index(\"subject\")\n",
    "app_wakeup.columns.name = \"night\"\n",
    "app_wakeup = pd.DataFrame(pd.to_timedelta(app_wakeup.stack()), columns=[\"wake_onset_app\"]).sort_index()\n",
    "\n",
    "app_wakeup.head()"
   ]
  },
  {
   "cell_type": "markdown",
   "metadata": {
    "pycharm": {
     "name": "#%% md\n"
    }
   },
   "source": [
    "#### Sensor"
   ]
  },
  {
   "cell_type": "code",
   "execution_count": 8,
   "metadata": {
    "pycharm": {
     "name": "#%%\n"
    }
   },
   "outputs": [
    {
     "data": {
      "text/html": [
       "<div>\n",
       "<style scoped>\n",
       "    .dataframe tbody tr th:only-of-type {\n",
       "        vertical-align: middle;\n",
       "    }\n",
       "\n",
       "    .dataframe tbody tr th {\n",
       "        vertical-align: top;\n",
       "    }\n",
       "\n",
       "    .dataframe thead th {\n",
       "        text-align: right;\n",
       "    }\n",
       "</style>\n",
       "<table border=\"1\" class=\"dataframe\">\n",
       "  <thead>\n",
       "    <tr style=\"text-align: right;\">\n",
       "      <th></th>\n",
       "      <th></th>\n",
       "      <th>wake_onset_sensor</th>\n",
       "    </tr>\n",
       "    <tr>\n",
       "      <th>subject</th>\n",
       "      <th>night</th>\n",
       "      <th></th>\n",
       "    </tr>\n",
       "  </thead>\n",
       "  <tbody>\n",
       "    <tr>\n",
       "      <th rowspan=\"2\" valign=\"top\">AB19E</th>\n",
       "      <th>0</th>\n",
       "      <td>0 days 05:56:52</td>\n",
       "    </tr>\n",
       "    <tr>\n",
       "      <th>1</th>\n",
       "      <td>0 days 08:57:44</td>\n",
       "    </tr>\n",
       "    <tr>\n",
       "      <th rowspan=\"2\" valign=\"top\">AB31R</th>\n",
       "      <th>0</th>\n",
       "      <td>0 days 07:47:26</td>\n",
       "    </tr>\n",
       "    <tr>\n",
       "      <th>1</th>\n",
       "      <td>0 days 08:08:21</td>\n",
       "    </tr>\n",
       "    <tr>\n",
       "      <th>AC12E</th>\n",
       "      <th>0</th>\n",
       "      <td>0 days 07:38:46</td>\n",
       "    </tr>\n",
       "  </tbody>\n",
       "</table>\n",
       "</div>"
      ],
      "text/plain": [
       "              wake_onset_sensor\n",
       "subject night                  \n",
       "AB19E   0       0 days 05:56:52\n",
       "        1       0 days 08:57:44\n",
       "AB31R   0       0 days 07:47:26\n",
       "        1       0 days 08:08:21\n",
       "AC12E   0       0 days 07:38:46"
      ]
     },
     "execution_count": 8,
     "metadata": {},
     "output_type": "execute_result"
    }
   ],
   "source": [
    "# get path to general analysis export folder\n",
    "export_path_general = export_path.joinpath(\"../../00_general/exports\")\n",
    "file_path = export_path_general.joinpath(\"imu_sleep_endpoints_cleaned.csv\")\n",
    "\n",
    "sensor_wakeup = load_sensor_awakening_times(file_path)\n",
    "sensor_wakeup.head()"
   ]
  },
  {
   "cell_type": "markdown",
   "metadata": {
    "pycharm": {
     "name": "#%% md\n"
    }
   },
   "source": [
    "### Cortisol Samples"
   ]
  },
  {
   "cell_type": "code",
   "execution_count": 9,
   "metadata": {
    "pycharm": {
     "name": "#%%\n"
    }
   },
   "outputs": [
    {
     "name": "stdout",
     "output_type": "stream",
     "text": [
      "Number of sampling days before: 216\n",
      "Number of sampling days after: 204\n"
     ]
    },
    {
     "data": {
      "text/html": [
       "<div>\n",
       "<style scoped>\n",
       "    .dataframe tbody tr th:only-of-type {\n",
       "        vertical-align: middle;\n",
       "    }\n",
       "\n",
       "    .dataframe tbody tr th {\n",
       "        vertical-align: top;\n",
       "    }\n",
       "\n",
       "    .dataframe thead th {\n",
       "        text-align: right;\n",
       "    }\n",
       "</style>\n",
       "<table border=\"1\" class=\"dataframe\">\n",
       "  <thead>\n",
       "    <tr style=\"text-align: right;\">\n",
       "      <th></th>\n",
       "      <th></th>\n",
       "      <th></th>\n",
       "      <th></th>\n",
       "      <th>sample_time_selfreport</th>\n",
       "      <th>date</th>\n",
       "      <th>cortisol</th>\n",
       "      <th>wake_onset_selfreport</th>\n",
       "      <th>wake_onset_app</th>\n",
       "      <th>wake_onset_sensor</th>\n",
       "    </tr>\n",
       "    <tr>\n",
       "      <th>subject</th>\n",
       "      <th>night</th>\n",
       "      <th>condition</th>\n",
       "      <th>sample</th>\n",
       "      <th></th>\n",
       "      <th></th>\n",
       "      <th></th>\n",
       "      <th></th>\n",
       "      <th></th>\n",
       "      <th></th>\n",
       "    </tr>\n",
       "  </thead>\n",
       "  <tbody>\n",
       "    <tr>\n",
       "      <th rowspan=\"5\" valign=\"top\">AB19E</th>\n",
       "      <th rowspan=\"5\" valign=\"top\">0</th>\n",
       "      <th rowspan=\"5\" valign=\"top\">Known Alarm</th>\n",
       "      <th>S0</th>\n",
       "      <td>0 days 06:00:00</td>\n",
       "      <td>2019-11-18</td>\n",
       "      <td>2.80</td>\n",
       "      <td>0 days 05:45:00</td>\n",
       "      <td>NaT</td>\n",
       "      <td>0 days 05:56:52</td>\n",
       "    </tr>\n",
       "    <tr>\n",
       "      <th>S1</th>\n",
       "      <td>0 days 06:15:00</td>\n",
       "      <td>2019-11-18</td>\n",
       "      <td>5.59</td>\n",
       "      <td>0 days 05:45:00</td>\n",
       "      <td>NaT</td>\n",
       "      <td>0 days 05:56:52</td>\n",
       "    </tr>\n",
       "    <tr>\n",
       "      <th>S2</th>\n",
       "      <td>0 days 06:30:00</td>\n",
       "      <td>2019-11-18</td>\n",
       "      <td>13.29</td>\n",
       "      <td>0 days 05:45:00</td>\n",
       "      <td>NaT</td>\n",
       "      <td>0 days 05:56:52</td>\n",
       "    </tr>\n",
       "    <tr>\n",
       "      <th>S3</th>\n",
       "      <td>0 days 06:45:00</td>\n",
       "      <td>2019-11-18</td>\n",
       "      <td>13.46</td>\n",
       "      <td>0 days 05:45:00</td>\n",
       "      <td>NaT</td>\n",
       "      <td>0 days 05:56:52</td>\n",
       "    </tr>\n",
       "    <tr>\n",
       "      <th>S4</th>\n",
       "      <td>0 days 07:01:00</td>\n",
       "      <td>2019-11-18</td>\n",
       "      <td>12.65</td>\n",
       "      <td>0 days 05:45:00</td>\n",
       "      <td>NaT</td>\n",
       "      <td>0 days 05:56:52</td>\n",
       "    </tr>\n",
       "  </tbody>\n",
       "</table>\n",
       "</div>"
      ],
      "text/plain": [
       "                                 sample_time_selfreport        date  cortisol  \\\n",
       "subject night condition   sample                                                \n",
       "AB19E   0     Known Alarm S0            0 days 06:00:00  2019-11-18      2.80   \n",
       "                          S1            0 days 06:15:00  2019-11-18      5.59   \n",
       "                          S2            0 days 06:30:00  2019-11-18     13.29   \n",
       "                          S3            0 days 06:45:00  2019-11-18     13.46   \n",
       "                          S4            0 days 07:01:00  2019-11-18     12.65   \n",
       "\n",
       "                                 wake_onset_selfreport wake_onset_app  \\\n",
       "subject night condition   sample                                        \n",
       "AB19E   0     Known Alarm S0           0 days 05:45:00            NaT   \n",
       "                          S1           0 days 05:45:00            NaT   \n",
       "                          S2           0 days 05:45:00            NaT   \n",
       "                          S3           0 days 05:45:00            NaT   \n",
       "                          S4           0 days 05:45:00            NaT   \n",
       "\n",
       "                                 wake_onset_sensor  \n",
       "subject night condition   sample                    \n",
       "AB19E   0     Known Alarm S0       0 days 05:56:52  \n",
       "                          S1       0 days 05:56:52  \n",
       "                          S2       0 days 05:56:52  \n",
       "                          S3       0 days 05:56:52  \n",
       "                          S4       0 days 05:56:52  "
      ]
     },
     "execution_count": 9,
     "metadata": {},
     "output_type": "execute_result"
    }
   ],
   "source": [
    "cortisol_samples = pd.read_csv(export_path.joinpath(\"cortisol_samples_cleaned.csv\"))\n",
    "\n",
    "# restructure dataframe\n",
    "index_cols = [\"subject\", \"night\", \"condition\", \"sample\"]\n",
    "cortisol_samples = cortisol_samples.set_index(index_cols)\n",
    "cortisol_samples = cortisol_samples.rename(columns={\"time_abs\": \"sample_time_selfreport\"})\n",
    "cortisol_samples = cortisol_samples.drop(columns=[\"time\", \"wake_onset_time\"])\n",
    "\n",
    "# add time information from selfreport, app, and sensor\n",
    "cortisol_samples = cortisol_samples.join(bedtimes).join(app_wakeup).join(sensor_wakeup)\n",
    "\n",
    "# get the number of sampling days with missing time information\n",
    "num_participants_before = len(cortisol_samples.unstack(\"sample\"))\n",
    "num_participants_after = len(cortisol_samples.dropna(subset=[\"wake_onset_selfreport\", \"date\"]).unstack(\"sample\"))\n",
    "\n",
    "print(f\"Number of sampling days before: {num_participants_before}\")\n",
    "print(f\"Number of sampling days after: {num_participants_after}\")\n",
    "\n",
    "# convert columns to timedelta\n",
    "td_cols = [\"sample_time_selfreport\"] + list(cortisol_samples.filter(like=\"wake_onset\").columns)\n",
    "cortisol_samples[td_cols] = cortisol_samples[td_cols].apply(pd.to_timedelta)\n",
    "\n",
    "cortisol_samples.head()"
   ]
  },
  {
   "cell_type": "markdown",
   "metadata": {
    "pycharm": {
     "name": "#%% md\n"
    }
   },
   "source": [
    "## Data Processing"
   ]
  },
  {
   "cell_type": "code",
   "execution_count": 10,
   "metadata": {
    "pycharm": {
     "name": "#%%\n"
    }
   },
   "outputs": [
    {
     "data": {
      "application/vnd.jupyter.widget-view+json": {
       "model_id": "fef6b6b3d1194e1fb17ed70dc97978e8",
       "version_major": 2,
       "version_minor": 0
      },
      "text/plain": [
       "  0%|          | 0/117 [00:00<?, ?it/s]"
      ]
     },
     "metadata": {},
     "output_type": "display_data"
    },
    {
     "data": {
      "application/vnd.jupyter.widget-view+json": {
       "model_id": "ba272c66a1a74caebc633b00d00e6453",
       "version_major": 2,
       "version_minor": 0
      },
      "text/plain": [
       "  0%|          | 0/65 [00:00<?, ?it/s]"
      ]
     },
     "metadata": {},
     "output_type": "display_data"
    }
   ],
   "source": [
    "dict_barcode_day = {}\n",
    "\n",
    "for subset in tqdm(dataset.groupby(\"subject\")):\n",
    "    subject_id = subset.index[\"subject\"][0]\n",
    "    try:\n",
    "        df_barcode_scanned = process_app_log_single_subject(subset)\n",
    "        if df_barcode_scanned is not None:\n",
    "            dict_barcode_day[subject_id] = df_barcode_scanned\n",
    "    except AppLogDataNotFoundException as e:\n",
    "        continue"
   ]
  },
  {
   "cell_type": "code",
   "execution_count": 15,
   "metadata": {
    "pycharm": {
     "name": "#%%\n"
    }
   },
   "outputs": [
    {
     "data": {
      "text/html": [
       "<div>\n",
       "<style scoped>\n",
       "    .dataframe tbody tr th:only-of-type {\n",
       "        vertical-align: middle;\n",
       "    }\n",
       "\n",
       "    .dataframe tbody tr th {\n",
       "        vertical-align: top;\n",
       "    }\n",
       "\n",
       "    .dataframe thead th {\n",
       "        text-align: right;\n",
       "    }\n",
       "</style>\n",
       "<table border=\"1\" class=\"dataframe\">\n",
       "  <thead>\n",
       "    <tr style=\"text-align: right;\">\n",
       "      <th></th>\n",
       "      <th></th>\n",
       "      <th></th>\n",
       "      <th></th>\n",
       "      <th></th>\n",
       "      <th>date</th>\n",
       "      <th>wake_onset</th>\n",
       "      <th>sample_time</th>\n",
       "      <th>cortisol</th>\n",
       "      <th>time_diff_to_wake_onset</th>\n",
       "      <th>time_diff_min</th>\n",
       "      <th>time_diff_to_naive_min</th>\n",
       "    </tr>\n",
       "    <tr>\n",
       "      <th>subject</th>\n",
       "      <th>night</th>\n",
       "      <th>condition</th>\n",
       "      <th>reporting_type</th>\n",
       "      <th>sample</th>\n",
       "      <th></th>\n",
       "      <th></th>\n",
       "      <th></th>\n",
       "      <th></th>\n",
       "      <th></th>\n",
       "      <th></th>\n",
       "      <th></th>\n",
       "    </tr>\n",
       "  </thead>\n",
       "  <tbody>\n",
       "    <tr>\n",
       "      <th rowspan=\"5\" valign=\"top\">AB19E</th>\n",
       "      <th rowspan=\"5\" valign=\"top\">0</th>\n",
       "      <th rowspan=\"5\" valign=\"top\">Known Alarm</th>\n",
       "      <th rowspan=\"5\" valign=\"top\">Naive</th>\n",
       "      <th>S0</th>\n",
       "      <td>2019-11-18</td>\n",
       "      <td>0 days 05:45:00</td>\n",
       "      <td>0 days 05:45:00</td>\n",
       "      <td>2.80</td>\n",
       "      <td>0 days 00:00:00</td>\n",
       "      <td>0.0</td>\n",
       "      <td>0.0</td>\n",
       "    </tr>\n",
       "    <tr>\n",
       "      <th>S1</th>\n",
       "      <td>2019-11-18</td>\n",
       "      <td>0 days 05:45:00</td>\n",
       "      <td>0 days 06:00:00</td>\n",
       "      <td>5.59</td>\n",
       "      <td>0 days 00:15:00</td>\n",
       "      <td>15.0</td>\n",
       "      <td>0.0</td>\n",
       "    </tr>\n",
       "    <tr>\n",
       "      <th>S2</th>\n",
       "      <td>2019-11-18</td>\n",
       "      <td>0 days 05:45:00</td>\n",
       "      <td>0 days 06:15:00</td>\n",
       "      <td>13.29</td>\n",
       "      <td>0 days 00:30:00</td>\n",
       "      <td>30.0</td>\n",
       "      <td>0.0</td>\n",
       "    </tr>\n",
       "    <tr>\n",
       "      <th>S3</th>\n",
       "      <td>2019-11-18</td>\n",
       "      <td>0 days 05:45:00</td>\n",
       "      <td>0 days 06:30:00</td>\n",
       "      <td>13.46</td>\n",
       "      <td>0 days 00:45:00</td>\n",
       "      <td>45.0</td>\n",
       "      <td>0.0</td>\n",
       "    </tr>\n",
       "    <tr>\n",
       "      <th>S4</th>\n",
       "      <td>2019-11-18</td>\n",
       "      <td>0 days 05:45:00</td>\n",
       "      <td>0 days 06:45:00</td>\n",
       "      <td>12.65</td>\n",
       "      <td>0 days 01:00:00</td>\n",
       "      <td>60.0</td>\n",
       "      <td>0.0</td>\n",
       "    </tr>\n",
       "  </tbody>\n",
       "</table>\n",
       "</div>"
      ],
      "text/plain": [
       "                                                       date      wake_onset  \\\n",
       "subject night condition   reporting_type sample                               \n",
       "AB19E   0     Known Alarm Naive          S0      2019-11-18 0 days 05:45:00   \n",
       "                                         S1      2019-11-18 0 days 05:45:00   \n",
       "                                         S2      2019-11-18 0 days 05:45:00   \n",
       "                                         S3      2019-11-18 0 days 05:45:00   \n",
       "                                         S4      2019-11-18 0 days 05:45:00   \n",
       "\n",
       "                                                    sample_time  cortisol  \\\n",
       "subject night condition   reporting_type sample                             \n",
       "AB19E   0     Known Alarm Naive          S0     0 days 05:45:00      2.80   \n",
       "                                         S1     0 days 06:00:00      5.59   \n",
       "                                         S2     0 days 06:15:00     13.29   \n",
       "                                         S3     0 days 06:30:00     13.46   \n",
       "                                         S4     0 days 06:45:00     12.65   \n",
       "\n",
       "                                                time_diff_to_wake_onset  \\\n",
       "subject night condition   reporting_type sample                           \n",
       "AB19E   0     Known Alarm Naive          S0             0 days 00:00:00   \n",
       "                                         S1             0 days 00:15:00   \n",
       "                                         S2             0 days 00:30:00   \n",
       "                                         S3             0 days 00:45:00   \n",
       "                                         S4             0 days 01:00:00   \n",
       "\n",
       "                                                 time_diff_min  \\\n",
       "subject night condition   reporting_type sample                  \n",
       "AB19E   0     Known Alarm Naive          S0                0.0   \n",
       "                                         S1               15.0   \n",
       "                                         S2               30.0   \n",
       "                                         S3               45.0   \n",
       "                                         S4               60.0   \n",
       "\n",
       "                                                 time_diff_to_naive_min  \n",
       "subject night condition   reporting_type sample                          \n",
       "AB19E   0     Known Alarm Naive          S0                         0.0  \n",
       "                                         S1                         0.0  \n",
       "                                         S2                         0.0  \n",
       "                                         S3                         0.0  \n",
       "                                         S4                         0.0  "
      ]
     },
     "execution_count": 15,
     "metadata": {},
     "output_type": "execute_result"
    }
   ],
   "source": [
    "sample_times = pd.concat(dict_barcode_day, names=[\"subject\"])\n",
    "sample_times = restructure_sample_times_dataframe_app(sample_times)\n",
    "\n",
    "# add sampling times from app to dataframe\n",
    "cortisol_samples_time = cortisol_samples.join(sample_times).sort_index()\n",
    "\n",
    "cortisol_samples_time = add_naive_sample_times(cortisol_samples_time)\n",
    "cortisol_samples_time = sample_times_long_format(cortisol_samples_time)\n",
    "cortisol_samples_time = compute_sample_times_parameter(cortisol_samples_time)\n",
    "cortisol_samples_time = restructure_sample_times_dataframe(cortisol_samples_time)\n",
    "cortisol_samples_time = compute_time_diff_to_naive(cortisol_samples_time)\n",
    "\n",
    "cortisol_samples_time.head()"
   ]
  },
  {
   "cell_type": "markdown",
   "metadata": {
    "pycharm": {
     "name": "#%% md\n"
    }
   },
   "source": [
    "## Data Cleaning"
   ]
  },
  {
   "cell_type": "markdown",
   "metadata": {
    "pycharm": {
     "name": "#%% md\n"
    }
   },
   "source": [
    "### Sensor Awakening Times"
   ]
  },
  {
   "cell_type": "code",
   "execution_count": 17,
   "metadata": {
    "pycharm": {
     "name": "#%%\n"
    }
   },
   "outputs": [
    {
     "data": {
      "text/html": [
       "<div>\n",
       "<style scoped>\n",
       "    .dataframe tbody tr th:only-of-type {\n",
       "        vertical-align: middle;\n",
       "    }\n",
       "\n",
       "    .dataframe tbody tr th {\n",
       "        vertical-align: top;\n",
       "    }\n",
       "\n",
       "    .dataframe thead th {\n",
       "        text-align: right;\n",
       "    }\n",
       "</style>\n",
       "<table border=\"1\" class=\"dataframe\">\n",
       "  <thead>\n",
       "    <tr style=\"text-align: right;\">\n",
       "      <th></th>\n",
       "      <th></th>\n",
       "      <th></th>\n",
       "      <th></th>\n",
       "      <th></th>\n",
       "      <th>date</th>\n",
       "      <th>wake_onset</th>\n",
       "      <th>sample_time</th>\n",
       "      <th>cortisol</th>\n",
       "      <th>time_diff_to_wake_onset</th>\n",
       "      <th>time_diff_min</th>\n",
       "      <th>time_diff_to_naive_min</th>\n",
       "    </tr>\n",
       "    <tr>\n",
       "      <th>subject</th>\n",
       "      <th>night</th>\n",
       "      <th>condition</th>\n",
       "      <th>reporting_type</th>\n",
       "      <th>sample</th>\n",
       "      <th></th>\n",
       "      <th></th>\n",
       "      <th></th>\n",
       "      <th></th>\n",
       "      <th></th>\n",
       "      <th></th>\n",
       "      <th></th>\n",
       "    </tr>\n",
       "  </thead>\n",
       "  <tbody>\n",
       "    <tr>\n",
       "      <th rowspan=\"5\" valign=\"top\">AB19E</th>\n",
       "      <th rowspan=\"5\" valign=\"top\">0</th>\n",
       "      <th rowspan=\"5\" valign=\"top\">Known Alarm</th>\n",
       "      <th rowspan=\"5\" valign=\"top\">Naive</th>\n",
       "      <th>S0</th>\n",
       "      <td>2019-11-18</td>\n",
       "      <td>0 days 05:45:00</td>\n",
       "      <td>0 days 05:45:00</td>\n",
       "      <td>2.80</td>\n",
       "      <td>0 days 00:00:00</td>\n",
       "      <td>0.0</td>\n",
       "      <td>0.0</td>\n",
       "    </tr>\n",
       "    <tr>\n",
       "      <th>S1</th>\n",
       "      <td>2019-11-18</td>\n",
       "      <td>0 days 05:45:00</td>\n",
       "      <td>0 days 06:00:00</td>\n",
       "      <td>5.59</td>\n",
       "      <td>0 days 00:15:00</td>\n",
       "      <td>15.0</td>\n",
       "      <td>0.0</td>\n",
       "    </tr>\n",
       "    <tr>\n",
       "      <th>S2</th>\n",
       "      <td>2019-11-18</td>\n",
       "      <td>0 days 05:45:00</td>\n",
       "      <td>0 days 06:15:00</td>\n",
       "      <td>13.29</td>\n",
       "      <td>0 days 00:30:00</td>\n",
       "      <td>30.0</td>\n",
       "      <td>0.0</td>\n",
       "    </tr>\n",
       "    <tr>\n",
       "      <th>S3</th>\n",
       "      <td>2019-11-18</td>\n",
       "      <td>0 days 05:45:00</td>\n",
       "      <td>0 days 06:30:00</td>\n",
       "      <td>13.46</td>\n",
       "      <td>0 days 00:45:00</td>\n",
       "      <td>45.0</td>\n",
       "      <td>0.0</td>\n",
       "    </tr>\n",
       "    <tr>\n",
       "      <th>S4</th>\n",
       "      <td>2019-11-18</td>\n",
       "      <td>0 days 05:45:00</td>\n",
       "      <td>0 days 06:45:00</td>\n",
       "      <td>12.65</td>\n",
       "      <td>0 days 01:00:00</td>\n",
       "      <td>60.0</td>\n",
       "      <td>0.0</td>\n",
       "    </tr>\n",
       "  </tbody>\n",
       "</table>\n",
       "</div>"
      ],
      "text/plain": [
       "                                                       date      wake_onset  \\\n",
       "subject night condition   reporting_type sample                               \n",
       "AB19E   0     Known Alarm Naive          S0      2019-11-18 0 days 05:45:00   \n",
       "                                         S1      2019-11-18 0 days 05:45:00   \n",
       "                                         S2      2019-11-18 0 days 05:45:00   \n",
       "                                         S3      2019-11-18 0 days 05:45:00   \n",
       "                                         S4      2019-11-18 0 days 05:45:00   \n",
       "\n",
       "                                                    sample_time  cortisol  \\\n",
       "subject night condition   reporting_type sample                             \n",
       "AB19E   0     Known Alarm Naive          S0     0 days 05:45:00      2.80   \n",
       "                                         S1     0 days 06:00:00      5.59   \n",
       "                                         S2     0 days 06:15:00     13.29   \n",
       "                                         S3     0 days 06:30:00     13.46   \n",
       "                                         S4     0 days 06:45:00     12.65   \n",
       "\n",
       "                                                time_diff_to_wake_onset  \\\n",
       "subject night condition   reporting_type sample                           \n",
       "AB19E   0     Known Alarm Naive          S0             0 days 00:00:00   \n",
       "                                         S1             0 days 00:15:00   \n",
       "                                         S2             0 days 00:30:00   \n",
       "                                         S3             0 days 00:45:00   \n",
       "                                         S4             0 days 01:00:00   \n",
       "\n",
       "                                                 time_diff_min  \\\n",
       "subject night condition   reporting_type sample                  \n",
       "AB19E   0     Known Alarm Naive          S0                0.0   \n",
       "                                         S1               15.0   \n",
       "                                         S2               30.0   \n",
       "                                         S3               45.0   \n",
       "                                         S4               60.0   \n",
       "\n",
       "                                                 time_diff_to_naive_min  \n",
       "subject night condition   reporting_type sample                          \n",
       "AB19E   0     Known Alarm Naive          S0                         0.0  \n",
       "                                         S1                         0.0  \n",
       "                                         S2                         0.0  \n",
       "                                         S3                         0.0  \n",
       "                                         S4                         0.0  "
      ]
     },
     "execution_count": 17,
     "metadata": {},
     "output_type": "execute_result"
    }
   ],
   "source": [
    "# consider only delay to S0\n",
    "cort_tmp = cortisol_samples_time.xs(\"S0\", level=\"sample\")\n",
    "# consider only Sensor wake onsets\n",
    "cort_tmp = cort_tmp.reindex(\n",
    "    [\"AW: Sensor, ST: Naive\", \"AW: Sensor, ST: Selfreport\", \"AW: Sensor, ST: App\"], level=\"reporting_type\"\n",
    ")\n",
    "# select nights where Sensor wake onset is more than 1 min *later* or more than 15 min *earlier*\n",
    "# than the first reported sampling time\n",
    "imu_mask = (cort_tmp[\"time_diff_to_naive_min\"] < -1) | (cort_tmp[\"time_diff_to_naive_min\"] > 30)\n",
    "\n",
    "# drop selected nights\n",
    "cortisol_samples_time_cleaned = cortisol_samples_time.unstack().drop(index=imu_mask.loc[imu_mask].index).stack()\n",
    "cortisol_samples_time_cleaned.head()"
   ]
  },
  {
   "cell_type": "markdown",
   "metadata": {
    "pycharm": {
     "name": "#%% md\n"
    }
   },
   "source": [
    "### Cortisol Samples"
   ]
  },
  {
   "cell_type": "code",
   "execution_count": 18,
   "metadata": {
    "pycharm": {
     "name": "#%%\n"
    }
   },
   "outputs": [
    {
     "data": {
      "text/plain": [
       "54"
      ]
     },
     "metadata": {},
     "output_type": "display_data"
    },
    {
     "data": {
      "text/html": [
       "<div>\n",
       "<style scoped>\n",
       "    .dataframe tbody tr th:only-of-type {\n",
       "        vertical-align: middle;\n",
       "    }\n",
       "\n",
       "    .dataframe tbody tr th {\n",
       "        vertical-align: top;\n",
       "    }\n",
       "\n",
       "    .dataframe thead th {\n",
       "        text-align: right;\n",
       "    }\n",
       "</style>\n",
       "<table border=\"1\" class=\"dataframe\">\n",
       "  <thead>\n",
       "    <tr style=\"text-align: right;\">\n",
       "      <th></th>\n",
       "      <th></th>\n",
       "      <th></th>\n",
       "      <th></th>\n",
       "      <th></th>\n",
       "      <th>date</th>\n",
       "      <th>wake_onset</th>\n",
       "      <th>sample_time</th>\n",
       "      <th>cortisol</th>\n",
       "      <th>time_diff_to_wake_onset</th>\n",
       "      <th>time_diff_min</th>\n",
       "      <th>time_diff_to_naive_min</th>\n",
       "    </tr>\n",
       "    <tr>\n",
       "      <th>subject</th>\n",
       "      <th>night</th>\n",
       "      <th>condition</th>\n",
       "      <th>reporting_type</th>\n",
       "      <th>sample</th>\n",
       "      <th></th>\n",
       "      <th></th>\n",
       "      <th></th>\n",
       "      <th></th>\n",
       "      <th></th>\n",
       "      <th></th>\n",
       "      <th></th>\n",
       "    </tr>\n",
       "  </thead>\n",
       "  <tbody>\n",
       "    <tr>\n",
       "      <th rowspan=\"5\" valign=\"top\">AB19E</th>\n",
       "      <th rowspan=\"5\" valign=\"top\">0</th>\n",
       "      <th rowspan=\"5\" valign=\"top\">Known Alarm</th>\n",
       "      <th rowspan=\"5\" valign=\"top\">Naive</th>\n",
       "      <th>S0</th>\n",
       "      <td>2019-11-18</td>\n",
       "      <td>0 days 05:45:00</td>\n",
       "      <td>0 days 05:45:00</td>\n",
       "      <td>2.80</td>\n",
       "      <td>0 days 00:00:00</td>\n",
       "      <td>0.0</td>\n",
       "      <td>0.0</td>\n",
       "    </tr>\n",
       "    <tr>\n",
       "      <th>S1</th>\n",
       "      <td>2019-11-18</td>\n",
       "      <td>0 days 05:45:00</td>\n",
       "      <td>0 days 06:00:00</td>\n",
       "      <td>5.59</td>\n",
       "      <td>0 days 00:15:00</td>\n",
       "      <td>15.0</td>\n",
       "      <td>0.0</td>\n",
       "    </tr>\n",
       "    <tr>\n",
       "      <th>S2</th>\n",
       "      <td>2019-11-18</td>\n",
       "      <td>0 days 05:45:00</td>\n",
       "      <td>0 days 06:15:00</td>\n",
       "      <td>13.29</td>\n",
       "      <td>0 days 00:30:00</td>\n",
       "      <td>30.0</td>\n",
       "      <td>0.0</td>\n",
       "    </tr>\n",
       "    <tr>\n",
       "      <th>S3</th>\n",
       "      <td>2019-11-18</td>\n",
       "      <td>0 days 05:45:00</td>\n",
       "      <td>0 days 06:30:00</td>\n",
       "      <td>13.46</td>\n",
       "      <td>0 days 00:45:00</td>\n",
       "      <td>45.0</td>\n",
       "      <td>0.0</td>\n",
       "    </tr>\n",
       "    <tr>\n",
       "      <th>S4</th>\n",
       "      <td>2019-11-18</td>\n",
       "      <td>0 days 05:45:00</td>\n",
       "      <td>0 days 06:45:00</td>\n",
       "      <td>12.65</td>\n",
       "      <td>0 days 01:00:00</td>\n",
       "      <td>60.0</td>\n",
       "      <td>0.0</td>\n",
       "    </tr>\n",
       "  </tbody>\n",
       "</table>\n",
       "</div>"
      ],
      "text/plain": [
       "                                                       date      wake_onset  \\\n",
       "subject night condition   reporting_type sample                               \n",
       "AB19E   0     Known Alarm Naive          S0      2019-11-18 0 days 05:45:00   \n",
       "                                         S1      2019-11-18 0 days 05:45:00   \n",
       "                                         S2      2019-11-18 0 days 05:45:00   \n",
       "                                         S3      2019-11-18 0 days 05:45:00   \n",
       "                                         S4      2019-11-18 0 days 05:45:00   \n",
       "\n",
       "                                                    sample_time  cortisol  \\\n",
       "subject night condition   reporting_type sample                             \n",
       "AB19E   0     Known Alarm Naive          S0     0 days 05:45:00      2.80   \n",
       "                                         S1     0 days 06:00:00      5.59   \n",
       "                                         S2     0 days 06:15:00     13.29   \n",
       "                                         S3     0 days 06:30:00     13.46   \n",
       "                                         S4     0 days 06:45:00     12.65   \n",
       "\n",
       "                                                time_diff_to_wake_onset  \\\n",
       "subject night condition   reporting_type sample                           \n",
       "AB19E   0     Known Alarm Naive          S0             0 days 00:00:00   \n",
       "                                         S1             0 days 00:15:00   \n",
       "                                         S2             0 days 00:30:00   \n",
       "                                         S3             0 days 00:45:00   \n",
       "                                         S4             0 days 01:00:00   \n",
       "\n",
       "                                                 time_diff_min  \\\n",
       "subject night condition   reporting_type sample                  \n",
       "AB19E   0     Known Alarm Naive          S0                0.0   \n",
       "                                         S1               15.0   \n",
       "                                         S2               30.0   \n",
       "                                         S3               45.0   \n",
       "                                         S4               60.0   \n",
       "\n",
       "                                                 time_diff_to_naive_min  \n",
       "subject night condition   reporting_type sample                          \n",
       "AB19E   0     Known Alarm Naive          S0                         0.0  \n",
       "                                         S1                         0.0  \n",
       "                                         S2                         0.0  \n",
       "                                         S3                         0.0  \n",
       "                                         S4                         0.0  "
      ]
     },
     "execution_count": 18,
     "metadata": {},
     "output_type": "execute_result"
    }
   ],
   "source": [
    "col = \"time_diff_to_naive_min\"\n",
    "\n",
    "# remove data that have sampling time differences of 30 min or more\n",
    "cort_mask = cortisol_samples_time_cleaned[col].abs() >= 30\n",
    "display(cort_mask.sum())\n",
    "cortisol_samples_time_cleaned = cortisol_samples_time_cleaned.loc[~cort_mask]\n",
    "cortisol_samples_time_cleaned = cortisol_samples_time_cleaned.unstack(\"sample\").dropna().stack()\n",
    "cortisol_samples_time_cleaned.head()"
   ]
  },
  {
   "cell_type": "markdown",
   "metadata": {
    "pycharm": {
     "name": "#%% md\n"
    }
   },
   "source": [
    "### Further Split *Selfreport* into *Selfreport with App* and *Selfreport without App*"
   ]
  },
  {
   "cell_type": "code",
   "execution_count": 19,
   "metadata": {
    "pycharm": {
     "name": "#%%\n"
    }
   },
   "outputs": [
    {
     "data": {
      "text/html": [
       "<div>\n",
       "<style scoped>\n",
       "    .dataframe tbody tr th:only-of-type {\n",
       "        vertical-align: middle;\n",
       "    }\n",
       "\n",
       "    .dataframe tbody tr th {\n",
       "        vertical-align: top;\n",
       "    }\n",
       "\n",
       "    .dataframe thead th {\n",
       "        text-align: right;\n",
       "    }\n",
       "</style>\n",
       "<table border=\"1\" class=\"dataframe\">\n",
       "  <thead>\n",
       "    <tr style=\"text-align: right;\">\n",
       "      <th></th>\n",
       "      <th></th>\n",
       "      <th></th>\n",
       "      <th></th>\n",
       "      <th></th>\n",
       "      <th>date</th>\n",
       "      <th>wake_onset</th>\n",
       "      <th>sample_time</th>\n",
       "      <th>cortisol</th>\n",
       "      <th>time_diff_to_wake_onset</th>\n",
       "      <th>time_diff_min</th>\n",
       "      <th>time_diff_to_naive_min</th>\n",
       "    </tr>\n",
       "    <tr>\n",
       "      <th>subject</th>\n",
       "      <th>night</th>\n",
       "      <th>condition</th>\n",
       "      <th>reporting_type</th>\n",
       "      <th>sample</th>\n",
       "      <th></th>\n",
       "      <th></th>\n",
       "      <th></th>\n",
       "      <th></th>\n",
       "      <th></th>\n",
       "      <th></th>\n",
       "      <th></th>\n",
       "    </tr>\n",
       "  </thead>\n",
       "  <tbody>\n",
       "    <tr>\n",
       "      <th rowspan=\"5\" valign=\"top\">AB19E</th>\n",
       "      <th rowspan=\"5\" valign=\"top\">0</th>\n",
       "      <th rowspan=\"5\" valign=\"top\">Known Alarm</th>\n",
       "      <th rowspan=\"5\" valign=\"top\">Naive</th>\n",
       "      <th>S1</th>\n",
       "      <td>2019-11-18</td>\n",
       "      <td>0 days 05:45:00</td>\n",
       "      <td>0 days 05:45:00</td>\n",
       "      <td>2.80</td>\n",
       "      <td>0 days 00:00:00</td>\n",
       "      <td>0.0</td>\n",
       "      <td>0.0</td>\n",
       "    </tr>\n",
       "    <tr>\n",
       "      <th>S2</th>\n",
       "      <td>2019-11-18</td>\n",
       "      <td>0 days 05:45:00</td>\n",
       "      <td>0 days 06:00:00</td>\n",
       "      <td>5.59</td>\n",
       "      <td>0 days 00:15:00</td>\n",
       "      <td>15.0</td>\n",
       "      <td>0.0</td>\n",
       "    </tr>\n",
       "    <tr>\n",
       "      <th>S3</th>\n",
       "      <td>2019-11-18</td>\n",
       "      <td>0 days 05:45:00</td>\n",
       "      <td>0 days 06:15:00</td>\n",
       "      <td>13.29</td>\n",
       "      <td>0 days 00:30:00</td>\n",
       "      <td>30.0</td>\n",
       "      <td>0.0</td>\n",
       "    </tr>\n",
       "    <tr>\n",
       "      <th>S4</th>\n",
       "      <td>2019-11-18</td>\n",
       "      <td>0 days 05:45:00</td>\n",
       "      <td>0 days 06:30:00</td>\n",
       "      <td>13.46</td>\n",
       "      <td>0 days 00:45:00</td>\n",
       "      <td>45.0</td>\n",
       "      <td>0.0</td>\n",
       "    </tr>\n",
       "    <tr>\n",
       "      <th>S5</th>\n",
       "      <td>2019-11-18</td>\n",
       "      <td>0 days 05:45:00</td>\n",
       "      <td>0 days 06:45:00</td>\n",
       "      <td>12.65</td>\n",
       "      <td>0 days 01:00:00</td>\n",
       "      <td>60.0</td>\n",
       "      <td>0.0</td>\n",
       "    </tr>\n",
       "  </tbody>\n",
       "</table>\n",
       "</div>"
      ],
      "text/plain": [
       "                                                       date      wake_onset  \\\n",
       "subject night condition   reporting_type sample                               \n",
       "AB19E   0     Known Alarm Naive          S1      2019-11-18 0 days 05:45:00   \n",
       "                                         S2      2019-11-18 0 days 05:45:00   \n",
       "                                         S3      2019-11-18 0 days 05:45:00   \n",
       "                                         S4      2019-11-18 0 days 05:45:00   \n",
       "                                         S5      2019-11-18 0 days 05:45:00   \n",
       "\n",
       "                                                    sample_time  cortisol  \\\n",
       "subject night condition   reporting_type sample                             \n",
       "AB19E   0     Known Alarm Naive          S1     0 days 05:45:00      2.80   \n",
       "                                         S2     0 days 06:00:00      5.59   \n",
       "                                         S3     0 days 06:15:00     13.29   \n",
       "                                         S4     0 days 06:30:00     13.46   \n",
       "                                         S5     0 days 06:45:00     12.65   \n",
       "\n",
       "                                                time_diff_to_wake_onset  \\\n",
       "subject night condition   reporting_type sample                           \n",
       "AB19E   0     Known Alarm Naive          S1             0 days 00:00:00   \n",
       "                                         S2             0 days 00:15:00   \n",
       "                                         S3             0 days 00:30:00   \n",
       "                                         S4             0 days 00:45:00   \n",
       "                                         S5             0 days 01:00:00   \n",
       "\n",
       "                                                 time_diff_min  \\\n",
       "subject night condition   reporting_type sample                  \n",
       "AB19E   0     Known Alarm Naive          S1                0.0   \n",
       "                                         S2               15.0   \n",
       "                                         S3               30.0   \n",
       "                                         S4               45.0   \n",
       "                                         S5               60.0   \n",
       "\n",
       "                                                 time_diff_to_naive_min  \n",
       "subject night condition   reporting_type sample                          \n",
       "AB19E   0     Known Alarm Naive          S1                         0.0  \n",
       "                                         S2                         0.0  \n",
       "                                         S3                         0.0  \n",
       "                                         S4                         0.0  \n",
       "                                         S5                         0.0  "
      ]
     },
     "execution_count": 19,
     "metadata": {},
     "output_type": "execute_result"
    }
   ],
   "source": [
    "subjects_with_app = (\n",
    "    cortisol_samples_time_cleaned.xs(\"AW & ST: App\", level=\"reporting_type\").index.get_level_values(\"subject\").unique()\n",
    ")\n",
    "\n",
    "cortisol_samples_with_app = cortisol_samples_time_cleaned.loc[subjects_with_app]\n",
    "cortisol_samples_without_app = cortisol_samples_time_cleaned.drop(subjects_with_app)\n",
    "\n",
    "cortisol_selfreport = {\n",
    "    \"AW & ST: Selfreport (without App)\": cortisol_samples_without_app.xs(\"AW & ST: Selfreport\", level=\"reporting_type\"),\n",
    "    \"AW & ST: Selfreport (with App)\": cortisol_samples_with_app.xs(\"AW & ST: Selfreport\", level=\"reporting_type\"),\n",
    "    \"AW: Sensor, ST: Selfreport (without App)\": cortisol_samples_without_app.xs(\n",
    "        \"AW: Sensor, ST: Selfreport\", level=\"reporting_type\"\n",
    "    ),\n",
    "    \"AW: Sensor, ST: Selfreport (with App)\": cortisol_samples_with_app.xs(\n",
    "        \"AW: Sensor, ST: Selfreport\", level=\"reporting_type\"\n",
    "    ),\n",
    "}\n",
    "cortisol_selfreport = pd.concat(cortisol_selfreport, names=[\"reporting_type\"])\n",
    "cortisol_selfreport = cortisol_selfreport.reorder_levels(cortisol_samples_time_cleaned.index.names)\n",
    "\n",
    "cortisol_samples_time_cleaned_all = pd.concat([cortisol_samples_time_cleaned, cortisol_selfreport])\n",
    "cortisol_samples_time_cleaned_all = convert_cortisol_sample_ids(cortisol_samples_time_cleaned_all)\n",
    "\n",
    "cortisol_samples_time_cleaned_all.head()"
   ]
  },
  {
   "cell_type": "markdown",
   "metadata": {
    "pycharm": {
     "name": "#%% md\n"
    }
   },
   "source": [
    "## Feature Computation"
   ]
  },
  {
   "cell_type": "code",
   "execution_count": 24,
   "metadata": {
    "pycharm": {
     "name": "#%%\n"
    }
   },
   "outputs": [
    {
     "data": {
      "text/html": [
       "<div>\n",
       "<style scoped>\n",
       "    .dataframe tbody tr th:only-of-type {\n",
       "        vertical-align: middle;\n",
       "    }\n",
       "\n",
       "    .dataframe tbody tr th {\n",
       "        vertical-align: top;\n",
       "    }\n",
       "\n",
       "    .dataframe thead th {\n",
       "        text-align: right;\n",
       "    }\n",
       "</style>\n",
       "<table border=\"1\" class=\"dataframe\">\n",
       "  <thead>\n",
       "    <tr style=\"text-align: right;\">\n",
       "      <th></th>\n",
       "      <th></th>\n",
       "      <th></th>\n",
       "      <th></th>\n",
       "      <th></th>\n",
       "      <th>date</th>\n",
       "      <th>wake_onset</th>\n",
       "      <th>sample_time</th>\n",
       "      <th>cortisol</th>\n",
       "      <th>time_diff_to_wake_onset</th>\n",
       "      <th>time</th>\n",
       "      <th>time_diff_to_naive_min</th>\n",
       "    </tr>\n",
       "    <tr>\n",
       "      <th>subject</th>\n",
       "      <th>night</th>\n",
       "      <th>condition</th>\n",
       "      <th>reporting_type</th>\n",
       "      <th>sample</th>\n",
       "      <th></th>\n",
       "      <th></th>\n",
       "      <th></th>\n",
       "      <th></th>\n",
       "      <th></th>\n",
       "      <th></th>\n",
       "      <th></th>\n",
       "    </tr>\n",
       "  </thead>\n",
       "  <tbody>\n",
       "    <tr>\n",
       "      <th rowspan=\"5\" valign=\"top\">AB19E</th>\n",
       "      <th rowspan=\"5\" valign=\"top\">0</th>\n",
       "      <th rowspan=\"5\" valign=\"top\">Known Alarm</th>\n",
       "      <th rowspan=\"5\" valign=\"top\">Naive</th>\n",
       "      <th>S1</th>\n",
       "      <td>2019-11-18</td>\n",
       "      <td>0 days 05:45:00</td>\n",
       "      <td>0 days 05:45:00</td>\n",
       "      <td>2.80</td>\n",
       "      <td>0 days 00:00:00</td>\n",
       "      <td>0.0</td>\n",
       "      <td>0.0</td>\n",
       "    </tr>\n",
       "    <tr>\n",
       "      <th>S2</th>\n",
       "      <td>2019-11-18</td>\n",
       "      <td>0 days 05:45:00</td>\n",
       "      <td>0 days 06:00:00</td>\n",
       "      <td>5.59</td>\n",
       "      <td>0 days 00:15:00</td>\n",
       "      <td>15.0</td>\n",
       "      <td>0.0</td>\n",
       "    </tr>\n",
       "    <tr>\n",
       "      <th>S3</th>\n",
       "      <td>2019-11-18</td>\n",
       "      <td>0 days 05:45:00</td>\n",
       "      <td>0 days 06:15:00</td>\n",
       "      <td>13.29</td>\n",
       "      <td>0 days 00:30:00</td>\n",
       "      <td>30.0</td>\n",
       "      <td>0.0</td>\n",
       "    </tr>\n",
       "    <tr>\n",
       "      <th>S4</th>\n",
       "      <td>2019-11-18</td>\n",
       "      <td>0 days 05:45:00</td>\n",
       "      <td>0 days 06:30:00</td>\n",
       "      <td>13.46</td>\n",
       "      <td>0 days 00:45:00</td>\n",
       "      <td>45.0</td>\n",
       "      <td>0.0</td>\n",
       "    </tr>\n",
       "    <tr>\n",
       "      <th>S5</th>\n",
       "      <td>2019-11-18</td>\n",
       "      <td>0 days 05:45:00</td>\n",
       "      <td>0 days 06:45:00</td>\n",
       "      <td>12.65</td>\n",
       "      <td>0 days 01:00:00</td>\n",
       "      <td>60.0</td>\n",
       "      <td>0.0</td>\n",
       "    </tr>\n",
       "  </tbody>\n",
       "</table>\n",
       "</div>"
      ],
      "text/plain": [
       "                                                       date      wake_onset  \\\n",
       "subject night condition   reporting_type sample                               \n",
       "AB19E   0     Known Alarm Naive          S1      2019-11-18 0 days 05:45:00   \n",
       "                                         S2      2019-11-18 0 days 05:45:00   \n",
       "                                         S3      2019-11-18 0 days 05:45:00   \n",
       "                                         S4      2019-11-18 0 days 05:45:00   \n",
       "                                         S5      2019-11-18 0 days 05:45:00   \n",
       "\n",
       "                                                    sample_time  cortisol  \\\n",
       "subject night condition   reporting_type sample                             \n",
       "AB19E   0     Known Alarm Naive          S1     0 days 05:45:00      2.80   \n",
       "                                         S2     0 days 06:00:00      5.59   \n",
       "                                         S3     0 days 06:15:00     13.29   \n",
       "                                         S4     0 days 06:30:00     13.46   \n",
       "                                         S5     0 days 06:45:00     12.65   \n",
       "\n",
       "                                                time_diff_to_wake_onset  time  \\\n",
       "subject night condition   reporting_type sample                                 \n",
       "AB19E   0     Known Alarm Naive          S1             0 days 00:00:00   0.0   \n",
       "                                         S2             0 days 00:15:00  15.0   \n",
       "                                         S3             0 days 00:30:00  30.0   \n",
       "                                         S4             0 days 00:45:00  45.0   \n",
       "                                         S5             0 days 01:00:00  60.0   \n",
       "\n",
       "                                                 time_diff_to_naive_min  \n",
       "subject night condition   reporting_type sample                          \n",
       "AB19E   0     Known Alarm Naive          S1                         0.0  \n",
       "                                         S2                         0.0  \n",
       "                                         S3                         0.0  \n",
       "                                         S4                         0.0  \n",
       "                                         S5                         0.0  "
      ]
     },
     "execution_count": 24,
     "metadata": {},
     "output_type": "execute_result"
    }
   ],
   "source": [
    "# Create copy of dataframe for computing cortisol features and prepare dataframe\n",
    "cort_samples_compute = cortisol_samples_time_cleaned_all.copy()\n",
    "cort_samples_compute = cort_samples_compute.rename(columns={\"time_diff_min\": \"time\"})\n",
    "\n",
    "cort_samples_compute.head()"
   ]
  },
  {
   "cell_type": "code",
   "execution_count": 25,
   "metadata": {
    "pycharm": {
     "name": "#%%\n"
    }
   },
   "outputs": [
    {
     "data": {
      "text/html": [
       "<div>\n",
       "<style scoped>\n",
       "    .dataframe tbody tr th:only-of-type {\n",
       "        vertical-align: middle;\n",
       "    }\n",
       "\n",
       "    .dataframe tbody tr th {\n",
       "        vertical-align: top;\n",
       "    }\n",
       "\n",
       "    .dataframe thead th {\n",
       "        text-align: right;\n",
       "    }\n",
       "</style>\n",
       "<table border=\"1\" class=\"dataframe\">\n",
       "  <thead>\n",
       "    <tr style=\"text-align: right;\">\n",
       "      <th></th>\n",
       "      <th></th>\n",
       "      <th></th>\n",
       "      <th></th>\n",
       "      <th></th>\n",
       "      <th>cortisol</th>\n",
       "    </tr>\n",
       "    <tr>\n",
       "      <th>subject</th>\n",
       "      <th>night</th>\n",
       "      <th>condition</th>\n",
       "      <th>reporting_type</th>\n",
       "      <th>saliva_feature</th>\n",
       "      <th></th>\n",
       "    </tr>\n",
       "  </thead>\n",
       "  <tbody>\n",
       "    <tr>\n",
       "      <th rowspan=\"5\" valign=\"top\">AB19E</th>\n",
       "      <th rowspan=\"5\" valign=\"top\">0</th>\n",
       "      <th rowspan=\"5\" valign=\"top\">Known Alarm</th>\n",
       "      <th rowspan=\"5\" valign=\"top\">AW &amp; ST: Selfreport</th>\n",
       "      <th>auc_g</th>\n",
       "      <td>614.03</td>\n",
       "    </tr>\n",
       "    <tr>\n",
       "      <th>auc_i</th>\n",
       "      <td>443.23</td>\n",
       "    </tr>\n",
       "    <tr>\n",
       "      <th>ini_val</th>\n",
       "      <td>2.80</td>\n",
       "    </tr>\n",
       "    <tr>\n",
       "      <th>max_inc</th>\n",
       "      <td>10.66</td>\n",
       "    </tr>\n",
       "    <tr>\n",
       "      <th>max_val</th>\n",
       "      <td>13.46</td>\n",
       "    </tr>\n",
       "  </tbody>\n",
       "</table>\n",
       "</div>"
      ],
      "text/plain": [
       "                                                              cortisol\n",
       "subject night condition   reporting_type      saliva_feature          \n",
       "AB19E   0     Known Alarm AW & ST: Selfreport auc_g             614.03\n",
       "                                              auc_i             443.23\n",
       "                                              ini_val             2.80\n",
       "                                              max_inc            10.66\n",
       "                                              max_val            13.46"
      ]
     },
     "execution_count": 25,
     "metadata": {},
     "output_type": "execute_result"
    }
   ],
   "source": [
    "cortisol_features = compute_saliva_features(cort_samples_compute)\n",
    "cortisol_features.head()"
   ]
  },
  {
   "cell_type": "markdown",
   "metadata": {
    "pycharm": {
     "name": "#%% md\n"
    }
   },
   "source": [
    "## Export"
   ]
  },
  {
   "cell_type": "code",
   "execution_count": 26,
   "metadata": {
    "pycharm": {
     "name": "#%%\n"
    }
   },
   "outputs": [],
   "source": [
    "cortisol_samples_time_cleaned_all.to_csv(export_path.joinpath(\"cortisol_samples_processed_all_reporting_types.csv\"))\n",
    "cortisol_features.to_csv(export_path.joinpath(\"cortisol_features_processed_all_reporting_types.csv\"))"
   ]
  },
  {
   "cell_type": "code",
   "execution_count": null,
   "metadata": {},
   "outputs": [],
   "source": []
  }
 ],
 "metadata": {
  "interpreter": {
   "hash": "02aa1679edd4a06f5b85738ebdeaad54fd91805d6ba50c75947a30cd3f6e5db1"
  },
  "kernelspec": {
   "display_name": "carwatch-analysis",
   "language": "python",
   "name": "carwatch-analysis"
  },
  "language_info": {
   "codemirror_mode": {
    "name": "ipython",
    "version": 3
   },
   "file_extension": ".py",
   "mimetype": "text/x-python",
   "name": "python",
   "nbconvert_exporter": "python",
   "pygments_lexer": "ipython3",
   "version": "3.9.13"
  }
 },
 "nbformat": 4,
 "nbformat_minor": 4
}
