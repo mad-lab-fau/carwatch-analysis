{
 "cells": [
  {
   "cell_type": "markdown",
   "metadata": {},
   "source": [
    "# Saliva Processing – Naive & Self-Reports"
   ]
  },
  {
   "cell_type": "code",
   "execution_count": null,
   "metadata": {
    "tags": []
   },
   "outputs": [],
   "source": [
    "from pathlib import Path\n",
    "import json\n",
    "\n",
    "import numpy as np\n",
    "import pandas as pd\n",
    "import pingouin as pg\n",
    "\n",
    "import matplotlib.pyplot as plt\n",
    "import seaborn as sns\n",
    "\n",
    "from tqdm.auto import tqdm\n",
    "\n",
    "import biopsykit as bp\n",
    "from biopsykit.utils.dataframe_handling import multi_xs\n",
    "\n",
    "from carwatch_analysis.datasets import CarWatchDatasetProcessed\n",
    "from carwatch_analysis.stats import create_unique_night_id\n",
    "\n",
    "from carwatch_analysis.data_processing.sample_times import (\n",
    "    add_naive_sample_times, sample_times_long_format, compute_sample_times_parameter\n",
    ")\n",
    "from carwatch_analysis.data_processing.saliva import compute_saliva_features\n",
    "\n",
    "import datetime\n",
    "\n",
    "%load_ext autoreload\n",
    "%autoreload 2\n",
    "%matplotlib widget"
   ]
  },
  {
   "cell_type": "markdown",
   "metadata": {},
   "source": [
    "## Setup Paths"
   ]
  },
  {
   "cell_type": "code",
   "execution_count": null,
   "metadata": {},
   "outputs": [],
   "source": [
    "deploy_type = \"local\""
   ]
  },
  {
   "cell_type": "code",
   "execution_count": null,
   "metadata": {},
   "outputs": [],
   "source": [
    "# build path to data folder\n",
    "config_dict = json.load(Path(\"../../../config.json\").open(encoding=\"utf-8\"))\n",
    "base_path = Path(config_dict[deploy_type][\"base_path\"])\n",
    "\n",
    "base_path"
   ]
  },
  {
   "cell_type": "code",
   "execution_count": null,
   "metadata": {},
   "outputs": [],
   "source": [
    "dataset = CarWatchDatasetProcessed(base_path)\n",
    "dataset"
   ]
  },
  {
   "cell_type": "markdown",
   "metadata": {
    "tags": []
   },
   "source": [
    "## Load Data"
   ]
  },
  {
   "cell_type": "markdown",
   "metadata": {
    "tags": []
   },
   "source": [
    "### Self-Report Wakeup Onsets"
   ]
  },
  {
   "cell_type": "code",
   "execution_count": null,
   "metadata": {},
   "outputs": [],
   "source": [
    "bedtimes = dataset.endpoints_selfreport\n",
    "bedtimes = bedtimes.dropna().sort_index()\n",
    "bedtimes = bedtimes[[\"wake_onset_selfreport\"]].apply(pd.to_timedelta)\n",
    "\n",
    "bedtimes"
   ]
  },
  {
   "cell_type": "markdown",
   "metadata": {},
   "source": [
    "### Cortisol Samples"
   ]
  },
  {
   "cell_type": "code",
   "execution_count": null,
   "metadata": {},
   "outputs": [],
   "source": [
    "cortisol_samples = dataset.cortisol_samples\n",
    "\n",
    "cortisol_samples = cortisol_samples.rename(columns={\"time_abs\": \"sample_time_selfreport\"})\n",
    "cortisol_samples = cortisol_samples.drop(columns=[\"time\", \"wake_onset_time\"])\n",
    "# use only self-report wake onset information (from \"bedtime\" dataframe), \n",
    "# not merged wake onset information (from cortisol_samples dataframe)\n",
    "cortisol_samples = cortisol_samples.join(bedtimes).dropna()\n",
    "cortisol_samples"
   ]
  },
  {
   "cell_type": "code",
   "execution_count": null,
   "metadata": {},
   "outputs": [],
   "source": [
    "cortisol_samples_time = add_naive_sample_times(cortisol_samples)\n",
    "cortisol_samples_time = sample_times_long_format(cortisol_samples_time)\n",
    "cortisol_samples_time = compute_sample_times_parameter(cortisol_samples_time)\n",
    "\n",
    "cortisol_samples_time"
   ]
  },
  {
   "cell_type": "markdown",
   "metadata": {},
   "source": [
    "## Compute Cortisol Features For Different Log Types"
   ]
  },
  {
   "cell_type": "code",
   "execution_count": null,
   "metadata": {},
   "outputs": [],
   "source": [
    "# Create copy of dataframe for computing cortisol features and prepare dataframe\n",
    "cortisol_samples_compute = cortisol_samples_time.copy()\n",
    "cortisol_samples_compute = cortisol_samples_compute.rename(columns={\"time_rel_min\": \"time\"})\n",
    "\n",
    "# compute absolute sample times for computing auc and slope\n",
    "cortisol_samples_compute[\"time\"] = cortisol_samples_compute.groupby([\"subject\", \"night\", \"log_type\"])[\"time\"].cumsum()\n",
    "\n",
    "cortisol_samples_compute"
   ]
  },
  {
   "cell_type": "code",
   "execution_count": null,
   "metadata": {},
   "outputs": [],
   "source": [
    "cortisol_features = compute_saliva_features(cortisol_samples_compute)\n",
    "cortisol_features"
   ]
  },
  {
   "cell_type": "markdown",
   "metadata": {},
   "source": [
    "## Export"
   ]
  },
  {
   "cell_type": "code",
   "execution_count": null,
   "metadata": {},
   "outputs": [],
   "source": [
    "export_path = Path(\"../../exports\")\n",
    "export_path.mkdir(exist_ok=True)"
   ]
  },
  {
   "cell_type": "code",
   "execution_count": null,
   "metadata": {},
   "outputs": [],
   "source": [
    "cortisol_samples_time.to_csv(export_path.joinpath(\"cortisol_samples_naive_self_report.csv\"))"
   ]
  },
  {
   "cell_type": "code",
   "execution_count": null,
   "metadata": {},
   "outputs": [],
   "source": [
    "cortisol_features.to_csv(export_path.joinpath(\"cortisol_features_naive_self_report.csv\"))"
   ]
  },
  {
   "cell_type": "code",
   "execution_count": null,
   "metadata": {},
   "outputs": [],
   "source": []
  }
 ],
 "metadata": {
  "interpreter": {
   "hash": "02aa1679edd4a06f5b85738ebdeaad54fd91805d6ba50c75947a30cd3f6e5db1"
  },
  "kernelspec": {
   "display_name": "carwatch-analysis",
   "language": "python",
   "name": "carwatch-analysis"
  },
  "language_info": {
   "codemirror_mode": {
    "name": "ipython",
    "version": 3
   },
   "file_extension": ".py",
   "mimetype": "text/x-python",
   "name": "python",
   "nbconvert_exporter": "python",
   "pygments_lexer": "ipython3",
   "version": "3.8.3"
  }
 },
 "nbformat": 4,
 "nbformat_minor": 4
}
