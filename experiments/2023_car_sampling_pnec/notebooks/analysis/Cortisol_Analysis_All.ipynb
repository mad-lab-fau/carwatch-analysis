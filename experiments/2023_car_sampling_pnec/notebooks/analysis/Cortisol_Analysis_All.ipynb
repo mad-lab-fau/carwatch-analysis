{
 "cells": [
  {
   "cell_type": "markdown",
   "id": "e4dd50d4-80c3-4ea6-b05d-48de1cbca2cd",
   "metadata": {
    "pycharm": {
     "name": "#%% md\n"
    }
   },
   "source": [
    "# Cortisol Analysis"
   ]
  },
  {
   "cell_type": "code",
   "execution_count": null,
   "id": "970e48bd-840f-403b-a173-08e0c5bf1fa7",
   "metadata": {
    "pycharm": {
     "name": "#%%\n"
    }
   },
   "outputs": [],
   "source": [
    "from pathlib import Path\n",
    "import json\n",
    "\n",
    "import pandas as pd\n",
    "import numpy as np\n",
    "import pingouin as pg\n",
    "\n",
    "import biopsykit as bp\n",
    "from biopsykit.stats import StatsPipeline\n",
    "from biopsykit.io import load_long_format_csv\n",
    "from biopsykit.utils.dataframe_handling import multi_xs\n",
    "\n",
    "from fau_colors import cmaps, register_fausans_font\n",
    "\n",
    "import matplotlib.pyplot as plt\n",
    "import seaborn as sns\n",
    "\n",
    "from carwatch_analysis.io import load_cortisol_samples_reporting_times\n",
    "from carwatch_analysis.utils import describe_groups_df\n",
    "from carwatch_analysis.stats import create_unique_night_id\n",
    "from carwatch_analysis.plotting import multi_paired_plot_auc, paired_plot_auc\n",
    "from carwatch_analysis.data_processing.saliva import compute_auc_increasing\n",
    "\n",
    "\n",
    "%matplotlib widget\n",
    "%load_ext autoreload\n",
    "%autoreload 2"
   ]
  },
  {
   "cell_type": "code",
   "execution_count": null,
   "id": "90952493-9446-4332-ad23-ae08ce78578e",
   "metadata": {
    "pycharm": {
     "name": "#%%\n"
    }
   },
   "outputs": [],
   "source": [
    "register_fausans_font()\n",
    "plt.close(\"all\")\n",
    "\n",
    "palette = sns.color_palette(cmaps.faculties)\n",
    "\n",
    "theme_kwargs = {\"context\": \"talk\", \"style\": \"ticks\", \"palette\": palette}\n",
    "theme_kwargs_grid = {\"context\": \"talk\", \"style\": \"ticks\", \"palette\": palette, \"font_scale\": 0.8}\n",
    "sns.set_theme(**theme_kwargs)\n",
    "\n",
    "plt.rcParams[\"figure.figsize\"] = (10, 5)\n",
    "plt.rcParams[\"pdf.fonttype\"] = 42\n",
    "plt.rcParams[\"mathtext.default\"] = \"regular\"\n",
    "plt.rcParams[\"font.family\"] = \"sans-serif\"\n",
    "plt.rcParams[\"font.sans-serif\"] = \"FAUSans Office\"\n",
    "\n",
    "export = True\n",
    "\n",
    "pg.options[\"round\"] = 4\n",
    "\n",
    "palette"
   ]
  },
  {
   "cell_type": "markdown",
   "id": "68e63bcf-1055-4d24-98db-0d08150f182c",
   "metadata": {
    "pycharm": {
     "name": "#%% md\n"
    }
   },
   "source": [
    "## Setup Paths"
   ]
  },
  {
   "cell_type": "code",
   "execution_count": null,
   "id": "484ad1f6-4b9c-4b82-9f82-16c1b1150ae4",
   "metadata": {
    "pycharm": {
     "name": "#%%\n"
    }
   },
   "outputs": [],
   "source": [
    "base_path = Path(\"../..\")\n",
    "export_path = base_path.joinpath(\"exports\")"
   ]
  },
  {
   "cell_type": "markdown",
   "id": "e1b387a5-a762-4215-8f70-a9322667bf4d",
   "metadata": {
    "pycharm": {
     "name": "#%% md\n"
    }
   },
   "source": [
    "## Load Data"
   ]
  },
  {
   "cell_type": "markdown",
   "id": "af7b293c-ae98-494a-915d-35afa0e8ec22",
   "metadata": {
    "pycharm": {
     "name": "#%% md\n"
    }
   },
   "source": [
    "### Cortisol Samples"
   ]
  },
  {
   "cell_type": "code",
   "execution_count": null,
   "id": "bf1a4149-641c-4f69-a3a3-24090261c729",
   "metadata": {
    "pycharm": {
     "name": "#%%\n"
    }
   },
   "outputs": [],
   "source": [
    "cort_path = export_path.joinpath(\"cortisol_samples_processed_all_reporting_types.csv\")\n",
    "cort_samples = load_cortisol_samples_reporting_times(cort_path)\n",
    "\n",
    "cort_samples.head()"
   ]
  },
  {
   "cell_type": "markdown",
   "id": "d074cedf-2aa9-4830-ac24-a1aecfe2d4ac",
   "metadata": {
    "pycharm": {
     "name": "#%% md\n"
    }
   },
   "source": [
    "### Cortisol Features"
   ]
  },
  {
   "cell_type": "code",
   "execution_count": null,
   "id": "bc167475-6cb3-4118-b627-c6bc6117e7ca",
   "metadata": {
    "pycharm": {
     "name": "#%%\n"
    }
   },
   "outputs": [],
   "source": [
    "cort_features = load_long_format_csv(export_path.joinpath(\"cortisol_features_processed_all_reporting_types.csv\"))\n",
    "cort_features = create_unique_night_id(cort_features)\n",
    "cort_features.head()"
   ]
  },
  {
   "cell_type": "code",
   "execution_count": null,
   "id": "cc39c1ee-179e-45bf-a19f-f71a5545eff4",
   "metadata": {
    "pycharm": {
     "name": "#%%\n"
    }
   },
   "outputs": [],
   "source": [
    "# Don't consider IMU and IMU_App because the cortisol features are the same as\n",
    "# Selfreport and App since only the wake onset differs, but not the sampling times\n",
    "reporting_types_fine = [\n",
    "    \"Naive\",\n",
    "    \"AW & ST: Selfreport (without App)\",\n",
    "    \"AW & ST: Selfreport (with App)\",\n",
    "    \"AW & ST: App\",\n",
    "    \"AW: Sensor, ST: Selfreport (without App)\",\n",
    "    \"AW: Sensor, ST: Selfreport (with App)\",\n",
    "    \"AW: Sensor, ST: App\",\n",
    "]\n",
    "reporting_types_coarse = [\n",
    "    \"Naive\",\n",
    "    \"AW & ST: Selfreport\",\n",
    "    \"AW & ST: App\",\n",
    "    \"AW: Sensor, ST: Selfreport\",\n",
    "    \"AW: Sensor, ST: App\",\n",
    "]\n",
    "delay_groups = [\"None\", \"Short\", \"Moderate\", \"High\"]\n",
    "\n",
    "reporting_types_fine_rename = [s.replace(\"without\", \"w/o\").replace(\"with\", \"w/\") for s in reporting_types_fine]\n",
    "rename_mapper_reporting_types = dict(zip(reporting_types_fine, reporting_types_fine_rename))\n",
    "\n",
    "reporting_types_fine = reporting_types_fine_rename\n",
    "\n",
    "cort_samples = cort_samples.rename(rename_mapper_reporting_types, level=\"reporting_type\")\n",
    "cort_features = cort_features.rename(rename_mapper_reporting_types, level=\"reporting_type\")"
   ]
  },
  {
   "cell_type": "markdown",
   "id": "be8be710-37f1-4800-b2dd-047d1ffa4721",
   "metadata": {
    "pycharm": {
     "name": "#%% md\n"
    }
   },
   "source": [
    "## Data Selection"
   ]
  },
  {
   "cell_type": "markdown",
   "id": "26948ba0-2160-493f-87a6-00a4c7b0dc83",
   "metadata": {
    "pycharm": {
     "name": "#%% md\n"
    }
   },
   "source": [
    "### Cortisol Samples"
   ]
  },
  {
   "cell_type": "code",
   "execution_count": null,
   "id": "85de54d4-ee22-4149-be99-b23e41e8b780",
   "metadata": {
    "pycharm": {
     "name": "#%%\n"
    }
   },
   "outputs": [],
   "source": [
    "cort_samples = multi_xs(cort_samples, reporting_types_fine, level=\"reporting_type\")\n",
    "cort_samples.head()"
   ]
  },
  {
   "cell_type": "markdown",
   "id": "bf341563-4181-4bec-b71a-7f186d97eae9",
   "metadata": {
    "pycharm": {
     "name": "#%% md\n"
    }
   },
   "source": [
    "### Cortisol Features"
   ]
  },
  {
   "cell_type": "code",
   "execution_count": null,
   "id": "eec74f2a-bc8c-4420-b3bc-e67bf47a65be",
   "metadata": {
    "pycharm": {
     "name": "#%%\n"
    }
   },
   "outputs": [],
   "source": [
    "cort_features_analysis = cort_features.copy()\n",
    "cort_features_analysis = cort_features_analysis.reindex([\"auc_g\", \"auc_i\"], level=\"saliva_feature\")\n",
    "cort_features_analysis = cort_features_analysis.reindex(reporting_types_fine, level=\"reporting_type\")\n",
    "cort_features_analysis.head()"
   ]
  },
  {
   "cell_type": "markdown",
   "id": "4ada896c-2c1b-4e4f-8021-3a66344e6c67",
   "metadata": {
    "pycharm": {
     "name": "#%% md\n"
    }
   },
   "source": [
    "## Saliva Samples – CAR Plot"
   ]
  },
  {
   "cell_type": "code",
   "execution_count": null,
   "id": "0f41ed6b-b398-4941-82d2-9f5580a43903",
   "metadata": {
    "pycharm": {
     "name": "#%%\n"
    }
   },
   "outputs": [],
   "source": [
    "reporting_types = [\"AW & ST: Selfreport (w/o App)\", \"AW & ST: App\"]\n",
    "\n",
    "data_plot = cort_samples.reindex(reporting_types, level=\"reporting_type\")\n",
    "\n",
    "car = bp.protocols.CAR()\n",
    "car.add_saliva_data(saliva_data=data_plot, saliva_type=\"cortisol\", sample_times=[0, 15, 30, 45, 60])"
   ]
  },
  {
   "cell_type": "code",
   "execution_count": null,
   "id": "b486e20b-f2e1-400f-93f5-4fefe12b1e51",
   "metadata": {
    "pycharm": {
     "name": "#%%\n"
    }
   },
   "outputs": [],
   "source": [
    "fig, ax = plt.subplots()\n",
    "\n",
    "car.car_saliva_plot(\n",
    "    saliva_type=\"cortisol\",\n",
    "    hue=\"reporting_type\",\n",
    "    style=\"reporting_type\",\n",
    "    ax=ax,\n",
    "    hue_order=reporting_types,\n",
    "    x_offset=0.0,\n",
    ")\n",
    "fig.tight_layout()"
   ]
  },
  {
   "cell_type": "markdown",
   "id": "1e25c1af",
   "metadata": {
    "pycharm": {
     "name": "#%% md\n"
    },
    "tags": []
   },
   "source": [
    "## Saliva Features – Statistical Analysis"
   ]
  },
  {
   "cell_type": "markdown",
   "id": "041833cf-6b1b-4ac8-a997-d01d1902214b",
   "metadata": {
    "pycharm": {
     "name": "#%% md\n"
    }
   },
   "source": [
    "### Log Type"
   ]
  },
  {
   "cell_type": "code",
   "execution_count": null,
   "id": "a86daebe-6dc5-41d3-a46e-05a8a0d5633d",
   "metadata": {
    "pycharm": {
     "name": "#%%\n"
    }
   },
   "outputs": [],
   "source": [
    "reporting_types = [\"Naive\", \"AW & ST: Selfreport (w/ App)\", \"AW & ST: App\"]\n",
    "\n",
    "data_analysis = cort_features_analysis.reindex(reporting_types, level=\"reporting_type\")\n",
    "\n",
    "pipeline = StatsPipeline(\n",
    "    steps=[(\"prep\", \"normality\"), (\"prep\", \"equal_var\"), (\"test\", \"rm_anova\"), (\"posthoc\", \"pairwise_tests\")],\n",
    "    params={\n",
    "        \"dv\": \"cortisol\",\n",
    "        \"within\": \"reporting_type\",\n",
    "        \"subject\": \"night_id\",\n",
    "        \"groupby\": \"saliva_feature\",\n",
    "        \"multicomp\": {\"method\": \"bonf\", \"levels\": False},\n",
    "    },\n",
    ")\n",
    "\n",
    "pipeline.apply(data_analysis)\n",
    "pipeline.display_results()"
   ]
  },
  {
   "cell_type": "markdown",
   "id": "bfd9bb9c-3b47-4022-a45c-c89fa5cdd3bb",
   "metadata": {},
   "source": [
    "#### Both AUCs"
   ]
  },
  {
   "cell_type": "code",
   "execution_count": null,
   "id": "0ba70706",
   "metadata": {
    "pycharm": {
     "name": "#%%\n"
    },
    "tags": []
   },
   "outputs": [],
   "source": [
    "title_map = {\"auc_g\": \"$AUC_G$\", \"auc_i\": \"$AUC_I$\"}\n",
    "\n",
    "fig, axs = plt.subplots(figsize=(12, 5), ncols=2)\n",
    "\n",
    "for (feature, data), ax in zip(cort_features_analysis.groupby(\"saliva_feature\"), axs):\n",
    "    bp.protocols.plotting.saliva_feature_boxplot(\n",
    "        data=data,\n",
    "        x=\"reporting_type\",\n",
    "        saliva_type=\"cortisol\",\n",
    "        feature=feature,\n",
    "        order=reporting_types,\n",
    "        palette=cmaps.faculties_light,\n",
    "        ax=ax,\n",
    "    )\n",
    "    ax.set_title(title_map[feature], pad=12)\n",
    "    ax.set_xlabel(\"Log Type\")\n",
    "    ax.set_ylim(ax.get_ylim()[0], ax.get_ylim()[1] * 1.05)\n",
    "\n",
    "fig.tight_layout()"
   ]
  },
  {
   "cell_type": "markdown",
   "id": "de9d09bc-04fb-462a-9bc1-12dbdde9ab9b",
   "metadata": {
    "pycharm": {
     "name": "#%% md\n"
    }
   },
   "source": [
    "### Interaction Condition x Log Type"
   ]
  },
  {
   "cell_type": "code",
   "execution_count": null,
   "id": "1126c60b-a660-471c-927f-d5bbf67c20f8",
   "metadata": {
    "pycharm": {
     "name": "#%%\n"
    }
   },
   "outputs": [],
   "source": [
    "reporting_types = [\"Naive\", \"AW & ST: Selfreport (w/ App)\", \"AW & ST: App\"]\n",
    "\n",
    "data_analysis = cort_features_analysis.reindex(reporting_types, level=\"reporting_type\")\n",
    "\n",
    "pipeline = StatsPipeline(\n",
    "    steps=[(\"prep\", \"normality\"), (\"prep\", \"equal_var\"), (\"test\", \"mixed_anova\"), (\"posthoc\", \"pairwise_tests\")],\n",
    "    params={\n",
    "        \"dv\": \"cortisol\",\n",
    "        \"within\": \"reporting_type\",\n",
    "        \"between\": \"condition\",\n",
    "        \"subject\": \"night_id\",\n",
    "        \"groupby\": \"saliva_feature\",\n",
    "        \"multicomp\": {\"method\": \"bonf\", \"levels\": None},\n",
    "    },\n",
    ")\n",
    "\n",
    "pipeline.apply(data_analysis)\n",
    "pipeline.display_results(prep=False, posthoc=False)"
   ]
  },
  {
   "cell_type": "markdown",
   "id": "5277f582-7422-4ad6-a4af-2fafab59a047",
   "metadata": {
    "pycharm": {
     "name": "#%% md\n"
    }
   },
   "source": [
    "### Paired Plots"
   ]
  },
  {
   "cell_type": "markdown",
   "id": "914bb8f1-24eb-439b-affd-344849dfb374",
   "metadata": {
    "pycharm": {
     "name": "#%% md\n"
    }
   },
   "source": [
    "#### $AUC_G$"
   ]
  },
  {
   "cell_type": "code",
   "execution_count": null,
   "id": "f9ebda32-f011-4969-9f69-cff75c355b41",
   "metadata": {
    "collapsed": false,
    "jupyter": {
     "outputs_hidden": false
    },
    "pycharm": {
     "name": "#%%\n"
    }
   },
   "outputs": [],
   "source": [
    "data_increase = compute_auc_increasing(cort_features_analysis.reindex(reporting_types, level=\"reporting_type\"), \"auc_g\")\n",
    "data_increase"
   ]
  },
  {
   "cell_type": "code",
   "execution_count": null,
   "id": "30470b25-7173-45b4-9956-7d8cfd835fd8",
   "metadata": {
    "collapsed": false,
    "jupyter": {
     "outputs_hidden": false
    },
    "pycharm": {
     "name": "#%%\n"
    }
   },
   "outputs": [],
   "source": [
    "fig, ax = paired_plot_auc(\n",
    "    data=cort_features_analysis, saliva_feature=\"auc_g\", reporting_types=reporting_types, figsize=(6, 5)\n",
    ")"
   ]
  },
  {
   "cell_type": "code",
   "execution_count": null,
   "id": "0103bf6f-c3f0-45ee-ac12-2d2aa5df2dac",
   "metadata": {},
   "outputs": [],
   "source": [
    "reporting_types = [\"Naive\", \"AW & ST: Selfreport (w/ App)\", \"AW & ST: App\"]\n",
    "\n",
    "fig, axs = multi_paired_plot_auc(\n",
    "    data=cort_features_analysis, saliva_feature=\"auc_g\", reporting_types=reporting_types, figsize=(12, 5)\n",
    ")"
   ]
  },
  {
   "cell_type": "markdown",
   "id": "4bff72e5-144f-484e-afed-968a9321c5b5",
   "metadata": {
    "pycharm": {
     "name": "#%% md\n"
    }
   },
   "source": [
    "#### $AUC_I$"
   ]
  },
  {
   "cell_type": "code",
   "execution_count": null,
   "id": "6da8a9d8-7c24-4ca0-92ac-b583ede8d468",
   "metadata": {
    "collapsed": false,
    "jupyter": {
     "outputs_hidden": false
    },
    "pycharm": {
     "name": "#%%\n"
    }
   },
   "outputs": [],
   "source": [
    "data_increase = compute_auc_increasing(cort_features_analysis.reindex(reporting_types, level=\"reporting_type\"), \"auc_i\")\n",
    "data_increase"
   ]
  },
  {
   "cell_type": "code",
   "execution_count": null,
   "id": "6eab52b2-e59e-432d-b19c-22a8c6d72312",
   "metadata": {
    "collapsed": false,
    "jupyter": {
     "outputs_hidden": false
    },
    "pycharm": {
     "name": "#%%\n"
    }
   },
   "outputs": [],
   "source": [
    "fig, ax = paired_plot_auc(\n",
    "    data=cort_features_analysis, saliva_feature=\"auc_i\", reporting_types=reporting_types, figsize=(6, 5)\n",
    ")"
   ]
  },
  {
   "cell_type": "code",
   "execution_count": null,
   "id": "60281081-ec01-40ca-bd62-cc0bd8444357",
   "metadata": {
    "pycharm": {
     "name": "#%%\n"
    }
   },
   "outputs": [],
   "source": [
    "reporting_types = [\"Naive\", \"AW & ST: Selfreport (w/ App)\", \"AW & ST: App\"]\n",
    "\n",
    "fig, axs = multi_paired_plot_auc(\n",
    "    data=cort_features_analysis, saliva_feature=\"auc_i\", reporting_types=reporting_types, figsize=(12, 5)\n",
    ")"
   ]
  },
  {
   "cell_type": "markdown",
   "id": "6c2ef6d4-b8c5-4a45-ad54-47423fd81807",
   "metadata": {
    "pycharm": {
     "name": "#%% md\n"
    }
   },
   "source": [
    "### Increase vs. S3 Time Delay"
   ]
  },
  {
   "cell_type": "markdown",
   "id": "76c9b3ed-be22-4b20-bfa0-c11e9bfc126d",
   "metadata": {
    "pycharm": {
     "name": "#%% md\n"
    }
   },
   "source": [
    "(Kudielka et al. 2003):  \n",
    "\"We found that the larger the time deviation for sample 3 (+30 min), the smaller the observed awakening cortisol increase. If subjects delay sample 3, they obviously miss the peak, and the resulting awakening increase turns out to be smaller.\""
   ]
  },
  {
   "cell_type": "markdown",
   "id": "da07e009-c5e5-4896-8d50-73107d3c1bf6",
   "metadata": {
    "pycharm": {
     "name": "#%% md\n"
    }
   },
   "source": [
    "#### Data Preparation"
   ]
  },
  {
   "cell_type": "markdown",
   "id": "9af6d5b6-55fe-4576-b454-a49a09a9322c",
   "metadata": {
    "pycharm": {
     "name": "#%% md\n"
    }
   },
   "source": [
    "Get time deviation for S3 (+30 min)"
   ]
  },
  {
   "cell_type": "code",
   "execution_count": null,
   "id": "6aa70e4f-10dd-489e-844f-41e54a011cc6",
   "metadata": {
    "pycharm": {
     "name": "#%%\n"
    }
   },
   "outputs": [],
   "source": [
    "s3_delay = cort_samples.xs(\"S3\", level=\"sample\")[[\"time_diff_to_naive_min\"]].dropna()\n",
    "\n",
    "# drop time deviation outlier, i.e., samples that are be closer to S3 or to S1 than S2 (|delay| >= 7.5 min)\n",
    "# drop_mask = s2_delay[\"time_diff_to_naive_min\"].abs() >= 7.5\n",
    "# drop_mask = drop_mask[drop_mask]\n",
    "# s2_delay = s2_delay.drop(drop_mask.index)\n",
    "s3_delay.columns = [\"s3_delay\"]\n",
    "\n",
    "s3_delay.head()"
   ]
  },
  {
   "cell_type": "markdown",
   "id": "5dcbbc4c-2377-4e66-9d8f-b2bc709c9631",
   "metadata": {
    "pycharm": {
     "name": "#%% md\n"
    }
   },
   "source": [
    "Get cortisol increase between S1 and S3"
   ]
  },
  {
   "cell_type": "code",
   "execution_count": null,
   "id": "d18414d8-1908-4e36-8e44-8e23bac61880",
   "metadata": {
    "pycharm": {
     "name": "#%%\n"
    }
   },
   "outputs": [],
   "source": [
    "cort_inc = cort_samples[[\"cortisol\"]]\n",
    "cort_inc = cort_inc.xs(\"S3\", level=-1) - cort_inc.xs(\"S1\", level=-1)\n",
    "cort_inc = cort_inc.join(s3_delay).dropna()\n",
    "cort_inc.head()"
   ]
  },
  {
   "cell_type": "markdown",
   "id": "8dfcf5b2-dd26-4a1f-97d3-2c26333e2a3b",
   "metadata": {
    "pycharm": {
     "name": "#%% md\n"
    }
   },
   "source": [
    "#### Linear Regression"
   ]
  },
  {
   "cell_type": "code",
   "execution_count": null,
   "id": "d48a1161-c4c3-4a97-8da3-0580a1a25781",
   "metadata": {
    "pycharm": {
     "name": "#%%\n"
    }
   },
   "outputs": [],
   "source": [
    "data_grp = cort_inc.groupby(\"reporting_type\")\n",
    "\n",
    "data_result = {}\n",
    "\n",
    "for reporting_type in [\"AW & ST: Selfreport (w/o App)\", \"AW & ST: App\", \"AW: Sensor, ST: App\"]:\n",
    "    data_reg = data_grp.get_group(reporting_type)\n",
    "    reg = pg.regression.linear_regression(\n",
    "        X=data_reg[\"s3_delay\"],\n",
    "        y=data_reg[\"cortisol\"],\n",
    "    )\n",
    "    data_result[reporting_type] = reg\n",
    "\n",
    "pd.concat(data_result)"
   ]
  },
  {
   "cell_type": "markdown",
   "id": "d0923a22-8ead-4ea3-83f2-f8a40073033b",
   "metadata": {
    "pycharm": {
     "name": "#%% md\n"
    }
   },
   "source": [
    "#### Regression Plot"
   ]
  },
  {
   "cell_type": "code",
   "execution_count": null,
   "id": "8c816c17-048b-4ca3-9552-1e3bf4572f96",
   "metadata": {
    "pycharm": {
     "name": "#%%\n"
    },
    "tags": []
   },
   "outputs": [],
   "source": [
    "fig, ax = plt.subplots()\n",
    "\n",
    "for reporting_type in [\"AW & ST: Selfreport (w/o App)\", \"AW & ST: App\", \"AW: Sensor, ST: App\"]:\n",
    "    sns.regplot(\n",
    "        data=cort_inc.xs(reporting_type, level=\"reporting_type\").reset_index(),\n",
    "        x=\"s3_delay\",\n",
    "        y=\"cortisol\",\n",
    "        ax=ax,\n",
    "        label=reporting_type,\n",
    "    )\n",
    "ax.legend()\n",
    "fig.tight_layout()"
   ]
  },
  {
   "cell_type": "markdown",
   "id": "8cbff57a-0c7e-4f88-b287-6075a0889180",
   "metadata": {},
   "source": [
    "## Export"
   ]
  },
  {
   "cell_type": "code",
   "execution_count": null,
   "id": "52043727-0bfb-4dab-b3a0-9d5fc042b3ca",
   "metadata": {},
   "outputs": [],
   "source": []
  }
 ],
 "metadata": {
  "interpreter": {
   "hash": "02aa1679edd4a06f5b85738ebdeaad54fd91805d6ba50c75947a30cd3f6e5db1"
  },
  "kernelspec": {
   "display_name": "carwatch-analysis",
   "language": "python",
   "name": "carwatch-analysis"
  },
  "language_info": {
   "codemirror_mode": {
    "name": "ipython",
    "version": 3
   },
   "file_extension": ".py",
   "mimetype": "text/x-python",
   "name": "python",
   "nbconvert_exporter": "python",
   "pygments_lexer": "ipython3",
   "version": "3.9.13"
  },
  "toc-showtags": false
 },
 "nbformat": 4,
 "nbformat_minor": 5
}
