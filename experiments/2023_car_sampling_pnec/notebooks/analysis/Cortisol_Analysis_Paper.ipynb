{
 "cells": [
  {
   "cell_type": "markdown",
   "id": "e4dd50d4-80c3-4ea6-b05d-48de1cbca2cd",
   "metadata": {
    "pycharm": {
     "name": "#%% md\n"
    }
   },
   "source": [
    "# Cortisol Analysis"
   ]
  },
  {
   "cell_type": "code",
   "execution_count": null,
   "id": "970e48bd-840f-403b-a173-08e0c5bf1fa7",
   "metadata": {
    "pycharm": {
     "name": "#%%\n"
    }
   },
   "outputs": [],
   "source": [
    "from pathlib import Path\n",
    "import json\n",
    "\n",
    "import pandas as pd\n",
    "import numpy as np\n",
    "import pingouin as pg\n",
    "\n",
    "import biopsykit as bp\n",
    "from biopsykit.stats import StatsPipeline\n",
    "from biopsykit.io import load_long_format_csv\n",
    "from biopsykit.utils.dataframe_handling import multi_xs\n",
    "\n",
    "from fau_colors import cmaps, register_fausans_font\n",
    "\n",
    "import matplotlib.pyplot as plt\n",
    "import seaborn as sns\n",
    "\n",
    "from carwatch_analysis.io import load_cortisol_samples_reporting_times\n",
    "from carwatch_analysis.utils import describe_groups_df\n",
    "from carwatch_analysis.stats import create_unique_night_id\n",
    "from carwatch_analysis.plotting import multi_paired_plot_auc, paired_plot_auc\n",
    "from carwatch_analysis.data_processing.saliva import compute_auc_increasing\n",
    "\n",
    "\n",
    "%matplotlib widget\n",
    "%load_ext autoreload\n",
    "%autoreload 2"
   ]
  },
  {
   "cell_type": "code",
   "execution_count": null,
   "id": "90952493-9446-4332-ad23-ae08ce78578e",
   "metadata": {
    "pycharm": {
     "name": "#%%\n"
    }
   },
   "outputs": [],
   "source": [
    "register_fausans_font()\n",
    "plt.close(\"all\")\n",
    "\n",
    "palette = sns.color_palette(cmaps.faculties)\n",
    "\n",
    "theme_kwargs = {\"context\": \"talk\", \"style\": \"ticks\", \"palette\": palette}\n",
    "theme_kwargs_grid = {\"context\": \"talk\", \"style\": \"ticks\", \"palette\": palette, \"font_scale\": 0.8}\n",
    "sns.set_theme(**theme_kwargs)\n",
    "\n",
    "plt.rcParams[\"figure.figsize\"] = (10, 5)\n",
    "plt.rcParams[\"pdf.fonttype\"] = 42\n",
    "plt.rcParams[\"mathtext.default\"] = \"regular\"\n",
    "plt.rcParams[\"font.family\"] = \"sans-serif\"\n",
    "plt.rcParams[\"font.sans-serif\"] = \"FAUSans Office\"\n",
    "\n",
    "export = True\n",
    "\n",
    "pg.options[\"round\"] = 4\n",
    "\n",
    "palette"
   ]
  },
  {
   "cell_type": "markdown",
   "id": "68e63bcf-1055-4d24-98db-0d08150f182c",
   "metadata": {
    "pycharm": {
     "name": "#%% md\n"
    }
   },
   "source": [
    "## Setup Paths"
   ]
  },
  {
   "cell_type": "code",
   "execution_count": null,
   "id": "484ad1f6-4b9c-4b82-9f82-16c1b1150ae4",
   "metadata": {
    "pycharm": {
     "name": "#%%\n"
    }
   },
   "outputs": [],
   "source": [
    "base_path = Path(\"../..\")\n",
    "export_path = base_path.joinpath(\"exports\")\n",
    "result_path = base_path.joinpath(\"results\")\n",
    "stats_path = result_path.joinpath(\"statistics\")\n",
    "\n",
    "img_path = result_path.joinpath(\"plots\")\n",
    "\n",
    "paper_path = Path(json.load(Path(\"../paper_path.json\").open(encoding=\"utf-8\"))[\"paper_path\"])\n",
    "paper_img_path = paper_path.joinpath(\"img\")\n",
    "\n",
    "bp.utils.file_handling.mkdirs([result_path, stats_path, img_path, paper_img_path])"
   ]
  },
  {
   "cell_type": "markdown",
   "id": "e1b387a5-a762-4215-8f70-a9322667bf4d",
   "metadata": {
    "pycharm": {
     "name": "#%% md\n"
    }
   },
   "source": [
    "## Load Data"
   ]
  },
  {
   "cell_type": "code",
   "execution_count": null,
   "id": "bc167475-6cb3-4118-b627-c6bc6117e7ca",
   "metadata": {
    "pycharm": {
     "name": "#%%\n"
    }
   },
   "outputs": [],
   "source": [
    "cort_features = load_long_format_csv(export_path.joinpath(\"cortisol_features_processed_all_reporting_types.csv\"))\n",
    "cort_features = create_unique_night_id(cort_features)\n",
    "cort_features.head()"
   ]
  },
  {
   "cell_type": "code",
   "execution_count": null,
   "id": "cc39c1ee-179e-45bf-a19f-f71a5545eff4",
   "metadata": {
    "pycharm": {
     "name": "#%%\n"
    }
   },
   "outputs": [],
   "source": [
    "# Don't consider IMU and IMU_App because the cortisol features are the same as\n",
    "# Selfreport and App since only the wake onset differs, but not the sampling times\n",
    "reporting_types_fine = [\n",
    "    \"Naive\",\n",
    "    \"AW & ST: Selfreport (without App)\",\n",
    "    \"AW & ST: Selfreport (with App)\",\n",
    "    \"AW & ST: App\",\n",
    "    \"AW: Sensor, ST: Selfreport (without App)\",\n",
    "    \"AW: Sensor, ST: Selfreport (with App)\",\n",
    "    \"AW: Sensor, ST: App\",\n",
    "]\n",
    "reporting_types_coarse = [\n",
    "    \"Naive\",\n",
    "    \"AW & ST: Selfreport\",\n",
    "    \"AW & ST: App\",\n",
    "    \"AW: Sensor, ST: Selfreport\",\n",
    "    \"AW: Sensor, ST: App\",\n",
    "]\n",
    "\n",
    "reporting_types_fine_rename = [s.replace(\"without\", \"w/o\").replace(\"with\", \"w/\") for s in reporting_types_fine]\n",
    "rename_mapper_reporting_types = dict(zip(reporting_types_fine, reporting_types_fine_rename))\n",
    "\n",
    "reporting_types_fine = reporting_types_fine_rename\n",
    "\n",
    "cort_features = cort_features.rename(rename_mapper_reporting_types, level=\"reporting_type\")"
   ]
  },
  {
   "cell_type": "code",
   "execution_count": null,
   "id": "2ee73627-f998-4b58-9589-ea98dc38d4c6",
   "metadata": {},
   "outputs": [],
   "source": [
    "dict_saliva_export = {}"
   ]
  },
  {
   "cell_type": "markdown",
   "id": "4fb23656-d517-4ca4-b014-7fea47ec59ac",
   "metadata": {},
   "source": [
    "## S1"
   ]
  },
  {
   "cell_type": "markdown",
   "id": "f6e5c331-e292-41b3-9c35-f06c8a12682d",
   "metadata": {
    "pycharm": {
     "name": "#%% md\n"
    }
   },
   "source": [
    "### Data Selection"
   ]
  },
  {
   "cell_type": "code",
   "execution_count": null,
   "id": "0eb18deb-009c-4871-99ee-7e0e96589b6c",
   "metadata": {
    "pycharm": {
     "name": "#%%\n"
    }
   },
   "outputs": [],
   "source": [
    "cort_features_analysis = cort_features.copy()\n",
    "cort_features_analysis = cort_features_analysis.xs(\"ini_val\", level=\"saliva_feature\", drop_level=False)\n",
    "cort_features_analysis = cort_features_analysis.reindex(reporting_types_fine, level=\"reporting_type\")\n",
    "cort_features_analysis.head()"
   ]
  },
  {
   "cell_type": "code",
   "execution_count": null,
   "id": "dd87ef7b-9833-45dc-a922-3b902673d638",
   "metadata": {},
   "outputs": [],
   "source": [
    "fig, ax = plt.subplots()\n",
    "\n",
    "sns.boxplot(\n",
    "    data=cort_features_analysis.reset_index(), x=\"reporting_type\", y=\"cortisol\", palette=cmaps.faculties_light, ax=ax\n",
    ")\n",
    "fig.tight_layout()"
   ]
  },
  {
   "cell_type": "markdown",
   "id": "1e25c1af",
   "metadata": {
    "pycharm": {
     "name": "#%% md\n"
    },
    "tags": []
   },
   "source": [
    "## $AUC_I$"
   ]
  },
  {
   "cell_type": "markdown",
   "id": "be8be710-37f1-4800-b2dd-047d1ffa4721",
   "metadata": {
    "pycharm": {
     "name": "#%% md\n"
    }
   },
   "source": [
    "### Data Selection"
   ]
  },
  {
   "cell_type": "code",
   "execution_count": null,
   "id": "eec74f2a-bc8c-4420-b3bc-e67bf47a65be",
   "metadata": {
    "pycharm": {
     "name": "#%%\n"
    }
   },
   "outputs": [],
   "source": [
    "cort_features_analysis = cort_features.copy()\n",
    "cort_features_analysis = cort_features_analysis.xs(\"auc_i\", level=\"saliva_feature\", drop_level=False)\n",
    "cort_features_analysis = cort_features_analysis.reindex(reporting_types_fine, level=\"reporting_type\")\n",
    "cort_features_analysis.head()"
   ]
  },
  {
   "cell_type": "markdown",
   "id": "6a3a751e-5cb7-420f-9788-e6c9960b2a41",
   "metadata": {},
   "source": [
    "### Stats"
   ]
  },
  {
   "cell_type": "code",
   "execution_count": null,
   "id": "a86daebe-6dc5-41d3-a46e-05a8a0d5633d",
   "metadata": {
    "pycharm": {
     "name": "#%%\n"
    }
   },
   "outputs": [],
   "source": [
    "reporting_types = [\"Naive\", \"AW & ST: Selfreport (w/ App)\", \"AW & ST: App\"]\n",
    "\n",
    "data_analysis = cort_features_analysis.reindex(reporting_types, level=\"reporting_type\")\n",
    "\n",
    "pipeline = StatsPipeline(\n",
    "    steps=[(\"prep\", \"normality\"), (\"prep\", \"equal_var\"), (\"test\", \"rm_anova\"), (\"posthoc\", \"pairwise_tests\")],\n",
    "    params={\n",
    "        \"dv\": \"cortisol\",\n",
    "        \"within\": \"reporting_type\",\n",
    "        \"subject\": \"night_id\",\n",
    "        \"multicomp\": {\"method\": \"bonf\", \"levels\": False},\n",
    "    },\n",
    ")\n",
    "\n",
    "pipeline.apply(data_analysis)\n",
    "pipeline.export_statistics(stats_path.joinpath(\"stats_auci_reporting_type.xlsx\"))\n",
    "pipeline.display_results()"
   ]
  },
  {
   "cell_type": "markdown",
   "id": "950c2794-fee7-442f-a503-90a0b1ca9f07",
   "metadata": {},
   "source": [
    "### Boxplots"
   ]
  },
  {
   "cell_type": "code",
   "execution_count": null,
   "id": "876272ff-3d8f-44d8-b69e-5e6ab2b1e095",
   "metadata": {
    "pycharm": {
     "name": "#%%\n"
    },
    "tags": []
   },
   "outputs": [],
   "source": [
    "box_pairs, pvalues = pipeline.sig_brackets(\"posthoc\", stats_effect_type=\"within\", plot_type=\"single\")\n",
    "\n",
    "fig, ax = plt.subplots(figsize=(10, 5))\n",
    "\n",
    "bp.protocols.plotting.saliva_feature_boxplot(\n",
    "    data=data_analysis,\n",
    "    x=\"reporting_type\",\n",
    "    saliva_type=\"cortisol\",\n",
    "    feature=\"auc_i\",\n",
    "    order=reporting_types,\n",
    "    stats_kwargs={\"box_pairs\": box_pairs, \"pvalues\": pvalues, \"verbose\": 0},\n",
    "    palette=cmaps.faculties_light,\n",
    "    ax=ax,\n",
    ")\n",
    "ax.set_title(\"$AUC_I$\", pad=12)\n",
    "ax.set_xlabel(\"Log Type\")\n",
    "ax.set_ylim(ax.get_ylim()[0], ax.get_ylim()[1] * 1.05)\n",
    "\n",
    "fig.tight_layout()\n",
    "\n",
    "for path in [img_path]:\n",
    "    bp.utils.file_handling.export_figure(fig, \"img_boxplot_auci\", path, [\"pdf\", \"png\"], dpi=300)"
   ]
  },
  {
   "cell_type": "markdown",
   "id": "5277f582-7422-4ad6-a4af-2fafab59a047",
   "metadata": {
    "pycharm": {
     "name": "#%% md\n"
    }
   },
   "source": [
    "### Paired Plots"
   ]
  },
  {
   "cell_type": "code",
   "execution_count": null,
   "id": "4f83c56d-36b5-43a2-af06-3d99b66d788f",
   "metadata": {},
   "outputs": [],
   "source": [
    "data_increase = compute_auc_increasing(cort_features_analysis.reindex(reporting_types, level=\"reporting_type\"), \"auc_i\")\n",
    "dict_saliva_export[\"AUC_I_reporting_Type_Increase\"] = data_increase\n",
    "data_increase"
   ]
  },
  {
   "cell_type": "code",
   "execution_count": null,
   "id": "30470b25-7173-45b4-9956-7d8cfd835fd8",
   "metadata": {
    "collapsed": false,
    "jupyter": {
     "outputs_hidden": false
    },
    "pycharm": {
     "name": "#%%\n"
    }
   },
   "outputs": [],
   "source": [
    "fig, ax = paired_plot_auc(\n",
    "    data=cort_features_analysis, saliva_feature=\"auc_i\", reporting_types=reporting_types, figsize=(6, 5)\n",
    ")"
   ]
  },
  {
   "cell_type": "code",
   "execution_count": null,
   "id": "0103bf6f-c3f0-45ee-ac12-2d2aa5df2dac",
   "metadata": {},
   "outputs": [],
   "source": [
    "reporting_types = [\"Naive\", \"AW & ST: Selfreport (w/ App)\", \"AW & ST: App\"]\n",
    "\n",
    "fig, axs = multi_paired_plot_auc(\n",
    "    data=cort_features_analysis, saliva_feature=\"auc_i\", reporting_types=reporting_types, figsize=(12, 5)\n",
    ")\n",
    "\n",
    "for path in [img_path, paper_img_path]:\n",
    "    bp.utils.file_handling.export_figure(fig, \"img_pairedplot_auci\", path, [\"pdf\", \"png\"], dpi=300)"
   ]
  },
  {
   "cell_type": "markdown",
   "id": "9fe8eeb6-d1a8-49b4-9054-f46e9ef7aceb",
   "metadata": {},
   "source": [
    "## S1 and $AUC_I$ in Table"
   ]
  },
  {
   "cell_type": "code",
   "execution_count": null,
   "id": "e249e702-4d49-4326-9968-0135dbc012d7",
   "metadata": {},
   "outputs": [],
   "source": [
    "saliva_features = [\"ini_val\", \"auc_i\"]\n",
    "\n",
    "s1_auc_result = cort_features.reindex(saliva_features, level=\"saliva_feature\")\n",
    "s1_auc_result = s1_auc_result.groupby([\"reporting_type\", \"saliva_feature\"]).agg([\"mean\", \"std\"])\n",
    "s1_auc_result = s1_auc_result[\"cortisol\"].unstack(\"saliva_feature\")\n",
    "s1_auc_result = s1_auc_result.swaplevel(0, 1, axis=1).sort_index(axis=1)\n",
    "s1_auc_result = s1_auc_result.reindex(reporting_types_fine, level=\"reporting_type\")\n",
    "s1_auc_result = s1_auc_result.reindex(saliva_features, level=\"saliva_feature\", axis=1)\n",
    "s1_auc_result.round(2)"
   ]
  },
  {
   "cell_type": "markdown",
   "id": "8cbff57a-0c7e-4f88-b287-6075a0889180",
   "metadata": {},
   "source": [
    "## Export"
   ]
  },
  {
   "cell_type": "code",
   "execution_count": null,
   "id": "c2e7b21b-72c5-435e-861c-c99635446d04",
   "metadata": {
    "pycharm": {
     "name": "#%%\n"
    }
   },
   "outputs": [],
   "source": [
    "bp.io.write_pandas_dict_excel(dict_saliva_export, result_path.joinpath(\"saliva_results.xlsx\"))"
   ]
  },
  {
   "cell_type": "code",
   "execution_count": null,
   "id": "52043727-0bfb-4dab-b3a0-9d5fc042b3ca",
   "metadata": {},
   "outputs": [],
   "source": []
  }
 ],
 "metadata": {
  "interpreter": {
   "hash": "02aa1679edd4a06f5b85738ebdeaad54fd91805d6ba50c75947a30cd3f6e5db1"
  },
  "kernelspec": {
   "display_name": "carwatch-analysis",
   "language": "python",
   "name": "carwatch-analysis"
  },
  "language_info": {
   "codemirror_mode": {
    "name": "ipython",
    "version": 3
   },
   "file_extension": ".py",
   "mimetype": "text/x-python",
   "name": "python",
   "nbconvert_exporter": "python",
   "pygments_lexer": "ipython3",
   "version": "3.9.13"
  },
  "toc-showtags": false
 },
 "nbformat": 4,
 "nbformat_minor": 5
}
