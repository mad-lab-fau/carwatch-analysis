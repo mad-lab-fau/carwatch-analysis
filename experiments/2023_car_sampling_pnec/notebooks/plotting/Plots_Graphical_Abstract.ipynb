{
 "cells": [
  {
   "cell_type": "markdown",
   "id": "e4dd50d4-80c3-4ea6-b05d-48de1cbca2cd",
   "metadata": {
    "pycharm": {
     "name": "#%% md\n"
    }
   },
   "source": [
    "# Cortisol Plots"
   ]
  },
  {
   "cell_type": "code",
   "execution_count": null,
   "id": "970e48bd-840f-403b-a173-08e0c5bf1fa7",
   "metadata": {
    "pycharm": {
     "name": "#%%\n"
    }
   },
   "outputs": [],
   "source": [
    "from pathlib import Path\n",
    "import json\n",
    "\n",
    "import pandas as pd\n",
    "import numpy as np\n",
    "import pingouin as pg\n",
    "\n",
    "import biopsykit as bp\n",
    "from biopsykit.stats import StatsPipeline\n",
    "from biopsykit.io import load_long_format_csv\n",
    "from biopsykit.utils.dataframe_handling import multi_xs\n",
    "\n",
    "from fau_colors import cmaps, register_fausans_font\n",
    "\n",
    "import matplotlib.pyplot as plt\n",
    "import seaborn as sns\n",
    "\n",
    "from carwatch_analysis.io import load_cortisol_samples_reporting_times\n",
    "from carwatch_analysis.utils import describe_groups_df\n",
    "from carwatch_analysis.stats import create_unique_night_id\n",
    "from carwatch_analysis.data_processing.unit_digits import compute_time_unit_digits\n",
    "from carwatch_analysis.plotting import multi_paired_plot_auc, paired_plot_auc, time_unit_digits_histogram\n",
    "\n",
    "\n",
    "%matplotlib widget\n",
    "%load_ext autoreload\n",
    "%autoreload 2"
   ]
  },
  {
   "cell_type": "code",
   "execution_count": null,
   "id": "90952493-9446-4332-ad23-ae08ce78578e",
   "metadata": {
    "pycharm": {
     "name": "#%%\n"
    }
   },
   "outputs": [],
   "source": [
    "register_fausans_font()\n",
    "plt.close(\"all\")\n",
    "\n",
    "palette = sns.color_palette(cmaps.faculties)\n",
    "\n",
    "theme_kwargs = {\"context\": \"talk\", \"style\": \"ticks\", \"palette\": palette, \"font_scale\": 1.25}\n",
    "sns.set_theme(**theme_kwargs)\n",
    "\n",
    "plt.rcParams[\"figure.figsize\"] = (10, 5)\n",
    "plt.rcParams[\"pdf.fonttype\"] = 42\n",
    "plt.rcParams[\"mathtext.default\"] = \"regular\"\n",
    "plt.rcParams[\"font.family\"] = \"sans-serif\"\n",
    "plt.rcParams[\"font.sans-serif\"] = \"FAUSans Office\"\n",
    "\n",
    "pg.options[\"round\"] = 4\n",
    "\n",
    "palette"
   ]
  },
  {
   "cell_type": "markdown",
   "id": "68e63bcf-1055-4d24-98db-0d08150f182c",
   "metadata": {
    "pycharm": {
     "name": "#%% md\n"
    }
   },
   "source": [
    "## Setup Paths"
   ]
  },
  {
   "cell_type": "code",
   "execution_count": null,
   "id": "484ad1f6-4b9c-4b82-9f82-16c1b1150ae4",
   "metadata": {
    "pycharm": {
     "name": "#%%\n"
    }
   },
   "outputs": [],
   "source": [
    "base_path = Path(\"../..\")\n",
    "export_path = base_path.joinpath(\"exports\")\n",
    "result_path = base_path.joinpath(\"results\")\n",
    "stats_path = result_path.joinpath(\"statistics\")\n",
    "\n",
    "img_path = result_path.joinpath(\"plots/graphical_abstract\")\n",
    "\n",
    "paper_path = Path(json.load(Path(\"../paper_path.json\").open(encoding=\"utf-8\"))[\"paper_path\"])\n",
    "paper_img_path = paper_path.joinpath(\"img/graphical_abstract\")\n",
    "\n",
    "bp.utils.file_handling.mkdirs([result_path, stats_path, img_path, paper_img_path])"
   ]
  },
  {
   "cell_type": "code",
   "execution_count": null,
   "id": "45c54643-590c-4bcc-ad58-488df90816f9",
   "metadata": {},
   "outputs": [],
   "source": [
    "reporting_types = [\"AW & ST: Selfreport\", \"AW & ST: App\"]\n",
    "reporting_types_new = [\"Selfreport\", \"App\"]"
   ]
  },
  {
   "cell_type": "markdown",
   "id": "d074cedf-2aa9-4830-ac24-a1aecfe2d4ac",
   "metadata": {
    "pycharm": {
     "name": "#%% md\n"
    }
   },
   "source": [
    "## Cortisol Features"
   ]
  },
  {
   "cell_type": "markdown",
   "id": "e1b387a5-a762-4215-8f70-a9322667bf4d",
   "metadata": {
    "pycharm": {
     "name": "#%% md\n"
    }
   },
   "source": [
    "### Load Data"
   ]
  },
  {
   "cell_type": "code",
   "execution_count": null,
   "id": "bc167475-6cb3-4118-b627-c6bc6117e7ca",
   "metadata": {
    "pycharm": {
     "name": "#%%\n"
    }
   },
   "outputs": [],
   "source": [
    "cort_features = load_long_format_csv(export_path.joinpath(\"cortisol_features_processed_all_reporting_types.csv\"))\n",
    "cort_features = create_unique_night_id(cort_features)\n",
    "cort_features.head()"
   ]
  },
  {
   "cell_type": "markdown",
   "id": "be8be710-37f1-4800-b2dd-047d1ffa4721",
   "metadata": {
    "pycharm": {
     "name": "#%% md\n"
    }
   },
   "source": [
    "### Data Selection"
   ]
  },
  {
   "cell_type": "code",
   "execution_count": null,
   "id": "eec74f2a-bc8c-4420-b3bc-e67bf47a65be",
   "metadata": {
    "pycharm": {
     "name": "#%%\n"
    }
   },
   "outputs": [],
   "source": [
    "cort_features_analysis = cort_features.copy()\n",
    "cort_features_analysis = cort_features_analysis.reindex(reporting_types, level=\"reporting_type\")\n",
    "cort_features_analysis = cort_features_analysis.rename(lambda x: x.split(\" \")[-1], level=\"reporting_type\")\n",
    "cort_features_analysis = cort_features_analysis.xs(\"auc_i\", level=\"saliva_feature\", drop_level=False)\n",
    "cort_features_analysis.head()"
   ]
  },
  {
   "cell_type": "markdown",
   "id": "5277f582-7422-4ad6-a4af-2fafab59a047",
   "metadata": {
    "pycharm": {
     "name": "#%% md\n"
    }
   },
   "source": [
    "### Plots"
   ]
  },
  {
   "cell_type": "markdown",
   "id": "4bff72e5-144f-484e-afed-968a9321c5b5",
   "metadata": {
    "pycharm": {
     "name": "#%% md\n"
    }
   },
   "source": [
    "#### $AUC_I$"
   ]
  },
  {
   "cell_type": "code",
   "execution_count": null,
   "id": "60281081-ec01-40ca-bd62-cc0bd8444357",
   "metadata": {
    "pycharm": {
     "name": "#%%\n"
    }
   },
   "outputs": [],
   "source": [
    "reporting_types = [\"Selfreport\", \"App\"]\n",
    "\n",
    "fig, ax = paired_plot_auc(\n",
    "    data=cort_features_analysis, saliva_feature=\"auc_i\", reporting_types=reporting_types, figsize=(6, 4)\n",
    ")\n",
    "\n",
    "ax.set_ylabel(None)\n",
    "fig.suptitle(None)\n",
    "ax.set_title(\"$AUC_I$\")\n",
    "fig.tight_layout(pad=0)\n",
    "\n",
    "for path in [img_path, paper_img_path]:\n",
    "    bp.utils.file_handling.export_figure(fig, \"img_pairedplot_auci_abstract\", path, [\"pdf\", \"png\"], dpi=300)"
   ]
  },
  {
   "cell_type": "markdown",
   "id": "45df6e4a-7941-45a2-8dbd-89125e1cc631",
   "metadata": {},
   "source": [
    "## Time Unit Information"
   ]
  },
  {
   "cell_type": "markdown",
   "id": "4be79f6a-25fc-4b52-9f19-b708a6b79b1a",
   "metadata": {},
   "source": [
    "### Load Data"
   ]
  },
  {
   "cell_type": "code",
   "execution_count": null,
   "id": "842075a7-fbff-4b0f-aaaa-438146cb83ea",
   "metadata": {
    "pycharm": {
     "name": "#%%\n"
    }
   },
   "outputs": [],
   "source": [
    "cort_path = export_path.joinpath(\"cortisol_samples_processed_all_reporting_types.csv\")\n",
    "cort_samples = load_cortisol_samples_reporting_times(cort_path)\n",
    "# rename condition\n",
    "cort_samples.head()"
   ]
  },
  {
   "cell_type": "markdown",
   "id": "3ca51d50-57ff-4ffa-8f8e-035724e10126",
   "metadata": {
    "pycharm": {
     "name": "#%% md\n"
    }
   },
   "source": [
    "### Data Preparation"
   ]
  },
  {
   "cell_type": "code",
   "execution_count": null,
   "id": "0c6bfec6-48b3-4249-8704-a1fc18c886be",
   "metadata": {},
   "outputs": [],
   "source": [
    "time_unit_digits = compute_time_unit_digits(cort_samples)\n",
    "\n",
    "time_unit_digits = time_unit_digits.reindex(reporting_types, level=\"reporting_type\")\n",
    "time_unit_digits = time_unit_digits.rename(lambda x: x.split(\" \")[-1], level=\"reporting_type\")\n",
    "time_unit_digits.head()"
   ]
  },
  {
   "cell_type": "markdown",
   "id": "b542b551-4fe4-4f0b-a88c-ee62088ad177",
   "metadata": {},
   "source": [
    "### Histogram Plot"
   ]
  },
  {
   "cell_type": "code",
   "execution_count": null,
   "id": "e4b89479-631f-4959-a9dc-fadd089615c0",
   "metadata": {},
   "outputs": [],
   "source": [
    "paper_img_path.resolve()"
   ]
  },
  {
   "cell_type": "code",
   "execution_count": null,
   "id": "d2c08808-1276-4549-9551-f1237b62d93a",
   "metadata": {
    "pycharm": {
     "name": "#%%\n"
    }
   },
   "outputs": [],
   "source": [
    "ylim = [0, 35]\n",
    "\n",
    "fig, axs = time_unit_digits_histogram(\n",
    "    data=time_unit_digits,\n",
    "    x=\"sample_minute\",\n",
    "    reporting_type_order=reporting_types_new,\n",
    "    suptitle=\"Sampling Times\",\n",
    "    ylim=ylim,\n",
    "    figsize=(8, 4),\n",
    "    column_title=False\n",
    ")\n",
    "\n",
    "\n",
    "for path in [img_path, paper_img_path]:\n",
    "    bp.utils.file_handling.export_figure(fig, \"img_unit_digits_sampling_time_graphical_Abstract\", path, [\"pdf\", \"png\"], dpi=300)"
   ]
  },
  {
   "cell_type": "code",
   "execution_count": null,
   "id": "c71ddc52-2abc-49c5-b9fe-31b2b31c7363",
   "metadata": {},
   "outputs": [],
   "source": []
  }
 ],
 "metadata": {
  "interpreter": {
   "hash": "02aa1679edd4a06f5b85738ebdeaad54fd91805d6ba50c75947a30cd3f6e5db1"
  },
  "kernelspec": {
   "display_name": "carwatch-analysis",
   "language": "python",
   "name": "carwatch-analysis"
  },
  "language_info": {
   "codemirror_mode": {
    "name": "ipython",
    "version": 3
   },
   "file_extension": ".py",
   "mimetype": "text/x-python",
   "name": "python",
   "nbconvert_exporter": "python",
   "pygments_lexer": "ipython3",
   "version": "3.9.13"
  },
  "toc-showtags": false
 },
 "nbformat": 4,
 "nbformat_minor": 5
}
