{
 "cells": [
  {
   "cell_type": "markdown",
   "id": "e4dd50d4-80c3-4ea6-b05d-48de1cbca2cd",
   "metadata": {
    "pycharm": {
     "name": "#%% md\n"
    }
   },
   "source": [
    "# Time Unit Digits Plots"
   ]
  },
  {
   "cell_type": "code",
   "execution_count": null,
   "id": "970e48bd-840f-403b-a173-08e0c5bf1fa7",
   "metadata": {
    "pycharm": {
     "name": "#%%\n"
    }
   },
   "outputs": [],
   "source": [
    "from pathlib import Path\n",
    "import json\n",
    "\n",
    "import pandas as pd\n",
    "import numpy as np\n",
    "import scipy.stats as stats\n",
    "import pingouin as pg\n",
    "\n",
    "import biopsykit as bp\n",
    "from biopsykit.stats import StatsPipeline\n",
    "from biopsykit.io import load_long_format_csv\n",
    "from biopsykit.utils.dataframe_handling import multi_xs\n",
    "\n",
    "from fau_colors import cmaps\n",
    "\n",
    "import matplotlib.pyplot as plt\n",
    "import seaborn as sns\n",
    "\n",
    "from carwatch_analysis.io import load_cortisol_samples_reporting_times\n",
    "from carwatch_analysis.datasets import CarWatchDatasetProcessed\n",
    "from carwatch_analysis.plotting import time_unit_digits_histogram, time_unit_digits_histogram_grid\n",
    "\n",
    "%matplotlib widget\n",
    "%load_ext autoreload\n",
    "%autoreload 2"
   ]
  },
  {
   "cell_type": "code",
   "execution_count": null,
   "id": "90952493-9446-4332-ad23-ae08ce78578e",
   "metadata": {
    "pycharm": {
     "name": "#%%\n"
    }
   },
   "outputs": [],
   "source": [
    "plt.close(\"all\")\n",
    "\n",
    "palette = sns.color_palette(cmaps.faculties)\n",
    "\n",
    "theme_kwargs_grid = {\"context\": \"talk\", \"style\": \"ticks\", \"palette\": palette, \"font_scale\": 1.0}\n",
    "sns.set_theme(**theme_kwargs_grid)\n",
    "\n",
    "plt.rcParams[\"figure.figsize\"] = (10, 5)\n",
    "plt.rcParams[\"pdf.fonttype\"] = 42\n",
    "plt.rcParams[\"mathtext.default\"] = \"regular\"\n",
    "\n",
    "export = True\n",
    "\n",
    "pg.options[\"round\"] = 4\n",
    "\n",
    "palette"
   ]
  },
  {
   "cell_type": "markdown",
   "id": "68e63bcf-1055-4d24-98db-0d08150f182c",
   "metadata": {
    "pycharm": {
     "name": "#%% md\n"
    }
   },
   "source": [
    "## Setup Paths"
   ]
  },
  {
   "cell_type": "code",
   "execution_count": null,
   "id": "90644977-5c60-416f-8eb3-226a52da424e",
   "metadata": {
    "pycharm": {
     "name": "#%%\n"
    }
   },
   "outputs": [],
   "source": [
    "deploy_type = \"develop\""
   ]
  },
  {
   "cell_type": "code",
   "execution_count": null,
   "id": "5318e65d-548d-419f-9ba1-c36eae31abd4",
   "metadata": {
    "pycharm": {
     "name": "#%%\n"
    }
   },
   "outputs": [],
   "source": [
    "# build path to data folder\n",
    "config_dict = json.load(Path(\"../../../config.json\").open(encoding=\"utf-8\"))\n",
    "data_path = Path(\"..\").joinpath(config_dict[deploy_type][\"base_path\"])\n",
    "data_path"
   ]
  },
  {
   "cell_type": "code",
   "execution_count": null,
   "id": "3ec26bb8-f0d0-452b-850a-c105948f9fe5",
   "metadata": {
    "pycharm": {
     "name": "#%%\n"
    }
   },
   "outputs": [],
   "source": [
    "dataset = CarWatchDatasetProcessed(data_path)\n",
    "dataset"
   ]
  },
  {
   "cell_type": "code",
   "execution_count": null,
   "id": "484ad1f6-4b9c-4b82-9f82-16c1b1150ae4",
   "metadata": {
    "pycharm": {
     "name": "#%%\n"
    }
   },
   "outputs": [],
   "source": [
    "base_path = Path(\"../..\")\n",
    "export_path = base_path.joinpath(\"exports\")\n",
    "result_path = base_path.joinpath(\"results\")\n",
    "stats_path = result_path.joinpath(\"statistics\")\n",
    "\n",
    "img_path = result_path.joinpath(\"plots/graphical_abstract\")\n",
    "\n",
    "paper_path = Path(json.load(Path(\"../paper_path.json\").open(encoding=\"utf-8\"))[\"paper_path\"])\n",
    "paper_img_path = paper_path.joinpath(\"img/graphical_abstract\")\n",
    "\n",
    "bp.utils.file_handling.mkdirs([result_path, stats_path, img_path, paper_img_path])"
   ]
  },
  {
   "cell_type": "markdown",
   "id": "e1b387a5-a762-4215-8f70-a9322667bf4d",
   "metadata": {
    "pycharm": {
     "name": "#%% md\n"
    }
   },
   "source": [
    "## Load Data"
   ]
  },
  {
   "cell_type": "markdown",
   "id": "f9e26413-c3ee-4efa-bf14-61f5d00a2147",
   "metadata": {
    "pycharm": {
     "name": "#%% md\n"
    }
   },
   "source": [
    "### Cortisol Samples"
   ]
  },
  {
   "cell_type": "code",
   "execution_count": null,
   "id": "6cf521c3-e7b8-4a3b-9227-9425c9071050",
   "metadata": {
    "pycharm": {
     "name": "#%%\n"
    }
   },
   "outputs": [],
   "source": [
    "cort_path = export_path.joinpath(\"cortisol_samples_processed_all_reporting_types.csv\")\n",
    "cort_samples = load_cortisol_samples_reporting_times(cort_path)\n",
    "# rename condition for\n",
    "cort_samples = cort_samples.rename({\"Spontaneous\": \"Spontaneous Awakening\"}, level=\"condition\")\n",
    "cort_samples.head()"
   ]
  },
  {
   "cell_type": "code",
   "execution_count": null,
   "id": "cc39c1ee-179e-45bf-a19f-f71a5545eff4",
   "metadata": {
    "pycharm": {
     "name": "#%%\n"
    }
   },
   "outputs": [],
   "source": [
    "conditions = [\"Spontaneous Awakening\", \"Known Alarm\", \"Unknown Alarm\"]\n",
    "reporting_types_fine = [\n",
    "    \"Naive\",\n",
    "    \"Selfreport without App\",\n",
    "    \"Selfreport with App\",\n",
    "    \"App\",\n",
    "    \"Sensor + Selfreport without App\",\n",
    "    \"Sensor + Selfreport with App\",\n",
    "    \"Sensor + App\",\n",
    "]\n",
    "reporting_types_coarse = [\"Naive\", \"Selfreport\", \"App\", \"Sensor + Selfreport\", \"Sensor + App\"]"
   ]
  },
  {
   "cell_type": "code",
   "execution_count": null,
   "id": "8f6d4f18-224b-4998-acfe-ad8904213e64",
   "metadata": {
    "pycharm": {
     "name": "#%%\n"
    }
   },
   "outputs": [],
   "source": [
    "dict_unit_digits = {}"
   ]
  },
  {
   "cell_type": "markdown",
   "id": "cbf777ad-70bf-4743-aada-ded0abf72529",
   "metadata": {
    "pycharm": {
     "name": "#%% md\n"
    }
   },
   "source": [
    "## Awakening and Sampling Time Unit Digits"
   ]
  },
  {
   "cell_type": "code",
   "execution_count": null,
   "id": "f4c79cc3-6d00-492c-9c71-907bb0c51796",
   "metadata": {
    "pycharm": {
     "name": "#%%\n"
    }
   },
   "outputs": [],
   "source": [
    "reporting_type_order = [\"Selfreport\", \"App\"]\n",
    "condition_order = [\"Known Alarm\", \"Spontaneous Awakening\", \"Unknown Alarm\"]"
   ]
  },
  {
   "cell_type": "markdown",
   "id": "fe3920ac-4c62-41b4-bb6a-0dd6d9423c70",
   "metadata": {
    "pycharm": {
     "name": "#%% md\n"
    }
   },
   "source": [
    "### Data Preparation"
   ]
  },
  {
   "cell_type": "code",
   "execution_count": null,
   "id": "86b5ec05-5a35-4176-9fe3-9618940c0001",
   "metadata": {
    "pycharm": {
     "name": "#%%\n"
    }
   },
   "outputs": [],
   "source": [
    "cort_samples = cort_samples.assign(\n",
    "    **{\n",
    "        \"sample_minute\": cort_samples[\"sample_time\"].dt.components[\"minutes\"] % 10,\n",
    "        \"wake_onset_minute\": cort_samples[\"wake_onset\"].dt.components[\"minutes\"] % 10,\n",
    "    }\n",
    ")\n",
    "\n",
    "cort_samples.head()"
   ]
  },
  {
   "cell_type": "markdown",
   "id": "5b20a6b1-2715-4de7-81b4-c8a3284c77bb",
   "metadata": {
    "pycharm": {
     "name": "#%% md\n"
    }
   },
   "source": [
    "## Plots"
   ]
  },
  {
   "cell_type": "markdown",
   "id": "7377baa5-39f8-40e1-94eb-5c538b42d077",
   "metadata": {},
   "source": [
    "### Awakening Times"
   ]
  },
  {
   "cell_type": "code",
   "execution_count": null,
   "id": "0428a172-1e09-435c-9c3e-8884b99cf86a",
   "metadata": {
    "pycharm": {
     "name": "#%%\n"
    }
   },
   "outputs": [],
   "source": [
    "data_analysis = cort_samples.reindex(reporting_type_order, level=\"reporting_type\")\n",
    "x = \"wake_onset_minute\"\n",
    "ylim = [0, 65]\n",
    "\n",
    "fig, axs = time_unit_digits_histogram_grid(\n",
    "    data=data_analysis,\n",
    "    x=x,\n",
    "    condition_order=condition_order,\n",
    "    reporting_type_order=reporting_type_order,\n",
    "    suptitle=\"Awakening Times\",\n",
    "    ylim=ylim,\n",
    "    figsize=(8, 9),\n",
    ")\n",
    "\n",
    "for path in [img_path, paper_img_path]:\n",
    "    bp.utils.file_handling.export_figure(fig, \"img_unit_digits_awakening_time\", path, [\"pdf\", \"png\"], dpi=300)"
   ]
  },
  {
   "cell_type": "markdown",
   "id": "16100b13-c61c-4df2-b4a2-58611a1d795a",
   "metadata": {
    "pycharm": {
     "name": "#%% md\n"
    },
    "tags": []
   },
   "source": [
    "### Sampling Times"
   ]
  },
  {
   "cell_type": "code",
   "execution_count": null,
   "id": "e33da250-015b-424a-b6a6-3bfbfa04117a",
   "metadata": {
    "pycharm": {
     "name": "#%%\n"
    }
   },
   "outputs": [],
   "source": [
    "ylim = [0, 35]\n",
    "data_analysis = cort_samples.reindex(reporting_type_order, level=\"reporting_type\")\n",
    "\n",
    "fig, axs = time_unit_digits_histogram(\n",
    "    data=data_analysis,\n",
    "    x=\"sample_minute\",\n",
    "    reporting_type_order=reporting_type_order,\n",
    "    suptitle=\"Sampling Times\",\n",
    "    ylim=ylim,\n",
    "    figsize=(8, 3),\n",
    ")\n",
    "\n",
    "\n",
    "for path in [img_path, paper_img_path]:\n",
    "    bp.utils.file_handling.export_figure(fig, \"img_unit_digits_sampling_time_combined\", path, [\"pdf\", \"png\"])"
   ]
  },
  {
   "cell_type": "markdown",
   "id": "4d1431b5-64e0-40d8-9690-e473fabc6166",
   "metadata": {
    "pycharm": {
     "name": "#%% md\n"
    }
   },
   "source": [
    "## Export"
   ]
  },
  {
   "cell_type": "code",
   "execution_count": null,
   "id": "1f938c92-0541-494f-9cf5-3093ad8e917e",
   "metadata": {
    "pycharm": {
     "name": "#%%\n"
    }
   },
   "outputs": [],
   "source": [
    "bp.io.write_pandas_dict_excel(dict_unit_digits, result_path.joinpath(\"time_unit_digits_results.xlsx\"))"
   ]
  },
  {
   "cell_type": "code",
   "execution_count": null,
   "id": "60fa5679-c2e6-4da6-be9a-03bfc74c5722",
   "metadata": {
    "pycharm": {
     "name": "#%%\n"
    }
   },
   "outputs": [],
   "source": []
  }
 ],
 "metadata": {
  "interpreter": {
   "hash": "02aa1679edd4a06f5b85738ebdeaad54fd91805d6ba50c75947a30cd3f6e5db1"
  },
  "kernelspec": {
   "display_name": "carwatch-analysis",
   "language": "python",
   "name": "carwatch-analysis"
  },
  "language_info": {
   "codemirror_mode": {
    "name": "ipython",
    "version": 3
   },
   "file_extension": ".py",
   "mimetype": "text/x-python",
   "name": "python",
   "nbconvert_exporter": "python",
   "pygments_lexer": "ipython3",
   "version": "3.8.3"
  }
 },
 "nbformat": 4,
 "nbformat_minor": 5
}
