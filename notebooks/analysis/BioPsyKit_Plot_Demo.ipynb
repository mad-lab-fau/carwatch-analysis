{
 "cells": [
  {
   "cell_type": "markdown",
   "metadata": {},
   "source": [
    "Demo for the new plotting functions of `BioPsyKit`: `bp.plotting.feature_boxplot()` and `bp.plotting.multi_feature_boxplot()` and the derived functions: `bp.protocols.plotting.saliva_feature_boxplot()` and `bp.protocols.plotting.saliva_multi_feature_boxplot()`."
   ]
  },
  {
   "cell_type": "code",
   "execution_count": null,
   "metadata": {},
   "outputs": [],
   "source": [
    "from pathlib import Path\n",
    "\n",
    "import pandas as pd\n",
    "import numpy as np\n",
    "\n",
    "import biopsykit as bp\n",
    "from biopsykit.stats import StatsPipeline\n",
    "from biopsykit.protocols import CAR\n",
    "\n",
    "from carwatch_analysis.saliva_helper import import_cortisol_raw, import_cortisol_features, analysis_saliva_raw, analysis_saliva_features\n",
    "from carwatch_analysis.general_helper import describe_groups_df\n",
    "\n",
    "from statannot import add_stat_annotation\n",
    "\n",
    "import pingouin as pg\n",
    "\n",
    "import matplotlib.pyplot as plt\n",
    "import seaborn as sns\n",
    "\n",
    "%matplotlib widget\n",
    "%load_ext autoreload\n",
    "%autoreload 2"
   ]
  },
  {
   "cell_type": "code",
   "execution_count": null,
   "metadata": {},
   "outputs": [],
   "source": [
    "pg.options['round'] = 3\n",
    "\n",
    "sns.set(style='ticks', context='talk')\n",
    "#plt.rcParams['figure.figsize'] = (15,5)\n",
    "plt.rcParams['figure.figsize'] = (10,5)\n",
    "plt.close('all')\n",
    "\n",
    "export = True\n",
    "\n",
    "palette = bp.colors.fau_palette\n",
    "sns.set_palette(palette)\n",
    "palette"
   ]
  },
  {
   "cell_type": "code",
   "execution_count": null,
   "metadata": {},
   "outputs": [],
   "source": [
    "export_path = Path(\"../../../exports\")\n",
    "plot_path = export_path.joinpath(\"plots\")\n",
    "stats_path = export_path.joinpath(\"statistics\")\n",
    "\n",
    "paper_path = Path(\"/Users/Richer/Documents/PhD/Research/Papers/2021_CARInnerClock_EMBC/img\")\n",
    "#paper_path = paper_path.joinpath('img')\n",
    "\n",
    "bp.utils.file_handling.mkdirs([plot_path, stats_path, paper_path])"
   ]
  },
  {
   "cell_type": "markdown",
   "metadata": {},
   "source": [
    "## Data Import"
   ]
  },
  {
   "cell_type": "code",
   "execution_count": null,
   "metadata": {},
   "outputs": [],
   "source": [
    "car = CAR(saliva_times=[i*15 for i in range(5)])"
   ]
  },
  {
   "cell_type": "markdown",
   "metadata": {},
   "source": [
    "### Raw Cortisol"
   ]
  },
  {
   "cell_type": "code",
   "execution_count": null,
   "metadata": {},
   "outputs": [],
   "source": [
    "cort_samples = import_cortisol_raw(export_path.joinpath(\"cortisol_samples_cleaned.csv\"))\n",
    "cort_samples.head()"
   ]
  },
  {
   "cell_type": "markdown",
   "metadata": {},
   "source": [
    "### Cortsol Features"
   ]
  },
  {
   "cell_type": "code",
   "execution_count": null,
   "metadata": {},
   "outputs": [],
   "source": [
    "cort_features = import_cortisol_features(export_path.joinpath(\"cortisol_features_cleaned.csv\"))\n",
    "cort_features.head()"
   ]
  },
  {
   "cell_type": "code",
   "execution_count": null,
   "metadata": {},
   "outputs": [],
   "source": [
    "pipeline = analysis_saliva_features(cort_features, variable=\"condition\", test_type='anova')\n",
    "pipeline.display_results(posthoc=True, sig_only=\"posthoc\")\n",
    "if export:\n",
    "    pipeline.export_statistics(stats_path.joinpath(\"analysis_cortisol_features_condition.xlsx\"))"
   ]
  },
  {
   "cell_type": "code",
   "execution_count": null,
   "metadata": {},
   "outputs": [],
   "source": [
    "feature = 'auc_i'\n",
    "\n",
    "box_pairs, pvals = pipeline.sig_brackets(pipeline.results_cat('posthoc'), stats_type='between', plot_type='single', features=feature)\n",
    "data_plot = cort_features.xs(feature, level='biomarker')\n",
    "\n",
    "fig, ax = plt.subplots()\n",
    "car.saliva_feature_boxplot(data=data_plot, x='condition', saliva_type='cortisol', feature=feature, order=order, stats_kwargs={'box_pairs': box_pairs, 'pvalues': pvals}, ax=ax)\n",
    "fig.tight_layout()"
   ]
  },
  {
   "cell_type": "code",
   "execution_count": null,
   "metadata": {},
   "outputs": [],
   "source": [
    "feature = 'slopeS0S4'\n",
    "\n",
    "box_pairs, pvals = pipeline.sig_brackets(pipeline.results_cat('posthoc'), stats_type='between', plot_type='multi', features=feature)\n",
    "\n",
    "data = cort_features.xs('slopeS0S4', level='biomarker', drop_level=False)\n",
    "\n",
    "fig, ax = plt.subplots()\n",
    "car.saliva_feature_boxplot(data=data, x='biomarker', saliva_type='cortisol', hue='condition', feature=feature, hue_order=order, stats_kwargs={'box_pairs': box_pairs, 'pvalues': pvals}, ax=ax)\n",
    "fig.tight_layout()"
   ]
  },
  {
   "cell_type": "code",
   "execution_count": null,
   "metadata": {},
   "outputs": [],
   "source": [
    "features = ['slopeS0S3', 'slopeS0S4']\n",
    "\n",
    "box_pairs, pvals = pipeline.sig_brackets(pipeline.results_cat('posthoc'), stats_type='between', plot_type='multi', features=features)\n",
    "\n",
    "data = cort_features.filter(like='slope', axis=0)\n",
    "\n",
    "fig, ax = plt.subplots()\n",
    "car.saliva_feature_boxplot(data=data, x='biomarker', saliva_type='cortisol', hue='condition', hue_order=order, feature=features, stats_kwargs={'box_pairs': box_pairs, 'pvalues': pvals}, ax=ax)\n",
    "fig.tight_layout()"
   ]
  }
 ],
 "metadata": {
  "kernelspec": {
   "display_name": "Python 3",
   "language": "python",
   "name": "python3"
  },
  "language_info": {
   "codemirror_mode": {
    "name": "ipython",
    "version": 3
   },
   "file_extension": ".py",
   "mimetype": "text/x-python",
   "name": "python",
   "nbconvert_exporter": "python",
   "pygments_lexer": "ipython3",
   "version": "3.8.3"
  }
 },
 "nbformat": 4,
 "nbformat_minor": 4
}
