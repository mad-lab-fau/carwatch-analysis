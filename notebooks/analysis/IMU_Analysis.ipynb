{
 "cells": [
  {
   "cell_type": "markdown",
   "metadata": {},
   "source": [
    "# IMU Data Analysis"
   ]
  },
  {
   "cell_type": "code",
   "execution_count": null,
   "metadata": {},
   "outputs": [],
   "source": [
    "from pathlib import Path\n",
    "\n",
    "import pandas as pd\n",
    "import numpy as np\n",
    "\n",
    "import pingouin as pg\n",
    "\n",
    "from carwatch_analysis.general_helper import describe_groups_df\n",
    "import biopsykit as bp\n",
    "from biopsykit.stats import StatsPipeline\n",
    "from biopsykit.utils.dataframe_handling import multi_xs\n",
    "\n",
    "from statannot import add_stat_annotation\n",
    "\n",
    "import matplotlib.pyplot as plt\n",
    "import seaborn as sns\n",
    "\n",
    "%matplotlib widget\n",
    "%load_ext autoreload\n",
    "%autoreload 2"
   ]
  },
  {
   "cell_type": "code",
   "execution_count": null,
   "metadata": {},
   "outputs": [],
   "source": [
    "pg.options['round'] = 3\n",
    "\n",
    "palette = bp.colors.fau_palette\n",
    "\n",
    "theme_kwargs = {\n",
    "    \"context\": \"talk\",\n",
    "    \"style\": \"ticks\",\n",
    "    \"palette\": palette\n",
    "}\n",
    "theme_kwargs_scale = {\n",
    "    \"context\": \"talk\",\n",
    "    \"style\": \"ticks\",\n",
    "    \"palette\": palette,\n",
    "    \"font_scale\": 1.25\n",
    "}\n",
    "\n",
    "sns.set_theme(**theme_kwargs)\n",
    "#plt.rcParams['figure.figsize'] = (15,5)\n",
    "plt.rcParams['figure.figsize'] = (10,5)\n",
    "plt.rcParams[\"mathtext.default\"] = \"regular\"\n",
    "plt.rcParams['pdf.fonttype'] = 42\n",
    "plt.close('all')\n",
    "\n",
    "pad = 0.2\n",
    "\n",
    "export = True\n",
    "palette"
   ]
  },
  {
   "cell_type": "code",
   "execution_count": null,
   "metadata": {},
   "outputs": [],
   "source": [
    "base_path = Path(\"../..\")\n",
    "export_path = base_path.joinpath(\"exports\")\n",
    "result_path = base_path.joinpath(\"results\")\n",
    "plot_path = result_path.joinpath(\"plots\")\n",
    "stats_path = result_path.joinpath(\"statistics\")\n",
    "\n",
    "bp.utils.file_handling.mkdirs([result_path, plot_path, stats_path])"
   ]
  },
  {
   "cell_type": "markdown",
   "metadata": {},
   "source": [
    "## Import"
   ]
  },
  {
   "cell_type": "code",
   "execution_count": null,
   "metadata": {},
   "outputs": [],
   "source": [
    "imu_data = pd.read_csv(export_path.joinpath(\"imu_features_complete.csv\"))\n",
    "imu_data = imu_data.set_index(list(imu_data.columns[:-1]))\n",
    "imu_data.head()"
   ]
  },
  {
   "cell_type": "markdown",
   "metadata": {},
   "source": [
    "Load Cortisol Data and use the as index for the IMU data to join on (*currently not used*)"
   ]
  },
  {
   "cell_type": "code",
   "execution_count": null,
   "metadata": {},
   "outputs": [],
   "source": [
    "#cort_samples = pd.read_csv(export_path.joinpath(\"cortisol_samples_cleaned.csv\"))\n",
    "# assign each night an unique_id to allow repeated measures analyses and insert into dataframe\n",
    "#cort_samples.insert(2, 'night_id', cort_samples['subject'] + '_' + cort_samples['night'].astype(str))\n",
    "#cort_samples = cort_samples.drop(columns=['time'])\n",
    "#cort_samples = cort_samples.set_index(list(cort_samples.columns.drop('cortisol')))"
   ]
  },
  {
   "cell_type": "code",
   "execution_count": null,
   "metadata": {},
   "outputs": [],
   "source": [
    "#data_index = cort_samples.drop(columns='cortisol').unstack()\n",
    "#data_index.columns = []\n",
    "#data_index.reset_index()[]#index.get_level_values([\"condition\", \"subject\", \"night_id\"])\n",
    "#imu_data = data_index.join(imu_data, how='inner')\n",
    "#imu_data.head()"
   ]
  },
  {
   "cell_type": "code",
   "execution_count": null,
   "metadata": {},
   "outputs": [],
   "source": [
    "imu_data.unstack(['wakeup_type', 'time_span', 'imu_feature']).head()"
   ]
  },
  {
   "cell_type": "markdown",
   "metadata": {},
   "source": [
    "## Data Preparation"
   ]
  },
  {
   "cell_type": "markdown",
   "metadata": {},
   "source": [
    "### Feature Selection"
   ]
  },
  {
   "cell_type": "code",
   "execution_count": null,
   "metadata": {},
   "outputs": [],
   "source": [
    "imu_data.index.get_level_values(\"imu_feature\").unique()"
   ]
  },
  {
   "cell_type": "markdown",
   "metadata": {},
   "source": [
    "### Outlier Removal"
   ]
  },
  {
   "cell_type": "code",
   "execution_count": null,
   "metadata": {},
   "outputs": [],
   "source": [
    "imu_features = imu_data.xs(('imu', 'last_30min'), level=['wakeup_type', 'time_span'])\n",
    "filter_cols = ['max', 'mean', 'std']\n",
    "\n",
    "list_dfs = []\n",
    "imu_features = imu_features.unstack()\n",
    "for col in filter_cols:\n",
    "    list_dfs.append(imu_features.filter(like=col))\n",
    "imu_features = pd.concat(list_dfs, axis=1).stack()\n",
    "\n",
    "outlier_mask = imu_features.groupby('imu_feature').apply(lambda df: ((df - df.mean())/df.std()).abs() > 3)['data']\n",
    "\n",
    "print(\"Number of nights before outlier removal: {}\".format(len(imu_features.unstack('imu_feature'))))\n",
    "\n",
    "imu_features = imu_features.loc[~outlier_mask]\n",
    "imu_features = imu_features.unstack('imu_feature').dropna().stack()\n",
    "\n",
    "print(\"Number of nights after outlier removal: {}\".format(len(imu_features.unstack())))"
   ]
  },
  {
   "cell_type": "markdown",
   "metadata": {},
   "source": [
    "## Plots and Statistics"
   ]
  },
  {
   "cell_type": "markdown",
   "metadata": {},
   "source": [
    "### Condition"
   ]
  },
  {
   "cell_type": "markdown",
   "metadata": {},
   "source": [
    "#### Class Distribution"
   ]
  },
  {
   "cell_type": "code",
   "execution_count": null,
   "metadata": {},
   "outputs": [],
   "source": [
    "describe_groups_df(imu_features, \"condition\")"
   ]
  },
  {
   "cell_type": "markdown",
   "metadata": {},
   "source": [
    "#### Statistics"
   ]
  },
  {
   "cell_type": "code",
   "execution_count": null,
   "metadata": {},
   "outputs": [],
   "source": [
    "pipeline = StatsPipeline(\n",
    "    steps=[\n",
    "        ('prep', 'normality'),\n",
    "        ('prep', 'equal_var'),\n",
    "        ('test', 'welch_anova'),\n",
    "        ('posthoc', 'pairwise_tukey')\n",
    "    ],\n",
    "    params={\n",
    "        'groupby': 'imu_feature',\n",
    "        'dv': 'data',\n",
    "        'between': \"condition\",\n",
    "        'padjust': 'fdr_bh'\n",
    "    }\n",
    ")\n",
    "\n",
    "pipeline.apply(imu_features)\n",
    "\n",
    "pipeline.export_statistics(stats_path.joinpath(\"analysis_imu_features_condition.xlsx\"))\n",
    "pipeline.display_results(prep=True, sig_only={'test': True, 'posthoc': True})"
   ]
  },
  {
   "cell_type": "markdown",
   "metadata": {},
   "source": [
    "#### Plots"
   ]
  },
  {
   "cell_type": "code",
   "execution_count": null,
   "metadata": {},
   "outputs": [],
   "source": []
  },
  {
   "cell_type": "markdown",
   "metadata": {},
   "source": [
    "### Pairplots"
   ]
  },
  {
   "cell_type": "code",
   "execution_count": null,
   "metadata": {},
   "outputs": [],
   "source": [
    "df_pairplot = imu_features['data'].unstack('imu_feature').reset_index(level=\"condition\")\n",
    "\n",
    "#g = sns.pairplot(data=df_pairplot, hue='condition', corner=True)\n",
    "#g = g.map_lower(sns.kdeplot, levels=3, color=\".2\", alpha=0.5)"
   ]
  },
  {
   "cell_type": "code",
   "execution_count": null,
   "metadata": {},
   "outputs": [],
   "source": []
  }
 ],
 "metadata": {
  "kernelspec": {
   "display_name": "Python 3",
   "language": "python",
   "name": "python3"
  },
  "language_info": {
   "codemirror_mode": {
    "name": "ipython",
    "version": 3
   },
   "file_extension": ".py",
   "mimetype": "text/x-python",
   "name": "python",
   "nbconvert_exporter": "python",
   "pygments_lexer": "ipython3",
   "version": "3.8.3"
  }
 },
 "nbformat": 4,
 "nbformat_minor": 4
}
