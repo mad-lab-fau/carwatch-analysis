{
 "cells": [
  {
   "cell_type": "markdown",
   "metadata": {},
   "source": [
    "# Saliva Analysis"
   ]
  },
  {
   "cell_type": "code",
   "execution_count": null,
   "metadata": {},
   "outputs": [],
   "source": [
    "from pathlib import Path\n",
    "\n",
    "import pandas as pd\n",
    "import numpy as np\n",
    "\n",
    "import biopsykit as bp\n",
    "\n",
    "import pingouin as pg\n",
    "\n",
    "import matplotlib.pyplot as plt\n",
    "import seaborn as sns\n",
    "\n",
    "%matplotlib widget\n",
    "#%matplotlib inline\n",
    "%load_ext autoreload\n",
    "%autoreload 2"
   ]
  },
  {
   "cell_type": "code",
   "execution_count": null,
   "metadata": {},
   "outputs": [],
   "source": [
    "sns.set(style='ticks', context='talk')\n",
    "#plt.rcParams['figure.figsize'] = (15,5)\n",
    "plt.rcParams['figure.figsize'] = (10,5)\n",
    "plt.close('all')\n",
    "\n",
    "palette = bp.colors.fau_palette\n",
    "sns.set_palette(palette)\n",
    "palette"
   ]
  },
  {
   "cell_type": "code",
   "execution_count": null,
   "metadata": {},
   "outputs": [],
   "source": [
    "pg.options['round'] = 3"
   ]
  },
  {
   "cell_type": "code",
   "execution_count": null,
   "metadata": {},
   "outputs": [],
   "source": [
    "export_path = Path(\"../../exports\")\n",
    "plot_path = export_path.joinpath(\"plots\")"
   ]
  },
  {
   "cell_type": "markdown",
   "metadata": {},
   "source": [
    "## Import"
   ]
  },
  {
   "cell_type": "code",
   "execution_count": null,
   "metadata": {},
   "outputs": [],
   "source": [
    "cort_samples = pd.read_csv(export_path.joinpath(\"cortisol_samples_cleaned.csv\"))\n",
    "# assign each night an unique_id to allow repeated measures analyses and insert into dataframe\n",
    "cort_samples.insert(2,'night_id', cort_samples['subject'] + '_' + cort_samples['night'].astype(str))\n",
    "cort_samples = cort_samples.drop(columns='time')\n",
    "cort_samples = cort_samples.set_index(list(cort_samples.columns.drop('cortisol')))\n",
    "\n",
    "cort_samples.head()"
   ]
  },
  {
   "cell_type": "code",
   "execution_count": null,
   "metadata": {},
   "outputs": [],
   "source": [
    "cort_features = pd.read_csv(export_path.joinpath(\"cortisol_features_cleaned.csv\"))\n",
    "cort_features['biomarker'] = cort_features['biomarker'].str.replace(\"cortisol_\", \"\")\n",
    "cort_features = cort_features.set_index(list(cort_features.columns[:-1]))\n",
    "cort_features.head()"
   ]
  },
  {
   "cell_type": "markdown",
   "metadata": {},
   "source": [
    "## Plots and Statistics"
   ]
  },
  {
   "cell_type": "code",
   "execution_count": null,
   "metadata": {},
   "outputs": [],
   "source": [
    "xlabel = \"Time after Awakening [min]\"\n",
    "xticklabels = [i*15 for i in range(5)]\n",
    "ylabel = \"Cortisol [nmol/l]\"\n",
    "#ylim = [5, 16]"
   ]
  },
  {
   "cell_type": "code",
   "execution_count": null,
   "metadata": {},
   "outputs": [],
   "source": [
    "order = ['Spontaneous', 'Known Alarm', 'Unknown Alarm']"
   ]
  },
  {
   "cell_type": "markdown",
   "metadata": {},
   "source": [
    "### Weekend vs. Weekday"
   ]
  },
  {
   "cell_type": "markdown",
   "metadata": {},
   "source": [
    "Condition per Weekday Type"
   ]
  },
  {
   "cell_type": "code",
   "execution_count": null,
   "metadata": {},
   "outputs": [],
   "source": [
    "cort_samples.unstack().mean(axis=1).groupby('weekend').describe()"
   ]
  },
  {
   "cell_type": "code",
   "execution_count": null,
   "metadata": {},
   "outputs": [],
   "source": [
    "fig, ax = plt.subplots()\n",
    "df_nights = pd.DataFrame(cort_samples.groupby([\"condition\", \"weekend\"]).size(), columns=[\"nights\"])\n",
    "df_nights = df_nights.groupby('condition').apply(lambda x: 100 * (x / x.sum())).T.stack().T\n",
    "df_nights.columns = df_nights.columns.droplevel(0)\n",
    "\n",
    "df_nights = df_nights.reindex(order)\n",
    "\n",
    "ax = df_nights.plot(kind='bar', stacked=True, ax=ax, rot=0)\n",
    "ax.legend().set_title(None)\n",
    "ax.set_ylabel(\"Recorded CARs [%]\")\n",
    "fig.tight_layout()\n",
    "\n",
    "fig.savefig(plot_path.joinpath(\"img_bar_chart_weekdays.pdf\"), transparent=True)"
   ]
  },
  {
   "cell_type": "markdown",
   "metadata": {},
   "source": [
    "#### Raw Cortisol"
   ]
  },
  {
   "cell_type": "code",
   "execution_count": null,
   "metadata": {},
   "outputs": [],
   "source": [
    "hue = 'weekend'\n",
    "style = 'weekend'\n",
    "x = 'sample'\n",
    "y = 'cortisol'\n",
    "\n",
    "dv = y\n",
    "group = hue"
   ]
  },
  {
   "cell_type": "code",
   "execution_count": null,
   "metadata": {},
   "outputs": [],
   "source": [
    "df_stats = np.log(cort_samples)#np.log(cort_samples)\n",
    "\n",
    "df_norm = df_stats.reset_index().groupby(x).apply(lambda df: pg.normality(data=df, dv=dv, group=group))\n",
    "df_var = df_stats.reset_index().groupby(x).apply(lambda df: pg.homoscedasticity(data=df, dv=dv, group=group))\n",
    "\n",
    "df_anova = pg.mixed_anova(data=df_stats.reset_index(), dv=y, between=hue, within=x, subject='night_id')\n",
    "\n",
    "display(df_norm)\n",
    "display(df_var)\n",
    "display(df_anova)"
   ]
  },
  {
   "cell_type": "code",
   "execution_count": null,
   "metadata": {},
   "outputs": [],
   "source": [
    "fig, ax = plt.subplots(figsize=(10,5))\n",
    "bp.plotting.lineplot(cort_samples, x=x, y=y, hue=hue, style=style, ax=ax, xlabel=xlabel, xticklabels=xticklabels, ylabel=ylabel)\n",
    "\n",
    "fig.tight_layout()\n",
    "fig.savefig(plot_path.joinpath(\"img_car_weekend.pdf\"), transparent=True)"
   ]
  },
  {
   "cell_type": "markdown",
   "metadata": {},
   "source": [
    "#### Features"
   ]
  },
  {
   "cell_type": "code",
   "execution_count": null,
   "metadata": {},
   "outputs": [],
   "source": [
    "notch = True"
   ]
  },
  {
   "cell_type": "markdown",
   "metadata": {},
   "source": [
    "AUC Features"
   ]
  },
  {
   "cell_type": "code",
   "execution_count": null,
   "metadata": {},
   "outputs": [],
   "source": [
    "hue = 'weekend'\n",
    "x = 'biomarker'\n",
    "y = 'cortisol'\n",
    "\n",
    "dv = y\n",
    "group = hue"
   ]
  },
  {
   "cell_type": "code",
   "execution_count": null,
   "metadata": {},
   "outputs": [],
   "source": [
    "df_stats = cort_features\n",
    "\n",
    "df_norm = df_stats.reset_index().groupby(x).apply(lambda df: pg.normality(data=df, dv=dv, group=group))\n",
    "df_var = df_stats.reset_index().groupby(x).apply(lambda df: pg.homoscedasticity(data=df, dv=dv, group=group))\n",
    "\n",
    "df_anova = df_stats.reset_index().groupby(x).apply(lambda df: pg.welch_anova(data=df, dv=y, between=hue))\n",
    "\n",
    "display(df_norm)\n",
    "display(df_var)\n",
    "display(df_anova)"
   ]
  },
  {
   "cell_type": "code",
   "execution_count": null,
   "metadata": {},
   "outputs": [],
   "source": [
    "cats = [\"auc\", \"slope\", \"max_inc\"]\n",
    "\n",
    "fig, axs = plt.subplots(figsize=(12,5), ncols=len(cats))\n",
    "for ax, cat in zip(axs, cats):\n",
    "    data_plot = cort_features.unstack().filter(like=cat).stack()    \n",
    "    sns.boxplot(data=data_plot.reset_index(), x=x, y=y, hue=hue, ax=ax, notch=notch)\n",
    "    h, l = ax.get_legend_handles_labels()\n",
    "    ax.legend().remove()\n",
    "\n",
    "fig.legend(h,l, loc='upper right', bbox_to_anchor=(1.0, 1.0))\n",
    "fig.tight_layout(rect=(0, 0, 0.85, 1.0))"
   ]
  },
  {
   "cell_type": "markdown",
   "metadata": {},
   "source": [
    "### Chronotype"
   ]
  },
  {
   "cell_type": "code",
   "execution_count": null,
   "metadata": {},
   "outputs": [],
   "source": [
    "order = ['Morning', 'Intermediate', 'Evening']"
   ]
  },
  {
   "cell_type": "markdown",
   "metadata": {},
   "source": [
    "#### Raw Cortisol"
   ]
  },
  {
   "cell_type": "code",
   "execution_count": null,
   "metadata": {},
   "outputs": [],
   "source": [
    "hue = 'chronotype'\n",
    "style = 'chronotype'\n",
    "x = 'sample'\n",
    "y = 'cortisol'\n",
    "\n",
    "dv = y\n",
    "group = hue"
   ]
  },
  {
   "cell_type": "code",
   "execution_count": null,
   "metadata": {},
   "outputs": [],
   "source": [
    "cort_samples.unstack().mean(axis=1).groupby(group).describe()"
   ]
  },
  {
   "cell_type": "code",
   "execution_count": null,
   "metadata": {},
   "outputs": [],
   "source": [
    "fig, ax = plt.subplots()\n",
    "bp.plotting.lineplot(cort_samples, x=x, y=y, hue=hue, order=order, style=style, ax=ax, ylabel=ylabel, xlabel=xlabel, xticklabels=xticklabels)\n",
    "fig.tight_layout()\n",
    "fig.savefig(plot_path.joinpath(\"img_car_chronotype.pdf\"), transparent=True)"
   ]
  },
  {
   "cell_type": "code",
   "execution_count": null,
   "metadata": {},
   "outputs": [],
   "source": [
    "df_stats = cort_samples\n",
    "\n",
    "df_norm = df_stats.reset_index().groupby(x).apply(lambda df: pg.normality(data=df, dv=dv, group=group))\n",
    "df_var = df_stats.reset_index().groupby(x).apply(lambda df: pg.homoscedasticity(data=df, dv=dv, group=group))\n",
    "\n",
    "df_anova = pg.mixed_anova(data=df_stats.reset_index(), dv=y, between=hue, within=x, subject='night_id')\n",
    "df_ttests = pg.pairwise_ttests(data=df_stats.reset_index(), dv=y, between=hue, within=x, subject='night_id', padjust='fdr_bh')\n",
    "\n",
    "display(df_norm.T)\n",
    "display(df_var.T)\n",
    "display(df_anova)\n",
    "#if df_anova.loc[2]['p-unc'] < 0.05:\n",
    "#    display(df_ttests)"
   ]
  },
  {
   "cell_type": "markdown",
   "metadata": {},
   "source": [
    "#### Features"
   ]
  },
  {
   "cell_type": "code",
   "execution_count": null,
   "metadata": {},
   "outputs": [],
   "source": [
    "notch = True"
   ]
  },
  {
   "cell_type": "code",
   "execution_count": null,
   "metadata": {},
   "outputs": [],
   "source": [
    "order = ['Morning', 'Intermediate', 'Evening']"
   ]
  },
  {
   "cell_type": "code",
   "execution_count": null,
   "metadata": {},
   "outputs": [],
   "source": [
    "hue = 'chronotype'\n",
    "x = 'biomarker'\n",
    "y = 'cortisol'\n",
    "\n",
    "dv = y\n",
    "group = hue"
   ]
  },
  {
   "cell_type": "code",
   "execution_count": null,
   "metadata": {},
   "outputs": [],
   "source": [
    "df_stats = cort_features\n",
    "\n",
    "df_norm = df_stats.reset_index().groupby(x).apply(lambda df: pg.normality(data=df, dv=dv, group=group))\n",
    "df_var = df_stats.reset_index().groupby(x).apply(lambda df: pg.homoscedasticity(data=df, dv=dv, group=group))\n",
    "\n",
    "df_anova = df_stats.reset_index().groupby(x).apply(lambda df: pg.welch_anova(data=df, dv=y, between=hue))\n",
    "df_ph = df_stats.reset_index().groupby(x).apply(lambda df: pg.pairwise_tukey(data=df, dv=y, between=hue))\n",
    "\n",
    "display(df_norm.T)\n",
    "display(df_var.T)\n",
    "display(df_anova)\n",
    "#display(df_ph)"
   ]
  },
  {
   "cell_type": "code",
   "execution_count": null,
   "metadata": {},
   "outputs": [],
   "source": [
    "cats = [\"auc\", \"slope\", \"max_inc\"]\n",
    "\n",
    "fig, axs = plt.subplots(figsize=(12,5), ncols=len(cats))\n",
    "for ax, cat in zip(axs, cats):\n",
    "    data_plot = cort_features.unstack().filter(like=cat).stack()    \n",
    "    sns.boxplot(data=data_plot.reset_index(), x=x, y=y, hue=hue, hue_order=order, ax=ax, notch=notch)\n",
    "    h, l = ax.get_legend_handles_labels()\n",
    "    ax.legend().remove()\n",
    "\n",
    "fig.legend(h,l, loc='upper right', bbox_to_anchor=(1.0, 1.0))\n",
    "fig.tight_layout(rect=(0, 0, 0.85, 1.0))"
   ]
  },
  {
   "cell_type": "markdown",
   "metadata": {},
   "source": [
    "### Within Ideal Bedtime"
   ]
  },
  {
   "cell_type": "markdown",
   "metadata": {},
   "source": [
    "#### Raw Cortisol"
   ]
  },
  {
   "cell_type": "code",
   "execution_count": null,
   "metadata": {},
   "outputs": [],
   "source": [
    "hue = 'within_ideal_bed_time'\n",
    "style = 'within_ideal_bed_time'\n",
    "x = 'sample'\n",
    "y = 'cortisol'\n",
    "\n",
    "dv = y\n",
    "group = hue"
   ]
  },
  {
   "cell_type": "code",
   "execution_count": null,
   "metadata": {},
   "outputs": [],
   "source": [
    "cort_samples.unstack().mean(axis=1).groupby(group).describe()"
   ]
  },
  {
   "cell_type": "code",
   "execution_count": null,
   "metadata": {},
   "outputs": [],
   "source": [
    "fig, ax = plt.subplots()\n",
    "\n",
    "bp.plotting.lineplot(cort_samples, x=x, y=y, hue=hue, style=style, xlabel=xlabel, xticklabels=xticklabels, ylabel=ylabel, ax=ax)\n",
    "\n",
    "fig.tight_layout()\n",
    "fig.savefig(export_path.joinpath(\"plots/img_car_within_bedtime.pdf\"), transparent=True)"
   ]
  },
  {
   "cell_type": "code",
   "execution_count": null,
   "metadata": {},
   "outputs": [],
   "source": [
    "df_stats = cort_samples\n",
    "\n",
    "df_norm = df_stats.reset_index().groupby(x).apply(lambda df: pg.normality(data=df, dv=dv, group=group))\n",
    "df_var = df_stats.reset_index().groupby(x).apply(lambda df: pg.homoscedasticity(data=df, dv=dv, group=group))\n",
    "\n",
    "df_anova = pg.mixed_anova(data=df_stats.reset_index(), dv=y, between=hue, within=x, subject='night_id')\n",
    "df_ttests = pg.pairwise_ttests(data=df_stats.reset_index(), dv=y, between=hue, within=x, subject='night_id', padjust='fdr_bh')\n",
    "\n",
    "display(df_norm.T)\n",
    "display(df_var.T)\n",
    "display(df_anova)\n",
    "#if df_anova.loc[2]['p-unc'] < 0.05:\n",
    "#    display(df_ttests)"
   ]
  },
  {
   "cell_type": "markdown",
   "metadata": {},
   "source": [
    "#### Features"
   ]
  },
  {
   "cell_type": "code",
   "execution_count": null,
   "metadata": {},
   "outputs": [],
   "source": [
    "notch = True"
   ]
  },
  {
   "cell_type": "markdown",
   "metadata": {},
   "source": [
    "AUC Features"
   ]
  },
  {
   "cell_type": "code",
   "execution_count": null,
   "metadata": {},
   "outputs": [],
   "source": [
    "hue = 'within_ideal_bed_time'\n",
    "x = 'biomarker'\n",
    "y = 'cortisol'\n",
    "\n",
    "dv = y\n",
    "group = hue"
   ]
  },
  {
   "cell_type": "code",
   "execution_count": null,
   "metadata": {},
   "outputs": [],
   "source": [
    "df_stats = cort_features\n",
    "\n",
    "df_norm = df_stats.reset_index().groupby(x).apply(lambda df: pg.normality(data=df, dv=dv, group=group))\n",
    "df_var = df_stats.reset_index().groupby(x).apply(lambda df: pg.homoscedasticity(data=df, dv=dv, group=group))\n",
    "\n",
    "df_anova = df_stats.reset_index().groupby(x).apply(lambda df: pg.welch_anova(data=df, dv=y, between=hue))\n",
    "df_ph = df_stats.reset_index().groupby(x).apply(lambda df: pg.pairwise_tukey(data=df, dv=y, between=hue))\n",
    "\n",
    "display(df_norm.T)\n",
    "display(df_var.T)\n",
    "display(df_anova)\n",
    "#display(df_ph)"
   ]
  },
  {
   "cell_type": "code",
   "execution_count": null,
   "metadata": {},
   "outputs": [],
   "source": [
    "cats = [\"auc\", \"slope\", \"max_inc\"]\n",
    "\n",
    "fig, axs = plt.subplots(figsize=(12,5), ncols=len(cats))\n",
    "for ax, cat in zip(axs, cats):\n",
    "    data_plot = cort_features.unstack().filter(like=cat).stack()    \n",
    "    sns.boxplot(data=data_plot.reset_index(), x=x, y=y, hue=hue, ax=ax, notch=notch)\n",
    "    h, l = ax.get_legend_handles_labels()\n",
    "    ax.legend().remove()\n",
    "\n",
    "fig.legend(h,l, loc='upper right', bbox_to_anchor=(1.0, 1.0))\n",
    "fig.tight_layout(rect=(0, 0, 0.85, 1.0))"
   ]
  },
  {
   "cell_type": "markdown",
   "metadata": {},
   "source": [
    "### Wakeup Source"
   ]
  },
  {
   "cell_type": "code",
   "execution_count": null,
   "metadata": {},
   "outputs": [],
   "source": [
    "order = ['Spontaneous', 'Alarm', 'Not Specified']"
   ]
  },
  {
   "cell_type": "markdown",
   "metadata": {},
   "source": [
    "#### Raw Cortisol"
   ]
  },
  {
   "cell_type": "code",
   "execution_count": null,
   "metadata": {},
   "outputs": [],
   "source": [
    "hue = 'wakeup_source'\n",
    "style = 'wakeup_source'\n",
    "x = 'sample'\n",
    "y = 'cortisol'\n",
    "\n",
    "dv = y\n",
    "group = hue"
   ]
  },
  {
   "cell_type": "code",
   "execution_count": null,
   "metadata": {},
   "outputs": [],
   "source": [
    "fig, ax = plt.subplots()\n",
    "bp.plotting.lineplot(cort_samples, x=x, y=y, hue=hue, order=order, style=style, ax=ax)\n",
    "fig.tight_layout()"
   ]
  },
  {
   "cell_type": "code",
   "execution_count": null,
   "metadata": {},
   "outputs": [],
   "source": [
    "df_stats = cort_samples\n",
    "\n",
    "df_norm = df_stats.reset_index().groupby(x).apply(lambda df: pg.normality(data=df, dv=dv, group=group))\n",
    "df_var = df_stats.reset_index().groupby(x).apply(lambda df: pg.homoscedasticity(data=df, dv=dv, group=group))\n",
    "\n",
    "df_anova = pg.mixed_anova(data=df_stats.reset_index(), dv=y, between=hue, within=x, subject='night_id')\n",
    "df_ttests = pg.pairwise_ttests(data=df_stats.reset_index(), dv=y, between=hue, within=x, subject='night_id', padjust='fdr_bh')\n",
    "\n",
    "display(df_norm.T)\n",
    "display(df_var.T)\n",
    "display(df_anova)\n",
    "#if df_anova.loc[2]['p-unc'] < 0.05:\n",
    "#    display(df_ttests)"
   ]
  },
  {
   "cell_type": "markdown",
   "metadata": {},
   "source": [
    "#### Features"
   ]
  },
  {
   "cell_type": "code",
   "execution_count": null,
   "metadata": {},
   "outputs": [],
   "source": [
    "notch = True"
   ]
  },
  {
   "cell_type": "markdown",
   "metadata": {},
   "source": [
    "AUC Features"
   ]
  },
  {
   "cell_type": "code",
   "execution_count": null,
   "metadata": {},
   "outputs": [],
   "source": [
    "hue = 'wakeup_source'\n",
    "x = 'biomarker'\n",
    "y = 'cortisol'\n",
    "\n",
    "dv = y\n",
    "group = hue"
   ]
  },
  {
   "cell_type": "code",
   "execution_count": null,
   "metadata": {},
   "outputs": [],
   "source": [
    "df_stats = cort_features\n",
    "\n",
    "df_norm = df_stats.reset_index().groupby(x).apply(lambda df: pg.normality(data=df, dv=dv, group=group))\n",
    "df_var = df_stats.reset_index().groupby(x).apply(lambda df: pg.homoscedasticity(data=df, dv=dv, group=group))\n",
    "\n",
    "df_anova = df_stats.reset_index().groupby(x).apply(lambda df: pg.anova(data=df, dv=y, between=hue))\n",
    "df_ph = df_stats.reset_index().groupby(x).apply(lambda df: pg.pairwise_ttests(data=df, dv=y, between=hue, padjust='fdr_bh'))\n",
    "\n",
    "display(df_norm)\n",
    "display(df_var)\n",
    "display(df_anova)\n",
    "display(df_ph)"
   ]
  },
  {
   "cell_type": "code",
   "execution_count": null,
   "metadata": {},
   "outputs": [],
   "source": [
    "cats = [\"auc\", \"slope\", \"max_inc\"]\n",
    "\n",
    "fig, axs = plt.subplots(figsize=(12,5), ncols=len(cats))\n",
    "for ax, cat in zip(axs, cats):\n",
    "    data_plot = cort_features.unstack().filter(like=cat).stack()    \n",
    "    sns.boxplot(data=data_plot.reset_index(), x=x, y=y, hue=hue, hue_order=order, ax=ax, notch=notch)\n",
    "    h, l = ax.get_legend_handles_labels()\n",
    "    ax.legend().remove()\n",
    "\n",
    "fig.legend(h,l, loc='upper right', bbox_to_anchor=(1.0, 1.0))\n",
    "fig.tight_layout(rect=(0, 0, 0.85, 1.0))"
   ]
  },
  {
   "cell_type": "markdown",
   "metadata": {},
   "source": [
    "### Condition"
   ]
  },
  {
   "cell_type": "code",
   "execution_count": null,
   "metadata": {},
   "outputs": [],
   "source": [
    "order = ['Spontaneous', 'Known Alarm', 'Unknown Alarm']"
   ]
  },
  {
   "cell_type": "markdown",
   "metadata": {},
   "source": [
    "#### Raw Cortisol"
   ]
  },
  {
   "cell_type": "code",
   "execution_count": null,
   "metadata": {},
   "outputs": [],
   "source": [
    "hue = 'condition'\n",
    "style = 'condition'\n",
    "x = 'sample'\n",
    "y = 'cortisol'\n",
    "\n",
    "dv = y\n",
    "group = hue"
   ]
  },
  {
   "cell_type": "code",
   "execution_count": null,
   "metadata": {},
   "outputs": [],
   "source": [
    "cort_samples.unstack().mean(axis=1).groupby(group).describe()"
   ]
  },
  {
   "cell_type": "code",
   "execution_count": null,
   "metadata": {},
   "outputs": [],
   "source": [
    "df_stats = np.log(cort_samples)\n",
    "\n",
    "df_norm = df_stats.reset_index().groupby(x).apply(lambda df: pg.normality(data=df, dv=dv, group=group))\n",
    "df_var = df_stats.reset_index().groupby(x).apply(lambda df: pg.homoscedasticity(data=df, dv=dv, group=group))\n",
    "\n",
    "df_anova = pg.mixed_anova(data=df_stats.reset_index(), dv=y, between=hue, within=x, subject='night_id')\n",
    "df_ttests = pg.pairwise_ttests(data=df_stats.reset_index(), dv=y, between=hue, within=x, subject='night_id', padjust='fdr_bh')\n",
    "\n",
    "display(df_norm.T)\n",
    "display(df_var.T)\n",
    "display(df_anova)\n",
    "if df_anova.loc[2]['p-unc'] < 0.05:\n",
    "    display(df_ttests)"
   ]
  },
  {
   "cell_type": "code",
   "execution_count": null,
   "metadata": {},
   "outputs": [],
   "source": [
    "fig, ax = plt.subplots()\n",
    "bp.plotting.lineplot(cort_samples, x=x, y=y, hue=hue, order=order, style=style, xlabel=xlabel, xticklabels=xticklabels, ylabel=ylabel, ax=ax)\n",
    "\n",
    "fig.tight_layout()\n",
    "fig.savefig(plot_path.joinpath(\"img_car_condition.pdf\"), transparent=True)"
   ]
  },
  {
   "cell_type": "markdown",
   "metadata": {},
   "source": [
    "#### Features"
   ]
  },
  {
   "cell_type": "code",
   "execution_count": null,
   "metadata": {},
   "outputs": [],
   "source": [
    "notch = False"
   ]
  },
  {
   "cell_type": "markdown",
   "metadata": {},
   "source": [
    "AUC Features"
   ]
  },
  {
   "cell_type": "code",
   "execution_count": null,
   "metadata": {},
   "outputs": [],
   "source": [
    "hue = 'condition'\n",
    "x = 'biomarker'\n",
    "y = 'cortisol'\n",
    "\n",
    "dv = y\n",
    "group = hue"
   ]
  },
  {
   "cell_type": "code",
   "execution_count": null,
   "metadata": {},
   "outputs": [],
   "source": [
    "df_stats = cort_features\n",
    "\n",
    "df_norm = df_stats.reset_index().groupby(x).apply(lambda df: pg.normality(data=df, dv=dv, group=group))\n",
    "df_var = df_stats.reset_index().groupby(x).apply(lambda df: pg.homoscedasticity(data=df, dv=dv, group=group))\n",
    "\n",
    "df_anova = df_stats.reset_index().groupby(x).apply(lambda df: pg.anova(data=df, dv=y, between=hue))\n",
    "df_ph = df_stats.reset_index().groupby(x).apply(lambda df: pg.pairwise_tukey(data=df, dv=y, between=hue))\n",
    "\n",
    "display(df_norm.T)\n",
    "display(df_var.T)\n",
    "display(df_anova)\n",
    "display(df_ph)"
   ]
  },
  {
   "cell_type": "code",
   "execution_count": null,
   "metadata": {},
   "outputs": [],
   "source": [
    "from statannot import add_stat_annotation"
   ]
  },
  {
   "cell_type": "code",
   "execution_count": null,
   "metadata": {},
   "outputs": [],
   "source": [
    "cats = [\"auc_i\", \"slope\", \"max_inc\"]\n",
    "\n",
    "boxplot_pairs = {\n",
    "    'auc_i': [(('auc_i', 'Spontaneous'),('auc_i', 'Unknown Alarm'))],\n",
    "    'slope': [(('slope03', 'Known Alarm'), ('slope03', 'Unknown Alarm')), (('slope03', 'Spontaneous'), ('slope03', 'Unknown Alarm')), (('slope04', 'Known Alarm'), ('slope04', 'Unknown Alarm')), (('slope04', 'Spontaneous'), ('slope04', 'Unknown Alarm'))],\n",
    "    'max_inc': [(('max_inc', 'Known Alarm'), ('max_inc', 'Unknown Alarm')), (('max_inc', 'Spontaneous'), ('max_inc', 'Unknown Alarm'))],\n",
    "}\n",
    "\n",
    "xticklabels = {\n",
    "    'auc_i': [\"$AUC_I$\"],\n",
    "    'slope': [\"$a_{S0S3}$\", \"$a_{S0S4}$\"],\n",
    "    'max_inc': [\"$inc_{max}$\"],\n",
    "}\n",
    "\n",
    "ylabels = {\n",
    "    'auc_i': r\"Cortisol AUC $\\left[\\frac{nmol \\cdot min}{l} \\right]$\",\n",
    "    'slope': r\"Cortisol Slope $\\left[\\frac{nmol}{l \\cdot min} \\right]$\",\n",
    "    'max_inc': \"Cortisol [nmol/l]\",\n",
    "}\n",
    "\n",
    "fig, axs = plt.subplots(figsize=(15,5), ncols=len(cats))\n",
    "for ax, cat in zip(axs, cats):\n",
    "    data_plot = cort_features.unstack().filter(like=cat).stack()\n",
    "    sns.boxplot(data=data_plot.reset_index(), x=x, y=y, hue=hue, hue_order=order, ax=ax, notch=notch)\n",
    "    h, l = ax.get_legend_handles_labels()\n",
    "    add_stat_annotation(ax=ax, data=data_plot.reset_index(), box_pairs=boxplot_pairs[cat], x=x, y=y, hue=hue, hue_order=order, test='t-test_ind', comparisons_correction=None, pvalue_thresholds=[[1e-3, \"***\"], [1e-2, \"**\"], [0.05, \"*\"]])\n",
    "    ax.set_ylabel(ylabels[cat])\n",
    "    ax.set_xlabel(None)\n",
    "    ax.set_xticklabels(xticklabels[cat])\n",
    "    ax.legend().remove()\n",
    "\n",
    "fig.legend(h,l, loc='upper right', bbox_to_anchor=(1.0, 1.0))\n",
    "fig.tight_layout(rect=(0, 0, 0.84, 1.0))\n",
    "fig.savefig(plot_path.joinpath(\"img_boxplots_car.pdf\"), transparent=True)"
   ]
  },
  {
   "cell_type": "markdown",
   "metadata": {},
   "source": [
    "### Pairplots"
   ]
  },
  {
   "cell_type": "code",
   "execution_count": null,
   "metadata": {},
   "outputs": [],
   "source": [
    "g = sns.pairplot(data=cort_samples['cortisol'].unstack('sample').reset_index('condition'), hue='condition', corner=True)"
   ]
  },
  {
   "cell_type": "code",
   "execution_count": null,
   "metadata": {},
   "outputs": [],
   "source": [
    "g = sns.pairplot(data=np.log(cort_samples['cortisol'].unstack('sample')).reset_index('condition'), hue='condition', corner=True)\n",
    "g = g.map_lower(sns.kdeplot, levels=3, color=\".2\", alpha=0.5)"
   ]
  },
  {
   "cell_type": "code",
   "execution_count": null,
   "metadata": {},
   "outputs": [],
   "source": [
    "g = sns.pairplot(data=cort_features['cortisol'].unstack('biomarker').reset_index('condition'), hue='condition', corner=True)\n",
    "#g = g.map_lower(sns.kdeplot, levels=3, color=\".2\", alpha=0.5)"
   ]
  },
  {
   "cell_type": "code",
   "execution_count": null,
   "metadata": {},
   "outputs": [],
   "source": []
  }
 ],
 "metadata": {
  "kernelspec": {
   "display_name": "Python 3",
   "language": "python",
   "name": "python3"
  },
  "language_info": {
   "codemirror_mode": {
    "name": "ipython",
    "version": 3
   },
   "file_extension": ".py",
   "mimetype": "text/x-python",
   "name": "python",
   "nbconvert_exporter": "python",
   "pygments_lexer": "ipython3",
   "version": "3.8.3"
  }
 },
 "nbformat": 4,
 "nbformat_minor": 4
}
