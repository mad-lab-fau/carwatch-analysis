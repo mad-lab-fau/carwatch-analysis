{
 "cells": [
  {
   "cell_type": "markdown",
   "metadata": {},
   "source": [
    "# Saliva Data Analysis"
   ]
  },
  {
   "cell_type": "code",
   "execution_count": null,
   "metadata": {},
   "outputs": [],
   "source": [
    "from pathlib import Path\n",
    "\n",
    "import pandas as pd\n",
    "import numpy as np\n",
    "\n",
    "import biopsykit as bp\n",
    "from biopsykit.stats import StatsPipeline\n",
    "\n",
    "from carwatch_analysis.saliva_helper import import_cortisol_raw, import_cortisol_features, analysis_saliva_raw, analysis_saliva_features\n",
    "from carwatch_analysis.general_helper import describe_groups_df\n",
    "\n",
    "from statannot import add_stat_annotation\n",
    "\n",
    "import pingouin as pg\n",
    "\n",
    "import matplotlib.pyplot as plt\n",
    "import seaborn as sns\n",
    "\n",
    "%matplotlib widget\n",
    "%load_ext autoreload\n",
    "%autoreload 2"
   ]
  },
  {
   "cell_type": "code",
   "execution_count": null,
   "metadata": {},
   "outputs": [],
   "source": [
    "pg.options['round'] = 3\n",
    "\n",
    "palette = bp.colors.fau_palette\n",
    "\n",
    "theme_kwargs = {\n",
    "    \"context\": \"talk\",\n",
    "    \"style\": \"ticks\",\n",
    "    \"palette\": palette\n",
    "}\n",
    "theme_kwargs_scale = {\n",
    "    \"context\": \"talk\",\n",
    "    \"style\": \"ticks\",\n",
    "    \"palette\": palette,\n",
    "    \"font_scale\": 1.25\n",
    "}\n",
    "\n",
    "sns.set_theme(**theme_kwargs)\n",
    "#plt.rcParams['figure.figsize'] = (15,5)\n",
    "plt.rcParams['figure.figsize'] = (10,5)\n",
    "plt.rcParams[\"mathtext.default\"] = \"regular\"\n",
    "plt.rcParams['pdf.fonttype'] = 42\n",
    "plt.close('all')\n",
    "\n",
    "pad = 0.2\n",
    "\n",
    "export = True\n",
    "palette"
   ]
  },
  {
   "cell_type": "code",
   "execution_count": null,
   "metadata": {},
   "outputs": [],
   "source": [
    "base_path = Path(\"../..\")\n",
    "export_path = base_path.joinpath(\"exports\")\n",
    "result_path = base_path.joinpath(\"results\")\n",
    "plot_path = result_path.joinpath(\"plots\")\n",
    "stats_path = result_path.joinpath(\"statistics\")\n",
    "\n",
    "bp.utils.file_handling.mkdirs([result_path, plot_path, stats_path])"
   ]
  },
  {
   "cell_type": "markdown",
   "metadata": {},
   "source": [
    "## Import"
   ]
  },
  {
   "cell_type": "markdown",
   "metadata": {},
   "source": [
    "### Raw Cortisol"
   ]
  },
  {
   "cell_type": "code",
   "execution_count": null,
   "metadata": {},
   "outputs": [],
   "source": [
    "cort_samples = import_cortisol_raw(export_path.joinpath(\"cortisol_samples_cleaned.csv\"))\n",
    "cort_samples.head()"
   ]
  },
  {
   "cell_type": "markdown",
   "metadata": {},
   "source": [
    "### Cortsol Features"
   ]
  },
  {
   "cell_type": "code",
   "execution_count": null,
   "metadata": {},
   "outputs": [],
   "source": [
    "cort_features = import_cortisol_features(export_path.joinpath(\"cortisol_features_cleaned.csv\"))\n",
    "cort_features.head()"
   ]
  },
  {
   "cell_type": "markdown",
   "metadata": {},
   "source": [
    "## Plots and Statistics"
   ]
  },
  {
   "cell_type": "code",
   "execution_count": null,
   "metadata": {},
   "outputs": [],
   "source": [
    "xlabel_lp = \"Time after Awakening [min]\"\n",
    "xticklabels_lp = [i*15 for i in range(5)]\n",
    "ylabel_lp = \"Cortisol [nmol/l]\"\n",
    "#ylim = [5, 16]"
   ]
  },
  {
   "cell_type": "markdown",
   "metadata": {},
   "source": [
    "### Weekend vs. Weekday"
   ]
  },
  {
   "cell_type": "markdown",
   "metadata": {},
   "source": [
    "#### Class Distribution"
   ]
  },
  {
   "cell_type": "code",
   "execution_count": null,
   "metadata": {},
   "outputs": [],
   "source": [
    "describe_groups_df(cort_samples, \"weekend\")"
   ]
  },
  {
   "cell_type": "code",
   "execution_count": null,
   "metadata": {},
   "outputs": [],
   "source": [
    "order = [\"Spontaneous\", \"Known Alarm\", \"Unknown Alarm\"]\n",
    "\n",
    "df_stacked = bp.utils.dataframe_handling.stack_groups_percent(cort_samples, hue=\"condition\", stacked=\"weekend\", order=order)\n",
    "\n",
    "display(df_stacked.T)\n",
    "\n",
    "fig, ax = plt.subplots()\n",
    "bp.plotting.stacked_barchart(data=df_stacked, order=order, ylabel=\"Recorded Nights [%]\", ax=ax)\n",
    "fig.tight_layout()\n",
    "\n",
    "if export:\n",
    "    fig.savefig(plot_path.joinpath(\"img_barchart_weekdays.pdf\"), transparent=True)"
   ]
  },
  {
   "cell_type": "markdown",
   "metadata": {},
   "source": [
    "#### Raw Cortisol"
   ]
  },
  {
   "cell_type": "markdown",
   "metadata": {},
   "source": [
    "##### Plots"
   ]
  },
  {
   "cell_type": "code",
   "execution_count": null,
   "metadata": {},
   "outputs": [],
   "source": [
    "x = 'sample'\n",
    "y = 'cortisol'\n",
    "hue = 'weekend'\n",
    "style = 'weekend'\n",
    "\n",
    "dv = y\n",
    "group = hue\n",
    "\n",
    "fig, ax = plt.subplots(figsize=(10,5))\n",
    "bp.plotting.lineplot(cort_samples, x=x, y=y, hue=hue, style=style, ax=ax, xlabel=xlabel_lp, xticklabels=xticklabels_lp, ylabel=ylabel_lp)\n",
    "\n",
    "fig.tight_layout()\n",
    "if export:\n",
    "    fig.savefig(plot_path.joinpath(\"img_car_weekend.pdf\"), transparent=True)"
   ]
  },
  {
   "cell_type": "markdown",
   "metadata": {},
   "source": [
    "##### Statistics"
   ]
  },
  {
   "cell_type": "code",
   "execution_count": null,
   "metadata": {},
   "outputs": [],
   "source": [
    "pipeline = analysis_saliva_raw(cort_samples, variable=\"weekend\")\n",
    "pipeline.export_statistics(stats_path.joinpath(\"analysis_cortisol_raw_weekend.xlsx\"))\n",
    "pipeline.display_results(posthoc=False)"
   ]
  },
  {
   "cell_type": "markdown",
   "metadata": {},
   "source": [
    "#### Features"
   ]
  },
  {
   "cell_type": "markdown",
   "metadata": {},
   "source": [
    "##### Plots"
   ]
  },
  {
   "cell_type": "code",
   "execution_count": null,
   "metadata": {},
   "outputs": [],
   "source": [
    "x = 'saliva_feature'\n",
    "y = 'cortisol'\n",
    "hue = 'weekend'\n",
    "\n",
    "cats = [\"auc\", \"slope\", \"max_inc\"]\n",
    "\n",
    "notch = False\n",
    "\n",
    "fig, axs = plt.subplots(figsize=(12,5), ncols=len(cats))\n",
    "for ax, cat in zip(axs, cats):\n",
    "    data_plot = cort_features.unstack().filter(like=cat).stack()    \n",
    "    sns.boxplot(data=data_plot.reset_index(), x=x, y=y, hue=hue, ax=ax, notch=notch)\n",
    "    h, l = ax.get_legend_handles_labels()\n",
    "    ax.legend().remove()\n",
    "\n",
    "fig.legend(h,l, loc='upper right', bbox_to_anchor=(1.0, 1.0))\n",
    "fig.tight_layout(rect=(0, 0, 0.85, 1.0))\n",
    "if export:\n",
    "    fig.savefig(plot_path.joinpath(\"img_boxplots_car_features_weekend.pdf\"), transparent=True)"
   ]
  },
  {
   "cell_type": "markdown",
   "metadata": {},
   "source": [
    "##### Statistics"
   ]
  },
  {
   "cell_type": "code",
   "execution_count": null,
   "metadata": {},
   "outputs": [],
   "source": [
    "pipeline = analysis_saliva_features(cort_features, variable=\"weekend\")\n",
    "pipeline.export_statistics(stats_path.joinpath(\"analysis_cortisol_features_weekend.xlsx\"))\n",
    "pipeline.display_results(posthoc=False)"
   ]
  },
  {
   "cell_type": "markdown",
   "metadata": {},
   "source": [
    "### Chronotype"
   ]
  },
  {
   "cell_type": "markdown",
   "metadata": {},
   "source": [
    "#### Class Distribution"
   ]
  },
  {
   "cell_type": "code",
   "execution_count": null,
   "metadata": {},
   "outputs": [],
   "source": [
    "describe_groups_df(cort_samples, \"chronotype\")"
   ]
  },
  {
   "cell_type": "markdown",
   "metadata": {},
   "source": [
    "#### Raw Cortisol"
   ]
  },
  {
   "cell_type": "markdown",
   "metadata": {},
   "source": [
    "##### Plots"
   ]
  },
  {
   "cell_type": "code",
   "execution_count": null,
   "metadata": {},
   "outputs": [],
   "source": [
    "x = 'sample'\n",
    "y = 'cortisol'\n",
    "\n",
    "hue = 'chronotype'\n",
    "style = 'chronotype'\n",
    "\n",
    "hue_order = ['Morning', 'Intermediate', 'Evening']\n",
    "\n",
    "fig, ax = plt.subplots()\n",
    "bp.plotting.lineplot(cort_samples, x=x, y=y, hue=hue, hue_order=hue_order, style=style, xlabel=xlabel_lp, xticklabels=xticklabels_lp, ylabel=ylabel_lp, ax=ax)\n",
    "fig.tight_layout()\n",
    "if export:\n",
    "    fig.savefig(plot_path.joinpath(\"img_car_chronotype.pdf\"), transparent=True)"
   ]
  },
  {
   "cell_type": "markdown",
   "metadata": {},
   "source": [
    "##### Statistics"
   ]
  },
  {
   "cell_type": "code",
   "execution_count": null,
   "metadata": {},
   "outputs": [],
   "source": [
    "pipeline = analysis_saliva_raw(cort_samples, variable=\"chronotype\")\n",
    "pipeline.export_statistics(stats_path.joinpath(\"analysis_cortisol_raw_chronotype.xlsx\"))\n",
    "pipeline.display_results(posthoc=True)"
   ]
  },
  {
   "cell_type": "markdown",
   "metadata": {},
   "source": [
    "#### Features"
   ]
  },
  {
   "cell_type": "markdown",
   "metadata": {},
   "source": [
    "##### Plots"
   ]
  },
  {
   "cell_type": "code",
   "execution_count": null,
   "metadata": {},
   "outputs": [],
   "source": [
    "x = 'saliva_feature'\n",
    "y = 'cortisol'\n",
    "hue = 'chronotype'\n",
    "\n",
    "cats = [\"auc\", \"slope\", \"max_inc\"]\n",
    "order = ['Morning', 'Intermediate', 'Evening']\n",
    "\n",
    "notch = False\n",
    "\n",
    "fig, axs = plt.subplots(figsize=(12,5), ncols=len(cats))\n",
    "for ax, cat in zip(axs, cats):\n",
    "    data_plot = cort_features.unstack().filter(like=cat).stack()    \n",
    "    sns.boxplot(data=data_plot.reset_index(), x=x, y=y, hue=hue, hue_order=order, ax=ax, notch=notch)\n",
    "    h, l = ax.get_legend_handles_labels()\n",
    "    ax.legend().remove()\n",
    "\n",
    "fig.legend(h,l, loc='upper right', bbox_to_anchor=(1.0, 1.0))\n",
    "fig.tight_layout(rect=(0, 0, 0.85, 1.0))\n",
    "\n",
    "if export:\n",
    "    fig.savefig(plot_path.joinpath(\"img_boxplot_car_features_chronotype.pdf\"), transparent=True)"
   ]
  },
  {
   "cell_type": "markdown",
   "metadata": {},
   "source": [
    "##### Statistics"
   ]
  },
  {
   "cell_type": "code",
   "execution_count": null,
   "metadata": {},
   "outputs": [],
   "source": [
    "pipeline = analysis_saliva_features(cort_features, variable=\"chronotype\", test_type='welch_anova')\n",
    "pipeline.export_statistics(stats_path.joinpath(\"analysis_cortisol_features_chronotype.xlsx\"))\n",
    "pipeline.display_results(posthoc=False)"
   ]
  },
  {
   "cell_type": "code",
   "execution_count": null,
   "metadata": {},
   "outputs": [],
   "source": [
    "cort_features.reset_index().groupby(\"saliva_feature\").apply(lambda df: pg.linear_regression(df['MEQ'], df['cortisol'], remove_na=True))"
   ]
  },
  {
   "cell_type": "markdown",
   "metadata": {},
   "source": [
    "### Within Ideal Bedtime"
   ]
  },
  {
   "cell_type": "markdown",
   "metadata": {},
   "source": [
    "#### Class Distribution"
   ]
  },
  {
   "cell_type": "code",
   "execution_count": null,
   "metadata": {},
   "outputs": [],
   "source": [
    "describe_groups_df(cort_samples, \"within_ideal_bed_time\")"
   ]
  },
  {
   "cell_type": "markdown",
   "metadata": {},
   "source": [
    "#### Raw Cortisol"
   ]
  },
  {
   "cell_type": "markdown",
   "metadata": {},
   "source": [
    "##### Plots"
   ]
  },
  {
   "cell_type": "code",
   "execution_count": null,
   "metadata": {},
   "outputs": [],
   "source": [
    "x = 'sample'\n",
    "y = 'cortisol'\n",
    "hue = 'within_ideal_bed_time'\n",
    "style = 'within_ideal_bed_time'\n",
    "\n",
    "fig, ax = plt.subplots()\n",
    "\n",
    "bp.plotting.lineplot(cort_samples, x=x, y=y, hue=hue, style=style, xlabel=xlabel_lp, xticklabels=xticklabels_lp, ylabel=ylabel_lp, ax=ax)\n",
    "\n",
    "fig.tight_layout()\n",
    "if export:\n",
    "    fig.savefig(plot_path.joinpath(\"img_car_within_bedtime.pdf\"), transparent=True)"
   ]
  },
  {
   "cell_type": "markdown",
   "metadata": {},
   "source": [
    "##### Statistics"
   ]
  },
  {
   "cell_type": "code",
   "execution_count": null,
   "metadata": {},
   "outputs": [],
   "source": [
    "pipeline = analysis_saliva_raw(cort_samples, variable=\"within_ideal_bed_time\")\n",
    "pipeline.export_statistics(stats_path.joinpath(\"analysis_cortisol_raw_ideal_bedtime.xlsx\"))\n",
    "pipeline.display_results(posthoc=False)"
   ]
  },
  {
   "cell_type": "markdown",
   "metadata": {},
   "source": [
    "#### Features"
   ]
  },
  {
   "cell_type": "markdown",
   "metadata": {},
   "source": [
    "##### Plots"
   ]
  },
  {
   "cell_type": "code",
   "execution_count": null,
   "metadata": {},
   "outputs": [],
   "source": [
    "x = 'saliva_feature'\n",
    "y = 'cortisol'\n",
    "hue = 'within_ideal_bed_time'\n",
    "\n",
    "cats = [\"auc\", \"slope\", \"max_inc\"]\n",
    "\n",
    "notch = False\n",
    "\n",
    "fig, axs = plt.subplots(figsize=(12,5), ncols=len(cats))\n",
    "for ax, cat in zip(axs, cats):\n",
    "    data_plot = cort_features.unstack().filter(like=cat).stack()    \n",
    "    sns.boxplot(data=data_plot.reset_index(), x=x, y=y, hue=hue, ax=ax, notch=notch)\n",
    "    h, l = ax.get_legend_handles_labels()\n",
    "    ax.legend().remove()\n",
    "\n",
    "fig.legend(h,l, loc='upper right', bbox_to_anchor=(1.0, 1.0))\n",
    "fig.tight_layout(rect=(0, 0, 0.85, 1.0))\n",
    "if export:\n",
    "    fig.savefig(plot_path.joinpath(\"img_boxplot_car_wakeup_source.pdf\"), transparent=True)"
   ]
  },
  {
   "cell_type": "markdown",
   "metadata": {},
   "source": [
    "##### Statistics"
   ]
  },
  {
   "cell_type": "code",
   "execution_count": null,
   "metadata": {},
   "outputs": [],
   "source": [
    "pipeline = analysis_saliva_features(cort_features, variable=\"within_ideal_bed_time\")\n",
    "pipeline.export_statistics(stats_path.joinpath(\"analysis_cortisol_features_ideal_bedtime.xlsx\"))\n",
    "pipeline.display_results(posthoc=False)"
   ]
  },
  {
   "cell_type": "markdown",
   "metadata": {},
   "source": [
    "### Wakeup Source"
   ]
  },
  {
   "cell_type": "markdown",
   "metadata": {},
   "source": [
    "#### Raw Cortisol"
   ]
  },
  {
   "cell_type": "markdown",
   "metadata": {},
   "source": [
    "##### Plots"
   ]
  },
  {
   "cell_type": "code",
   "execution_count": null,
   "metadata": {},
   "outputs": [],
   "source": [
    "x = 'sample'\n",
    "y = 'cortisol'\n",
    "\n",
    "hue = 'wakeup_source'\n",
    "style = 'wakeup_source'\n",
    "\n",
    "hue_order = ['Spontaneous', 'Alarm', 'Not Specified']\n",
    "\n",
    "fig, ax = plt.subplots()\n",
    "bp.plotting.lineplot(cort_samples, x=x, y=y, hue=hue, hue_order=hue_order, style=style, ax=ax)\n",
    "fig.tight_layout()\n",
    "if export:\n",
    "    fig.savefig(plot_path.joinpath(\"img_car_wakeup_source.pdf\"), transparent=True)"
   ]
  },
  {
   "cell_type": "markdown",
   "metadata": {},
   "source": [
    "##### Statistics"
   ]
  },
  {
   "cell_type": "code",
   "execution_count": null,
   "metadata": {},
   "outputs": [],
   "source": [
    "pipeline = analysis_saliva_raw(cort_samples, variable=\"wakeup_source\")\n",
    "pipeline.export_statistics(stats_path.joinpath(\"analysis_cortisol_raw_wakeup_source.xlsx\"))\n",
    "pipeline.display_results(posthoc=False)"
   ]
  },
  {
   "cell_type": "markdown",
   "metadata": {},
   "source": [
    "#### Features"
   ]
  },
  {
   "cell_type": "markdown",
   "metadata": {},
   "source": [
    "##### Plots"
   ]
  },
  {
   "cell_type": "code",
   "execution_count": null,
   "metadata": {},
   "outputs": [],
   "source": [
    "cort_features.index.get_level_values('wakeup_source').unique()"
   ]
  },
  {
   "cell_type": "code",
   "execution_count": null,
   "metadata": {},
   "outputs": [],
   "source": [
    "x = 'saliva_feature'\n",
    "y = 'cortisol'\n",
    "hue = 'wakeup_source'\n",
    "\n",
    "notch = False\n",
    "\n",
    "order = ['Alarm', 'Spontaneous', 'Not Specified']\n",
    "cats = [\"auc\", \"slope\", \"max_inc\"]\n",
    "\n",
    "fig, axs = plt.subplots(figsize=(12,5), ncols=len(cats))\n",
    "for ax, cat in zip(axs, cats):\n",
    "    data_plot = cort_features.unstack().filter(like=cat).stack()    \n",
    "    sns.boxplot(data=data_plot.reset_index(), x=x, y=y, hue=hue, hue_order=order, ax=ax, notch=notch)\n",
    "    h, l = ax.get_legend_handles_labels()\n",
    "    ax.legend().remove()\n",
    "\n",
    "fig.legend(h,l, loc='upper right', bbox_to_anchor=(1.0, 1.0))\n",
    "fig.tight_layout(rect=(0, 0, 0.85, 1.0))\n",
    "if export:\n",
    "    fig.savefig(plot_path.joinpath(\"img_boxplot_car_features_wakeup_source.pdf\"), transparent=True)"
   ]
  },
  {
   "cell_type": "markdown",
   "metadata": {},
   "source": [
    "##### Statistics"
   ]
  },
  {
   "cell_type": "code",
   "execution_count": null,
   "metadata": {},
   "outputs": [],
   "source": [
    "pipeline = analysis_saliva_features(cort_features, variable=\"wakeup_source\")\n",
    "pipeline.export_statistics(stats_path.joinpath(\"analysis_cortisol_features_wakeup_source.xlsx\"))\n",
    "pipeline.display_results(posthoc=False)"
   ]
  },
  {
   "cell_type": "markdown",
   "metadata": {},
   "source": [
    "### Condition"
   ]
  },
  {
   "cell_type": "markdown",
   "metadata": {},
   "source": [
    "#### Class Distribution"
   ]
  },
  {
   "cell_type": "code",
   "execution_count": null,
   "metadata": {},
   "outputs": [],
   "source": [
    "describe_groups_df(cort_samples, \"condition\")"
   ]
  },
  {
   "cell_type": "markdown",
   "metadata": {},
   "source": [
    "#### Raw Cortisol"
   ]
  },
  {
   "cell_type": "markdown",
   "metadata": {},
   "source": [
    "##### Plots"
   ]
  },
  {
   "cell_type": "code",
   "execution_count": null,
   "metadata": {},
   "outputs": [],
   "source": [
    "x = 'sample'\n",
    "y = 'cortisol'\n",
    "hue = 'condition'\n",
    "style = 'condition'\n",
    "\n",
    "hue_order = ['Spontaneous', 'Known Alarm', 'Unknown Alarm']\n",
    "\n",
    "fig, ax = plt.subplots()\n",
    "bp.plotting.lineplot(cort_samples, x=x, y=y, hue=hue, hue_order=hue_order, style=style, xlabel=xlabel_lp, xticklabels=xticklabels_lp, ylabel=ylabel_lp, ax=ax)\n",
    "\n",
    "fig.tight_layout()\n",
    "if export:\n",
    "    fig.savefig(plot_path.joinpath(\"img_car_condition.pdf\"), transparent=True)"
   ]
  },
  {
   "cell_type": "markdown",
   "metadata": {},
   "source": [
    "##### Statistics"
   ]
  },
  {
   "cell_type": "code",
   "execution_count": null,
   "metadata": {},
   "outputs": [],
   "source": [
    "pipeline = analysis_saliva_raw(cort_samples, variable=\"condition\")\n",
    "pipeline.export_statistics(stats_path.joinpath(\"analysis_cortisol_raw_condition.xlsx\"))\n",
    "pipeline.display_results(posthoc=False)"
   ]
  },
  {
   "cell_type": "markdown",
   "metadata": {},
   "source": [
    "#### Features"
   ]
  },
  {
   "cell_type": "markdown",
   "metadata": {},
   "source": [
    "##### Plots"
   ]
  },
  {
   "cell_type": "code",
   "execution_count": null,
   "metadata": {},
   "outputs": [],
   "source": [
    "cort_features"
   ]
  },
  {
   "cell_type": "code",
   "execution_count": null,
   "metadata": {},
   "outputs": [],
   "source": [
    "x = 'saliva_feature'\n",
    "y = 'cortisol'\n",
    "hue = 'condition'\n",
    "\n",
    "notch = False\n",
    "\n",
    "cats = [\"auc_i\", \"slope\", \"max\"]\n",
    "\n",
    "boxplot_pairs = {\n",
    "    'auc_i': [(('auc_i', 'Spontaneous'),('auc_i', 'Unknown Alarm'))],\n",
    "    'slope': [(('slopeS0S3', 'Known Alarm'), ('slopeS0S3', 'Unknown Alarm')), (('slopeS0S3', 'Spontaneous'), ('slopeS0S3', 'Unknown Alarm')), (('slopeS0S4', 'Known Alarm'), ('slopeS0S4', 'Unknown Alarm')), (('slopeS0S4', 'Spontaneous'), ('slopeS0S4', 'Unknown Alarm'))],\n",
    "    'max': [(('max_inc', 'Known Alarm'), ('max_inc', 'Unknown Alarm')), (('max_inc', 'Spontaneous'), ('max_inc', 'Unknown Alarm'))]\n",
    "}\n",
    "\n",
    "xticklabels = {\n",
    "    'auc_i': [\"$AUC_I$\"],\n",
    "    'slope': [\"$a_{S0S3}$\", \"$a_{S0S4}$\"],\n",
    "    'max': [\"Max\", \"$inc_{max}$\"]\n",
    "}\n",
    "\n",
    "ylabels = {\n",
    "    'auc_i': r\"Cortisol AUC $\\left[\\frac{nmol \\cdot min}{l} \\right]$\",\n",
    "    'slope': r\"Cortisol Slope $\\left[\\frac{nmol}{l \\cdot min} \\right]$\",\n",
    "    'max': \"Cortisol [nmol/l]\"\n",
    "}\n",
    "\n",
    "fig, axs = plt.subplots(figsize=(15,5), ncols=len(cats))\n",
    "for ax, cat in zip(axs, cats):\n",
    "    data_plot = cort_features.unstack().filter(like=cat).stack()\n",
    "    sns.boxplot(data=data_plot.reset_index(), x=x, y=y, hue=hue, hue_order=order, ax=ax, notch=notch)\n",
    "    box_pairs = boxplot_pairs.get(cat, [])\n",
    "    if len(box_pairs) > 0:\n",
    "        add_stat_annotation(ax=ax, data=data_plot.reset_index(), box_pairs=box_pairs, x=x, y=y, hue=hue, hue_order=order, test='t-test_ind', comparisons_correction=None, pvalue_thresholds=[[1e-3, \"***\"], [1e-2, \"**\"], [0.05, \"*\"]])\n",
    "    \n",
    "    h, l = ax.get_legend_handles_labels()\n",
    "    ax.set_ylabel(ylabels[cat])\n",
    "    ax.set_xlabel(None)\n",
    "    ax.set_xticklabels(xticklabels[cat])\n",
    "    ax.legend().remove()\n",
    "\n",
    "fig.legend(h,l, loc='upper right', bbox_to_anchor=(1.0, 1.0))\n",
    "fig.tight_layout(rect=(0, 0, 0.84, 1.0))\n",
    "if export:\n",
    "    fig.savefig(plot_path.joinpath(\"img_boxplots_car_condition.pdf\"), transparent=True)"
   ]
  },
  {
   "cell_type": "markdown",
   "metadata": {},
   "source": [
    "##### Statistics"
   ]
  },
  {
   "cell_type": "code",
   "execution_count": null,
   "metadata": {},
   "outputs": [],
   "source": [
    "pipeline = analysis_saliva_features(cort_features, variable=\"condition\", test_type='anova')\n",
    "pipeline.export_statistics(stats_path.joinpath(\"analysis_cortisol_features_condition.xlsx\"))\n",
    "pipeline.display_results(posthoc=True)"
   ]
  },
  {
   "cell_type": "markdown",
   "metadata": {},
   "source": [
    "### Pairplots"
   ]
  },
  {
   "cell_type": "code",
   "execution_count": null,
   "metadata": {},
   "outputs": [],
   "source": [
    "g = sns.pairplot(data=cort_samples['cortisol'].unstack('sample').reset_index('condition'), hue='condition', corner=True)"
   ]
  },
  {
   "cell_type": "code",
   "execution_count": null,
   "metadata": {},
   "outputs": [],
   "source": [
    "g = sns.pairplot(data=np.log(cort_samples['cortisol'].unstack('sample')).reset_index('condition'), hue='condition', corner=True)\n",
    "g = g.map_lower(sns.kdeplot, levels=3, color=\".2\", alpha=0.5)"
   ]
  },
  {
   "cell_type": "code",
   "execution_count": null,
   "metadata": {},
   "outputs": [],
   "source": [
    "g = sns.pairplot(data=cort_features['cortisol'].unstack('saliva_feature').reset_index('condition'), hue='condition', corner=True)\n",
    "#g = g.map_lower(sns.kdeplot, levels=3, color=\".2\", alpha=0.5)"
   ]
  },
  {
   "cell_type": "code",
   "execution_count": null,
   "metadata": {},
   "outputs": [],
   "source": []
  }
 ],
 "metadata": {
  "kernelspec": {
   "display_name": "Python 3",
   "language": "python",
   "name": "python3"
  },
  "language_info": {
   "codemirror_mode": {
    "name": "ipython",
    "version": 3
   },
   "file_extension": ".py",
   "mimetype": "text/x-python",
   "name": "python",
   "nbconvert_exporter": "python",
   "pygments_lexer": "ipython3",
   "version": "3.8.3"
  }
 },
 "nbformat": 4,
 "nbformat_minor": 4
}
