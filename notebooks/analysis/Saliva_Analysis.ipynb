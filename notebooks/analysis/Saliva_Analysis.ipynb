{
 "cells": [
  {
   "cell_type": "markdown",
   "metadata": {},
   "source": [
    "# Saliva Analysis"
   ]
  },
  {
   "cell_type": "code",
   "execution_count": null,
   "metadata": {},
   "outputs": [],
   "source": [
    "from pathlib import Path\n",
    "\n",
    "import pandas as pd\n",
    "import numpy as np\n",
    "\n",
    "import biopsykit as bp\n",
    "from biopsykit.stats import StatsPipeline\n",
    "\n",
    "from carwatch_analysis.saliva_helper import analysis_saliva_raw, analysis_saliva_features\n",
    "\n",
    "from statannot import add_stat_annotation\n",
    "\n",
    "import pingouin as pg\n",
    "\n",
    "import matplotlib.pyplot as plt\n",
    "import seaborn as sns\n",
    "\n",
    "%matplotlib widget\n",
    "#%matplotlib inline\n",
    "%load_ext autoreload\n",
    "%autoreload 2"
   ]
  },
  {
   "cell_type": "code",
   "execution_count": null,
   "metadata": {},
   "outputs": [],
   "source": [
    "sns.set(style='ticks', context='talk')\n",
    "#plt.rcParams['figure.figsize'] = (15,5)\n",
    "plt.rcParams['figure.figsize'] = (10,5)\n",
    "plt.close('all')\n",
    "\n",
    "save_fig = False\n",
    "\n",
    "palette = bp.colors.fau_palette\n",
    "sns.set_palette(palette)\n",
    "palette"
   ]
  },
  {
   "cell_type": "code",
   "execution_count": null,
   "metadata": {},
   "outputs": [],
   "source": [
    "pg.options['round'] = 3"
   ]
  },
  {
   "cell_type": "code",
   "execution_count": null,
   "metadata": {},
   "outputs": [],
   "source": [
    "export_path = Path(\"../../exports\")\n",
    "plot_path = export_path.joinpath(\"plots\")\n",
    "stats_path = export_path.joinpath(\"statistics\")\n",
    "\n",
    "bp.utils.file_handling.mkdirs([plot_path, stats_path])"
   ]
  },
  {
   "cell_type": "markdown",
   "metadata": {
    "heading_collapsed": "true"
   },
   "source": [
    "## Import"
   ]
  },
  {
   "cell_type": "code",
   "execution_count": null,
   "metadata": {},
   "outputs": [],
   "source": [
    "cort_samples = pd.read_csv(export_path.joinpath(\"cortisol_samples_cleaned.csv\"))\n",
    "# assign each night an unique_id to allow repeated measures analyses and insert into dataframe\n",
    "cort_samples.insert(2, 'night_id', cort_samples['subject'] + '_' + cort_samples['night'].astype(str))\n",
    "cort_samples = cort_samples.drop(columns='time')\n",
    "cort_samples = cort_samples.set_index(list(cort_samples.columns.drop('cortisol')))\n",
    "\n",
    "cort_samples.head()"
   ]
  },
  {
   "cell_type": "code",
   "execution_count": null,
   "metadata": {},
   "outputs": [],
   "source": [
    "cort_features = pd.read_csv(export_path.joinpath(\"cortisol_features_cleaned.csv\"))\n",
    "cort_features['biomarker'] = cort_features['biomarker'].str.replace(\"cortisol_\", \"\")\n",
    "cort_features = cort_features.set_index(list(cort_features.columns[:-1]))\n",
    "cort_features.head()"
   ]
  },
  {
   "cell_type": "markdown",
   "metadata": {},
   "source": [
    "## Plots and Statistics"
   ]
  },
  {
   "cell_type": "code",
   "execution_count": null,
   "metadata": {},
   "outputs": [],
   "source": [
    "xlabel_lp = \"Time after Awakening [min]\"\n",
    "xticklabels_lp = [i*15 for i in range(5)]\n",
    "ylabel_lp = \"Cortisol [nmol/l]\"\n",
    "#ylim = [5, 16]"
   ]
  },
  {
   "cell_type": "markdown",
   "metadata": {
    "heading_collapsed": "true"
   },
   "source": [
    "### Weekend vs. Weekday"
   ]
  },
  {
   "cell_type": "markdown",
   "metadata": {
    "heading_collapsed": "true"
   },
   "source": [
    "#### Class Distribution"
   ]
  },
  {
   "cell_type": "code",
   "execution_count": null,
   "metadata": {},
   "outputs": [],
   "source": [
    "cort_samples.unstack().mean(axis=1).groupby(\"weekend\").describe()"
   ]
  },
  {
   "cell_type": "code",
   "execution_count": null,
   "metadata": {},
   "outputs": [],
   "source": [
    "order = [\"Spontaneous\", \"Known Alarm\", \"Unknown Alarm\"]\n",
    "\n",
    "fig, ax = plt.subplots()\n",
    "df_nights = pd.DataFrame(cort_samples.groupby([\"condition\", \"weekend\"]).size(), columns=[\"nights\"])\n",
    "df_nights = df_nights.groupby('condition').apply(lambda x: 100 * (x / x.sum())).T.stack().T\n",
    "df_nights.columns = df_nights.columns.droplevel(0)\n",
    "\n",
    "df_nights = df_nights.reindex(order)\n",
    "\n",
    "ax = df_nights.plot(kind='bar', stacked=True, ax=ax, rot=0)\n",
    "ax.legend().set_title(None)\n",
    "ax.set_ylabel(\"Recorded CARs [%]\")\n",
    "fig.tight_layout()\n",
    "\n",
    "if save_fig:\n",
    "    fig.savefig(plot_path.joinpath(\"img_barchart_weekdays.pdf\"), transparent=True)"
   ]
  },
  {
   "cell_type": "markdown",
   "metadata": {
    "heading_collapsed": "true"
   },
   "source": [
    "#### Raw Cortisol"
   ]
  },
  {
   "cell_type": "markdown",
   "metadata": {
    "heading_collapsed": "true"
   },
   "source": [
    "##### Plots"
   ]
  },
  {
   "cell_type": "code",
   "execution_count": null,
   "metadata": {},
   "outputs": [],
   "source": [
    "x = 'sample'\n",
    "y = 'cortisol'\n",
    "hue = 'weekend'\n",
    "style = 'weekend'\n",
    "\n",
    "dv = y\n",
    "group = hue\n",
    "\n",
    "fig, ax = plt.subplots(figsize=(10,5))\n",
    "bp.plotting.lineplot(cort_samples, x=x, y=y, hue=hue, style=style, ax=ax, xlabel=xlabel_lp, xticklabels=xticklabels_lp, ylabel=ylabel_lp)\n",
    "\n",
    "fig.tight_layout()\n",
    "if save_fig:\n",
    "    fig.savefig(plot_path.joinpath(\"img_car_weekend.pdf\"), transparent=True)"
   ]
  },
  {
   "cell_type": "markdown",
   "metadata": {
    "heading_collapsed": "true"
   },
   "source": [
    "##### Statistics"
   ]
  },
  {
   "cell_type": "code",
   "execution_count": null,
   "metadata": {},
   "outputs": [],
   "source": [
    "pipeline = analysis_saliva_raw(cort_samples, variable=\"weekend\")\n",
    "pipeline.export_statistics(stats_path.joinpath(\"analysis_cortisol_raw_weekend.xlsx\"))\n",
    "pipeline.display_results(posthoc=False)"
   ]
  },
  {
   "cell_type": "markdown",
   "metadata": {},
   "source": [
    "#### Features"
   ]
  },
  {
   "cell_type": "markdown",
   "metadata": {
    "heading_collapsed": "true"
   },
   "source": [
    "##### Plots"
   ]
  },
  {
   "cell_type": "code",
   "execution_count": null,
   "metadata": {},
   "outputs": [],
   "source": [
    "x = 'biomarker'\n",
    "y = 'cortisol'\n",
    "hue = 'weekend'\n",
    "\n",
    "cats = [\"auc\", \"slope\", \"max_inc\"]\n",
    "\n",
    "notch = False\n",
    "\n",
    "fig, axs = plt.subplots(figsize=(12,5), ncols=len(cats))\n",
    "for ax, cat in zip(axs, cats):\n",
    "    data_plot = cort_features.unstack().filter(like=cat).stack()    \n",
    "    sns.boxplot(data=data_plot.reset_index(), x=x, y=y, hue=hue, ax=ax, notch=notch)\n",
    "    h, l = ax.get_legend_handles_labels()\n",
    "    ax.legend().remove()\n",
    "\n",
    "fig.legend(h,l, loc='upper right', bbox_to_anchor=(1.0, 1.0))\n",
    "fig.tight_layout(rect=(0, 0, 0.85, 1.0))\n",
    "if save_fig:\n",
    "    fig.savefig(plot_path.joinpath(\"img_boxplots_car_features_weekend.pdf\"), transparent=True)"
   ]
  },
  {
   "cell_type": "markdown",
   "metadata": {
    "heading_collapsed": "true"
   },
   "source": [
    "##### Statistics"
   ]
  },
  {
   "cell_type": "code",
   "execution_count": null,
   "metadata": {},
   "outputs": [],
   "source": [
    "pipeline = analysis_saliva_features(cort_features, variable=\"weekend\")\n",
    "pipeline.export_statistics(stats_path.joinpath(\"analysis_cortisol_features_weekend.xlsx\"))\n",
    "pipeline.display_results(posthoc=False)"
   ]
  },
  {
   "cell_type": "markdown",
   "metadata": {
    "heading_collapsed": "true"
   },
   "source": [
    "### Chronotype"
   ]
  },
  {
   "cell_type": "markdown",
   "metadata": {
    "heading_collapsed": "true"
   },
   "source": [
    "#### Class Distribution"
   ]
  },
  {
   "cell_type": "code",
   "execution_count": null,
   "metadata": {},
   "outputs": [],
   "source": [
    "cort_samples.unstack().mean(axis=1).groupby(\"chronotype\").describe()"
   ]
  },
  {
   "cell_type": "markdown",
   "metadata": {},
   "source": [
    "#### Raw Cortisol"
   ]
  },
  {
   "cell_type": "markdown",
   "metadata": {
    "heading_collapsed": "true"
   },
   "source": [
    "##### Plots"
   ]
  },
  {
   "cell_type": "code",
   "execution_count": null,
   "metadata": {},
   "outputs": [],
   "source": [
    "x = 'sample'\n",
    "y = 'cortisol'\n",
    "\n",
    "hue = 'chronotype'\n",
    "style = 'chronotype'\n",
    "\n",
    "order = ['Morning', 'Intermediate', 'Evening']\n",
    "\n",
    "fig, ax = plt.subplots()\n",
    "bp.plotting.lineplot(cort_samples, x=x, y=y, hue=hue, order=order, style=style, xlabel=xlabel_lp, xticklabels=xticklabels_lp, ylabel=ylabel_lp, ax=ax)\n",
    "fig.tight_layout()\n",
    "if save_fig:\n",
    "    fig.savefig(plot_path.joinpath(\"img_car_chronotype.pdf\"), transparent=True)"
   ]
  },
  {
   "cell_type": "markdown",
   "metadata": {
    "heading_collapsed": "true"
   },
   "source": [
    "##### Statistics"
   ]
  },
  {
   "cell_type": "code",
   "execution_count": null,
   "metadata": {},
   "outputs": [],
   "source": [
    "pipeline = analysis_saliva_raw(cort_samples, variable=\"chronotype\")\n",
    "pipeline.export_statistics(stats_path.joinpath(\"analysis_cortisol_raw_chronotype.xlsx\"))\n",
    "pipeline.display_results(posthoc=False)"
   ]
  },
  {
   "cell_type": "markdown",
   "metadata": {},
   "source": [
    "#### Features"
   ]
  },
  {
   "cell_type": "markdown",
   "metadata": {
    "heading_collapsed": "true"
   },
   "source": [
    "##### Plots"
   ]
  },
  {
   "cell_type": "code",
   "execution_count": null,
   "metadata": {},
   "outputs": [],
   "source": [
    "x = 'biomarker'\n",
    "y = 'cortisol'\n",
    "hue = 'chronotype'\n",
    "\n",
    "cats = [\"auc\", \"slope\", \"max_inc\"]\n",
    "order = ['Morning', 'Intermediate', 'Evening']\n",
    "\n",
    "notch = False\n",
    "\n",
    "fig, axs = plt.subplots(figsize=(12,5), ncols=len(cats))\n",
    "for ax, cat in zip(axs, cats):\n",
    "    data_plot = cort_features.unstack().filter(like=cat).stack()    \n",
    "    sns.boxplot(data=data_plot.reset_index(), x=x, y=y, hue=hue, hue_order=order, ax=ax, notch=notch)\n",
    "    h, l = ax.get_legend_handles_labels()\n",
    "    ax.legend().remove()\n",
    "\n",
    "fig.legend(h,l, loc='upper right', bbox_to_anchor=(1.0, 1.0))\n",
    "fig.tight_layout(rect=(0, 0, 0.85, 1.0))\n",
    "\n",
    "if save_fig:\n",
    "    fig.savefig(plot_path.joinpath(\"img_boxplot_car_features_chronotype.pdf\"), transparent=True)"
   ]
  },
  {
   "cell_type": "markdown",
   "metadata": {
    "heading_collapsed": "true"
   },
   "source": [
    "##### Statistics"
   ]
  },
  {
   "cell_type": "code",
   "execution_count": null,
   "metadata": {},
   "outputs": [],
   "source": [
    "pipeline = analysis_saliva_features(cort_features, variable=\"chronotype\")\n",
    "pipeline.export_statistics(stats_path.joinpath(\"analysis_cortisol_features_chronotype.xlsx\"))\n",
    "pipeline.display_results(posthoc=False)"
   ]
  },
  {
   "cell_type": "markdown",
   "metadata": {},
   "source": [
    "### Within Ideal Bedtime"
   ]
  },
  {
   "cell_type": "markdown",
   "metadata": {
    "heading_collapsed": "true"
   },
   "source": [
    "#### Class Distribution"
   ]
  },
  {
   "cell_type": "code",
   "execution_count": null,
   "metadata": {},
   "outputs": [],
   "source": [
    "cort_samples.unstack().mean(axis=1).groupby(\"within_ideal_bed_time\").describe()"
   ]
  },
  {
   "cell_type": "markdown",
   "metadata": {},
   "source": [
    "#### Raw Cortisol"
   ]
  },
  {
   "cell_type": "markdown",
   "metadata": {
    "heading_collapsed": "true"
   },
   "source": [
    "##### Plots"
   ]
  },
  {
   "cell_type": "code",
   "execution_count": null,
   "metadata": {},
   "outputs": [],
   "source": [
    "x = 'sample'\n",
    "y = 'cortisol'\n",
    "hue = 'within_ideal_bed_time'\n",
    "style = 'within_ideal_bed_time'\n",
    "\n",
    "fig, ax = plt.subplots()\n",
    "\n",
    "bp.plotting.lineplot(cort_samples, x=x, y=y, hue=hue, style=style, xlabel=xlabel_lp, xticklabels=xticklabels_lp, ylabel=ylabel_lp, ax=ax)\n",
    "\n",
    "fig.tight_layout()\n",
    "if save_fig:\n",
    "    fig.savefig(plot_path.joinpath(\"img_car_within_bedtime.pdf\"), transparent=True)"
   ]
  },
  {
   "cell_type": "markdown",
   "metadata": {
    "heading_collapsed": "true"
   },
   "source": [
    "##### Statistics"
   ]
  },
  {
   "cell_type": "code",
   "execution_count": null,
   "metadata": {},
   "outputs": [],
   "source": [
    "pipeline = analysis_saliva_raw(cort_samples, variable=\"within_ideal_bed_time\")\n",
    "pipeline.export_statistics(stats_path.joinpath(\"analysis_cortisol_raw_ideal_bedtime.xlsx\"))\n",
    "pipeline.display_results(posthoc=False)"
   ]
  },
  {
   "cell_type": "markdown",
   "metadata": {},
   "source": [
    "#### Features"
   ]
  },
  {
   "cell_type": "markdown",
   "metadata": {
    "heading_collapsed": "true"
   },
   "source": [
    "##### Plots"
   ]
  },
  {
   "cell_type": "code",
   "execution_count": null,
   "metadata": {},
   "outputs": [],
   "source": [
    "x = 'biomarker'\n",
    "y = 'cortisol'\n",
    "hue = 'within_ideal_bed_time'\n",
    "\n",
    "cats = [\"auc\", \"slope\", \"max_inc\"]\n",
    "\n",
    "notch = False\n",
    "\n",
    "fig, axs = plt.subplots(figsize=(12,5), ncols=len(cats))\n",
    "for ax, cat in zip(axs, cats):\n",
    "    data_plot = cort_features.unstack().filter(like=cat).stack()    \n",
    "    sns.boxplot(data=data_plot.reset_index(), x=x, y=y, hue=hue, ax=ax, notch=notch)\n",
    "    h, l = ax.get_legend_handles_labels()\n",
    "    ax.legend().remove()\n",
    "\n",
    "fig.legend(h,l, loc='upper right', bbox_to_anchor=(1.0, 1.0))\n",
    "fig.tight_layout(rect=(0, 0, 0.85, 1.0))\n",
    "if save_fig:\n",
    "    fig.savefig(plot_path.joinpath(\"img_boxplot_car_wakeup_source.pdf\"), transparent=True)"
   ]
  },
  {
   "cell_type": "markdown",
   "metadata": {
    "heading_collapsed": "true"
   },
   "source": [
    "##### Statistics"
   ]
  },
  {
   "cell_type": "code",
   "execution_count": null,
   "metadata": {},
   "outputs": [],
   "source": [
    "pipeline = analysis_saliva_features(cort_features, variable=\"within_ideal_bed_time\")\n",
    "pipeline.export_statistics(stats_path.joinpath(\"analysis_cortisol_features_ideal_bedtime.xlsx\"))\n",
    "pipeline.display_results(posthoc=False)"
   ]
  },
  {
   "cell_type": "markdown",
   "metadata": {},
   "source": [
    "### Wakeup Source"
   ]
  },
  {
   "cell_type": "markdown",
   "metadata": {},
   "source": [
    "#### Raw Cortisol"
   ]
  },
  {
   "cell_type": "markdown",
   "metadata": {
    "heading_collapsed": "true"
   },
   "source": [
    "##### Plots"
   ]
  },
  {
   "cell_type": "code",
   "execution_count": null,
   "metadata": {},
   "outputs": [],
   "source": [
    "x = 'sample'\n",
    "y = 'cortisol'\n",
    "\n",
    "hue = 'wakeup_source'\n",
    "style = 'wakeup_source'\n",
    "\n",
    "order = ['Spontaneous', 'Alarm', 'Not Specified']\n",
    "\n",
    "fig, ax = plt.subplots()\n",
    "bp.plotting.lineplot(cort_samples, x=x, y=y, hue=hue, order=order, style=style, ax=ax)\n",
    "fig.tight_layout()\n",
    "if save_fig:\n",
    "    fig.savefig(plot_path.joinpath(\"img_car_wakeup_source.pdf\"), transparent=True)"
   ]
  },
  {
   "cell_type": "markdown",
   "metadata": {
    "heading_collapsed": "true"
   },
   "source": [
    "##### Statistics"
   ]
  },
  {
   "cell_type": "code",
   "execution_count": null,
   "metadata": {},
   "outputs": [],
   "source": [
    "pipeline = analysis_saliva_raw(cort_samples, variable=\"wakeup_source\")\n",
    "pipeline.export_statistics(stats_path.joinpath(\"analysis_cortisol_raw_wakeup_source.xlsx\"))\n",
    "pipeline.display_results(posthoc=False)"
   ]
  },
  {
   "cell_type": "markdown",
   "metadata": {},
   "source": [
    "#### Features"
   ]
  },
  {
   "cell_type": "markdown",
   "metadata": {
    "heading_collapsed": "true"
   },
   "source": [
    "##### Plots"
   ]
  },
  {
   "cell_type": "code",
   "execution_count": null,
   "metadata": {},
   "outputs": [],
   "source": [
    "x = 'biomarker'\n",
    "y = 'cortisol'\n",
    "hue = 'wakeup_source'\n",
    "\n",
    "notch = False\n",
    "\n",
    "cats = [\"auc\", \"slope\", \"max_inc\"]\n",
    "\n",
    "fig, axs = plt.subplots(figsize=(12,5), ncols=len(cats))\n",
    "for ax, cat in zip(axs, cats):\n",
    "    data_plot = cort_features.unstack().filter(like=cat).stack()    \n",
    "    sns.boxplot(data=data_plot.reset_index(), x=x, y=y, hue=hue, hue_order=order, ax=ax, notch=notch)\n",
    "    h, l = ax.get_legend_handles_labels()\n",
    "    ax.legend().remove()\n",
    "\n",
    "fig.legend(h,l, loc='upper right', bbox_to_anchor=(1.0, 1.0))\n",
    "fig.tight_layout(rect=(0, 0, 0.85, 1.0))\n",
    "if save_fig:\n",
    "    fig.savefig(plot_path.joinpath(\"img_boxplot_car_features_wakeup_source.pdf\"), transparent=True)"
   ]
  },
  {
   "cell_type": "markdown",
   "metadata": {
    "heading_collapsed": "true"
   },
   "source": [
    "##### Statistics"
   ]
  },
  {
   "cell_type": "code",
   "execution_count": null,
   "metadata": {},
   "outputs": [],
   "source": [
    "pipeline = analysis_saliva_features(cort_features, variable=\"wakeup_source\")\n",
    "pipeline.export_statistics(stats_path.joinpath(\"analysis_cortisol_features_wakeup_source.xlsx\"))\n",
    "pipeline.display_results(posthoc=False)"
   ]
  },
  {
   "cell_type": "markdown",
   "metadata": {},
   "source": [
    "### Condition"
   ]
  },
  {
   "cell_type": "markdown",
   "metadata": {
    "heading_collapsed": "true"
   },
   "source": [
    "#### Class Distribution"
   ]
  },
  {
   "cell_type": "code",
   "execution_count": null,
   "metadata": {},
   "outputs": [],
   "source": [
    "cort_samples.unstack().mean(axis=1).groupby(\"condition\").describe()"
   ]
  },
  {
   "cell_type": "markdown",
   "metadata": {},
   "source": [
    "#### Raw Cortisol"
   ]
  },
  {
   "cell_type": "markdown",
   "metadata": {
    "heading_collapsed": "true"
   },
   "source": [
    "##### Plots"
   ]
  },
  {
   "cell_type": "code",
   "execution_count": null,
   "metadata": {},
   "outputs": [],
   "source": [
    "x = 'sample'\n",
    "y = 'cortisol'\n",
    "hue = 'condition'\n",
    "style = 'condition'\n",
    "\n",
    "order = ['Spontaneous', 'Known Alarm', 'Unknown Alarm']\n",
    "\n",
    "fig, ax = plt.subplots()\n",
    "bp.plotting.lineplot(cort_samples, x=x, y=y, hue=hue, order=order, style=style, xlabel=xlabel_lp, xticklabels=xticklabels_lp, ylabel=ylabel_lp, ax=ax)\n",
    "\n",
    "fig.tight_layout()\n",
    "if save_fig:\n",
    "    fig.savefig(plot_path.joinpath(\"img_car_condition.pdf\"), transparent=True)"
   ]
  },
  {
   "cell_type": "markdown",
   "metadata": {
    "heading_collapsed": "true"
   },
   "source": [
    "##### Statistics"
   ]
  },
  {
   "cell_type": "code",
   "execution_count": null,
   "metadata": {},
   "outputs": [],
   "source": [
    "pipeline = analysis_saliva_raw(cort_samples, variable=\"condition\")\n",
    "pipeline.export_statistics(stats_path.joinpath(\"analysis_cortisol_raw_condition.xlsx\"))\n",
    "pipeline.display_results(posthoc=False)"
   ]
  },
  {
   "cell_type": "markdown",
   "metadata": {},
   "source": [
    "#### Features"
   ]
  },
  {
   "cell_type": "markdown",
   "metadata": {
    "heading_collapsed": "true"
   },
   "source": [
    "##### Plots"
   ]
  },
  {
   "cell_type": "code",
   "execution_count": null,
   "metadata": {},
   "outputs": [],
   "source": [
    "x = 'biomarker'\n",
    "y = 'cortisol'\n",
    "hue = 'condition'\n",
    "\n",
    "notch = False\n",
    "\n",
    "cats = [\"auc_i\", \"slope\", \"max_inc\"]\n",
    "\n",
    "boxplot_pairs = {\n",
    "    'auc_i': [(('auc_i', 'Spontaneous'),('auc_i', 'Unknown Alarm'))],\n",
    "    'slope': [(('slope03', 'Known Alarm'), ('slope03', 'Unknown Alarm')), (('slope03', 'Spontaneous'), ('slope03', 'Unknown Alarm')), (('slope04', 'Known Alarm'), ('slope04', 'Unknown Alarm')), (('slope04', 'Spontaneous'), ('slope04', 'Unknown Alarm'))],\n",
    "    'max_inc': [(('max_inc', 'Known Alarm'), ('max_inc', 'Unknown Alarm')), (('max_inc', 'Spontaneous'), ('max_inc', 'Unknown Alarm'))],\n",
    "}\n",
    "\n",
    "xticklabels = {\n",
    "    'auc_i': [\"$AUC_I$\"],\n",
    "    'slope': [\"$a_{S0S3}$\", \"$a_{S0S4}$\"],\n",
    "    'max_inc': [\"$inc_{max}$\"],\n",
    "}\n",
    "\n",
    "ylabels = {\n",
    "    'auc_i': r\"Cortisol AUC $\\left[\\frac{nmol \\cdot min}{l} \\right]$\",\n",
    "    'slope': r\"Cortisol Slope $\\left[\\frac{nmol}{l \\cdot min} \\right]$\",\n",
    "    'max_inc': \"Cortisol [nmol/l]\",\n",
    "}\n",
    "\n",
    "fig, axs = plt.subplots(figsize=(15,5), ncols=len(cats))\n",
    "for ax, cat in zip(axs, cats):\n",
    "    data_plot = cort_features.unstack().filter(like=cat).stack()\n",
    "    sns.boxplot(data=data_plot.reset_index(), x=x, y=y, hue=hue, hue_order=order, ax=ax, notch=notch)\n",
    "    \n",
    "    add_stat_annotation(ax=ax, data=data_plot.reset_index(), box_pairs=boxplot_pairs[cat], x=x, y=y, hue=hue, hue_order=order, test='t-test_ind', comparisons_correction=None, pvalue_thresholds=[[1e-3, \"***\"], [1e-2, \"**\"], [0.05, \"*\"]])\n",
    "    \n",
    "    h, l = ax.get_legend_handles_labels()\n",
    "    ax.set_ylabel(ylabels[cat])\n",
    "    ax.set_xlabel(None)\n",
    "    ax.set_xticklabels(xticklabels[cat])\n",
    "    ax.legend().remove()\n",
    "\n",
    "fig.legend(h,l, loc='upper right', bbox_to_anchor=(1.0, 1.0))\n",
    "fig.tight_layout(rect=(0, 0, 0.84, 1.0))\n",
    "if save_fig:\n",
    "    fig.savefig(plot_path.joinpath(\"img_boxplots_car_condition.pdf\"), transparent=True)"
   ]
  },
  {
   "cell_type": "markdown",
   "metadata": {
    "heading_collapsed": "true"
   },
   "source": [
    "##### Statistics"
   ]
  },
  {
   "cell_type": "code",
   "execution_count": null,
   "metadata": {},
   "outputs": [],
   "source": [
    "pipeline = analysis_saliva_features(cort_features, variable=\"condition\", test_type='anova')\n",
    "pipeline.export_statistics(stats_path.joinpath(\"analysis_cortisol_features_condition.xlsx\"))\n",
    "pipeline.display_results(posthoc=False)"
   ]
  },
  {
   "cell_type": "markdown",
   "metadata": {},
   "source": [
    "### Pairplots"
   ]
  },
  {
   "cell_type": "code",
   "execution_count": null,
   "metadata": {},
   "outputs": [],
   "source": [
    "g = sns.pairplot(data=cort_samples['cortisol'].unstack('sample').reset_index('condition'), hue='condition', corner=True)"
   ]
  },
  {
   "cell_type": "code",
   "execution_count": null,
   "metadata": {},
   "outputs": [],
   "source": [
    "g = sns.pairplot(data=np.log(cort_samples['cortisol'].unstack('sample')).reset_index('condition'), hue='condition', corner=True)\n",
    "g = g.map_lower(sns.kdeplot, levels=3, color=\".2\", alpha=0.5)"
   ]
  },
  {
   "cell_type": "code",
   "execution_count": null,
   "metadata": {},
   "outputs": [],
   "source": [
    "g = sns.pairplot(data=cort_features['cortisol'].unstack('biomarker').reset_index('condition'), hue='condition', corner=True)\n",
    "#g = g.map_lower(sns.kdeplot, levels=3, color=\".2\", alpha=0.5)"
   ]
  },
  {
   "cell_type": "code",
   "execution_count": null,
   "metadata": {},
   "outputs": [],
   "source": []
  }
 ],
 "metadata": {
  "kernelspec": {
   "display_name": "Python 3",
   "language": "python",
   "name": "python3"
  },
  "language_info": {
   "codemirror_mode": {
    "name": "ipython",
    "version": 3
   },
   "file_extension": ".py",
   "mimetype": "text/x-python",
   "name": "python",
   "nbconvert_exporter": "python",
   "pygments_lexer": "ipython3",
   "version": "3.8.3"
  }
 },
 "nbformat": 4,
 "nbformat_minor": 4
}
