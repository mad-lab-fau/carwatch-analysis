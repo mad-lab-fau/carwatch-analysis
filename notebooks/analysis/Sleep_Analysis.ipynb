{
 "cells": [
  {
   "cell_type": "markdown",
   "metadata": {},
   "source": [
    "# Sleep Analysis"
   ]
  },
  {
   "cell_type": "code",
   "execution_count": null,
   "metadata": {},
   "outputs": [],
   "source": [
    "from pathlib import Path\n",
    "\n",
    "import pandas as pd\n",
    "import numpy as np\n",
    "\n",
    "import biopsykit as bp\n",
    "\n",
    "import pingouin as pg\n",
    "\n",
    "import matplotlib.pyplot as plt\n",
    "import seaborn as sns\n",
    "\n",
    "%matplotlib widget\n",
    "#%matplotlib inline\n",
    "%load_ext autoreload\n",
    "%autoreload 2"
   ]
  },
  {
   "cell_type": "code",
   "execution_count": null,
   "metadata": {},
   "outputs": [],
   "source": [
    "sns.set(style='ticks', context='notebook')\n",
    "#plt.rcParams['figure.figsize'] = (15,5)\n",
    "plt.rcParams['figure.figsize'] = (10,5)\n",
    "plt.close('all')\n",
    "\n",
    "palette = bp.colors.fau_palette\n",
    "sns.set_palette(palette)\n",
    "palette"
   ]
  },
  {
   "cell_type": "code",
   "execution_count": null,
   "metadata": {},
   "outputs": [],
   "source": [
    "pg.options['round'] = 3"
   ]
  },
  {
   "cell_type": "code",
   "execution_count": null,
   "metadata": {},
   "outputs": [],
   "source": [
    "export_path = Path(\"../../exports\")"
   ]
  },
  {
   "cell_type": "markdown",
   "metadata": {},
   "source": [
    "## Import"
   ]
  },
  {
   "cell_type": "code",
   "execution_count": null,
   "metadata": {},
   "outputs": [],
   "source": [
    "imu_data = pd.read_csv(export_path.joinpath(\"imu_features_complete.csv\"), index_col=['subject', 'night'])\n",
    "imu_data.head()"
   ]
  },
  {
   "cell_type": "markdown",
   "metadata": {},
   "source": [
    "Load Cortisol Data and use the as index for the IMU data to join on"
   ]
  },
  {
   "cell_type": "code",
   "execution_count": null,
   "metadata": {},
   "outputs": [],
   "source": [
    "cort_samples = pd.read_csv(export_path.joinpath(\"cortisol_samples_cleaned.csv\"))\n",
    "# assign each night an unique_id to allow repeated measures analyses and insert into dataframe\n",
    "cort_samples.insert(2, 'night_id', cort_samples['subject'] + '_' + cort_samples['night'].astype(str))\n",
    "cort_samples = cort_samples.drop(columns=['time'])\n",
    "cort_samples = cort_samples.set_index(list(cort_samples.columns.drop('cortisol')))"
   ]
  },
  {
   "cell_type": "code",
   "execution_count": null,
   "metadata": {},
   "outputs": [],
   "source": [
    "data_index = cort_samples.drop(columns='cortisol').unstack()\n",
    "data_index.columns = []\n",
    "imu_data = data_index.join(imu_data, how='inner')\n",
    "imu_data.columns.name = 'feature'\n",
    "imu_data = pd.DataFrame(imu_data.stack(), columns=[\"imu\"])"
   ]
  },
  {
   "cell_type": "code",
   "execution_count": null,
   "metadata": {},
   "outputs": [],
   "source": [
    "imu_data.head()"
   ]
  },
  {
   "cell_type": "markdown",
   "metadata": {},
   "source": [
    "## Plots and Statistics"
   ]
  },
  {
   "cell_type": "code",
   "execution_count": null,
   "metadata": {},
   "outputs": [],
   "source": [
    "order = ['Spontaneous', 'Known Alarm', 'Unknown Alarm']"
   ]
  },
  {
   "cell_type": "markdown",
   "metadata": {},
   "source": [
    "### Weekend vs. Weekday"
   ]
  },
  {
   "cell_type": "markdown",
   "metadata": {},
   "source": [
    "Condition per Weekday Type"
   ]
  },
  {
   "cell_type": "code",
   "execution_count": null,
   "metadata": {},
   "outputs": [],
   "source": [
    "fig, ax = plt.subplots()\n",
    "df_nights = pd.DataFrame(imu_data.groupby([\"condition\", \"weekend\"]).size(), columns=[\"nights\"])\n",
    "df_nights = df_nights.groupby('condition').apply(lambda x: 100 * (x / x.sum())).T.stack().T\n",
    "df_nights.columns = df_nights.columns.droplevel(0)\n",
    "\n",
    "df_nights = df_nights.reindex(order)\n",
    "\n",
    "display(df_nights.T)\n",
    "\n",
    "ax = df_nights.plot(kind='bar', stacked=True, ax=ax, rot=0)\n",
    "ax.legend().set_title(None)\n",
    "ax.set_ylabel(\"Recorded CARs [%]\")\n",
    "fig.tight_layout()"
   ]
  },
  {
   "cell_type": "code",
   "execution_count": null,
   "metadata": {},
   "outputs": [],
   "source": [
    "hue = 'feature'\n",
    "\n",
    "dv = 'imu'\n",
    "between = 'weekend'\n",
    "group = 'weekend'"
   ]
  },
  {
   "cell_type": "code",
   "execution_count": null,
   "metadata": {},
   "outputs": [],
   "source": [
    "df_stats = imu_data.unstack().filter(like=\"last\").filter(like=\"60\").stack()\n",
    "df_stats = df_stats.loc[~(df_stats.groupby(hue)[dv].apply(lambda df: (df - df.mean())/df.std()) > 3)]\n",
    "\n",
    "df_norm = df_stats.reset_index().groupby(hue).apply(lambda df: pg.normality(data=df, dv=dv, group=group))\n",
    "df_anova = df_stats.reset_index().groupby(hue).apply(lambda df: pg.kruskal(data=df, dv=dv, between=between))\n",
    "#df_anova['p-corr'] = pg.multicomp(df_anova['p-unc'].values, method='fdr_bh')[1]\n",
    "\n",
    "#display(df_norm)\n",
    "display(df_anova)"
   ]
  },
  {
   "cell_type": "code",
   "execution_count": null,
   "metadata": {},
   "outputs": [],
   "source": [
    "x = 'weekend'\n",
    "y = 'ss_max_60_last_hour'"
   ]
  },
  {
   "cell_type": "code",
   "execution_count": null,
   "metadata": {},
   "outputs": [],
   "source": [
    "fig, ax = plt.subplots()\n",
    "df_plot = df_stats.unstack()[dv]\n",
    "\n",
    "sns.boxplot(data=df_plot.reset_index(), x=x, y=y, ax=ax, notch=True)\n",
    "fig.tight_layout()"
   ]
  },
  {
   "cell_type": "markdown",
   "metadata": {},
   "source": [
    "### Condition"
   ]
  },
  {
   "cell_type": "code",
   "execution_count": null,
   "metadata": {},
   "outputs": [],
   "source": [
    "order = ['Spontaneous', 'Known Alarm', 'Unknown Alarm']"
   ]
  },
  {
   "cell_type": "code",
   "execution_count": null,
   "metadata": {},
   "outputs": [],
   "source": [
    "hue = 'feature'\n",
    "\n",
    "dv = 'imu'\n",
    "between = 'condition'\n",
    "group = 'condition'"
   ]
  },
  {
   "cell_type": "code",
   "execution_count": null,
   "metadata": {},
   "outputs": [],
   "source": [
    "df_stats = imu_data.unstack().filter(like=\"last\").stack()\n",
    "df_stats = df_stats.loc[~(df_stats.groupby(hue)[dv].apply(lambda df: (df - df.mean())/df.std()) > 3)]\n",
    "\n",
    "df_norm = df_stats.reset_index().groupby(hue).apply(lambda df: pg.normality(data=df, dv=dv, group=group))\n",
    "df_anova = df_stats.reset_index().groupby(hue).apply(lambda df: pg.anova(data=df, dv=dv, between=between))\n",
    "\n",
    "display(df_norm.T)\n",
    "display(df_anova)"
   ]
  },
  {
   "cell_type": "code",
   "execution_count": null,
   "metadata": {},
   "outputs": [],
   "source": [
    "x = 'condition'\n",
    "y = 'ss_number_60_last_hour'"
   ]
  },
  {
   "cell_type": "code",
   "execution_count": null,
   "metadata": {},
   "outputs": [],
   "source": [
    "fig, ax = plt.subplots()\n",
    "df_plot = df_stats.unstack()[dv]\n",
    "\n",
    "sns.boxplot(data=df_plot.reset_index(), x=x, y=y, ax=ax, order=order, notch=True)\n",
    "fig.tight_layout()"
   ]
  },
  {
   "cell_type": "markdown",
   "metadata": {},
   "source": [
    "### Pairplots"
   ]
  },
  {
   "cell_type": "code",
   "execution_count": null,
   "metadata": {},
   "outputs": [],
   "source": [
    "df_pairplot = imu_data.unstack('feature')['imu'].filter(like=\"last_hour\").reset_index('condition')\n",
    "df_pairplot = df_pairplot.drop(columns=df_pairplot.filter(like=\"60\").columns)\n",
    "df_pairplot = df_pairplot.drop(columns=df_pairplot.filter(like=\"max_position\").columns)\n",
    "\n",
    "g = sns.pairplot(data=df_pairplot, hue='condition', corner=True)\n",
    "g = g.map_lower(sns.kdeplot, levels=3, color=\".2\", alpha=0.5)"
   ]
  },
  {
   "cell_type": "code",
   "execution_count": null,
   "metadata": {},
   "outputs": [],
   "source": []
  }
 ],
 "metadata": {
  "kernelspec": {
   "display_name": "Python 3",
   "language": "python",
   "name": "python3"
  },
  "language_info": {
   "codemirror_mode": {
    "name": "ipython",
    "version": 3
   },
   "file_extension": ".py",
   "mimetype": "text/x-python",
   "name": "python",
   "nbconvert_exporter": "python",
   "pygments_lexer": "ipython3",
   "version": "3.8.3"
  }
 },
 "nbformat": 4,
 "nbformat_minor": 4
}
