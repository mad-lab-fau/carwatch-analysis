{
 "cells": [
  {
   "cell_type": "markdown",
   "metadata": {},
   "source": [
    "# IMU Analysis – BHI 2021"
   ]
  },
  {
   "cell_type": "markdown",
   "metadata": {},
   "source": [
    "IMU Data Analysis for the Paper \"Assessing the Influence of the Inner Clock on the Cortisol Awakening Response and Pre-Awakening Movement\" (BHI 2021)"
   ]
  },
  {
   "cell_type": "markdown",
   "metadata": {},
   "source": [
    "## Setup"
   ]
  },
  {
   "cell_type": "code",
   "execution_count": null,
   "metadata": {},
   "outputs": [],
   "source": [
    "from pathlib import Path\n",
    "\n",
    "import pandas as pd\n",
    "import numpy as np\n",
    "import pingouin as pg\n",
    "\n",
    "import matplotlib.pyplot as plt\n",
    "import seaborn as sns\n",
    "\n",
    "import biopsykit as bp\n",
    "from biopsykit.utils.dataframe_handling import multi_xs\n",
    "from biopsykit.stats import StatsPipeline\n",
    "\n",
    "from carwatch_analysis.general_helper import describe_groups_df, subject_count_per_group\n",
    "from carwatch_analysis.imu_helper import analysis_imu_features\n",
    "\n",
    "\n",
    "%matplotlib widget\n",
    "%load_ext autoreload\n",
    "%autoreload 2"
   ]
  },
  {
   "cell_type": "code",
   "execution_count": null,
   "metadata": {},
   "outputs": [],
   "source": [
    "pg.options['round'] = 3\n",
    "\n",
    "palette = bp.colors.fau_palette\n",
    "\n",
    "theme_kwargs = {\n",
    "    \"context\": \"talk\",\n",
    "    \"style\": \"ticks\",\n",
    "    \"palette\": palette\n",
    "}\n",
    "theme_kwargs_scale = {\n",
    "    \"context\": \"talk\",\n",
    "    \"style\": \"ticks\",\n",
    "    \"palette\": palette,\n",
    "    \"font_scale\": 1.25\n",
    "}\n",
    "\n",
    "sns.set_theme(**theme_kwargs)\n",
    "\n",
    "#plt.rcParams['figure.figsize'] = (15,5)\n",
    "plt.rcParams['figure.figsize'] = (10,5)\n",
    "plt.rcParams[\"mathtext.default\"] = \"regular\"\n",
    "plt.rcParams['pdf.fonttype'] = 42\n",
    "plt.close('all')\n",
    "\n",
    "pad = 0.2\n",
    "\n",
    "export = True\n",
    "palette"
   ]
  },
  {
   "cell_type": "code",
   "execution_count": null,
   "metadata": {},
   "outputs": [],
   "source": [
    "base_path = Path(\"../../..\")\n",
    "export_path = base_path.joinpath(\"exports\")\n",
    "result_path = base_path.joinpath(\"results/bhi_2021\")\n",
    "plot_path = result_path.joinpath(\"plots\")\n",
    "stats_path = result_path.joinpath(\"statistics\")\n",
    "\n",
    "paper_path = base_path.joinpath(\"../../Paper/CARInnerClock_BHI2021/img\")\n",
    "\n",
    "bp.utils.file_handling.mkdirs([result_path, plot_path, stats_path, paper_path])"
   ]
  },
  {
   "cell_type": "markdown",
   "metadata": {},
   "source": [
    "## Data Import"
   ]
  },
  {
   "cell_type": "markdown",
   "metadata": {},
   "source": [
    "### IMU Data"
   ]
  },
  {
   "cell_type": "code",
   "execution_count": null,
   "metadata": {},
   "outputs": [],
   "source": [
    "imu_all = pd.read_csv(export_path.joinpath(\"imu_features_complete.csv\"))\n",
    "imu_all = imu_all.set_index(list(imu_all.columns[:-1]))\n",
    "imu_all.head()"
   ]
  },
  {
   "cell_type": "markdown",
   "metadata": {},
   "source": [
    "#### Feature Selection"
   ]
  },
  {
   "cell_type": "code",
   "execution_count": null,
   "metadata": {},
   "outputs": [],
   "source": [
    "imu_all.index.get_level_values(\"imu_feature\").unique()"
   ]
  },
  {
   "cell_type": "code",
   "execution_count": null,
   "metadata": {},
   "outputs": [],
   "source": [
    "imu_data = imu_all.xs(('imu', 'last_30min'), level=['wakeup_type', 'time_span'])\n",
    "filter_cols = ['max_position', 'max_60', 'number_60', 'mean_60', 'std_60']\n",
    "\n",
    "list_dfs = []\n",
    "imu_data = imu_data.unstack(\"imu_feature\")\n",
    "for col in filter_cols:\n",
    "    list_dfs.append(imu_data.filter(like=col))\n",
    "imu_data = pd.concat(list_dfs, axis=1).stack()\n",
    "imu_data"
   ]
  },
  {
   "cell_type": "markdown",
   "metadata": {},
   "source": [
    "#### Outlier Removal"
   ]
  },
  {
   "cell_type": "code",
   "execution_count": null,
   "metadata": {},
   "outputs": [],
   "source": [
    "outlier_mask = imu_data.groupby('imu_feature').apply(lambda df: ((df - df.mean())/df.std()).abs() > 3)['data']\n",
    "\n",
    "print(\"Number of nights before outlier removal: {}\".format(len(imu_data.unstack('imu_feature'))))\n",
    "\n",
    "imu_data = imu_data.loc[~outlier_mask]\n",
    "imu_data = imu_data.unstack('imu_feature').dropna().stack()\n",
    "\n",
    "print(\"Number of nights after outlier removal: {}\".format(len(imu_data.unstack())))"
   ]
  },
  {
   "cell_type": "code",
   "execution_count": null,
   "metadata": {},
   "outputs": [],
   "source": [
    "max_pos = imu_data.filter(like='ss_max_position', axis=0)\n",
    "imu_data.loc[max_pos.index] = max_pos.transform(lambda df: -(1 - df) * 30)"
   ]
  },
  {
   "cell_type": "markdown",
   "metadata": {},
   "source": [
    "## Plots and Statistics"
   ]
  },
  {
   "cell_type": "code",
   "execution_count": null,
   "metadata": {},
   "outputs": [],
   "source": [
    "condition_order = ['Spontaneous', 'Known Alarm', 'Unknown Alarm']"
   ]
  },
  {
   "cell_type": "markdown",
   "metadata": {},
   "source": [
    "### Class Distribution"
   ]
  },
  {
   "cell_type": "code",
   "execution_count": null,
   "metadata": {},
   "outputs": [],
   "source": [
    "subject_count_per_group(imu_data, \"condition\", order=condition_order)"
   ]
  },
  {
   "cell_type": "code",
   "execution_count": null,
   "metadata": {},
   "outputs": [],
   "source": [
    "describe_groups_df(imu_data, \"condition\", order=condition_order)"
   ]
  },
  {
   "cell_type": "markdown",
   "metadata": {},
   "source": [
    "### IMU Data"
   ]
  },
  {
   "cell_type": "markdown",
   "metadata": {},
   "source": [
    "#### Statistics"
   ]
  },
  {
   "cell_type": "code",
   "execution_count": null,
   "metadata": {},
   "outputs": [],
   "source": [
    "pipeline = analysis_imu_features(imu_data, variable=\"condition\", test_type='welch_anova')\n",
    "pipeline.display_results(posthoc=True, sig_only='posthoc')\n",
    "if export:\n",
    "    pipeline.export_statistics(stats_path.joinpath(\"analysis_imu_features_condition.xlsx\"))"
   ]
  },
  {
   "cell_type": "markdown",
   "metadata": {},
   "source": [
    "#### Result Table for Paper"
   ]
  },
  {
   "cell_type": "code",
   "execution_count": null,
   "metadata": {},
   "outputs": [],
   "source": [
    "index_labels = {\n",
    "    'ss_number_60': r\"$\\lvert sp \\rvert$\",\n",
    "    'ss_max_60': r\"$sp_{max}$\",\n",
    "    'ss_max_position': r\"$t(sp_{max})$\",\n",
    "    'ss_mean_60': r\"$\\mu_{sp}$\",\n",
    "    'ss_std_60': r\"$\\sigma_{sp}$\",\n",
    "}\n",
    "pipeline.df_to_latex('welch_anova', index_labels)"
   ]
  },
  {
   "cell_type": "markdown",
   "metadata": {},
   "source": [
    "#### Plots"
   ]
  },
  {
   "cell_type": "code",
   "execution_count": null,
   "metadata": {},
   "outputs": [],
   "source": [
    "hue = 'condition'\n",
    "\n",
    "ylabels = {\n",
    "    'ss_max_60': \"Duration [s]\",\n",
    "    'ss_max_position': \"Time before Awak. [min]\",\n",
    "    'ss_std_60': \"Duration [s]\"\n",
    "}\n",
    "\n",
    "xticklabels = {\n",
    "    'ss_max_60': r\"$sp_{max}$\",\n",
    "    'ss_max_position': r\"$t(sp_{max})$\",\n",
    "    'ss_std_60': r\"$\\sigma_{sp}$\",\n",
    "}\n",
    "\n",
    "features = ['ss_max_60', 'ss_max_position', 'ss_std_60']\n",
    "box_pairs, pvals = pipeline.sig_brackets('posthoc', stats_type='between', plot_type='multi', x=\"imu_feature\", subplots=True, features=features)\n",
    "\n",
    "sns.set_theme(**theme_kwargs_scale)\n",
    "fig, axs = plt.subplots(figsize=(12,5), ncols=len(features))\n",
    "bp.plotting.multi_feature_boxplot(\n",
    "    x='imu_feature', \n",
    "    y='data',\n",
    "    group=\"imu_feature\",\n",
    "    data=imu_data, \n",
    "    hue=hue, \n",
    "    features=features, \n",
    "    hue_order=condition_order, \n",
    "    ylabels=ylabels, \n",
    "    xticklabels=xticklabels, \n",
    "    stats_kwargs={\n",
    "        'box_pairs': box_pairs, \n",
    "        'pvalues': pvals,\n",
    "        'text_offset': -8\n",
    "    }, \n",
    "    axs=axs, \n",
    "    legend_fontsize='small', \n",
    "    legend_orientation=\"horizontal\", \n",
    "    legend_loc=\"upper center\",\n",
    "    width=0.9,\n",
    "    saturation=1.0\n",
    ")\n",
    "\n",
    "axs[1].set_ylim([-32.5, 2.5])\n",
    "fig.tight_layout(rect=(0, 0, 1.0, 0.89), pad=pad)\n",
    "\n",
    "if export:\n",
    "    [fig.savefig(p.joinpath(\"img_boxplots_imu_condition.pdf\"), transparent=True) for p in [plot_path, paper_path]]"
   ]
  },
  {
   "cell_type": "code",
   "execution_count": null,
   "metadata": {},
   "outputs": [],
   "source": []
  }
 ],
 "metadata": {
  "kernelspec": {
   "display_name": "Python 3",
   "language": "python",
   "name": "python3"
  },
  "language_info": {
   "codemirror_mode": {
    "name": "ipython",
    "version": 3
   },
   "file_extension": ".py",
   "mimetype": "text/x-python",
   "name": "python",
   "nbconvert_exporter": "python",
   "pygments_lexer": "ipython3",
   "version": "3.8.3"
  }
 },
 "nbformat": 4,
 "nbformat_minor": 4
}
