{
 "cells": [
  {
   "cell_type": "markdown",
   "metadata": {},
   "source": [
    "# EMBC 2021 – IMU Analysis"
   ]
  },
  {
   "cell_type": "markdown",
   "metadata": {},
   "source": [
    "IMU Data Analysis for the Paper \"Assessing the Influence of the Inner Clock on the Cortisol Awakening Response and Pre-Awakening Movement\" (EMBC 2021)"
   ]
  },
  {
   "cell_type": "markdown",
   "metadata": {},
   "source": [
    "## Setup"
   ]
  },
  {
   "cell_type": "code",
   "execution_count": null,
   "metadata": {},
   "outputs": [],
   "source": [
    "from pathlib import Path\n",
    "\n",
    "import pandas as pd\n",
    "import numpy as np\n",
    "\n",
    "import biopsykit as bp\n",
    "from biopsykit.stats import StatsPipeline\n",
    "\n",
    "from carwatch_analysis.general_helper import describe_groups_df\n",
    "from carwatch_analysis.imu_helper import analysis_imu_features\n",
    "\n",
    "from statannot import add_stat_annotation\n",
    "\n",
    "import pingouin as pg\n",
    "\n",
    "import matplotlib.pyplot as plt\n",
    "import seaborn as sns\n",
    "\n",
    "%matplotlib widget\n",
    "%load_ext autoreload\n",
    "%autoreload 2"
   ]
  },
  {
   "cell_type": "code",
   "execution_count": null,
   "metadata": {},
   "outputs": [],
   "source": [
    "pg.options['round'] = 3\n",
    "\n",
    "palette = bp.colors.fau_palette\n",
    "sns.set_theme(context='talk', style='ticks', palette=palette, font_scale=1.2)\n",
    "#plt.rcParams['figure.figsize'] = (15,5)\n",
    "plt.rcParams['figure.figsize'] = (10,5)\n",
    "plt.rcParams['pdf.fonttype'] = 42\n",
    "plt.close('all')\n",
    "\n",
    "export = True\n",
    "palette"
   ]
  },
  {
   "cell_type": "code",
   "execution_count": null,
   "metadata": {},
   "outputs": [],
   "source": [
    "export_path = Path(\"../../../exports\")\n",
    "plot_path = export_path.joinpath(\"plots\")\n",
    "stats_path = export_path.joinpath(\"statistics\")\n",
    "\n",
    "paper_path = Path(\"/Users/Richer/Documents/PhD/Research/Papers/2021_CARInnerClock_EMBC/img\")\n",
    "#paper_path = paper_path.joinpath('img')\n",
    "\n",
    "bp.utils.file_handling.mkdirs([plot_path, stats_path, paper_path])"
   ]
  },
  {
   "cell_type": "markdown",
   "metadata": {},
   "source": [
    "## Data Import"
   ]
  },
  {
   "cell_type": "markdown",
   "metadata": {},
   "source": [
    "### IMU Data"
   ]
  },
  {
   "cell_type": "code",
   "execution_count": null,
   "metadata": {},
   "outputs": [],
   "source": [
    "imu_all = pd.read_csv(export_path.joinpath(\"imu_features_complete.csv\"))\n",
    "imu_all = imu_all.set_index(list(imu_all.columns[:-1]))\n",
    "imu_all.head()"
   ]
  },
  {
   "cell_type": "markdown",
   "metadata": {},
   "source": [
    "#### Feature Selection"
   ]
  },
  {
   "cell_type": "code",
   "execution_count": null,
   "metadata": {},
   "outputs": [],
   "source": [
    "imu_all.index.get_level_values(\"feature\").unique()"
   ]
  },
  {
   "cell_type": "code",
   "execution_count": null,
   "metadata": {},
   "outputs": [],
   "source": [
    "imu_data = imu_all.xs(('imu', 'last_30min'), level=['type', 'time_span'])\n",
    "filter_cols = ['max_position', 'max_60', 'number_60', 'mean_60', 'std_60']\n",
    "\n",
    "list_dfs = []\n",
    "imu_data = imu_data.unstack()\n",
    "for col in filter_cols:\n",
    "    list_dfs.append(imu_data.filter(like=col))\n",
    "imu_data = pd.concat(list_dfs, axis=1).stack()"
   ]
  },
  {
   "cell_type": "markdown",
   "metadata": {},
   "source": [
    "#### Outlier Removal"
   ]
  },
  {
   "cell_type": "code",
   "execution_count": null,
   "metadata": {},
   "outputs": [],
   "source": [
    "outlier_mask = imu_data.groupby('feature').apply(lambda df: ((df - df.mean())/df.std()).abs() > 3)['data']\n",
    "\n",
    "print(\"Number of nights before outlier removal: {}\".format(len(imu_data.unstack('feature'))))\n",
    "\n",
    "imu_data = imu_data.loc[~outlier_mask]\n",
    "imu_data = imu_data.unstack('feature').dropna().stack()\n",
    "\n",
    "print(\"Number of nights after outlier removal: {}\".format(len(imu_data.unstack())))"
   ]
  },
  {
   "cell_type": "code",
   "execution_count": null,
   "metadata": {},
   "outputs": [],
   "source": [
    "max_pos = imu_data.filter(like='ss_max_position', axis=0)\n",
    "imu_data.loc[max_pos.index] = max_pos.transform(lambda df: -(1 - df) * 30)"
   ]
  },
  {
   "cell_type": "markdown",
   "metadata": {},
   "source": [
    "## Plots and Statistics"
   ]
  },
  {
   "cell_type": "code",
   "execution_count": null,
   "metadata": {},
   "outputs": [],
   "source": [
    "condition_order = ['Spontaneous', 'Known Alarm', 'Unknown Alarm']"
   ]
  },
  {
   "cell_type": "markdown",
   "metadata": {},
   "source": [
    "### Class Distribution"
   ]
  },
  {
   "cell_type": "code",
   "execution_count": null,
   "metadata": {},
   "outputs": [],
   "source": [
    "describe_groups_df(imu_data, \"condition\", order=condition_order)"
   ]
  },
  {
   "cell_type": "markdown",
   "metadata": {},
   "source": [
    "### IMU Data"
   ]
  },
  {
   "cell_type": "markdown",
   "metadata": {},
   "source": [
    "#### Statistics"
   ]
  },
  {
   "cell_type": "code",
   "execution_count": null,
   "metadata": {},
   "outputs": [],
   "source": [
    "pipeline = analysis_imu_features(imu_data, variable=\"condition\", test_type='welch_anova')\n",
    "pipeline.display_results(posthoc=True, sig_only='posthoc')\n",
    "if export:\n",
    "    pipeline.export_statistics(stats_path.joinpath(\"analysis_imu_features_condition.xlsx\"))"
   ]
  },
  {
   "cell_type": "markdown",
   "metadata": {},
   "source": [
    "#### Result Table for Paper"
   ]
  },
  {
   "cell_type": "code",
   "execution_count": null,
   "metadata": {},
   "outputs": [],
   "source": [
    "index_labels = {\n",
    "    'ss_number_60': r\"$\\lvert sp \\rvert$\",\n",
    "    'ss_max_60': r\"$sp_{max}$\",\n",
    "    'ss_max_position': r\"$t(sp_{max})$\",\n",
    "    'ss_mean_60': r\"$\\mu_{sp}$\",\n",
    "    'ss_std_60': r\"$\\sigma_{sp}$\",\n",
    "}\n",
    "pipeline.df_to_latex('welch_anova', index_labels)"
   ]
  },
  {
   "cell_type": "markdown",
   "metadata": {},
   "source": [
    "#### Plots"
   ]
  },
  {
   "cell_type": "code",
   "execution_count": null,
   "metadata": {},
   "outputs": [],
   "source": [
    "hue = 'condition'\n",
    "\n",
    "ylabels = {\n",
    "    'ss_max_60': \"Duration [s]\",\n",
    "    'ss_max_position': \"Time before Awakening [min]\",\n",
    "    'ss_std_60': \"Duration [s]\"\n",
    "}\n",
    "\n",
    "xticklabels = {\n",
    "    'ss_max_60': r\"$sp_{max}$\",\n",
    "    'ss_max_position': r\"$t(sp_{max})$\",\n",
    "    'ss_std_60': r\"$\\sigma_{sp}$\",\n",
    "}\n",
    "\n",
    "features = ['ss_max_60', 'ss_max_position', 'ss_std_60']\n",
    "box_pairs, pvals = pipeline.sig_brackets(pipeline.results_cat('posthoc'), stats_type='between', plot_type='multi')\n",
    "\n",
    "sns.set_theme(context='talk', style='ticks', palette=palette, font_scale=1.2)\n",
    "fig, axs = plt.subplots(figsize=(15,5), ncols=len(features))\n",
    "bp.plotting.multi_feature_boxplot(x='feature', y='data', data=imu_data, hue=hue, features=features, hue_order=condition_order, ylabels=ylabels, xticklabels=xticklabels, stats_kwargs={'box_pairs': box_pairs, 'pvalues': pvals}, axs=axs, rect=(0, 0, 0.81, 1.0), legend_fontsize='small')\n",
    "\n",
    "axs[1].set_ylim([-32.5, 2.5])\n",
    "\n",
    "if export:\n",
    "    [fig.savefig(p.joinpath(\"img_boxplots_imu_condition.pdf\"), transparent=True) for p in [plot_path, paper_path]]"
   ]
  },
  {
   "cell_type": "markdown",
   "metadata": {},
   "source": [
    "## TODOs"
   ]
  },
  {
   "cell_type": "markdown",
   "metadata": {},
   "source": [
    "**TODOs:**\n",
    "* (later) move all condition stuff to `Questionnaire_Processing.ipynb` and only import index in `Saliva_Proessing.ipynb`"
   ]
  },
  {
   "cell_type": "code",
   "execution_count": null,
   "metadata": {},
   "outputs": [],
   "source": []
  }
 ],
 "metadata": {
  "kernelspec": {
   "display_name": "Python 3",
   "language": "python",
   "name": "python3"
  },
  "language_info": {
   "codemirror_mode": {
    "name": "ipython",
    "version": 3
   },
   "file_extension": ".py",
   "mimetype": "text/x-python",
   "name": "python",
   "nbconvert_exporter": "python",
   "pygments_lexer": "ipython3",
   "version": "3.8.3"
  }
 },
 "nbformat": 4,
 "nbformat_minor": 4
}
