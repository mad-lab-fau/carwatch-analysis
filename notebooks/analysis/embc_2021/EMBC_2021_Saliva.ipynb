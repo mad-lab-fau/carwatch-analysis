{
 "cells": [
  {
   "cell_type": "markdown",
   "metadata": {},
   "source": [
    "# EMBC 2021 – Saliva Analysis"
   ]
  },
  {
   "cell_type": "markdown",
   "metadata": {},
   "source": [
    "Saliva Analysis for the Paper \"Assessing the Influence of the Inner Clock on the Cortisol Awakening Response and Pre-Awakening Movement\" (EMBC 2021)"
   ]
  },
  {
   "cell_type": "markdown",
   "metadata": {},
   "source": [
    "## Setup"
   ]
  },
  {
   "cell_type": "code",
   "execution_count": null,
   "metadata": {},
   "outputs": [],
   "source": [
    "from pathlib import Path\n",
    "\n",
    "import pandas as pd\n",
    "import numpy as np\n",
    "\n",
    "import biopsykit as bp\n",
    "from biopsykit.utils.dataframe_handling import multi_xs\n",
    "from biopsykit.stats import StatsPipeline\n",
    "from biopsykit.protocols import CAR\n",
    "\n",
    "from carwatch_analysis.saliva_helper import import_cortisol_raw, import_cortisol_features, analysis_saliva_raw, analysis_saliva_features\n",
    "from carwatch_analysis.general_helper import describe_groups_df\n",
    "\n",
    "from statannot import add_stat_annotation\n",
    "\n",
    "import pingouin as pg\n",
    "\n",
    "import matplotlib.pyplot as plt\n",
    "import seaborn as sns\n",
    "\n",
    "%matplotlib widget\n",
    "%load_ext autoreload\n",
    "%autoreload 2"
   ]
  },
  {
   "cell_type": "code",
   "execution_count": null,
   "metadata": {},
   "outputs": [],
   "source": [
    "pg.options['round'] = 3\n",
    "\n",
    "palette = bp.colors.fau_palette\n",
    "sns.set_theme(context='talk', style='ticks', palette=palette)\n",
    "#plt.rcParams['figure.figsize'] = (15,5)\n",
    "plt.rcParams['figure.figsize'] = (10,5)\n",
    "plt.rcParams['pdf.fonttype'] = 42\n",
    "plt.close('all')\n",
    "\n",
    "export = True\n",
    "palette"
   ]
  },
  {
   "cell_type": "code",
   "execution_count": null,
   "metadata": {},
   "outputs": [],
   "source": [
    "export_path = Path(\"../../../exports\")\n",
    "plot_path = export_path.joinpath(\"plots\")\n",
    "stats_path = export_path.joinpath(\"statistics\")\n",
    "\n",
    "paper_path = Path(\"/Users/Richer/Documents/PhD/Research/Papers/2021_CARInnerClock_EMBC/img\")\n",
    "#paper_path = paper_path.joinpath('img')\n",
    "\n",
    "bp.utils.file_handling.mkdirs([plot_path, stats_path, paper_path])"
   ]
  },
  {
   "cell_type": "markdown",
   "metadata": {},
   "source": [
    "## Data Import"
   ]
  },
  {
   "cell_type": "code",
   "execution_count": null,
   "metadata": {},
   "outputs": [],
   "source": [
    "car = CAR(saliva_times=[i*15 for i in range(5)])"
   ]
  },
  {
   "cell_type": "markdown",
   "metadata": {},
   "source": [
    "### Raw Cortisol"
   ]
  },
  {
   "cell_type": "code",
   "execution_count": null,
   "metadata": {},
   "outputs": [],
   "source": [
    "cort_samples = import_cortisol_raw(export_path.joinpath(\"cortisol_samples_cleaned.csv\"))\n",
    "cort_samples.head()"
   ]
  },
  {
   "cell_type": "markdown",
   "metadata": {},
   "source": [
    "### Cortsol Features"
   ]
  },
  {
   "cell_type": "code",
   "execution_count": null,
   "metadata": {},
   "outputs": [],
   "source": [
    "cort_features = import_cortisol_features(export_path.joinpath(\"cortisol_features_cleaned.csv\"))\n",
    "cort_features.head()"
   ]
  },
  {
   "cell_type": "markdown",
   "metadata": {},
   "source": [
    "## Plots and Statistics"
   ]
  },
  {
   "cell_type": "code",
   "execution_count": null,
   "metadata": {},
   "outputs": [],
   "source": [
    "condition_order = ['Spontaneous', 'Known Alarm', 'Unknown Alarm']"
   ]
  },
  {
   "cell_type": "markdown",
   "metadata": {},
   "source": [
    "### Class Distribution"
   ]
  },
  {
   "cell_type": "code",
   "execution_count": null,
   "metadata": {},
   "outputs": [],
   "source": [
    "describe_groups_df(cort_samples, \"condition\", order=condition_order)"
   ]
  },
  {
   "cell_type": "markdown",
   "metadata": {},
   "source": [
    "### Raw Cortisol"
   ]
  },
  {
   "cell_type": "markdown",
   "metadata": {},
   "source": [
    "#### Plots"
   ]
  },
  {
   "cell_type": "code",
   "execution_count": null,
   "metadata": {},
   "outputs": [],
   "source": [
    "x = 'sample'\n",
    "y = 'cortisol'\n",
    "hue = 'condition'\n",
    "style = 'condition'\n",
    "\n",
    "sns.set_theme(context='talk', style='ticks', palette=palette)\n",
    "fig, ax = plt.subplots(figsize=(10,4))\n",
    "car.car_plot(data=cort_samples, x=x, y=y, hue=hue, order=condition_order, style=style, ax=ax)\n",
    "\n",
    "fig.tight_layout()\n",
    "if export:\n",
    "    [fig.savefig(p.joinpath(\"img_car_raw_condition.pdf\"), transparent=True) for p in [plot_path, paper_path]]"
   ]
  },
  {
   "cell_type": "markdown",
   "metadata": {},
   "source": [
    "#### Statistics"
   ]
  },
  {
   "cell_type": "code",
   "execution_count": null,
   "metadata": {},
   "outputs": [],
   "source": [
    "pipeline = analysis_saliva_raw(cort_samples, variable=\"condition\")\n",
    "pipeline.display_results(posthoc=False)\n",
    "if export:\n",
    "    pipeline.export_statistics(stats_path.joinpath(\"analysis_cortisol_raw_condition.xlsx\"))"
   ]
  },
  {
   "cell_type": "markdown",
   "metadata": {},
   "source": [
    "### Cortisol Features"
   ]
  },
  {
   "cell_type": "markdown",
   "metadata": {},
   "source": [
    "#### Statistics"
   ]
  },
  {
   "cell_type": "code",
   "execution_count": null,
   "metadata": {},
   "outputs": [],
   "source": [
    "pipeline = analysis_saliva_features(cort_features, variable=\"condition\", test_type='anova')\n",
    "pipeline.display_results(posthoc=True, sig_only=\"posthoc\")\n",
    "if export:\n",
    "    pipeline.export_statistics(stats_path.joinpath(\"analysis_cortisol_features_condition.xlsx\"))"
   ]
  },
  {
   "cell_type": "markdown",
   "metadata": {},
   "source": [
    "#### Result Table for Paper"
   ]
  },
  {
   "cell_type": "code",
   "execution_count": null,
   "metadata": {},
   "outputs": [],
   "source": [
    "index_labels = {\n",
    "    'auc_g': r\"$AUC_G$\",\n",
    "    'auc_i': r\"$AUC_I$\",\n",
    "    'slopeS0S3': r\"$a_{S0S3}$\",\n",
    "    'slopeS0S4': r\"$a_{S0S4}$\",\n",
    "    'max_inc': \"$\\Delta c_{max}$\",\n",
    "    'cini': \"$c_{ini}$\",\n",
    "    'cmax': \"$c_{max}$\"\n",
    "}\n",
    "pipeline.df_to_latex('anova', index_labels)"
   ]
  },
  {
   "cell_type": "markdown",
   "metadata": {},
   "source": [
    "#### Plots"
   ]
  },
  {
   "cell_type": "code",
   "execution_count": null,
   "metadata": {},
   "outputs": [],
   "source": [
    "features = ['auc', 'slopeS0S3', 'max_inc']\n",
    "hue = 'condition'\n",
    "\n",
    "box_pairs, pvals = pipeline.sig_brackets(pipeline.results_cat('posthoc'), stats_type='between', plot_type='multi')\n",
    "\n",
    "sns.set_theme(context='talk', style='ticks', palette=palette, font_scale=1.2)\n",
    "fig, axs = plt.subplots(figsize=(15,5), ncols=len(features))\n",
    "car.saliva_multi_feature_boxplot(data=cort_features, saliva_type='cortisol', hue=hue, features=features, hue_order=condition_order, stats_kwargs={'box_pairs': box_pairs, 'pvalues': pvals}, ax=axs, rect=(0, 0, 0.81, 1.0), legend_fontsize='small')\n",
    "\n",
    "if export:\n",
    "    [fig.savefig(p.joinpath(\"img_boxplots_car_condition.pdf\"), transparent=True) for p in [plot_path, paper_path]]"
   ]
  },
  {
   "cell_type": "markdown",
   "metadata": {},
   "source": [
    "## TODOs"
   ]
  },
  {
   "cell_type": "markdown",
   "metadata": {},
   "source": [
    "**TODOs:**\n",
    "* (later) move all condition stuff to `Questionnaire_Processing.ipynb` and only import index in `Saliva_Proessing.ipynb`"
   ]
  },
  {
   "cell_type": "code",
   "execution_count": null,
   "metadata": {},
   "outputs": [],
   "source": []
  }
 ],
 "metadata": {
  "kernelspec": {
   "display_name": "Python 3",
   "language": "python",
   "name": "python3"
  },
  "language_info": {
   "codemirror_mode": {
    "name": "ipython",
    "version": 3
   },
   "file_extension": ".py",
   "mimetype": "text/x-python",
   "name": "python",
   "nbconvert_exporter": "python",
   "pygments_lexer": "ipython3",
   "version": "3.8.3"
  }
 },
 "nbformat": 4,
 "nbformat_minor": 4
}
