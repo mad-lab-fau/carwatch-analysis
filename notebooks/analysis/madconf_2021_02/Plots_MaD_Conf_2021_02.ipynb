{
 "cells": [
  {
   "cell_type": "markdown",
   "metadata": {},
   "source": [
    "# MaD Conf Plots"
   ]
  },
  {
   "cell_type": "code",
   "execution_count": null,
   "metadata": {},
   "outputs": [],
   "source": [
    "from pathlib import Path\n",
    "\n",
    "import pandas as pd\n",
    "import numpy as np\n",
    "\n",
    "import biopsykit as bp\n",
    "\n",
    "import pingouin as pg\n",
    "\n",
    "import matplotlib.pyplot as plt\n",
    "import seaborn as sns\n",
    "\n",
    "%matplotlib widget\n",
    "#%matplotlib inline\n",
    "%load_ext autoreload\n",
    "%autoreload 2"
   ]
  },
  {
   "cell_type": "code",
   "execution_count": null,
   "metadata": {},
   "outputs": [],
   "source": [
    "sns.set(style='ticks', context='talk')\n",
    "#plt.rcParams['figure.figsize'] = (15,5)\n",
    "plt.rcParams['figure.figsize'] = (10,5)\n",
    "plt.close('all')\n",
    "\n",
    "save_fig = True\n",
    "\n",
    "palette = bp.colors.fau_palette\n",
    "sns.set_palette(palette)\n",
    "palette"
   ]
  },
  {
   "cell_type": "code",
   "execution_count": null,
   "metadata": {},
   "outputs": [],
   "source": [
    "pg.options['round'] = 3"
   ]
  },
  {
   "cell_type": "code",
   "execution_count": null,
   "metadata": {},
   "outputs": [],
   "source": [
    "data_path = Path(\"/Volumes/MaD_Lab/StudyData/HealthPsychology/CARWatch/Data\")\n",
    "export_path = Path(\"../../../exports\")\n",
    "result_path = Path(\"../../../results\")\n",
    "\n",
    "plot_path_car = result_path.joinpath(\"madconf_2021_02/plots/example_car\")\n",
    "plot_path_sleep = result_path.joinpath(\"madconf_2021_02/plots/example_sleep_processing\")\n",
    "\n",
    "plot_path_car.mkdir(exist_ok=True, parents=True)\n",
    "plot_path_sleep.mkdir(exist_ok=True, parents=True)"
   ]
  },
  {
   "cell_type": "markdown",
   "metadata": {},
   "source": [
    "## Cortisol"
   ]
  },
  {
   "cell_type": "code",
   "execution_count": null,
   "metadata": {},
   "outputs": [],
   "source": [
    "cort_samples = pd.read_csv(export_path.joinpath(\"cortisol_samples_cleaned.csv\"))\n",
    "# assign each night an unique_id to allow repeated measures analyses and insert into dataframe\n",
    "cort_samples.insert(2,'night_id', cort_samples['subject'] + '_' + cort_samples['night'].astype(str))\n",
    "cort_samples = cort_samples.drop(columns='time')\n",
    "cort_samples = cort_samples.set_index(list(cort_samples.columns.drop('cortisol')))\n",
    "\n",
    "cort_samples.head()"
   ]
  },
  {
   "cell_type": "code",
   "execution_count": null,
   "metadata": {},
   "outputs": [],
   "source": [
    "pd.DataFrame(cort_samples.xs(\"Unknown Alarm\", level=\"condition\").unstack().iloc[19])"
   ]
  },
  {
   "cell_type": "code",
   "execution_count": null,
   "metadata": {},
   "outputs": [],
   "source": [
    "ylabel = \"Cortisol [nmol/l]\"\n",
    "xlabel = \"Time after Awakening [min]\""
   ]
  },
  {
   "cell_type": "code",
   "execution_count": null,
   "metadata": {},
   "outputs": [],
   "source": [
    "fig, ax = plt.subplots(figsize=(10, 5))\n",
    "sns.pointplot(data=cort_samples.xs(\"KS28N\", level='subject').xs(0, level='night').reset_index(), x='sample', y='cortisol', ax=ax, ci=None, err_style='bars', err_kws={'capsize': 5})\n",
    "ax.set_ylabel(ylabel)\n",
    "ax.set_xticklabels([i*15 for i in range(5)])\n",
    "ax.set_xlabel(xlabel)\n",
    "ax.set_ylim([0, 25])\n",
    "fig.tight_layout()\n",
    "\n",
    "if save_fig:\n",
    "    fig.savefig(plot_path_car.joinpath(\"img_car_example.pdf\"), transparent=True)"
   ]
  },
  {
   "cell_type": "code",
   "execution_count": null,
   "metadata": {},
   "outputs": [],
   "source": [
    "fig, ax = plt.subplots(figsize=(10, 5))\n",
    "sns.pointplot(data=cort_samples.reset_index(), x='sample', y='cortisol', ax=ax, ci='sd', err_style='bars', capsize=0.2)\n",
    "ax.set_ylabel(ylabel)\n",
    "ax.set_xticklabels([i*15 for i in range(5)])\n",
    "ax.set_xlabel(xlabel)\n",
    "ax.set_ylim([0, 25])\n",
    "\n",
    "fig.tight_layout()\n",
    "if save_fig:\n",
    "    fig.savefig(plot_path_car.joinpath(\"img_car_mean_sd.pdf\"), transparent=True)"
   ]
  },
  {
   "cell_type": "markdown",
   "metadata": {},
   "source": [
    "## IMU"
   ]
  },
  {
   "cell_type": "code",
   "execution_count": null,
   "metadata": {},
   "outputs": [],
   "source": [
    "imu_path = data_path.joinpath(\"Sleep_Data/AK12I/NilsPodX-5DCC_20191201_234759.bin\")\n",
    "data, fs = bp.io.nilspod.load_dataset_nilspod(imu_path)\n",
    "data = data.between_time(\"23:30\", \"07:00\")"
   ]
  },
  {
   "cell_type": "code",
   "execution_count": null,
   "metadata": {},
   "outputs": [],
   "source": [
    "sleep_results = bp.sleep.sleep_processing_pipeline.predict_pipeline_acceleration(data, fs, convert_to_g=True)\n",
    "sleep_endpoints = sleep_results['sleep_endpoints']"
   ]
  },
  {
   "cell_type": "code",
   "execution_count": null,
   "metadata": {},
   "outputs": [],
   "source": [
    "major_wear_block = bp.signals.imu.wear_detection.WearDetection.get_major_wear_block(sleep_results['wear_detection'])"
   ]
  },
  {
   "cell_type": "code",
   "execution_count": null,
   "metadata": {},
   "outputs": [],
   "source": [
    "wear_start = major_wear_block[0]\n",
    "wear_stop = major_wear_block[1]"
   ]
  },
  {
   "cell_type": "markdown",
   "metadata": {},
   "source": [
    "#### Raw ACC"
   ]
  },
  {
   "cell_type": "code",
   "execution_count": null,
   "metadata": {},
   "outputs": [],
   "source": [
    "fig, ax = plt.subplots(figsize=(14,5))\n",
    "bp.sleep.plotting.sleep_imu_plot(data, datastreams=['acc'], downsample_factor=10*fs, ax=ax)\n",
    "ax.legend().remove()\n",
    "fig.legend(loc='upper right', bbox_to_anchor=(1.0, 1.0))\n",
    "fig.tight_layout(rect=(0, 0, 0.85, 1.0))\n",
    "\n",
    "if save_fig:\n",
    "    fig.savefig(plot_path_sleep.joinpath(\"img_00_sleep_raw.pdf\"), transparent=True)"
   ]
  },
  {
   "cell_type": "code",
   "execution_count": null,
   "metadata": {},
   "outputs": [],
   "source": [
    "fig, ax = plt.subplots(figsize=(14,5))\n",
    "bp.sleep.plotting.sleep_imu_plot(data, datastreams=['acc'], downsample_factor=10*fs, ax=ax)\n",
    "\n",
    "ax.axvspan(wear_start, wear_stop, color=bp.colors.fau_color('med'), alpha=0.1, label=\"Wear Period\")\n",
    "\n",
    "ax.legend().remove()\n",
    "fig.legend(loc='upper right', bbox_to_anchor=(1.0, 1.0))\n",
    "fig.tight_layout(rect=(0, 0, 0.85, 1.0))\n",
    "\n",
    "if save_fig:\n",
    "    fig.savefig(plot_path_sleep.joinpath(\"img_01_sleep_wear_detection.pdf\"), transparent=True)"
   ]
  },
  {
   "cell_type": "code",
   "execution_count": null,
   "metadata": {},
   "outputs": [],
   "source": [
    "data_cut = data.loc[wear_start:(wear_stop - pd.Timedelta(\"1:30:00\"))]"
   ]
  },
  {
   "cell_type": "code",
   "execution_count": null,
   "metadata": {},
   "outputs": [],
   "source": [
    "sleep_results = bp.sleep.sleep_endpoints.predict_pipeline(data_cut, fs)\n",
    "sleep_endpoints = sleep_results['sleep_endpoints']"
   ]
  },
  {
   "cell_type": "code",
   "execution_count": null,
   "metadata": {},
   "outputs": [],
   "source": [
    "fig, ax = plt.subplots(figsize=(14,5))\n",
    "bp.sleep.plotting.sleep_imu_plot(data, datastreams=['acc'], sleep_endpoints=sleep_endpoints, downsample_factor=10*fs, ax=ax, plot_sleep_onset=False, plot_wake_onset=False, plot_sleep_wake=False)\n",
    "\n",
    "ax.axvspan(wear_start, wear_stop, color=bp.colors.fau_color('med'), alpha=0.1, label=\"Wear Period\", zorder=0)\n",
    "\n",
    "ax.set_title(None)\n",
    "ax.legend().remove()\n",
    "fig.legend(loc='upper right', bbox_to_anchor=(1.0, 1.0))\n",
    "fig.tight_layout(rect=(0, 0, 0.85, 1.0))\n",
    "\n",
    "if save_fig:\n",
    "    fig.savefig(plot_path_sleep.joinpath(\"img_02_sleep_mrp.pdf\"), transparent=True)"
   ]
  },
  {
   "cell_type": "code",
   "execution_count": null,
   "metadata": {},
   "outputs": [],
   "source": [
    "fig, ax = plt.subplots(figsize=(14,5))\n",
    "bp.sleep.plotting.sleep_imu_plot(data, datastreams=['acc'], sleep_endpoints=sleep_endpoints, downsample_factor=10*fs, ax=ax)\n",
    "\n",
    "ax.axvspan(major_wear_block[0], pd.Timestamp(sleep_endpoints['sleep_onset']), color=bp.colors.fau_color('med'), alpha=0.1, label=\"Wear Period\", zorder=0)\n",
    "ax.axvspan(pd.Timestamp(sleep_endpoints['wake_onset']), major_wear_block[1], color=bp.colors.fau_color('med'), alpha=0.1, zorder=0)\n",
    "\n",
    "ax.set_title(None)\n",
    "ax.legend().remove()\n",
    "fig.legend(loc='upper right', bbox_to_anchor=(1.0, 1.0))\n",
    "fig.tight_layout(rect=(0, 0, 0.85, 1.0))\n",
    "\n",
    "if save_fig:\n",
    "    fig.savefig(plot_path_sleep.joinpath(\"img_03_sleep_total.pdf\"), transparent=True)"
   ]
  },
  {
   "cell_type": "code",
   "execution_count": null,
   "metadata": {},
   "outputs": [],
   "source": []
  },
  {
   "cell_type": "code",
   "execution_count": null,
   "metadata": {},
   "outputs": [],
   "source": []
  },
  {
   "cell_type": "markdown",
   "metadata": {},
   "source": [
    "## IMU – Subplots"
   ]
  },
  {
   "cell_type": "code",
   "execution_count": null,
   "metadata": {},
   "outputs": [],
   "source": [
    "imu_path = data_path.joinpath(\"Sleep_Data/AK12I/NilsPodX-5DCC_20191201_234759.bin\")\n",
    "data, fs = bp.io.nilspod.load_dataset_nilspod(imu_path)\n",
    "data = data.between_time(\"23:30\", \"06:00\")"
   ]
  },
  {
   "cell_type": "code",
   "execution_count": null,
   "metadata": {},
   "outputs": [],
   "source": [
    "sleep_results = bp.sleep.sleep_endpoints.predict_pipeline(data, fs, convert_to_g=True)\n",
    "sleep_endpoints = sleep_results['sleep_endpoints']"
   ]
  },
  {
   "cell_type": "code",
   "execution_count": null,
   "metadata": {},
   "outputs": [],
   "source": [
    "major_wear_block = bp.signals.imu.wear_detection.WearDetection.get_major_wear_block(sleep_results['wear_detection'])\n",
    "wear_start = major_wear_block[0]\n",
    "wear_stop = major_wear_block[1]"
   ]
  },
  {
   "cell_type": "code",
   "execution_count": null,
   "metadata": {},
   "outputs": [],
   "source": [
    "from matplotlib.dates import DateFormatter\n",
    "\n",
    "fig, axs = plt.subplots(figsize=(22,5), ncols=4, sharey=True)\n",
    "\n",
    "bp.sleep.plotting.sleep_imu_plot(data, datastreams=['acc'], downsample_factor=10*fs, ax=axs[0])\n",
    "\n",
    "bp.sleep.plotting.sleep_imu_plot(data, datastreams=['acc'], downsample_factor=10*fs, ax=axs[1])\n",
    "axs[1].axvspan(wear_start, wear_stop, color=bp.colors.fau_color('med'), alpha=0.1, label=\"Wear Period\")\n",
    "\n",
    "#data_cut = data.loc[wear_start:(wear_stop - pd.Timedelta(\"00:30:00\"))]\n",
    "#sleep_results = bp.sleep.sleep_endpoints.predict_pipeline(data_cut, fs)\n",
    "#sleep_endpoints = sleep_results['sleep_endpoints']\n",
    "\n",
    "bp.sleep.plotting.sleep_imu_plot(data, datastreams=['acc'], sleep_endpoints=sleep_endpoints, downsample_factor=10*fs, ax=axs[2], plot_sleep_onset=False, plot_wake_onset=False, plot_sleep_wake=False)\n",
    "axs[2].axvspan(wear_start, wear_stop, color=bp.colors.fau_color('med'), alpha=0.1, label=\"Wear Period\", zorder=0)\n",
    "\n",
    "bp.sleep.plotting.sleep_imu_plot(data, datastreams=['acc'], sleep_endpoints=sleep_endpoints, downsample_factor=10*fs, ax=axs[3])\n",
    "axs[3].axvspan(major_wear_block[0], pd.Timestamp(sleep_endpoints['sleep_onset']), color=bp.colors.fau_color('med'), alpha=0.1, label=\"Wear Period\", zorder=0)\n",
    "axs[3].axvspan(pd.Timestamp(sleep_endpoints['wake_onset']), major_wear_block[1], color=bp.colors.fau_color('med'), alpha=0.1, zorder=0)\n",
    "\n",
    "for ax in axs:\n",
    "    ax.xaxis.set_major_formatter(DateFormatter(\"%H:%M\"))\n",
    "    h, l = ax.get_legend_handles_labels()\n",
    "    ax.legend().remove()\n",
    "    ax.set_title(None)\n",
    "    \n",
    "fig.legend(h, l, loc='upper right', bbox_to_anchor=(1.0, 1.0))\n",
    "fig.tight_layout(pad=0.0, rect=(0, 0, 0.89, 1.0))\n",
    "if save_fig:\n",
    "    fig.savefig(plot_path_sleep.joinpath(\"img_sleep_pipeline_total.pdf\"), transparent=True)"
   ]
  },
  {
   "cell_type": "code",
   "execution_count": null,
   "metadata": {},
   "outputs": [],
   "source": []
  }
 ],
 "metadata": {
  "kernelspec": {
   "display_name": "Python 3",
   "language": "python",
   "name": "python3"
  },
  "language_info": {
   "codemirror_mode": {
    "name": "ipython",
    "version": 3
   },
   "file_extension": ".py",
   "mimetype": "text/x-python",
   "name": "python",
   "nbconvert_exporter": "python",
   "pygments_lexer": "ipython3",
   "version": "3.8.3"
  }
 },
 "nbformat": 4,
 "nbformat_minor": 4
}
