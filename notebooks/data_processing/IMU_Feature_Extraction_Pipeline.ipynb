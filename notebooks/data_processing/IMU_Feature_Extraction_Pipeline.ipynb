{
 "cells": [
  {
   "cell_type": "markdown",
   "metadata": {},
   "source": [
    "# IMU Feature Extraction Pipeline"
   ]
  },
  {
   "cell_type": "markdown",
   "metadata": {},
   "source": [
    "## Setup"
   ]
  },
  {
   "cell_type": "code",
   "execution_count": null,
   "metadata": {},
   "outputs": [],
   "source": [
    "from pathlib import Path\n",
    "import re\n",
    "\n",
    "import pandas as pd\n",
    "import numpy as np\n",
    "\n",
    "import biopsykit as bp\n",
    "from biopsykit.utils.time import timedelta_to_time\n",
    "from biopsykit.signals.imu.feature_extraction.static_moments import compute_features\n",
    "\n",
    "import carwatch_analysis.imu_helper as helper\n",
    "\n",
    "import matplotlib.pyplot as plt\n",
    "import seaborn as sns\n",
    "\n",
    "from joblib import Parallel\n",
    "from tqdm.notebook import tqdm\n",
    "\n",
    "%matplotlib widget\n",
    "%load_ext autoreload\n",
    "%autoreload 2"
   ]
  },
  {
   "cell_type": "code",
   "execution_count": null,
   "metadata": {},
   "outputs": [],
   "source": [
    "plt.close('all')\n",
    "sns.set_theme(style='ticks')\n",
    "\n",
    "compute_endpoints = False\n",
    "compute_features = False\n",
    "export_figures = False"
   ]
  },
  {
   "cell_type": "code",
   "execution_count": null,
   "metadata": {},
   "outputs": [],
   "source": [
    "base_path = Path(\"../../../../Data\")\n",
    "sleep_path = base_path.joinpath(\"Sleep_Data\")\n",
    "\n",
    "# create new export folders\n",
    "export_path = Path(\"../../exports\")\n",
    "feature_export_path = export_path.joinpath(\"features\")\n",
    "sleep_endpoints_export_path = export_path.joinpath(\"sleep_endpoints\")\n",
    "plot_export_path = export_path.joinpath(\"sleep_plots\")\n",
    "\n",
    "bp.utils.file_handling.mkdirs([export_path, plot_export_path, feature_export_path, sleep_endpoints_export_path])"
   ]
  },
  {
   "cell_type": "markdown",
   "metadata": {},
   "source": [
    "## Import Index"
   ]
  },
  {
   "cell_type": "code",
   "execution_count": null,
   "metadata": {},
   "outputs": [],
   "source": [
    "bedtime_data = pd.read_csv(export_path.joinpath(\"questionnaire_chronotype_bedtimes.csv\"), index_col=['subject', 'night'])\n",
    "bedtime_data.head()"
   ]
  },
  {
   "cell_type": "code",
   "execution_count": null,
   "metadata": {},
   "outputs": [],
   "source": [
    "cond_data = pd.read_csv(export_path.joinpath(\"questionnaire_condition.csv\"), index_col=['subject', 'night', 'condition'])\n",
    "cond_data.head()"
   ]
  },
  {
   "cell_type": "markdown",
   "metadata": {},
   "source": [
    "## IMU Data Processing"
   ]
  },
  {
   "cell_type": "code",
   "execution_count": null,
   "metadata": {},
   "outputs": [],
   "source": [
    "fs = 102.4\n",
    "window_size = 5 * fs\n",
    "overlap = int(0.9 * window_size)\n",
    "thres = 100"
   ]
  },
  {
   "cell_type": "code",
   "execution_count": null,
   "metadata": {},
   "outputs": [],
   "source": [
    "# get all subject directories\n",
    "subject_dirs = bp.utils.file_handling.get_subject_dirs(sleep_path, pattern=\"*\")"
   ]
  },
  {
   "cell_type": "code",
   "execution_count": null,
   "metadata": {},
   "outputs": [],
   "source": [
    "feature_results = {}\n",
    "endpoint_results = {}"
   ]
  },
  {
   "cell_type": "code",
   "execution_count": null,
   "metadata": {},
   "outputs": [],
   "source": [
    "for subject_dir in tqdm(subject_dirs):\n",
    "    subject_id = helper.subject_id_from_path(subject_dir)\n",
    "    \n",
    "    if subject_id in bedtime_data.index:\n",
    "        selfreport_endpoints = bedtime_data.loc[subject_id]\n",
    "    else:\n",
    "        selfreport_endpoints = None\n",
    "        \n",
    "    df_endpoints_subject, df_features_subject = helper.process_subject(\n",
    "        subject_dir=subject_dir, \n",
    "        compute_endpoints=compute_endpoints,\n",
    "        compute_features=compute_features,\n",
    "        export_figures=export_figures, \n",
    "        feature_export_path=feature_export_path, \n",
    "        sleep_endpoints_export_path=sleep_endpoints_export_path, \n",
    "        plot_export_path=plot_export_path,\n",
    "        thres=thres, window_size=window_size, overlap=overlap,\n",
    "        selfreport_endpoints=selfreport_endpoints,\n",
    "        compare_endpoints=True\n",
    "    )\n",
    "    \n",
    "    if df_endpoints_subject is not None:\n",
    "        endpoint_results[subject_id] = df_endpoints_subject\n",
    "    if df_features_subject is not None:\n",
    "        feature_results[subject_id] = df_features_subject   "
   ]
  },
  {
   "cell_type": "code",
   "execution_count": null,
   "metadata": {},
   "outputs": [],
   "source": [
    "if feature_results:\n",
    "    df_features = pd.concat(feature_results, names=['subject'])\n",
    "else:\n",
    "    df_features = None\n",
    "if endpoint_results:\n",
    "    df_sleep_endpoints = pd.concat(endpoint_results, names=['subject'])\n",
    "else:\n",
    "    df_sleep_endpoints = None"
   ]
  },
  {
   "cell_type": "markdown",
   "metadata": {},
   "source": [
    "## Data Cleaning"
   ]
  },
  {
   "cell_type": "markdown",
   "metadata": {},
   "source": [
    "### Add Condition to DataFrame"
   ]
  },
  {
   "cell_type": "code",
   "execution_count": null,
   "metadata": {},
   "outputs": [],
   "source": [
    "df_features = df_features.join(cond_data)\n",
    "df_features = df_features.drop(np.nan, level='condition')\n",
    "df_features = df_features.reorder_levels([\"subject\", \"night\", \"condition\", \"imu_feature\", \"time_span\", \"wakeup_type\"])\n",
    "df_features"
   ]
  },
  {
   "cell_type": "markdown",
   "metadata": {},
   "source": [
    "### Drop Night 2"
   ]
  },
  {
   "cell_type": "code",
   "execution_count": null,
   "metadata": {},
   "outputs": [],
   "source": [
    "df_features = df_features.drop(2, level=\"night\", errors=\"ignore\")\n",
    "df_features"
   ]
  },
  {
   "cell_type": "markdown",
   "metadata": {},
   "source": [
    "### Drop Nights with Incomplete IMU Data"
   ]
  },
  {
   "cell_type": "markdown",
   "metadata": {},
   "source": [
    "Nights with IMU data $< 4h$ are removed"
   ]
  },
  {
   "cell_type": "code",
   "execution_count": null,
   "metadata": {},
   "outputs": [],
   "source": [
    "fig, ax = plt.subplots(figsize=(10, 3))\n",
    "df_sleep_endpoints[[\"total_sleep_time\"]].plot(ax=ax)\n",
    "ax.axhline(y=4*60, color='g')"
   ]
  },
  {
   "cell_type": "code",
   "execution_count": null,
   "metadata": {},
   "outputs": [],
   "source": [
    "sleep_dur_mask = df_sleep_endpoints[\"total_sleep_time\"] >= 4 * 60\n",
    "df_features = df_features.loc[sleep_dur_mask]\n",
    "df_features.head()"
   ]
  },
  {
   "cell_type": "code",
   "execution_count": null,
   "metadata": {},
   "outputs": [],
   "source": [
    "if df_features is not None:\n",
    "    df_features.to_csv(export_path.joinpath(\"imu_features_complete.csv\"))\n",
    "if df_sleep_endpoints is not None:\n",
    "    df_sleep_endpoints.to_csv(export_path.joinpath(\"imu_sleep_endpoints_complete.csv\"))"
   ]
  },
  {
   "cell_type": "code",
   "execution_count": null,
   "metadata": {},
   "outputs": [],
   "source": []
  }
 ],
 "metadata": {
  "kernelspec": {
   "display_name": "Python 3",
   "language": "python",
   "name": "python3"
  },
  "language_info": {
   "codemirror_mode": {
    "name": "ipython",
    "version": 3
   },
   "file_extension": ".py",
   "mimetype": "text/x-python",
   "name": "python",
   "nbconvert_exporter": "python",
   "pygments_lexer": "ipython3",
   "version": "3.8.3"
  }
 },
 "nbformat": 4,
 "nbformat_minor": 4
}
