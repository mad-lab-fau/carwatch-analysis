{
 "cells": [
  {
   "cell_type": "markdown",
   "metadata": {},
   "source": [
    "# IMU Feature Extraction Pipeline"
   ]
  },
  {
   "cell_type": "code",
   "execution_count": null,
   "metadata": {},
   "outputs": [],
   "source": [
    "from pathlib import Path\n",
    "import re\n",
    "\n",
    "import pandas as pd\n",
    "import numpy as np\n",
    "\n",
    "import biopsykit as bp\n",
    "from biopsykit.utils.time import timedelta_to_time\n",
    "from biopsykit.signals.imu.feature_extraction.static_sequences import static_sequence_features\n",
    "\n",
    "import carwatch_analysis.helper_functions as helper\n",
    "\n",
    "import matplotlib.pyplot as plt\n",
    "import seaborn as sns\n",
    "\n",
    "from tqdm.notebook import tqdm\n",
    "\n",
    "%matplotlib widget\n",
    "%load_ext autoreload\n",
    "%autoreload 2"
   ]
  },
  {
   "cell_type": "code",
   "execution_count": null,
   "metadata": {},
   "outputs": [],
   "source": [
    "plt.close('all')\n",
    "sns.set_theme(style='ticks')\n",
    "\n",
    "load_raw = True\n",
    "export_figures = False"
   ]
  },
  {
   "cell_type": "code",
   "execution_count": null,
   "metadata": {},
   "outputs": [],
   "source": [
    "base_path = Path(\"../../../../Data\")\n",
    "sleep_path = base_path.joinpath(\"Sleep_Data\")\n",
    "\n",
    "# create new export folders\n",
    "export_path = Path(\"../../exports\")\n",
    "feature_export_path = export_path.joinpath(\"features\")\n",
    "sleep_endpoints_export_path = export_path.joinpath(\"sleep_endpoints\")\n",
    "plot_export_path = export_path.joinpath(\"sleep_plots\")\n",
    "\n",
    "bp.utils.file_handling.mkdirs([export_path, plot_export_path, feature_export_path, sleep_endpoints_export_path])"
   ]
  },
  {
   "cell_type": "code",
   "execution_count": null,
   "metadata": {},
   "outputs": [],
   "source": [
    "fs = 102.4\n",
    "window_size = 5 * fs\n",
    "overlap = int(0.9 * window_size)\n",
    "thres = 100"
   ]
  },
  {
   "cell_type": "code",
   "execution_count": null,
   "metadata": {},
   "outputs": [],
   "source": [
    "# get all subject directories\n",
    "subject_dirs = bp.utils.file_handling.get_subject_dirs(sleep_path, pattern=\"*\")"
   ]
  },
  {
   "cell_type": "code",
   "execution_count": null,
   "metadata": {},
   "outputs": [],
   "source": [
    "feature_results = {}\n",
    "endpoint_results = {}\n",
    "\n",
    "for subject_dir in tqdm(subject_dirs):\n",
    "    subject_id = helper.subject_id_from_path(subject_dir)\n",
    "    \n",
    "    df_endpoints_subject, df_features_subject = helper.process_subject(\n",
    "        subject_dir=subject_dir, \n",
    "        load_raw=load_raw, \n",
    "        export_figures=export_figures, \n",
    "        feature_export_path=feature_export_path, \n",
    "        sleep_endpoints_export_path=sleep_endpoints_export_path, \n",
    "        plot_export_path=plot_export_path,\n",
    "        thres=thres, window_size=window_size, overlap=overlap\n",
    "    )\n",
    "    \n",
    "    if df_endpoints is not None:\n",
    "        feature_results[subject_id] = df_features_subject\n",
    "        endpoint_results[subject_id] = df_endpoints_subject"
   ]
  },
  {
   "cell_type": "code",
   "execution_count": null,
   "metadata": {},
   "outputs": [],
   "source": [
    "df_features = pd.concat(feature_results, names=['subject'])\n",
    "df_sleep_endpoints = pd.concat(endpoint_results, names=['subject'])"
   ]
  },
  {
   "cell_type": "code",
   "execution_count": null,
   "metadata": {},
   "outputs": [],
   "source": [
    "df_features.to_csv(export_path.joinpath(\"imu_features_complete.csv\"))\n",
    "df_sleep_endpoints.to_csv(export_path.joinpath(\"imu_sleep_endpoints_complete.csv\"))"
   ]
  },
  {
   "cell_type": "markdown",
   "metadata": {},
   "source": [
    "## Tests"
   ]
  },
  {
   "cell_type": "code",
   "execution_count": null,
   "metadata": {},
   "outputs": [],
   "source": [
    "df_feature_plot = df_feature.drop(index=0, level='label').reset_index()\n",
    "df_feature_plot = df_feature_plot.drop(columns=['subject', 'night', 'sleep_bouts_number'])"
   ]
  },
  {
   "cell_type": "code",
   "execution_count": null,
   "metadata": {},
   "outputs": [],
   "source": [
    "df_feature_plot"
   ]
  },
  {
   "cell_type": "code",
   "execution_count": null,
   "metadata": {},
   "outputs": [],
   "source": [
    "g = sns.pairplot(df_feature_plot, hue='label')"
   ]
  },
  {
   "cell_type": "code",
   "execution_count": null,
   "metadata": {},
   "outputs": [],
   "source": [
    "g.savefig(export_path.joinpath(\"pairplot.pdf\"))"
   ]
  },
  {
   "cell_type": "code",
   "execution_count": null,
   "metadata": {},
   "outputs": [],
   "source": []
  }
 ],
 "metadata": {
  "kernelspec": {
   "display_name": "Python 3",
   "language": "python",
   "name": "python3"
  },
  "language_info": {
   "codemirror_mode": {
    "name": "ipython",
    "version": 3
   },
   "file_extension": ".py",
   "mimetype": "text/x-python",
   "name": "python",
   "nbconvert_exporter": "python",
   "pygments_lexer": "ipython3",
   "version": "3.8.3"
  }
 },
 "nbformat": 4,
 "nbformat_minor": 4
}
