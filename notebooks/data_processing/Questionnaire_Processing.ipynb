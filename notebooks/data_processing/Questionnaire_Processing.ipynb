{
 "cells": [
  {
   "cell_type": "markdown",
   "metadata": {},
   "source": [
    "# Questionnaire Processing"
   ]
  },
  {
   "cell_type": "markdown",
   "metadata": {},
   "source": [
    "This Notebook processes questionnaire data and extracts relevant columns. The informaton used from the questionnaire data are:\n",
    "* Chronotype: assessed by *Morningness-Eveningness Questionnaire (MEQ)*\n",
    "* Sleep Information: Self-reported Bed Time, Sleep Onset, Wake Onset"
   ]
  },
  {
   "cell_type": "markdown",
   "metadata": {},
   "source": [
    "As Questionnaire for Chronotype Assessment we use the Morningness Eveningness Questionnaire (MEQ) from Horne and Östberg (1976).\n",
    "\n",
    "```\n",
    "Horne, J. A., & Östberg, O. (1976). A self-assessment questionnaire to determine morningness-eveningness in human circadian rhythms. International journal of chronobiology.\n",
    "```"
   ]
  },
  {
   "cell_type": "code",
   "execution_count": null,
   "metadata": {},
   "outputs": [],
   "source": [
    "from pathlib import Path\n",
    "\n",
    "import pandas as pd\n",
    "import numpy as np\n",
    "\n",
    "import biopsykit as bp\n",
    "from biopsykit.questionnaires.utils import invert, find_cols\n",
    "from biopsykit.utils.dataframe_handling import int_from_str_idx, camel_to_snake\n",
    "\n",
    "import matplotlib.pyplot as plt\n",
    "import seaborn as sns\n",
    "\n",
    "%matplotlib widget\n",
    "%load_ext autoreload\n",
    "%autoreload 2"
   ]
  },
  {
   "cell_type": "code",
   "execution_count": null,
   "metadata": {},
   "outputs": [],
   "source": [
    "plt.close('all')\n",
    "sns.set(style='ticks')"
   ]
  },
  {
   "cell_type": "markdown",
   "metadata": {},
   "source": [
    "## Load Questionnaire Data"
   ]
  },
  {
   "cell_type": "code",
   "execution_count": null,
   "metadata": {},
   "outputs": [],
   "source": [
    "data_path = Path(\"../../../../Data\")\n",
    "export_path = Path(\"../..\").joinpath(\"exports\")\n",
    "\n",
    "bp.utils.file_handling.mkdirs(export_path)"
   ]
  },
  {
   "cell_type": "code",
   "execution_count": null,
   "metadata": {},
   "outputs": [],
   "source": [
    "df_quest = bp.io.load_questionnaire_data(data_path.joinpath(\"Questionnaire_Data\").joinpath(\"Questionnaire_Data_CARWatch.xlsx\"), index_cols='subject')\n",
    "df_quest.head()"
   ]
  },
  {
   "cell_type": "markdown",
   "metadata": {},
   "source": [
    "## Chronotype"
   ]
  },
  {
   "cell_type": "markdown",
   "metadata": {},
   "source": [
    "### Convert MEQ Questionnaire Items Into Right Format"
   ]
  },
  {
   "cell_type": "code",
   "execution_count": null,
   "metadata": {},
   "outputs": [],
   "source": [
    "df_meq = find_cols(df_quest, starts_with=\"MEQ\", ends_with=\"[0-9]\")[0]\n",
    "\n",
    "# Recode MEQ01\n",
    "df_meq.loc[:, 'MEQ_01'].replace({1: 1, 2: 1, 3: 2, 4: 3, 5: 3, 6: 4, 7: 4, 8: 5}, inplace=True)\n",
    "# Recode MEQ02\n",
    "df_meq.loc[:, 'MEQ_02'].replace({1: 1, 2: 1, 3: 2, 4: 3, 5: 3, 6: 4, 7: 4, 8: 5}, inplace=True)\n",
    "# Recode MEQ10\n",
    "df_meq.loc[:, 'MEQ_10'].replace({1: 1, 2: 1, 3: 2, 4: 3, 5: 3, 6: 4, 7: 4, 8: 5}, inplace=True)\n",
    "\n",
    "# Invert columns that were in inverted order in questionnaire (to comply with biopsykit implementation)\n",
    "invert_cols = ['MEQ_03', 'MEQ_08', 'MEQ_09', 'MEQ_19']\n",
    "invert(df_meq.loc[:, invert_cols], score_range=[1, 4], inplace=True)\n",
    "\n",
    "# Invert columns that were in inverted order in questionnaire (to comply with biopsykit implementation)\n",
    "invert_cols = ['MEQ_17', 'MEQ_18']\n",
    "invert(df_meq.loc[:, invert_cols], score_range=[1, 5], inplace=True)\n",
    "\n",
    "meq = bp.questionnaires.meq(df_meq)"
   ]
  },
  {
   "cell_type": "markdown",
   "metadata": {},
   "source": [
    "### Compute MEQ and Classify Chronotypes"
   ]
  },
  {
   "cell_type": "markdown",
   "metadata": {},
   "source": [
    "From the MEQ score Chronotypes can be classified in two different ways:\n",
    "* Fine Classification (5 levels, column `Chronotype_Fine`):\n",
    "    - 0: definite evening type (MEQ score 14-30)\n",
    "    - 1: moderate evening type (MEQ score 31-41)\n",
    "    - 2: intermediate type (MEQ score 42-58)\n",
    "    - 3: moderate morning type (MEQ score 59-69)\n",
    "    - 4: definite morning type (MEQ score 70-86)\n",
    "* Coarse Classification (3 levels, column `Chronotype_Coarse`):\n",
    "    - 0: evening type (MEQ score 14-41)\n",
    "    - 1: intermediate type (MEQ score 42-58)\n",
    "    - 2: morning type (MEQ score 59-86)"
   ]
  },
  {
   "cell_type": "code",
   "execution_count": null,
   "metadata": {},
   "outputs": [],
   "source": [
    "meq.head()"
   ]
  },
  {
   "cell_type": "markdown",
   "metadata": {},
   "source": [
    "### Further Information"
   ]
  },
  {
   "cell_type": "markdown",
   "metadata": {},
   "source": [
    "#### MEQ Histogram"
   ]
  },
  {
   "cell_type": "code",
   "execution_count": null,
   "metadata": {},
   "outputs": [],
   "source": [
    "fig, ax = plt.subplots()\n",
    "meq['MEQ'].plot(kind='hist', ax=ax)\n",
    "ax.axvline(41, color='grey', ls='--')\n",
    "ax.axvline(58, color='grey', ls='--')\n",
    "ax.set_xlabel(\"MEQ Score\")\n",
    "ax.set_ylabel(\"Count\")"
   ]
  },
  {
   "cell_type": "markdown",
   "metadata": {},
   "source": [
    "#### Chronotype Prevalence"
   ]
  },
  {
   "cell_type": "code",
   "execution_count": null,
   "metadata": {},
   "outputs": [],
   "source": [
    "pd.DataFrame(meq['Chronotype_Coarse'].value_counts())"
   ]
  },
  {
   "cell_type": "code",
   "execution_count": null,
   "metadata": {},
   "outputs": [],
   "source": [
    "meq.describe().T"
   ]
  },
  {
   "cell_type": "markdown",
   "metadata": {},
   "source": [
    "## Sleep Information"
   ]
  },
  {
   "cell_type": "markdown",
   "metadata": {},
   "source": [
    "### Ideal Bedtime Ranges"
   ]
  },
  {
   "cell_type": "code",
   "execution_count": null,
   "metadata": {},
   "outputs": [],
   "source": [
    "bedtime_ranges = {1: [\"01:45:00\", \"03:00:00\"], 2: [\"00:30:00\", \"01:45:00\"], 3: [\"22:15:00\", \"00:30:00\"], 4: [\"21:00:00\", \"22:15:00\"], 5: [\"20:00:00\", \"21:00:00\"]}\n",
    "\n",
    "bedtime_ranges = pd.DataFrame(bedtime_ranges, index=[\"start\", \"end\"]).T\n",
    "bedtime = pd.DataFrame({\n",
    "    'ideal_bed_{}'.format(key): df_meq['MEQ_02'].replace(bedtime_ranges[key])\n",
    "    for key in ['start', 'end']\n",
    "})"
   ]
  },
  {
   "cell_type": "markdown",
   "metadata": {},
   "source": [
    "### Self-Report Sleep Data"
   ]
  },
  {
   "cell_type": "code",
   "execution_count": null,
   "metadata": {},
   "outputs": [],
   "source": [
    "times_selfreport = df_quest.filter(regex=\"(bed|sleepOnset|wakeOnset)Selfreport_*\")"
   ]
  },
  {
   "cell_type": "markdown",
   "metadata": {},
   "source": [
    "## Merge Data"
   ]
  },
  {
   "cell_type": "code",
   "execution_count": null,
   "metadata": {},
   "outputs": [],
   "source": [
    "df_quest_sleep = pd.concat([bedtime, meq, times_selfreport], axis=1)\n",
    "df_quest_sleep.head()"
   ]
  },
  {
   "cell_type": "markdown",
   "metadata": {},
   "source": [
    "### Convert To Long-Format"
   ]
  },
  {
   "cell_type": "code",
   "execution_count": null,
   "metadata": {},
   "outputs": [],
   "source": [
    "df_quest_sleep = pd.wide_to_long(df_quest_sleep.reset_index(), stubnames=['{}Selfreport'.format(s) for s in ['sleepOnset', 'bed', 'wakeOnset']], i=\"subject\", j=\"night\", sep=\"_\", suffix='\\w+').sort_index()\n",
    "df_quest_sleep = int_from_str_idx(df_quest_sleep, 'night', \"N(\\w)\", lambda x: x-1)\n",
    "df_quest_sleep.head()"
   ]
  },
  {
   "cell_type": "code",
   "execution_count": null,
   "metadata": {},
   "outputs": [],
   "source": [
    "df_quest_sleep = df_quest_sleep.rename(columns={s: camel_to_snake(s) for s in [\"sleepOnsetSelfreport\", \"bedSelfreport\", \"wakeOnsetSelfreport\"]})\n",
    "df_quest_sleep = df_quest_sleep.rename(columns={s: s.lower() for s in [\"Chronotype_Coarse\", \"Chronotype_Fine\"]})\n",
    "df_quest_sleep.head()"
   ]
  },
  {
   "cell_type": "code",
   "execution_count": null,
   "metadata": {},
   "outputs": [],
   "source": [
    "df_quest_sleep.to_csv(export_path.joinpath(\"questionnaire_chronotype_bedtimes.csv\"))"
   ]
  },
  {
   "cell_type": "code",
   "execution_count": null,
   "metadata": {},
   "outputs": [],
   "source": []
  }
 ],
 "metadata": {
  "kernelspec": {
   "display_name": "Python 3",
   "language": "python",
   "name": "python3"
  },
  "language_info": {
   "codemirror_mode": {
    "name": "ipython",
    "version": 3
   },
   "file_extension": ".py",
   "mimetype": "text/x-python",
   "name": "python",
   "nbconvert_exporter": "python",
   "pygments_lexer": "ipython3",
   "version": "3.8.3"
  }
 },
 "nbformat": 4,
 "nbformat_minor": 4
}
