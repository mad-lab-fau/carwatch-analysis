{
 "cells": [
  {
   "cell_type": "markdown",
   "metadata": {},
   "source": [
    "# CARWatch – Saliva Data Cleaning and Processing"
   ]
  },
  {
   "cell_type": "code",
   "execution_count": null,
   "metadata": {},
   "outputs": [],
   "source": [
    "from pathlib import Path\n",
    "\n",
    "import pandas as pd\n",
    "import numpy as np\n",
    "\n",
    "import biopsykit as bp\n",
    "from biopsykit.utils.time import time_to_datetime\n",
    "from biopsykit.utils.dataframe_handling import multi_xs, int_from_str_idx, camel_to_snake\n",
    "\n",
    "import matplotlib.pyplot as plt\n",
    "import seaborn as sns\n",
    "\n",
    "%matplotlib widget\n",
    "%load_ext autoreload\n",
    "%autoreload 2"
   ]
  },
  {
   "cell_type": "code",
   "execution_count": null,
   "metadata": {},
   "outputs": [],
   "source": [
    "plt.close('all')\n",
    "sns.set(style='ticks')"
   ]
  },
  {
   "cell_type": "markdown",
   "metadata": {},
   "source": [
    "## Load Saliva Data"
   ]
  },
  {
   "cell_type": "code",
   "execution_count": null,
   "metadata": {},
   "outputs": [],
   "source": [
    "data_path = Path(\"../../../../Data\")\n",
    "export_path = Path(\"../..\").joinpath(\"exports\")\n",
    "quest_path = data_path.joinpath(\"Questionnaire_Data\")"
   ]
  },
  {
   "cell_type": "code",
   "execution_count": null,
   "metadata": {},
   "outputs": [],
   "source": [
    "quest = bp.io.load_questionnaire_data(quest_path.joinpath(\"Questionnaire_Data_CARWatch.csv\"), subject_col='subject')\n",
    "quest.head()"
   ]
  },
  {
   "cell_type": "code",
   "execution_count": null,
   "metadata": {},
   "outputs": [],
   "source": [
    "cort_long = bp.utils.dataframe_handling.wide_to_long(quest, stubname='cort', levels=[\"night\", \"sample\"])\n",
    "cort_long = cort_long.rename(columns={'cort': 'cortisol', 'cortTime': 'time_abs'})\n",
    "cort_long = int_from_str_idx(cort_long, \"night\", \"N(\\w)\", lambda x: x-1)"
   ]
  },
  {
   "cell_type": "markdown",
   "metadata": {},
   "source": [
    "### Load Merged Sleep & Questionnaire Data"
   ]
  },
  {
   "cell_type": "code",
   "execution_count": null,
   "metadata": {},
   "outputs": [],
   "source": [
    "chrono_sleep = pd.read_csv(export_path.joinpath(\"imu_questionnaire_merged.csv\"), index_col=['subject', 'night'])"
   ]
  },
  {
   "cell_type": "markdown",
   "metadata": {},
   "source": [
    "### Convert Saliva Times into Minutes relative to S0"
   ]
  },
  {
   "cell_type": "code",
   "execution_count": null,
   "metadata": {},
   "outputs": [],
   "source": [
    "cort_long['wake_onset_time'] = pd.to_timedelta(chrono_sleep['wake_onset_time'])\n",
    "cort_long['time'] = bp.saliva.utils.sample_times_datetime_to_minute(cort_long['time_abs'])\n",
    "cort_long['time_abs'] = time_to_datetime(cort_long['time_abs'])"
   ]
  },
  {
   "cell_type": "markdown",
   "metadata": {},
   "source": [
    "### Assign Recording Dates to Nights"
   ]
  },
  {
   "cell_type": "code",
   "execution_count": null,
   "metadata": {},
   "outputs": [],
   "source": [
    "date_start = pd.to_datetime(quest['dateStart'], format=\"%d.%m.%y\")\n",
    "date_start.name = 'date'\n",
    "if 'date' not in cort_long.columns:\n",
    "    cort_long = cort_long.join(date_start, on='subject')"
   ]
  },
  {
   "cell_type": "code",
   "execution_count": null,
   "metadata": {},
   "outputs": [],
   "source": [
    "date_delta = pd.TimedeltaIndex(cort_long.index.get_level_values('night'), unit='days')\n",
    "date = cort_long['date'] + date_delta\n",
    "cort_long['date'] = date"
   ]
  },
  {
   "cell_type": "code",
   "execution_count": null,
   "metadata": {},
   "outputs": [],
   "source": [
    "cort_long.head()"
   ]
  },
  {
   "cell_type": "markdown",
   "metadata": {},
   "source": [
    "## Descriptives"
   ]
  },
  {
   "cell_type": "markdown",
   "metadata": {},
   "source": [
    "**Number of Subjects**"
   ]
  },
  {
   "cell_type": "code",
   "execution_count": null,
   "metadata": {},
   "outputs": [],
   "source": [
    "num_subjects = len(quest.index.get_level_values('subject').unique())\n",
    "print(\"Number of Subjects: {}\".format(num_subjects))"
   ]
  },
  {
   "cell_type": "markdown",
   "metadata": {},
   "source": [
    "**Age**"
   ]
  },
  {
   "cell_type": "code",
   "execution_count": null,
   "metadata": {},
   "outputs": [],
   "source": [
    "quest[[\"age\"]].agg(['mean', 'std'])"
   ]
  },
  {
   "cell_type": "markdown",
   "metadata": {},
   "source": [
    "**Gender**"
   ]
  },
  {
   "cell_type": "code",
   "execution_count": null,
   "metadata": {},
   "outputs": [],
   "source": [
    "gender = quest[[\"gender\"]].value_counts()\n",
    "gender = gender / gender.sum() * 100\n",
    "gender"
   ]
  },
  {
   "cell_type": "markdown",
   "metadata": {},
   "source": [
    "## Data Cleaning"
   ]
  },
  {
   "cell_type": "markdown",
   "metadata": {},
   "source": [
    "### Remove SA and Night 2 (last night of Study without CAR)"
   ]
  },
  {
   "cell_type": "code",
   "execution_count": null,
   "metadata": {},
   "outputs": [],
   "source": [
    "cort_long = cort_long.drop('SA', level='sample', errors='ignore').drop(2, level='night', errors='ignore').unstack().dropna(how='all').stack()\n",
    "print(\"Data after remove SA and Night 2: {}\".format(len(cort_long.unstack('sample'))))\n",
    "cort_long.head()"
   ]
  },
  {
   "cell_type": "code",
   "execution_count": null,
   "metadata": {},
   "outputs": [],
   "source": [
    "cort_uncleaned = cort_long.copy()"
   ]
  },
  {
   "cell_type": "code",
   "execution_count": null,
   "metadata": {},
   "outputs": [],
   "source": [
    "print(\"Data before cleaning: {}\".format(len(cort_uncleaned.unstack('sample'))))"
   ]
  },
  {
   "cell_type": "markdown",
   "metadata": {},
   "source": [
    "### Remove CARs with any missing cortisol values"
   ]
  },
  {
   "cell_type": "code",
   "execution_count": null,
   "metadata": {},
   "outputs": [],
   "source": [
    "missing_mask = (cort_long['cortisol'].unstack('sample').isna()).any(axis=1)\n",
    "missing_mask = np.logical_or(missing_mask, (cort_long['cortisol'].unstack('sample') < 0.1).any(axis=1))\n",
    "cort_long = cort_long.loc[~missing_mask]\n",
    "print(\"CARs removed because of missing cortisol values. Resulting: {}\".format(len(cort_long.unstack('sample'))))"
   ]
  },
  {
   "cell_type": "markdown",
   "metadata": {},
   "source": [
    "### Remove CARs with no valid recording date, wake onset or sample time information"
   ]
  },
  {
   "cell_type": "code",
   "execution_count": null,
   "metadata": {},
   "outputs": [],
   "source": [
    "cort_long = cort_long.dropna(subset=['date', 'time_abs', 'wake_onset_time'])\n",
    "print(\"CARs removed because of no valid recording dates, wake onset or sample time information. Resulting: {}\".format(len(cort_long.unstack('sample'))))"
   ]
  },
  {
   "cell_type": "markdown",
   "metadata": {},
   "source": [
    "### Remove CARs with Differences >5 min between Wake Onset and S0"
   ]
  },
  {
   "cell_type": "code",
   "execution_count": null,
   "metadata": {},
   "outputs": [],
   "source": [
    "times = cort_long.xs('S0', level='sample')[['wake_onset_time', 'time_abs']]\n",
    "\n",
    "wo_mask = np.abs(times.diff(axis=1)['time_abs']) > pd.Timedelta(\"5min\")\n",
    "\n",
    "cort_long = cort_long.loc[~wo_mask]\n",
    "print(\"Data after remove Wake Onset Difference: {}\".format(len(cort_long.unstack('sample'))))"
   ]
  },
  {
   "cell_type": "markdown",
   "metadata": {},
   "source": [
    "### Remove CARs with absolute difference between two consecutive saliva samples of >5 min from the actual time"
   ]
  },
  {
   "cell_type": "code",
   "execution_count": null,
   "metadata": {},
   "outputs": [],
   "source": [
    "time_mask = ((cort_long['time'].unstack(level='sample').diff(axis=1) - 15).abs() > 5).any(axis=1)\n",
    "cort_long = cort_long.loc[~time_mask]\n",
    "print(\"Data after remove Saliva Time Difference: {}\".format(len(cort_long.unstack('sample'))))"
   ]
  },
  {
   "cell_type": "markdown",
   "metadata": {},
   "source": [
    "### Remove Statistical Outlier ($> 3 \\sigma$)"
   ]
  },
  {
   "cell_type": "markdown",
   "metadata": {},
   "source": [
    "Remove CARs where any cortisol sample differs more than 3 standard deviations from the mean"
   ]
  },
  {
   "cell_type": "code",
   "execution_count": null,
   "metadata": {},
   "outputs": [],
   "source": [
    "outlier_mask = (cort_long.unstack('sample').transform(lambda df: (df - df.mean()) / df.std()).abs() > 3.0).any(axis=1)\n",
    "cort_long = cort_long.loc[~outlier_mask]\n",
    "print(\"Data after remove Statistical Outlier: {}\".format(len(cort_long.unstack('sample'))))"
   ]
  },
  {
   "cell_type": "markdown",
   "metadata": {},
   "source": [
    "### Remove Physiological Outlier (Cortisol > 70 nmol/l)"
   ]
  },
  {
   "cell_type": "code",
   "execution_count": null,
   "metadata": {},
   "outputs": [],
   "source": [
    "phys_mask = (cort_long.unstack('sample')['cortisol'] > 70).any(axis=1)\n",
    "cort_long = cort_long.loc[~phys_mask]\n",
    "print(\"Data after remove Physiological Outlier: {}\".format(len(cort_long.unstack('sample'))))"
   ]
  },
  {
   "cell_type": "code",
   "execution_count": null,
   "metadata": {},
   "outputs": [],
   "source": [
    "cort_long"
   ]
  },
  {
   "cell_type": "markdown",
   "metadata": {},
   "source": [
    "## Adding Categorial Variables"
   ]
  },
  {
   "cell_type": "markdown",
   "metadata": {},
   "source": [
    "### Wakeup Sources"
   ]
  },
  {
   "cell_type": "code",
   "execution_count": null,
   "metadata": {},
   "outputs": [],
   "source": [
    "col = \"wakeupSource\"\n",
    "\n",
    "wakeup_source = quest.filter(like=col)\n",
    "wakeup_source = bp.questionnaires.utils.wide_to_long(wakeup_source, col, levels='night')\n",
    "wakeup_source = int_from_str_idx(wakeup_source, 'night', \"N(\\w)\", lambda x: x-1)\n",
    "wakeup_source = wakeup_source.fillna(0)\n",
    "if col not in cort_long.columns:\n",
    "    cort_long = cort_long.join(wakeup_source)"
   ]
  },
  {
   "cell_type": "markdown",
   "metadata": {},
   "source": [
    "### Condition"
   ]
  },
  {
   "cell_type": "code",
   "execution_count": null,
   "metadata": {},
   "outputs": [],
   "source": [
    "col = 'condition'\n",
    "\n",
    "condition = quest.filter(like=col)\n",
    "condition = bp.questionnaires.utils.wide_to_long(condition, col, levels='night')\n",
    "condition = int_from_str_idx(condition, 'night', \"N(\\w)\", lambda x: x-1)\n",
    "\n",
    "if col not in cort_long.columns:\n",
    "    cort_long = cort_long.join(condition)"
   ]
  },
  {
   "cell_type": "markdown",
   "metadata": {},
   "source": [
    "### Weekend"
   ]
  },
  {
   "cell_type": "code",
   "execution_count": null,
   "metadata": {},
   "outputs": [],
   "source": [
    "cort_long['weekend'] = cort_long['date'].dt.weekday.isin([5, 6]).astype(int)"
   ]
  },
  {
   "cell_type": "markdown",
   "metadata": {},
   "source": [
    "### Wakeup Hour"
   ]
  },
  {
   "cell_type": "code",
   "execution_count": null,
   "metadata": {},
   "outputs": [],
   "source": [
    "cort_long['wakeup_hour'] = (pd.Timestamp('today').normalize() + cort_long['wake_onset_time']).dt.hour"
   ]
  },
  {
   "cell_type": "markdown",
   "metadata": {},
   "source": [
    "### Chronotype"
   ]
  },
  {
   "cell_type": "code",
   "execution_count": null,
   "metadata": {},
   "outputs": [],
   "source": [
    "cort_long['MEQ'] = chrono_sleep['MEQ']\n",
    "cort_long['chronotype'] = chrono_sleep['chronotype_coarse']\n",
    "cort_long['within_ideal_bed_time'] = chrono_sleep['within_ideal_bed_time']"
   ]
  },
  {
   "cell_type": "markdown",
   "metadata": {},
   "source": [
    "### Apply Codebook: Rename Index Codes, Set Index Levels, Reorder Columns"
   ]
  },
  {
   "cell_type": "code",
   "execution_count": null,
   "metadata": {},
   "outputs": [],
   "source": [
    "cort_long.columns = [camel_to_snake(s) if s != \"MEQ\" else s for s in cort_long.columns]"
   ]
  },
  {
   "cell_type": "markdown",
   "metadata": {},
   "source": [
    "Set desired Index Order"
   ]
  },
  {
   "cell_type": "code",
   "execution_count": null,
   "metadata": {},
   "outputs": [],
   "source": [
    "index_cols = ['condition', 'subject', 'chronotype', 'MEQ', 'night', 'within_ideal_bed_time', 'wakeup_source', 'date', 'weekend', 'wakeup_hour', 'sample']"
   ]
  },
  {
   "cell_type": "code",
   "execution_count": null,
   "metadata": {},
   "outputs": [],
   "source": [
    "cort_long = cort_long.reset_index()\n",
    "cort_long.set_index(index_cols, inplace=True)\n",
    "cort_long = cort_long[['cortisol', 'time']]"
   ]
  },
  {
   "cell_type": "code",
   "execution_count": null,
   "metadata": {},
   "outputs": [],
   "source": [
    "codebook = pd.read_excel(quest_path.joinpath(\"Codebook_CARWatch.xlsx\"), index_col=\"variable\")\n",
    "cort_long = bp.utils.dataframe_handling.apply_codebook(codebook, cort_long)\n",
    "cort_long.head()"
   ]
  },
  {
   "cell_type": "markdown",
   "metadata": {},
   "source": [
    "## Feature Computation"
   ]
  },
  {
   "cell_type": "code",
   "execution_count": null,
   "metadata": {},
   "outputs": [],
   "source": [
    "cort_auc = bp.saliva.auc(cort_long, saliva_type='cortisol', remove_s0=False)\n",
    "cort_auc.head()"
   ]
  },
  {
   "cell_type": "code",
   "execution_count": null,
   "metadata": {},
   "outputs": [],
   "source": [
    "cort_inc = bp.saliva.max_increase(cort_long, saliva_type='cortisol', remove_s0=False)\n",
    "cort_inc.head()"
   ]
  },
  {
   "cell_type": "code",
   "execution_count": null,
   "metadata": {},
   "outputs": [],
   "source": [
    "cort_slope = bp.saliva.slope(cort_long, sample_idx=[0, 3], saliva_type='cortisol')\n",
    "cort_slope = cort_slope.join(bp.saliva.slope(cort_long, sample_idx=[0, 4], saliva_type='cortisol'))\n",
    "#cort_slope = cort_slope.join(bp.saliva.slope(cort_long, sample_idx=[2, 4], biomarker_type='cortisol'))\n",
    "cort_slope.head()"
   ]
  },
  {
   "cell_type": "code",
   "execution_count": null,
   "metadata": {},
   "outputs": [],
   "source": [
    "cort_max = pd.DataFrame(cort_long['cortisol'].unstack('sample').max(axis=1), columns=['cortisol_cmax'])\n",
    "cort_max.head()"
   ]
  },
  {
   "cell_type": "code",
   "execution_count": null,
   "metadata": {},
   "outputs": [],
   "source": [
    "cort_cini = cort_long.xs('S0', level='sample')[['cortisol']]\n",
    "cort_cini.columns = [\"cortisol_cini\"]\n",
    "cort_cini.head()"
   ]
  },
  {
   "cell_type": "code",
   "execution_count": null,
   "metadata": {},
   "outputs": [],
   "source": [
    "cort_feat = pd.concat([cort_auc, cort_inc, cort_slope, cort_cini, cort_max], axis=1)\n",
    "cort_feat = bp.saliva.utils.saliva_feature_wide_to_long(cort_feat, \"cortisol\")\n",
    "cort_feat.head()"
   ]
  },
  {
   "cell_type": "markdown",
   "metadata": {},
   "source": [
    "Drop CARs that don't fulfill the criterion by Weizman et al (1971): Maximum increase of CAR should be at least 2.5 nmol/l (*currently not applied due to recommendations of the CAR Expert consensus guidelines*)"
   ]
  },
  {
   "cell_type": "code",
   "execution_count": null,
   "metadata": {},
   "outputs": [],
   "source": [
    "#car_inc_mask = cort_feat['cortisol'].xs('cortisol_max_inc', level='biomarker') >= 2.5\n",
    "#cort_feat = cort_feat.loc[car_inc_mask]\n",
    "#cort_long = cort_long.unstack(level='sample').loc[cort_mask].stack()"
   ]
  },
  {
   "cell_type": "markdown",
   "metadata": {},
   "source": [
    "### Remove Statistical Outlier ($> 3 \\sigma$)"
   ]
  },
  {
   "cell_type": "markdown",
   "metadata": {},
   "source": [
    "(*currently not applied because raw samples were already checked for statistical outlier*)"
   ]
  },
  {
   "cell_type": "code",
   "execution_count": null,
   "metadata": {},
   "outputs": [],
   "source": [
    "#outlier_mask = (cort_feat.unstack('biomarker').transform(lambda df: (df - df.mean()) / df.std()).abs() > 3.0)\n",
    "#cort_feat = cort_feat.loc[~outlier_mask.stack()['cortisol']]\n",
    "#cort_feat"
   ]
  },
  {
   "cell_type": "code",
   "execution_count": null,
   "metadata": {},
   "outputs": [],
   "source": [
    "#print(\"Number of nights before statistical outlier removal: {}\".format(len(cort_long.unstack('sample'))))\n",
    "#print(\"Number of nights after statistical outlier removal: {}\".format(len(cort_long_out.unstack('sample'))))"
   ]
  },
  {
   "cell_type": "markdown",
   "metadata": {},
   "source": [
    "## Export"
   ]
  },
  {
   "cell_type": "code",
   "execution_count": null,
   "metadata": {},
   "outputs": [],
   "source": [
    "cort_long.to_csv(export_path.joinpath('cortisol_samples_cleaned.csv'))\n",
    "cort_feat.to_csv(export_path.joinpath('cortisol_features_cleaned.csv'))\n",
    "#cort_long_out.to_csv(export_path.joinpath('cortisol_samples_outlier_removed.csv'))\n",
    "#cort_feat_out.to_csv(export_path.joinpath('cortisol_features_outlier_removed.csv'))"
   ]
  },
  {
   "cell_type": "code",
   "execution_count": null,
   "metadata": {},
   "outputs": [],
   "source": []
  }
 ],
 "metadata": {
  "kernelspec": {
   "display_name": "Python 3",
   "language": "python",
   "name": "python3"
  },
  "language_info": {
   "codemirror_mode": {
    "name": "ipython",
    "version": 3
   },
   "file_extension": ".py",
   "mimetype": "text/x-python",
   "name": "python",
   "nbconvert_exporter": "python",
   "pygments_lexer": "ipython3",
   "version": "3.8.3"
  }
 },
 "nbformat": 4,
 "nbformat_minor": 4
}
