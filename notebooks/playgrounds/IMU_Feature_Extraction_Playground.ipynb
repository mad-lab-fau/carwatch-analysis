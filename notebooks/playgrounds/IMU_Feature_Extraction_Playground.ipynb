{
 "cells": [
  {
   "cell_type": "markdown",
   "metadata": {},
   "source": [
    "# IMU Feature Extraction Playground"
   ]
  },
  {
   "cell_type": "code",
   "execution_count": null,
   "metadata": {},
   "outputs": [],
   "source": [
    "from pathlib import Path\n",
    "\n",
    "import pandas as pd\n",
    "import numpy as np\n",
    "import scipy.stats as stats\n",
    "\n",
    "import biopsykit as bp\n",
    "from biopsykit.signals.imu.feature_extraction.static_sequences import static_sequence_features\n",
    "from biopsykit.utils.time import timedelta_to_time\n",
    "\n",
    "import matplotlib.pyplot as plt\n",
    "import seaborn as sns\n",
    "\n",
    "%matplotlib widget\n",
    "%load_ext autoreload\n",
    "%autoreload 2"
   ]
  },
  {
   "cell_type": "code",
   "execution_count": null,
   "metadata": {},
   "outputs": [],
   "source": [
    "plt.close('all')\n",
    "sns.set_theme(style='ticks')"
   ]
  },
  {
   "cell_type": "markdown",
   "metadata": {},
   "source": [
    "## Load Example Dataset"
   ]
  },
  {
   "cell_type": "code",
   "execution_count": null,
   "metadata": {},
   "outputs": [],
   "source": [
    "data_path = Path(\"../../../../Data/Sleep_Data\")\n",
    "export_path = Path(\"../../exports\")\n",
    "\n",
    "subject_id = \"AB31R\""
   ]
  },
  {
   "cell_type": "code",
   "execution_count": null,
   "metadata": {},
   "outputs": [],
   "source": [
    "sleep_times = pd.read_csv(export_path.joinpath(\"chronotype_sleep_endpoints_merged.csv\"), index_col=['subject', 'night'])\n",
    "wake_onset = sleep_times['wake_onset_time']"
   ]
  },
  {
   "cell_type": "code",
   "execution_count": null,
   "metadata": {},
   "outputs": [],
   "source": [
    "data, fs = bp.io.nilspod.load_dataset_nilspod(sorted(data_path.joinpath(subject_id).glob(\"*bin\"))[0])"
   ]
  },
  {
   "cell_type": "markdown",
   "metadata": {},
   "source": [
    "### Data from the last hour"
   ]
  },
  {
   "cell_type": "code",
   "execution_count": null,
   "metadata": {},
   "outputs": [],
   "source": [
    "time_start = timedelta_to_time(wake_onset - pd.Timedelta(\"1h\"))\n",
    "time_end = timedelta_to_time(wake_onset)"
   ]
  },
  {
   "cell_type": "code",
   "execution_count": null,
   "metadata": {},
   "outputs": [],
   "source": [
    "data.between_time(time_start.loc[(\"AB31R\", 0)], time_end.loc[(\"AB31R\", 0)])"
   ]
  },
  {
   "cell_type": "markdown",
   "metadata": {},
   "source": [
    "## Sleep Endpoints"
   ]
  },
  {
   "cell_type": "code",
   "execution_count": null,
   "metadata": {},
   "outputs": [],
   "source": [
    "sleep_results = bp.sleep.sleep_endpoints.predict_pipeline(data, sampling_rate=fs, sleep_wake_scale_factor=0.1)\n",
    "sleep_endpoints = sleep_results['sleep_endpoints']"
   ]
  },
  {
   "cell_type": "code",
   "execution_count": null,
   "metadata": {},
   "outputs": [],
   "source": [
    "df_endpoints = bp.sleep.sleep_endpoints.endpoints_as_df(sleep_endpoints, subject_id)\n",
    "df_endpoints"
   ]
  },
  {
   "cell_type": "code",
   "execution_count": null,
   "metadata": {},
   "outputs": [],
   "source": [
    "fig, ax = bp.sleep.plotting.sleep_imu_plot(data, sleep_endpoints=sleep_endpoints, downsample_factor=fs, figsize=(10, 5))\n",
    "fig.tight_layout()"
   ]
  },
  {
   "cell_type": "code",
   "execution_count": null,
   "metadata": {},
   "outputs": [],
   "source": [
    "data_sleep = data.loc[sleep_endpoints['sleep_onset']:sleep_endpoints['wake_onset']]\n",
    "data_gyr = data_sleep.filter(like=\"gyr\")\n",
    "data_acc = data_sleep.filter(like=\"acc\")"
   ]
  },
  {
   "cell_type": "code",
   "execution_count": null,
   "metadata": {},
   "outputs": [],
   "source": [
    "window_size = 10*fs\n",
    "overlap = int(0.9 * window_size)"
   ]
  },
  {
   "cell_type": "code",
   "execution_count": null,
   "metadata": {},
   "outputs": [],
   "source": [
    "ss = bp.signals.imu.get_static_sequences(data_gyr, threshold=500, window_samples=window_size, overlap_samples=overlap)"
   ]
  },
  {
   "cell_type": "code",
   "execution_count": null,
   "metadata": {},
   "outputs": [],
   "source": [
    "ss_features = static_sequence_features(data_acc, ss, start=sleep_endpoints['sleep_onset'], end=sleep_endpoints['wake_onset'])"
   ]
  },
  {
   "cell_type": "code",
   "execution_count": null,
   "metadata": {},
   "outputs": [],
   "source": [
    "ss_features"
   ]
  },
  {
   "cell_type": "code",
   "execution_count": null,
   "metadata": {},
   "outputs": [],
   "source": [
    "data_gyr.last(\"1h\")"
   ]
  },
  {
   "cell_type": "code",
   "execution_count": null,
   "metadata": {},
   "outputs": [],
   "source": [
    "ss_last = bp.signals.imu.get_static_sequences(data_gyr.last(\"1h\"), threshold=500, window_samples=window_size, overlap_samples=overlap)\n",
    "ss_features_last = static_sequence_features(data_acc.last(\"1h\"), ss_last, start=sleep_endpoints['sleep_onset'], end=sleep_endpoints['wake_onset'])\n",
    "ss_features_last.columns = [c + '_last_hour' for c in ss_features_last.columns]\n",
    "ss_features.join(ss_features_last)"
   ]
  },
  {
   "cell_type": "code",
   "execution_count": null,
   "metadata": {},
   "outputs": [],
   "source": []
  }
 ],
 "metadata": {
  "kernelspec": {
   "display_name": "Python 3",
   "language": "python",
   "name": "python3"
  },
  "language_info": {
   "codemirror_mode": {
    "name": "ipython",
    "version": 3
   },
   "file_extension": ".py",
   "mimetype": "text/x-python",
   "name": "python",
   "nbconvert_exporter": "python",
   "pygments_lexer": "ipython3",
   "version": "3.8.3"
  }
 },
 "nbformat": 4,
 "nbformat_minor": 4
}
