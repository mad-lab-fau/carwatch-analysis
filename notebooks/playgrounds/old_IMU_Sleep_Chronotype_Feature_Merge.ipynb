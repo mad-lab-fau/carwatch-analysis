{
 "cells": [
  {
   "cell_type": "code",
   "execution_count": null,
   "metadata": {},
   "outputs": [],
   "source": [
    "from pathlib import Path\n",
    "\n",
    "import pandas as pd\n",
    "import numpy as np\n",
    "\n",
    "import biopsykit as bp\n",
    "from biopsykit.questionnaires.utils import replace_missing_data\n",
    "from biopsykit.utils.time import get_time_from_date\n",
    "\n",
    "import pingouin as pg\n",
    "\n",
    "import matplotlib.pyplot as plt\n",
    "import seaborn as sns\n",
    "\n",
    "%matplotlib widget\n",
    "%load_ext autoreload\n",
    "%autoreload 2"
   ]
  },
  {
   "cell_type": "code",
   "execution_count": null,
   "metadata": {},
   "outputs": [],
   "source": [
    "sns.set(style='ticks')\n",
    "plt.close('all')"
   ]
  },
  {
   "cell_type": "markdown",
   "metadata": {},
   "source": [
    "## Load Data"
   ]
  },
  {
   "cell_type": "code",
   "execution_count": null,
   "metadata": {},
   "outputs": [],
   "source": [
    "data_path = Path(\"../exports\")"
   ]
  },
  {
   "cell_type": "code",
   "execution_count": null,
   "metadata": {},
   "outputs": [],
   "source": [
    "data = pd.concat([pd.read_csv(data_path.joinpath(p), index_col=['subject', 'night']) for p in ['imu_features_complete.csv', 'questionnaire_chronotype_bedtimes.csv', 'sleep_endpoints_complete.csv']], axis=1)\n",
    "\n",
    "data['bed'] = data['major_rest_period_start']"
   ]
  },
  {
   "cell_type": "markdown",
   "metadata": {},
   "source": [
    "### Remove corrupted sensor data"
   ]
  },
  {
   "cell_type": "markdown",
   "metadata": {},
   "source": [
    "Sensor data with reported dates outside the data collection interval are set to ``None``"
   ]
  },
  {
   "cell_type": "code",
   "execution_count": null,
   "metadata": {},
   "outputs": [],
   "source": [
    "date_mask = (data['sleep_onset'] < \"2019-11-01\") | (data['sleep_onset'] > \"2020-02-01\")\n",
    "data.loc[date_mask, ['sleep_onset', 'bed']] = None\n",
    "data.head()"
   ]
  },
  {
   "cell_type": "markdown",
   "metadata": {},
   "source": [
    "### Convert datetime information"
   ]
  },
  {
   "cell_type": "code",
   "execution_count": null,
   "metadata": {},
   "outputs": [],
   "source": [
    "data.columns"
   ]
  },
  {
   "cell_type": "code",
   "execution_count": null,
   "metadata": {},
   "outputs": [],
   "source": [
    "data['sleep_onset_time'] = get_time_from_date(data['sleep_onset'], is_utc=True, tz_convert=True)\n",
    "data['bed_time'] = get_time_from_date(data['bed'], is_utc=True, tz_convert=True)\n",
    "data['wake_onset_time'] = get_time_from_date(data['wake_onset'], is_utc=True, tz_convert=True)\n",
    "\n",
    "data['sleep_onset_selfreport_time'] = get_time_from_date(data['sleep_onset_selfreport'])\n",
    "data['wake_onset_selfreport_time'] = get_time_from_date(data['wake_onset_selfreport'])\n",
    "data['bed_selfreport_time'] = get_time_from_date(data['bed_selfreport'])\n",
    "data['ideal_bed_start_time'] = get_time_from_date(data['ideal_bed_start'])\n",
    "data['ideal_bed_end_time'] = get_time_from_date(data['ideal_bed_end'])"
   ]
  },
  {
   "cell_type": "markdown",
   "metadata": {},
   "source": [
    "### Replace missing time information with self-report"
   ]
  },
  {
   "cell_type": "code",
   "execution_count": null,
   "metadata": {},
   "outputs": [],
   "source": [
    "data = replace_missing_data(data, 'sleep_onset_time', 'sleep_onset_selfreport_time', dropna=False)\n",
    "data = replace_missing_data(data, 'wake_onset_time', 'wake_onset_selfreport_time', dropna=False)\n",
    "data = replace_missing_data(data, 'bed_time', 'bed_selfreport_time', dropna=False)"
   ]
  },
  {
   "cell_type": "markdown",
   "metadata": {},
   "source": [
    "### Compute whether Subjects went to bed within their ideal bed time"
   ]
  },
  {
   "cell_type": "markdown",
   "metadata": {},
   "source": [
    "TODO:\n",
    "* weekend or not\n",
    "* ideal bedtime or not\n",
    "* alarm or not\n",
    "* IMU, Cortisol\n",
    "* split in pre and post sleep midpoint"
   ]
  },
  {
   "cell_type": "code",
   "execution_count": null,
   "metadata": {},
   "outputs": [],
   "source": [
    "ideal_bedtime = (data['bed_time'] >= data['ideal_bed_start_time']) & (data['bed_time'] <= data['ideal_bed_end_time'])\n",
    "data['within_ideal_bed_time'] = ideal_bedtime.astype(int)\n",
    "data['within_ideal_bed_time'].value_counts()"
   ]
  },
  {
   "cell_type": "code",
   "execution_count": null,
   "metadata": {},
   "outputs": [],
   "source": [
    "data"
   ]
  },
  {
   "cell_type": "code",
   "execution_count": null,
   "metadata": {},
   "outputs": [],
   "source": [
    "data.columns"
   ]
  },
  {
   "cell_type": "code",
   "execution_count": null,
   "metadata": {},
   "outputs": [],
   "source": [
    "data.drop(columns=[\n",
    "    'sleep_bouts_number', 'ideal_bed_end', \n",
    "    'Chronotype_Coarse', 'ideal_bed_start', 'MEQ', 'Chronotype_Fine', 'sleep_onset_selfreport', \n",
    "    'bed_selfreport', 'sleep_onset', 'wake_onset', \n",
    "    'total_sleep_time', 'major_rest_period_start', 'major_rest_period_end',\n",
    "    'number_wake_bouts', 'sleep_bouts', 'wake_bouts', 'bed', 'sleep_onset_time', \n",
    "    'bed_time', 'sleep_onset_selfreport_time', 'bed_selfreport_time', 'ideal_bed_start_time', \n",
    "    'ideal_bed_end_time'\n",
    "], inplace=True, errors='ignore')"
   ]
  },
  {
   "cell_type": "code",
   "execution_count": null,
   "metadata": {},
   "outputs": [],
   "source": [
    "data = data.dropna()"
   ]
  },
  {
   "cell_type": "code",
   "execution_count": null,
   "metadata": {},
   "outputs": [],
   "source": [
    "data.columns"
   ]
  },
  {
   "cell_type": "markdown",
   "metadata": {},
   "source": [
    "## Export"
   ]
  },
  {
   "cell_type": "code",
   "execution_count": null,
   "metadata": {},
   "outputs": [],
   "source": [
    "export_path = Path(\"../exports\")"
   ]
  },
  {
   "cell_type": "code",
   "execution_count": null,
   "metadata": {},
   "outputs": [],
   "source": [
    "data.to_csv(export_path.joinpath(\"chronotype_features_complete.csv\"))"
   ]
  }
 ],
 "metadata": {
  "kernelspec": {
   "display_name": "Python 3",
   "language": "python",
   "name": "python3"
  },
  "language_info": {
   "codemirror_mode": {
    "name": "ipython",
    "version": 3
   },
   "file_extension": ".py",
   "mimetype": "text/x-python",
   "name": "python",
   "nbconvert_exporter": "python",
   "pygments_lexer": "ipython3",
   "version": "3.8.3"
  }
 },
 "nbformat": 4,
 "nbformat_minor": 4
}
